{
 "cells": [
  {
   "cell_type": "code",
   "execution_count": 1,
   "metadata": {},
   "outputs": [],
   "source": [
    "import torch\n",
    "import torch.nn as nn\n",
    "import torch.nn.functional as F\n",
    "from torch.distributions.normal import Normal\n",
    "import numpy as np\n",
    "import matplotlib.pyplot as plt\n",
    "import importlib\n",
    "import seaborn as sns\n",
    "import sys\n",
    "\n",
    "import layers_v2 as layers\n",
    "import util as util\n",
    "import networks as networks\n",
    "import distributions\n",
    "\n",
    "torch.set_default_dtype(torch.float64)"
   ]
  },
  {
   "cell_type": "code",
   "execution_count": 2,
   "metadata": {},
   "outputs": [],
   "source": [
    "sys.path.insert(0, '../exp/')\n",
    "import util as util_data"
   ]
  },
  {
   "cell_type": "code",
   "execution_count": 3,
   "metadata": {},
   "outputs": [
    {
     "data": {
      "text/plain": [
       "<module 'distributions' from '/Users/beaucoker/Documents/git/VS-BNN/code/horseshoe/distributions.py'>"
      ]
     },
     "execution_count": 3,
     "metadata": {},
     "output_type": "execute_result"
    }
   ],
   "source": [
    "importlib.reload(layers)\n",
    "importlib.reload(util)\n",
    "importlib.reload(networks)\n",
    "importlib.reload(distributions)"
   ]
  },
  {
   "cell_type": "markdown",
   "metadata": {},
   "source": [
    "### Test LogitNormal"
   ]
  },
  {
   "cell_type": "code",
   "execution_count": 4,
   "metadata": {},
   "outputs": [
    {
     "data": {
      "text/plain": [
       "tensor([0.4725])"
      ]
     },
     "execution_count": 4,
     "metadata": {},
     "output_type": "execute_result"
    }
   ],
   "source": [
    "m = distributions.LogitNormal(torch.tensor([0.0]), torch.tensor([1.0]))\n",
    "m.sample()"
   ]
  },
  {
   "cell_type": "code",
   "execution_count": 5,
   "metadata": {},
   "outputs": [
    {
     "data": {
      "text/plain": [
       "tensor([0.4431])"
      ]
     },
     "execution_count": 5,
     "metadata": {},
     "output_type": "execute_result"
    }
   ],
   "source": [
    "m1 = distributions.LogitNormal(torch.tensor([0.0]), torch.tensor([1.0]))\n",
    "m2 = distributions.LogitNormal(torch.tensor([1.0]), torch.tensor([2.0]))\n",
    "\n",
    "torch.distributions.kl_divergence(m1, m2)"
   ]
  },
  {
   "cell_type": "code",
   "execution_count": null,
   "metadata": {},
   "outputs": [],
   "source": []
  },
  {
   "cell_type": "code",
   "execution_count": 17,
   "metadata": {},
   "outputs": [
    {
     "data": {
      "text/plain": [
       "[<matplotlib.lines.Line2D at 0x147c4fc50>]"
      ]
     },
     "execution_count": 17,
     "metadata": {},
     "output_type": "execute_result"
    },
    {
     "data": {
      "image/png": "[encoded data removed]",
      "text/plain": [
       "<Figure size 432x288 with 1 Axes>"
      ]
     },
     "metadata": {
      "needs_background": "light"
     },
     "output_type": "display_data"
    }
   ],
   "source": [
    "logit = lambda x: np.log(x/(1-x))\n",
    "\n",
    "def logitnormal_pdf(x, mu=0, sig2=1):\n",
    "    return 1/np.sqrt(2*np.pi*sig2)/(x*(1-x))*np.exp(-(logit(x)-mu)**2/(2*sig2))\n",
    "\n",
    "eps = .0001\n",
    "x = np.linspace(0+eps,1-eps,100)\n",
    "plt.plot(x, logitnormal_pdf(x,0,1))"
   ]
  },
  {
   "cell_type": "markdown",
   "metadata": {},
   "source": [
    "### Temp"
   ]
  },
  {
   "cell_type": "code",
   "execution_count": 20,
   "metadata": {
    "scrolled": true
   },
   "outputs": [
    {
     "data": {
      "text/plain": [
       "Parameter containing:\n",
       "tensor(2., requires_grad=True)"
      ]
     },
     "execution_count": 20,
     "metadata": {},
     "output_type": "execute_result"
    }
   ],
   "source": [
    "a = nn.Parameter(torch.tensor(1.0))\n",
    "b = a\n",
    "a.data = torch.tensor(2.0)\n",
    "b"
   ]
  },
  {
   "cell_type": "code",
   "execution_count": 25,
   "metadata": {},
   "outputs": [
    {
     "data": {
      "text/plain": [
       "Parameter containing:\n",
       "tensor(2., requires_grad=True)"
      ]
     },
     "execution_count": 25,
     "metadata": {},
     "output_type": "execute_result"
    }
   ],
   "source": [
    "a = nn.Parameter(torch.tensor(1.0))\n",
    "m = torch.distributions.normal.Normal(a, torch.tensor(3.0))\n",
    "a.data = torch.tensor(2.0)\n",
    "m.loc"
   ]
  },
  {
   "cell_type": "code",
   "execution_count": 37,
   "metadata": {},
   "outputs": [
    {
     "data": {
      "text/plain": [
       "tensor(1., grad_fn=<AbsBackward>)"
      ]
     },
     "execution_count": 37,
     "metadata": {},
     "output_type": "execute_result"
    }
   ],
   "source": [
    "a = nn.Parameter(torch.tensor(-1.0))\n",
    "t = torch.distributions.transforms.AbsTransform()\n",
    "b = t(a)\n",
    "a.data = torch.tensor(-2.0)\n",
    "b"
   ]
  },
  {
   "cell_type": "code",
   "execution_count": 46,
   "metadata": {},
   "outputs": [
    {
     "name": "stdout",
     "output_type": "stream",
     "text": [
      "tensor(0.3133, grad_fn=<SoftplusBackward>)\n",
      "tensor(0.3133, grad_fn=<SoftplusBackward>)\n",
      "tensor(0.1269, grad_fn=<SoftplusBackward>)\n"
     ]
    }
   ],
   "source": [
    "a = nn.Parameter(torch.tensor(-1.0))\n",
    "t = torch.nn.Softplus()\n",
    "b = t(a)\n",
    "print(b)\n",
    "a.data = torch.tensor(-2.0)\n",
    "print(b)\n",
    "print(t(a))"
   ]
  },
  {
   "cell_type": "code",
   "execution_count": 29,
   "metadata": {},
   "outputs": [
    {
     "data": {
      "text/plain": [
       "tensor(1., grad_fn=<AbsBackward>)"
      ]
     },
     "execution_count": 29,
     "metadata": {},
     "output_type": "execute_result"
    }
   ],
   "source": [
    "b"
   ]
  },
  {
   "cell_type": "code",
   "execution_count": 57,
   "metadata": {},
   "outputs": [
    {
     "data": {
      "text/plain": [
       "tensor(-2.4578)"
      ]
     },
     "execution_count": 57,
     "metadata": {},
     "output_type": "execute_result"
    }
   ],
   "source": [
    "loc = nn.Parameter(torch.tensor(0.0))\n",
    "scale = nn.Parameter(torch.tensor(1.0))\n",
    "\n",
    "loss = (1.0 - (loc + torch.randn(1)*scale))**2\n",
    "loss.backward()\n",
    "loc.grad"
   ]
  },
  {
   "cell_type": "code",
   "execution_count": 59,
   "metadata": {},
   "outputs": [
    {
     "data": {
      "text/plain": [
       "tensor(-3.9945)"
      ]
     },
     "execution_count": 59,
     "metadata": {},
     "output_type": "execute_result"
    }
   ],
   "source": [
    "loc = nn.Parameter(torch.tensor(0.0))\n",
    "scale = nn.Parameter(torch.tensor(1.0))\n",
    "\n",
    "m = torch.distributions.normal.Normal(loc,scale)\n",
    "\n",
    "loss = (1.0 - m.rsample())**2\n",
    "loss.backward()\n",
    "loc.grad"
   ]
  },
  {
   "cell_type": "code",
   "execution_count": 71,
   "metadata": {},
   "outputs": [
    {
     "data": {
      "text/plain": [
       "tensor(-17.6694)"
      ]
     },
     "execution_count": 71,
     "metadata": {},
     "output_type": "execute_result"
    }
   ],
   "source": [
    "m = torch.distributions.normal.Normal(torch.tensor(0.0),torch.tensor(-100.0))\n",
    "m.sample()"
   ]
  },
  {
   "cell_type": "code",
   "execution_count": 88,
   "metadata": {},
   "outputs": [
    {
     "data": {
      "text/plain": [
       "tensor(1120.5515)"
      ]
     },
     "execution_count": 88,
     "metadata": {},
     "output_type": "execute_result"
    }
   ],
   "source": [
    "torch.normal(torch.tensor(0.), torch.tensor(-1000.))"
   ]
  },
  {
   "cell_type": "code",
   "execution_count": 90,
   "metadata": {},
   "outputs": [
    {
     "data": {
      "text/plain": [
       "GreaterThan(lower_bound=0.0)"
      ]
     },
     "execution_count": 90,
     "metadata": {},
     "output_type": "execute_result"
    }
   ],
   "source": [
    "torch.distributions.normal.Normal.arg_constraints['scale']"
   ]
  },
  {
   "cell_type": "code",
   "execution_count": 97,
   "metadata": {},
   "outputs": [],
   "source": [
    "transform_to = torch.distributions.constraint_registry.ConstraintRegistry()\n",
    "\n",
    "@transform_to.register(torch.distributions.constraints.positive)\n",
    "def _transform_to_positive(constraint):\n",
    "    return torch.distributions.transforms.ExpTransform()"
   ]
  },
  {
   "cell_type": "code",
   "execution_count": 99,
   "metadata": {},
   "outputs": [],
   "source": [
    "constraint = torch.distributions.normal.Normal.arg_constraints['scale']\n",
    "scale = transform_to(constraint)(torch.zeros(1))  # constrained\n",
    "u = transform_to(constraint).inv(scale)"
   ]
  },
  {
   "cell_type": "code",
   "execution_count": 106,
   "metadata": {},
   "outputs": [
    {
     "name": "stdout",
     "output_type": "stream",
     "text": [
      "Parameter containing:\n",
      "tensor(-1., requires_grad=True)\n",
      "tensor(-1., grad_fn=<LogBackward>)\n",
      "Parameter containing:\n",
      "tensor(-2., requires_grad=True)\n",
      "tensor(-1., grad_fn=<LogBackward>)\n"
     ]
    }
   ],
   "source": [
    "a = nn.Parameter(torch.tensor(-1.0))\n",
    "scale = transform_to(constraint)(a)  # constrained\n",
    "print(a)\n",
    "print(torch.log(scale))\n",
    "a.data = torch.tensor(-2.0)\n",
    "print(a)\n",
    "print(torch.log(scale))"
   ]
  },
  {
   "cell_type": "code",
   "execution_count": null,
   "metadata": {},
   "outputs": [],
   "source": [
    "a = nn.Parameter(torch.tensor(-1.0))\n",
    "t = torch.distributions.transforms.AbsTransform()\n",
    "b = t(a)\n",
    "a.data = torch.tensor(-2.0)\n",
    "b"
   ]
  },
  {
   "cell_type": "markdown",
   "metadata": {},
   "source": [
    "### SIN dataset"
   ]
  },
  {
   "cell_type": "code",
   "execution_count": 4,
   "metadata": {},
   "outputs": [],
   "source": [
    "n_obs = 100\n",
    "dim_in = 2\n",
    "Z, X, Y, sig2 = util_data.load_data('sin', n_obs=n_obs, dim_in=dim_in, sig2=.01, seed=0)\n"
   ]
  },
  {
   "cell_type": "code",
   "execution_count": 5,
   "metadata": {},
   "outputs": [
    {
     "data": {
      "text/plain": [
       "<matplotlib.collections.PathCollection at 0x14f285208>"
      ]
     },
     "execution_count": 5,
     "metadata": {},
     "output_type": "execute_result"
    },
    {
     "data": {
      "image/png": "[encoded data removed]",
      "text/plain": [
       "<Figure size 432x288 with 1 Axes>"
      ]
     },
     "metadata": {
      "needs_background": "light"
     },
     "output_type": "display_data"
    }
   ],
   "source": [
    "plt.scatter(Z[:,0],Y)"
   ]
  },
  {
   "cell_type": "code",
   "execution_count": 18,
   "metadata": {},
   "outputs": [
    {
     "data": {
      "text/plain": [
       "<module 'distributions' from '/Users/beaucoker/Documents/git/VS-BNN/code/horseshoe/distributions.py'>"
      ]
     },
     "execution_count": 18,
     "metadata": {},
     "output_type": "execute_result"
    }
   ],
   "source": [
    "importlib.reload(layers)\n",
    "importlib.reload(util)\n",
    "importlib.reload(networks)\n",
    "importlib.reload(distributions)"
   ]
  },
  {
   "cell_type": "code",
   "execution_count": 19,
   "metadata": {},
   "outputs": [],
   "source": [
    "# logitnormal\n",
    "torch.manual_seed(2)\n",
    "model = networks.RffHs(dim_in, 1, dim_hidden=50, sig2_inv=1/sig2, \\\n",
    "                       layer_in_name='RffVarSelectLogitNormalLayer',\\\n",
    "                       s_loc_prior=0.5,\n",
    "                       s_scale_prior=1.0)\n"
   ]
  },
  {
   "cell_type": "code",
   "execution_count": 8,
   "metadata": {},
   "outputs": [
    {
     "data": {
      "text/plain": [
       "[<matplotlib.lines.Line2D at 0x1513755c0>]"
      ]
     },
     "execution_count": 8,
     "metadata": {},
     "output_type": "execute_result"
    },
    {
     "data": {
      "image/png": "[encoded data removed]",
      "text/plain": [
       "<Figure size 432x288 with 1 Axes>"
      ]
     },
     "metadata": {
      "needs_background": "light"
     },
     "output_type": "display_data"
    }
   ],
   "source": [
    "eps = .0001\n",
    "x = np.linspace(0+eps,1-eps,100)\n",
    "\n",
    "logit = lambda x: np.log(x/(1-x))\n",
    "\n",
    "def logitnormal_pdf(x, mu=0, sig2=1):\n",
    "    return 1/np.sqrt(2*np.pi*sig2)/(x*(1-x))*np.exp(-(logit(x)-mu)**2/(2*sig2))\n",
    "\n",
    "\n",
    "loc = model.layer_in.s_loc_prior.item()\n",
    "scale = model.layer_in.s_loc_prior.item()\n",
    "plt.plot(x, logitnormal_pdf(x,loc,scale**2), color='blue',label='s0')"
   ]
  },
  {
   "cell_type": "code",
   "execution_count": 22,
   "metadata": {},
   "outputs": [],
   "source": [
    "# beta\n",
    "torch.manual_seed(2)\n",
    "model = networks.RffHs(dim_in, 1, dim_hidden=50, sig2_inv=1/sig2, \\\n",
    "                       layer_in_name='RffVarSelectBetaLayer',\\\n",
    "                       s_a_prior=3,\n",
    "                       s_b_prior=2)"
   ]
  },
  {
   "cell_type": "code",
   "execution_count": 23,
   "metadata": {},
   "outputs": [
    {
     "data": {
      "text/plain": [
       "[<matplotlib.lines.Line2D at 0x14df5de80>]"
      ]
     },
     "execution_count": 23,
     "metadata": {},
     "output_type": "execute_result"
    },
    {
     "data": {
      "image/png": "[encoded data removed]",
      "text/plain": [
       "<Figure size 432x288 with 1 Axes>"
      ]
     },
     "metadata": {
      "needs_background": "light"
     },
     "output_type": "display_data"
    }
   ],
   "source": [
    "eps = .0001\n",
    "x = np.linspace(0+eps,1-eps,100)\n",
    "import scipy\n",
    "\n",
    "a = model.layer_in.s_a_prior.item()\n",
    "b = model.layer_in.s_b_prior.item()\n",
    "plt.plot(x, scipy.stats.beta.pdf(x,a,b), color='blue',label='s0')\n"
   ]
  },
  {
   "cell_type": "code",
   "execution_count": 20,
   "metadata": {},
   "outputs": [
    {
     "data": {
      "image/png": "[encoded data removed]",
      "text/plain": [
       "<Figure size 576x288 with 2 Axes>"
      ]
     },
     "metadata": {
      "needs_background": "light"
     },
     "output_type": "display_data"
    }
   ],
   "source": [
    "def sample_f_prior(x):\n",
    "    with torch.no_grad():\n",
    "        return model.forward(torch.from_numpy(x), weights_type_layer_in='sample_prior', weights_type_layer_out='sample_prior')\n",
    "\n",
    "fig, ax = util.plot_slices(sample_f_prior, Z, Y, quantile=.5, n_samp=50, figsize=(4*2,4))\n"
   ]
  },
  {
   "cell_type": "code",
   "execution_count": 23,
   "metadata": {},
   "outputs": [],
   "source": [
    "torch.manual_seed(2)\n",
    "optimizer = torch.optim.Adam(model.parameters(), lr=.001)\n",
    "#optimizer = torch.optim.Adam(model.parameters(), lr=.0001)\n",
    "model.reinit_parameters(torch.from_numpy(Z),torch.from_numpy(Y),n_reinit=10) \n"
   ]
  },
  {
   "cell_type": "code",
   "execution_count": 24,
   "metadata": {
    "scrolled": true
   },
   "outputs": [
    {
     "name": "stdout",
     "output_type": "stream",
     "text": [
      "layer_in.s_loc tensor([-0.0066,  0.0219])\n",
      "layer_in.s_scale_untrans tensor([ 0.0170, -0.0132])\n"
     ]
    }
   ],
   "source": [
    "for name, p in model.named_parameters():\n",
    "    print(name, p.detach())"
   ]
  },
  {
   "cell_type": "code",
   "execution_count": 277,
   "metadata": {},
   "outputs": [],
   "source": [
    "q = model.layer_in.get_variational()"
   ]
  },
  {
   "cell_type": "code",
   "execution_count": 286,
   "metadata": {},
   "outputs": [
    {
     "data": {
      "text/plain": [
       "torch.Size([3, 2])"
      ]
     },
     "execution_count": 286,
     "metadata": {},
     "output_type": "execute_result"
    }
   ],
   "source": [
    "q.sample((3,)).shape"
   ]
  },
  {
   "cell_type": "code",
   "execution_count": 285,
   "metadata": {},
   "outputs": [
    {
     "data": {
      "text/plain": [
       "torch.Size([2])"
      ]
     },
     "execution_count": 285,
     "metadata": {},
     "output_type": "execute_result"
    }
   ],
   "source": [
    "q.sample().shape"
   ]
  },
  {
   "cell_type": "code",
   "execution_count": null,
   "metadata": {},
   "outputs": [],
   "source": []
  },
  {
   "cell_type": "code",
   "execution_count": 296,
   "metadata": {},
   "outputs": [
    {
     "data": {
      "text/plain": [
       "torch.Size([4, 3])"
      ]
     },
     "execution_count": 296,
     "metadata": {},
     "output_type": "execute_result"
    }
   ],
   "source": [
    "D = 2 # dimension of input\n",
    "K = 3 # number of hidden units\n",
    "N = 4 # number of observations\n",
    "S = 1 # number of samples from q\n",
    "\n",
    "s = torch.ones((S,D))\n",
    "w = torch.ones((K,D))\n",
    "x = torch.ones((N,D))\n",
    "\n",
    "xs = x.unsqueeze(1) * s.unsqueeze(0)\n",
    "\n",
    "torch.squeeze(F.linear(xs,w)).shape"
   ]
  },
  {
   "cell_type": "code",
   "execution_count": 289,
   "metadata": {},
   "outputs": [
    {
     "data": {
      "text/plain": [
       "torch.Size([4, 1, 2])"
      ]
     },
     "execution_count": 289,
     "metadata": {},
     "output_type": "execute_result"
    }
   ],
   "source": [
    "x.unsqueeze(1).shape"
   ]
  },
  {
   "cell_type": "code",
   "execution_count": 294,
   "metadata": {},
   "outputs": [
    {
     "data": {
      "text/plain": [
       "torch.Size([1, 5, 2])"
      ]
     },
     "execution_count": 294,
     "metadata": {},
     "output_type": "execute_result"
    }
   ],
   "source": [
    "s.unsqueeze(0).shape"
   ]
  },
  {
   "cell_type": "code",
   "execution_count": 79,
   "metadata": {},
   "outputs": [
    {
     "data": {
      "text/plain": [
       "torch.Size([1, 1, 2])"
      ]
     },
     "execution_count": 79,
     "metadata": {},
     "output_type": "execute_result"
    }
   ],
   "source": [
    "s.view(1,1,-1)."
   ]
  },
  {
   "cell_type": "code",
   "execution_count": 76,
   "metadata": {},
   "outputs": [
    {
     "data": {
      "text/plain": [
       "torch.Size([3, 1])"
      ]
     },
     "execution_count": 76,
     "metadata": {},
     "output_type": "execute_result"
    }
   ],
   "source": [
    "x.shape"
   ]
  },
  {
   "cell_type": "code",
   "execution_count": 84,
   "metadata": {},
   "outputs": [
    {
     "data": {
      "text/plain": [
       "tensor([[1, 1, 1, 1],\n",
       "        [2, 2, 2, 2],\n",
       "        [3, 3, 3, 3]])"
      ]
     },
     "execution_count": 84,
     "metadata": {},
     "output_type": "execute_result"
    }
   ],
   "source": [
    "x = torch.tensor([[1], [2], [3]])\n",
    "\n",
    "x.expand(-1, 4)"
   ]
  },
  {
   "cell_type": "code",
   "execution_count": 77,
   "metadata": {},
   "outputs": [
    {
     "data": {
      "text/plain": [
       "torch.Size([3, 4])"
      ]
     },
     "execution_count": 77,
     "metadata": {},
     "output_type": "execute_result"
    }
   ],
   "source": [
    "x.expand(3, 4).shape"
   ]
  },
  {
   "cell_type": "code",
   "execution_count": 72,
   "metadata": {},
   "outputs": [
    {
     "ename": "RuntimeError",
     "evalue": "The expanded size of the tensor (1) must match the existing size (3) at non-singleton dimension 1.  Target sizes: [3, 1].  Tensor sizes: [1, 3]",
     "output_type": "error",
     "traceback": [
      "\u001b[0;31m---------------------------------------------------------------------------\u001b[0m",
      "\u001b[0;31mRuntimeError\u001b[0m                              Traceback (most recent call last)",
      "\u001b[0;32m<ipython-input-72-a1d1ecf30192>\u001b[0m in \u001b[0;36m<module>\u001b[0;34m\u001b[0m\n\u001b[1;32m      1\u001b[0m \u001b[0mx\u001b[0m \u001b[0;34m=\u001b[0m \u001b[0mtorch\u001b[0m\u001b[0;34m.\u001b[0m\u001b[0mtensor\u001b[0m\u001b[0;34m(\u001b[0m\u001b[0;34m[\u001b[0m\u001b[0;34m[\u001b[0m\u001b[0;36m1\u001b[0m\u001b[0;34m,\u001b[0m\u001b[0;36m2\u001b[0m\u001b[0;34m,\u001b[0m\u001b[0;36m3\u001b[0m\u001b[0;34m]\u001b[0m\u001b[0;34m]\u001b[0m\u001b[0;34m)\u001b[0m\u001b[0;34m\u001b[0m\u001b[0;34m\u001b[0m\u001b[0m\n\u001b[0;32m----> 2\u001b[0;31m \u001b[0mx\u001b[0m\u001b[0;34m.\u001b[0m\u001b[0mexpand\u001b[0m\u001b[0;34m(\u001b[0m\u001b[0;36m3\u001b[0m\u001b[0;34m,\u001b[0m\u001b[0;36m1\u001b[0m\u001b[0;34m)\u001b[0m\u001b[0;34m\u001b[0m\u001b[0;34m\u001b[0m\u001b[0m\n\u001b[0m",
      "\u001b[0;31mRuntimeError\u001b[0m: The expanded size of the tensor (1) must match the existing size (3) at non-singleton dimension 1.  Target sizes: [3, 1].  Tensor sizes: [1, 3]"
     ]
    }
   ],
   "source": [
    "x = torch.tensor([[1,2,3]])\n",
    "x.expand(3,1)"
   ]
  },
  {
   "cell_type": "code",
   "execution_count": 297,
   "metadata": {},
   "outputs": [
    {
     "data": {
      "text/plain": [
       "[torch.Size([5, 2, 1]), torch.Size([])]"
      ]
     },
     "execution_count": 297,
     "metadata": {},
     "output_type": "execute_result"
    }
   ],
   "source": [
    "# dimensions of m are observations\n",
    "N = 5 # number of observations\n",
    "S = 2 # number of samples from q\n",
    "D = 1 # output dimension\n",
    "\n",
    "loc = torch.randn((N,S,D)) # network output\n",
    "scale = torch.tensor(1.0)\n",
    "\n",
    "m = torch.distributions.normal.Normal(loc, scale)\n",
    "[m.batch_shape, m.event_shape]"
   ]
  },
  {
   "cell_type": "code",
   "execution_count": 308,
   "metadata": {},
   "outputs": [
    {
     "data": {
      "text/plain": [
       "torch.Size([5, 2, 1])"
      ]
     },
     "execution_count": 308,
     "metadata": {},
     "output_type": "execute_result"
    }
   ],
   "source": [
    "data = torch.ones((N,D))\n",
    "m.log_prob(data.unsqueeze(1)).shape"
   ]
  },
  {
   "cell_type": "code",
   "execution_count": 309,
   "metadata": {},
   "outputs": [
    {
     "data": {
      "text/plain": [
       "tensor([[[-0.9855],\n",
       "         [-2.0768]],\n",
       "\n",
       "        [[-2.0024],\n",
       "         [-0.9379]],\n",
       "\n",
       "        [[-4.9539],\n",
       "         [-1.4323]],\n",
       "\n",
       "        [[-1.2106],\n",
       "         [-3.7649]],\n",
       "\n",
       "        [[-4.0840],\n",
       "         [-1.4917]]])"
      ]
     },
     "execution_count": 309,
     "metadata": {},
     "output_type": "execute_result"
    }
   ],
   "source": [
    "m.log_prob(data.unsqueeze(1))"
   ]
  },
  {
   "cell_type": "code",
   "execution_count": 303,
   "metadata": {},
   "outputs": [
    {
     "data": {
      "text/plain": [
       "tensor([-11.4700])"
      ]
     },
     "execution_count": 303,
     "metadata": {},
     "output_type": "execute_result"
    }
   ],
   "source": [
    "m.log_prob(data.unsqueeze(1)).mean(1).sum(0)"
   ]
  },
  {
   "cell_type": "code",
   "execution_count": 301,
   "metadata": {},
   "outputs": [
    {
     "data": {
      "text/plain": [
       "[torch.Size([5, 2]), torch.Size([1])]"
      ]
     },
     "execution_count": 301,
     "metadata": {},
     "output_type": "execute_result"
    }
   ],
   "source": [
    "diagm = torch.distributions.independent.Independent(m,1)\n",
    "[diagm.batch_shape, diagm.event_shape]"
   ]
  },
  {
   "cell_type": "code",
   "execution_count": 270,
   "metadata": {},
   "outputs": [
    {
     "data": {
      "text/plain": [
       "tensor([-3.5973, -5.4053, -3.3917, -3.4972, -4.3453])"
      ]
     },
     "execution_count": 270,
     "metadata": {},
     "output_type": "execute_result"
    }
   ],
   "source": [
    "data = torch.ones((N,S,D))\n",
    "diagm.log_prob(data)"
   ]
  },
  {
   "cell_type": "code",
   "execution_count": null,
   "metadata": {},
   "outputs": [],
   "source": []
  },
  {
   "cell_type": "code",
   "execution_count": null,
   "metadata": {},
   "outputs": [],
   "source": []
  },
  {
   "cell_type": "code",
   "execution_count": 224,
   "metadata": {},
   "outputs": [
    {
     "data": {
      "text/plain": [
       "[torch.Size([2]), torch.Size([])]"
      ]
     },
     "execution_count": 224,
     "metadata": {},
     "output_type": "execute_result"
    }
   ],
   "source": [
    "# dimensions of m are observations\n",
    "loc = torch.tensor([0.,0.])\n",
    "scale = torch.tensor(1.0)\n",
    "\n",
    "m = torch.distributions.normal.Normal(loc.view(-1), scale)\n",
    "[m.batch_shape, m.event_shape]"
   ]
  },
  {
   "cell_type": "code",
   "execution_count": 233,
   "metadata": {},
   "outputs": [
    {
     "data": {
      "text/plain": [
       "tensor([[ 0.1994, -1.3322],\n",
       "        [ 0.3696, -0.4417],\n",
       "        [ 1.0378,  0.1359],\n",
       "        [ 0.0681, -1.8377],\n",
       "        [-0.8369, -0.9166]])"
      ]
     },
     "execution_count": 233,
     "metadata": {},
     "output_type": "execute_result"
    }
   ],
   "source": [
    "S = 5\n",
    "y=torch.randn(S, 2) \n",
    "y"
   ]
  },
  {
   "cell_type": "code",
   "execution_count": 234,
   "metadata": {},
   "outputs": [
    {
     "data": {
      "text/plain": [
       "tensor([[-0.9388, -1.8063],\n",
       "        [-0.9872, -1.0165],\n",
       "        [-1.4574, -0.9282],\n",
       "        [-0.9213, -2.6076],\n",
       "        [-1.2691, -1.3390]])"
      ]
     },
     "execution_count": 234,
     "metadata": {},
     "output_type": "execute_result"
    }
   ],
   "source": [
    "m.log_prob(y)"
   ]
  },
  {
   "cell_type": "code",
   "execution_count": null,
   "metadata": {},
   "outputs": [],
   "source": []
  },
  {
   "cell_type": "code",
   "execution_count": null,
   "metadata": {},
   "outputs": [],
   "source": []
  },
  {
   "cell_type": "code",
   "execution_count": 168,
   "metadata": {},
   "outputs": [
    {
     "data": {
      "text/plain": [
       "tensor([[-0.9634],\n",
       "        [-0.9775]])"
      ]
     },
     "execution_count": 168,
     "metadata": {},
     "output_type": "execute_result"
    }
   ],
   "source": [
    "m.log_prob(y)"
   ]
  },
  {
   "cell_type": "code",
   "execution_count": 229,
   "metadata": {},
   "outputs": [
    {
     "data": {
      "text/plain": [
       "tensor(-2.1879)"
      ]
     },
     "execution_count": 229,
     "metadata": {},
     "output_type": "execute_result"
    }
   ],
   "source": [
    "m.log_prob(y).mean(0).sum()"
   ]
  },
  {
   "cell_type": "code",
   "execution_count": 152,
   "metadata": {},
   "outputs": [
    {
     "data": {
      "text/plain": [
       "tensor([0.4247, 0.7341])"
      ]
     },
     "execution_count": 152,
     "metadata": {},
     "output_type": "execute_result"
    }
   ],
   "source": [
    "y=torch.randn(2) # first dimension could be anything (like samples), second dimension is observations\n",
    "y"
   ]
  },
  {
   "cell_type": "code",
   "execution_count": 154,
   "metadata": {},
   "outputs": [
    {
     "data": {
      "text/plain": [
       "tensor([[-1.0091, -1.0091],\n",
       "        [-1.1884, -1.1884]])"
      ]
     },
     "execution_count": 154,
     "metadata": {},
     "output_type": "execute_result"
    }
   ],
   "source": [
    "m.log_prob(y.reshape(-1,1))"
   ]
  },
  {
   "cell_type": "code",
   "execution_count": 156,
   "metadata": {},
   "outputs": [
    {
     "data": {
      "text/plain": [
       "torch.Size([2, 1])"
      ]
     },
     "execution_count": 156,
     "metadata": {},
     "output_type": "execute_result"
    }
   ],
   "source": [
    "y.reshape(-1,1).shape"
   ]
  },
  {
   "cell_type": "code",
   "execution_count": 25,
   "metadata": {
    "scrolled": true
   },
   "outputs": [
    {
     "name": "stdout",
     "output_type": "stream",
     "text": [
      "Epoch[1/1000], kl: 0.411124, likelihood: -1533.575307, elbo: -892.885010\n",
      "Epoch[2/1000], kl: 0.463256, likelihood: -688.204737, elbo: -4590.804522\n",
      "Epoch[3/1000], kl: 0.419382, likelihood: -4325.772574, elbo: 32.587838\n",
      "Epoch[4/1000], kl: 0.447998, likelihood: -1358.615620, elbo: -1982.147208\n",
      "Epoch[5/1000], kl: 0.534871, likelihood: -5440.061592, elbo: -111.171877\n",
      "Epoch[6/1000], kl: 0.623009, likelihood: -1251.208580, elbo: -565.518507\n",
      "Epoch[7/1000], kl: 0.751473, likelihood: -891.227206, elbo: -232.637248\n",
      "Epoch[8/1000], kl: 0.780025, likelihood: -598.157002, elbo: -1364.944319\n",
      "Epoch[9/1000], kl: 0.941661, likelihood: -1172.352714, elbo: -560.571572\n",
      "Epoch[10/1000], kl: 1.025569, likelihood: -110.932811, elbo: -1233.337491\n",
      "Epoch[11/1000], kl: 1.033145, likelihood: -1213.607908, elbo: -713.418990\n",
      "Epoch[12/1000], kl: 1.082279, likelihood: -2973.837162, elbo: -21.843560\n",
      "Epoch[13/1000], kl: 1.112832, likelihood: -1263.643849, elbo: -1079.222615\n",
      "Epoch[14/1000], kl: 1.157673, likelihood: -833.641288, elbo: -5955.333604\n",
      "Epoch[15/1000], kl: 1.329341, likelihood: -1642.157168, elbo: -1639.344857\n",
      "Epoch[16/1000], kl: 1.609987, likelihood: -2939.179500, elbo: -517.323898\n",
      "Epoch[17/1000], kl: 1.674126, likelihood: -3742.444801, elbo: -947.969172\n",
      "Epoch[18/1000], kl: 1.782456, likelihood: -2068.791776, elbo: -76.590722\n",
      "Epoch[19/1000], kl: 1.945895, likelihood: -2019.633655, elbo: -61.103447\n",
      "Epoch[20/1000], kl: 2.136118, likelihood: -1014.709869, elbo: 91.278854\n",
      "Epoch[21/1000], kl: 2.153988, likelihood: 24.707011, elbo: -255.467837\n",
      "Epoch[22/1000], kl: 2.188852, likelihood: -3278.206735, elbo: -2036.299029\n",
      "Epoch[23/1000], kl: 2.208620, likelihood: -586.661823, elbo: 43.654068\n",
      "Epoch[24/1000], kl: 2.183728, likelihood: -142.731669, elbo: -56.718992\n",
      "Epoch[25/1000], kl: 2.313609, likelihood: -2758.527602, elbo: 77.176688\n",
      "Epoch[26/1000], kl: 2.341663, likelihood: -118.943999, elbo: -914.647467\n",
      "Epoch[27/1000], kl: 2.349024, likelihood: -259.326321, elbo: -897.284819\n",
      "Epoch[28/1000], kl: 2.411712, likelihood: -2688.050050, elbo: -5309.100030\n",
      "Epoch[29/1000], kl: 2.691057, likelihood: 37.196363, elbo: 4.745716\n",
      "Epoch[30/1000], kl: 2.759595, likelihood: -538.343325, elbo: -105.053017\n",
      "Epoch[31/1000], kl: 2.804723, likelihood: -77.727984, elbo: -89.249157\n",
      "Epoch[32/1000], kl: 2.981330, likelihood: -1030.626795, elbo: 126.810901\n",
      "Epoch[33/1000], kl: 2.982365, likelihood: -315.605390, elbo: -588.740577\n",
      "Epoch[34/1000], kl: 3.085615, likelihood: -223.400056, elbo: 83.154143\n",
      "Epoch[35/1000], kl: 3.219596, likelihood: -588.588239, elbo: -1649.951749\n",
      "Epoch[36/1000], kl: 3.393842, likelihood: -164.063159, elbo: -326.148193\n",
      "Epoch[37/1000], kl: 3.601577, likelihood: -63.700347, elbo: -283.100508\n",
      "Epoch[38/1000], kl: 3.678142, likelihood: -415.889135, elbo: -1308.060234\n",
      "Epoch[39/1000], kl: 3.709572, likelihood: 56.544057, elbo: -1.095426\n",
      "Epoch[40/1000], kl: 3.710709, likelihood: 96.629839, elbo: -10.649013\n",
      "Epoch[41/1000], kl: 3.757362, likelihood: -600.512658, elbo: -149.189520\n",
      "Epoch[42/1000], kl: 3.785705, likelihood: 124.884335, elbo: -0.596566\n",
      "Epoch[43/1000], kl: 3.780448, likelihood: -135.794517, elbo: -722.734634\n",
      "Epoch[44/1000], kl: 3.809010, likelihood: -0.310835, elbo: 67.002953\n",
      "Epoch[45/1000], kl: 3.851160, likelihood: 41.986297, elbo: -273.113090\n",
      "Epoch[46/1000], kl: 3.878693, likelihood: -371.380466, elbo: -123.021243\n",
      "Epoch[47/1000], kl: 3.959528, likelihood: -82.311761, elbo: 87.553289\n",
      "Epoch[48/1000], kl: 3.989727, likelihood: 59.165546, elbo: -453.405481\n",
      "Epoch[49/1000], kl: 3.992359, likelihood: -81.092739, elbo: -168.773937\n",
      "Epoch[50/1000], kl: 4.043927, likelihood: 123.004829, elbo: 123.024213\n",
      "Epoch[51/1000], kl: 4.062203, likelihood: -143.484023, elbo: -2606.745051\n",
      "Epoch[52/1000], kl: 4.287967, likelihood: -310.366261, elbo: -268.407103\n",
      "Epoch[53/1000], kl: 4.537593, likelihood: 122.568223, elbo: 113.261246\n",
      "Epoch[54/1000], kl: 4.616986, likelihood: 119.972557, elbo: 12.703270\n",
      "Epoch[55/1000], kl: 4.615336, likelihood: -89.284328, elbo: -146.492662\n",
      "Epoch[56/1000], kl: 4.582148, likelihood: -372.235391, elbo: 48.018724\n",
      "Epoch[57/1000], kl: 4.592779, likelihood: -189.918310, elbo: -262.373858\n",
      "Epoch[58/1000], kl: 4.572332, likelihood: 112.708169, elbo: 123.832981\n",
      "Epoch[59/1000], kl: 4.562948, likelihood: 117.504212, elbo: 127.740047\n",
      "Epoch[60/1000], kl: 4.597000, likelihood: 131.833931, elbo: -151.411874\n",
      "Epoch[61/1000], kl: 4.660052, likelihood: 38.962458, elbo: 70.991432\n",
      "Epoch[62/1000], kl: 4.757838, likelihood: 14.713964, elbo: -250.567760\n",
      "Epoch[63/1000], kl: 4.849813, likelihood: 93.363514, elbo: -10.350722\n",
      "Epoch[64/1000], kl: 5.002363, likelihood: 106.890278, elbo: 11.550942\n",
      "Epoch[65/1000], kl: 5.023563, likelihood: 12.120256, elbo: 123.263552\n",
      "Epoch[66/1000], kl: 5.024612, likelihood: 57.799260, elbo: 99.444285\n",
      "Epoch[67/1000], kl: 5.108609, likelihood: 114.924541, elbo: 73.486540\n",
      "Epoch[68/1000], kl: 5.214239, likelihood: 89.574141, elbo: 117.534567\n",
      "Epoch[69/1000], kl: 5.271473, likelihood: -61.528800, elbo: 94.422596\n",
      "Epoch[70/1000], kl: 5.285312, likelihood: 52.767104, elbo: 123.706010\n",
      "Epoch[71/1000], kl: 5.312721, likelihood: 62.581019, elbo: 125.094213\n",
      "Epoch[72/1000], kl: 5.356411, likelihood: 78.164037, elbo: 104.122991\n",
      "Epoch[73/1000], kl: 5.534213, likelihood: -61.181767, elbo: 45.435121\n",
      "Epoch[74/1000], kl: 5.554585, likelihood: 59.342328, elbo: -6.474998\n",
      "Epoch[75/1000], kl: 5.692280, likelihood: 106.438156, elbo: 77.885151\n",
      "Epoch[76/1000], kl: 5.741698, likelihood: 59.640482, elbo: 32.765315\n",
      "Epoch[77/1000], kl: 5.814419, likelihood: 129.027065, elbo: 122.735518\n",
      "Epoch[78/1000], kl: 5.863422, likelihood: 109.720201, elbo: 104.888212\n",
      "Epoch[79/1000], kl: 5.916225, likelihood: 119.289601, elbo: 70.910785\n",
      "Epoch[80/1000], kl: 5.962376, likelihood: 90.627295, elbo: 46.558705\n",
      "Epoch[81/1000], kl: 6.048154, likelihood: 65.372742, elbo: -51.259420\n",
      "Epoch[82/1000], kl: 6.209631, likelihood: 121.099003, elbo: 85.694030\n",
      "Epoch[83/1000], kl: 6.434305, likelihood: 117.903602, elbo: 116.228195\n",
      "Epoch[84/1000], kl: 6.513098, likelihood: 127.502942, elbo: -5.779917\n",
      "Epoch[85/1000], kl: 6.663043, likelihood: 130.400063, elbo: 117.667583\n",
      "Epoch[86/1000], kl: 6.702199, likelihood: 121.836247, elbo: 113.929303\n",
      "Epoch[87/1000], kl: 6.771553, likelihood: 119.944721, elbo: 75.186776\n",
      "Epoch[88/1000], kl: 6.860371, likelihood: 108.504624, elbo: 117.771503\n",
      "Epoch[89/1000], kl: 6.898006, likelihood: 123.770641, elbo: 116.615433\n",
      "Epoch[90/1000], kl: 6.996512, likelihood: 103.140924, elbo: 117.333019\n",
      "Epoch[91/1000], kl: 7.004398, likelihood: 79.061427, elbo: 110.008313\n",
      "Epoch[92/1000], kl: 7.083311, likelihood: 110.774100, elbo: 116.471329\n",
      "Epoch[93/1000], kl: 7.132139, likelihood: 111.304555, elbo: -27.944667\n",
      "Epoch[94/1000], kl: 7.195801, likelihood: 117.118985, elbo: 71.123478\n",
      "Epoch[95/1000], kl: 7.231737, likelihood: 98.663251, elbo: 72.743929\n",
      "Epoch[96/1000], kl: 7.270558, likelihood: 125.764188, elbo: 114.164825\n",
      "Epoch[97/1000], kl: 7.464718, likelihood: 118.813260, elbo: 113.500588\n",
      "Epoch[98/1000], kl: 7.557317, likelihood: 126.741011, elbo: 103.682868\n",
      "Epoch[99/1000], kl: 7.619728, likelihood: -3.075674, elbo: -50.092333\n",
      "Epoch[100/1000], kl: 7.793147, likelihood: 110.925471, elbo: 105.102437\n",
      "Epoch[101/1000], kl: 7.818508, likelihood: 103.002009, elbo: 57.281230\n",
      "Epoch[102/1000], kl: 7.852323, likelihood: 108.791074, elbo: 40.315681\n",
      "Epoch[103/1000], kl: 7.903232, likelihood: 113.212140, elbo: 105.108947\n",
      "Epoch[104/1000], kl: 7.995651, likelihood: 123.260744, elbo: 99.067558\n",
      "Epoch[105/1000], kl: 8.015677, likelihood: 71.691723, elbo: 111.431412\n",
      "Epoch[106/1000], kl: 8.076299, likelihood: 56.052418, elbo: 117.314406\n",
      "Epoch[107/1000], kl: 8.059756, likelihood: 126.467988, elbo: 121.917734\n",
      "Epoch[108/1000], kl: 8.088035, likelihood: 124.170535, elbo: 114.272121\n",
      "Epoch[109/1000], kl: 8.171988, likelihood: 118.429131, elbo: 109.289070\n",
      "Epoch[110/1000], kl: 8.217631, likelihood: 122.797817, elbo: 111.687571\n",
      "Epoch[111/1000], kl: 8.802133, likelihood: 126.169556, elbo: 104.492453\n",
      "Epoch[112/1000], kl: 8.788609, likelihood: 105.832675, elbo: 123.506665\n",
      "Epoch[113/1000], kl: 8.821712, likelihood: 129.380141, elbo: 122.350295\n",
      "Epoch[114/1000], kl: 8.896755, likelihood: 133.108972, elbo: 125.048090\n",
      "Epoch[115/1000], kl: 8.964469, likelihood: 131.496205, elbo: 115.415102\n",
      "Epoch[116/1000], kl: 9.143227, likelihood: 132.805016, elbo: 112.178309\n"
     ]
    },
    {
     "name": "stdout",
     "output_type": "stream",
     "text": [
      "Epoch[117/1000], kl: 9.211285, likelihood: 131.879325, elbo: 98.072468\n",
      "Epoch[118/1000], kl: 9.542293, likelihood: 106.728955, elbo: 124.005362\n",
      "Epoch[119/1000], kl: 9.585130, likelihood: 105.992535, elbo: 119.723182\n",
      "Epoch[120/1000], kl: 9.713647, likelihood: 135.588621, elbo: 126.672844\n",
      "Epoch[121/1000], kl: 9.741423, likelihood: 126.135325, elbo: 103.989681\n",
      "Epoch[122/1000], kl: 9.756139, likelihood: 132.035808, elbo: 122.509175\n",
      "Epoch[123/1000], kl: 9.845222, likelihood: 126.779217, elbo: 112.164309\n",
      "Epoch[124/1000], kl: 9.932267, likelihood: 135.735248, elbo: 115.251006\n",
      "Epoch[125/1000], kl: 9.932162, likelihood: 115.289537, elbo: 99.200414\n",
      "Epoch[126/1000], kl: 9.984738, likelihood: 108.032048, elbo: 33.400278\n",
      "Epoch[127/1000], kl: 10.169249, likelihood: 126.558885, elbo: 118.394142\n",
      "Epoch[128/1000], kl: 10.389486, likelihood: 125.010973, elbo: 111.975178\n",
      "Epoch[129/1000], kl: 10.572184, likelihood: 135.727673, elbo: 126.216966\n",
      "Epoch[130/1000], kl: 10.581389, likelihood: 98.988680, elbo: 95.869072\n",
      "Epoch[131/1000], kl: 10.834375, likelihood: 123.628478, elbo: 115.114049\n",
      "Epoch[132/1000], kl: 10.962863, likelihood: 110.247240, elbo: 99.070080\n",
      "Epoch[133/1000], kl: 11.224513, likelihood: 130.563492, elbo: 104.000816\n",
      "Epoch[134/1000], kl: 11.261612, likelihood: 110.575319, elbo: 115.309745\n",
      "Epoch[135/1000], kl: 11.384702, likelihood: 122.592257, elbo: 104.965831\n",
      "Epoch[136/1000], kl: 11.475139, likelihood: 124.441410, elbo: 118.246462\n",
      "Epoch[137/1000], kl: 11.598837, likelihood: 134.186941, elbo: 121.200874\n",
      "Epoch[138/1000], kl: 11.698227, likelihood: 127.600522, elbo: 110.757123\n",
      "Epoch[139/1000], kl: 11.742895, likelihood: 130.574622, elbo: 114.209447\n",
      "Epoch[140/1000], kl: 11.751875, likelihood: 112.056003, elbo: 103.231701\n",
      "Epoch[141/1000], kl: 11.856060, likelihood: 125.655095, elbo: 96.876476\n",
      "Epoch[142/1000], kl: 11.974486, likelihood: 126.280252, elbo: 111.391094\n",
      "Epoch[143/1000], kl: 12.350205, likelihood: 127.719307, elbo: 112.842372\n",
      "Epoch[144/1000], kl: 12.579263, likelihood: 110.703224, elbo: 114.588135\n",
      "Epoch[145/1000], kl: 12.634106, likelihood: 136.193157, elbo: 120.666314\n",
      "Epoch[146/1000], kl: 12.818447, likelihood: 131.585531, elbo: 117.419896\n",
      "Epoch[147/1000], kl: 12.866816, likelihood: 129.055700, elbo: 121.299107\n",
      "Epoch[148/1000], kl: 13.046770, likelihood: 124.947419, elbo: 116.736333\n",
      "Epoch[149/1000], kl: 13.572523, likelihood: 128.888726, elbo: 117.904901\n",
      "Epoch[150/1000], kl: 13.919941, likelihood: 132.347091, elbo: 115.534706\n",
      "Epoch[151/1000], kl: 14.087371, likelihood: 134.362214, elbo: 120.827052\n",
      "Epoch[152/1000], kl: 14.157585, likelihood: 128.188408, elbo: 116.443747\n",
      "Epoch[153/1000], kl: 14.309523, likelihood: 128.468081, elbo: 108.612593\n",
      "Epoch[154/1000], kl: 14.629171, likelihood: 125.895720, elbo: 108.898924\n",
      "Epoch[155/1000], kl: 14.667811, likelihood: 131.041781, elbo: 113.860133\n",
      "Epoch[156/1000], kl: 14.914217, likelihood: 130.328947, elbo: 116.883746\n",
      "Epoch[157/1000], kl: 15.359095, likelihood: 133.406203, elbo: 115.156143\n",
      "Epoch[158/1000], kl: 15.371063, likelihood: 134.199757, elbo: 119.967448\n",
      "Epoch[159/1000], kl: 15.488078, likelihood: 136.150624, elbo: 114.489510\n",
      "Epoch[160/1000], kl: 15.454099, likelihood: 129.768375, elbo: 114.764108\n",
      "Epoch[161/1000], kl: 15.655872, likelihood: 131.805953, elbo: 116.763926\n",
      "Epoch[162/1000], kl: 15.568109, likelihood: 134.817594, elbo: 118.732453\n",
      "Epoch[163/1000], kl: 15.475316, likelihood: 134.101467, elbo: 118.870566\n",
      "Epoch[164/1000], kl: 15.433001, likelihood: 134.235874, elbo: 118.197644\n",
      "Epoch[165/1000], kl: 15.338272, likelihood: 128.420002, elbo: 112.613361\n",
      "Epoch[166/1000], kl: 15.288084, likelihood: 124.357477, elbo: 110.420136\n",
      "Epoch[167/1000], kl: 15.787531, likelihood: 131.783765, elbo: 117.905143\n",
      "Epoch[168/1000], kl: 15.926598, likelihood: 126.695956, elbo: 107.180607\n",
      "Epoch[169/1000], kl: 15.846274, likelihood: 131.871718, elbo: 116.072243\n",
      "Epoch[170/1000], kl: 16.143038, likelihood: 132.532611, elbo: 113.542716\n",
      "Epoch[171/1000], kl: 16.225071, likelihood: 131.787045, elbo: 116.275814\n",
      "Epoch[172/1000], kl: 16.317463, likelihood: 132.820457, elbo: 117.476426\n",
      "Epoch[173/1000], kl: 16.423621, likelihood: 132.020103, elbo: 116.318635\n",
      "Epoch[174/1000], kl: 16.272804, likelihood: 127.368466, elbo: 107.125796\n",
      "Epoch[175/1000], kl: 16.330976, likelihood: 130.931817, elbo: 114.283139\n",
      "Epoch[176/1000], kl: 16.485458, likelihood: 134.312394, elbo: 116.861004\n",
      "Epoch[177/1000], kl: 16.709309, likelihood: 120.646667, elbo: 107.071724\n",
      "Epoch[178/1000], kl: 17.575594, likelihood: 128.130292, elbo: 114.554528\n",
      "Epoch[179/1000], kl: 17.421828, likelihood: 133.046884, elbo: 116.190675\n",
      "Epoch[180/1000], kl: 17.293704, likelihood: 130.786900, elbo: 111.392579\n",
      "Epoch[181/1000], kl: 17.747494, likelihood: 132.000029, elbo: 113.911268\n",
      "Epoch[182/1000], kl: 18.111070, likelihood: 135.296776, elbo: 116.674329\n",
      "Epoch[183/1000], kl: 18.078749, likelihood: 130.921944, elbo: 110.728152\n",
      "Epoch[184/1000], kl: 18.344345, likelihood: 134.442209, elbo: 113.999867\n",
      "Epoch[185/1000], kl: 18.536698, likelihood: 133.628803, elbo: 112.997558\n",
      "Epoch[186/1000], kl: 18.258359, likelihood: 129.843328, elbo: 104.400601\n",
      "Epoch[187/1000], kl: 18.562926, likelihood: 128.577220, elbo: 113.773335\n",
      "Epoch[188/1000], kl: 18.418553, likelihood: 132.246466, elbo: 114.312426\n",
      "Epoch[189/1000], kl: 18.454839, likelihood: 134.367241, elbo: 116.248275\n",
      "Epoch[190/1000], kl: 18.183062, likelihood: 131.273805, elbo: 112.354406\n",
      "Epoch[191/1000], kl: 17.935338, likelihood: 134.681680, elbo: 116.145138\n",
      "Epoch[192/1000], kl: 17.825392, likelihood: 132.642379, elbo: 114.212047\n",
      "Epoch[193/1000], kl: 17.733855, likelihood: 131.715607, elbo: 112.132298\n",
      "Epoch[194/1000], kl: 17.836892, likelihood: 127.707586, elbo: 106.999469\n",
      "Epoch[195/1000], kl: 17.508844, likelihood: 125.690130, elbo: 107.166434\n",
      "Epoch[196/1000], kl: 19.122082, likelihood: 127.397623, elbo: 108.041738\n",
      "Epoch[197/1000], kl: 19.142740, likelihood: 129.114607, elbo: 107.216681\n",
      "Epoch[198/1000], kl: 19.070140, likelihood: 135.986408, elbo: 116.248379\n",
      "Epoch[199/1000], kl: 18.921412, likelihood: 127.497836, elbo: 110.910395\n",
      "Epoch[200/1000], kl: 18.979716, likelihood: 132.436088, elbo: 114.001822\n",
      "Epoch[201/1000], kl: 18.851726, likelihood: 129.558862, elbo: 110.992509\n",
      "Epoch[202/1000], kl: 18.692739, likelihood: 130.974032, elbo: 111.027149\n",
      "Epoch[203/1000], kl: 18.708356, likelihood: 133.585263, elbo: 114.426323\n",
      "Epoch[204/1000], kl: 18.593582, likelihood: 133.837543, elbo: 114.798153\n",
      "Epoch[205/1000], kl: 18.383048, likelihood: 128.547430, elbo: 111.578526\n",
      "Epoch[206/1000], kl: 18.128149, likelihood: 134.377317, elbo: 116.120899\n",
      "Epoch[207/1000], kl: 18.173931, likelihood: 135.033071, elbo: 117.175522\n",
      "Epoch[208/1000], kl: 18.005590, likelihood: 133.109605, elbo: 116.864121\n",
      "Epoch[209/1000], kl: 18.314501, likelihood: 134.847282, elbo: 116.758857\n",
      "Epoch[210/1000], kl: 18.192644, likelihood: 133.393179, elbo: 114.175348\n",
      "Epoch[211/1000], kl: 18.082670, likelihood: 132.882327, elbo: 112.300473\n",
      "Epoch[212/1000], kl: 18.199841, likelihood: 134.024079, elbo: 115.265973\n",
      "Epoch[213/1000], kl: 17.990031, likelihood: 132.580856, elbo: 114.289260\n",
      "Epoch[214/1000], kl: 17.763858, likelihood: 133.175980, elbo: 117.301338\n",
      "Epoch[215/1000], kl: 18.013618, likelihood: 134.254591, elbo: 115.420289\n",
      "Epoch[216/1000], kl: 18.276051, likelihood: 135.190840, elbo: 115.031890\n",
      "Epoch[217/1000], kl: 18.022069, likelihood: 133.303509, elbo: 115.108680\n",
      "Epoch[218/1000], kl: 18.222460, likelihood: 132.902263, elbo: 113.520158\n",
      "Epoch[219/1000], kl: 18.310219, likelihood: 130.951795, elbo: 107.464711\n",
      "Epoch[220/1000], kl: 18.585233, likelihood: 134.153518, elbo: 114.497183\n",
      "Epoch[221/1000], kl: 18.344652, likelihood: 133.721794, elbo: 113.766068\n",
      "Epoch[222/1000], kl: 18.325277, likelihood: 129.040143, elbo: 114.445250\n",
      "Epoch[223/1000], kl: 18.372744, likelihood: 131.395643, elbo: 114.906857\n",
      "Epoch[224/1000], kl: 18.462805, likelihood: 135.140656, elbo: 116.787867\n",
      "Epoch[225/1000], kl: 18.020385, likelihood: 129.110890, elbo: 114.597242\n",
      "Epoch[226/1000], kl: 18.854614, likelihood: 132.761500, elbo: 115.413328\n",
      "Epoch[227/1000], kl: 18.980093, likelihood: 132.359006, elbo: 114.855281\n",
      "Epoch[228/1000], kl: 18.945633, likelihood: 133.215729, elbo: 111.888086\n",
      "Epoch[229/1000], kl: 18.969576, likelihood: 131.882479, elbo: 113.277919\n"
     ]
    },
    {
     "name": "stdout",
     "output_type": "stream",
     "text": [
      "Epoch[230/1000], kl: 18.829077, likelihood: 134.882600, elbo: 116.364881\n",
      "Epoch[231/1000], kl: 18.732156, likelihood: 133.584974, elbo: 110.396399\n",
      "Epoch[232/1000], kl: 18.589659, likelihood: 132.316766, elbo: 110.022535\n",
      "Epoch[233/1000], kl: 18.791639, likelihood: 133.756180, elbo: 113.908337\n",
      "Epoch[234/1000], kl: 18.633451, likelihood: 133.310257, elbo: 114.618496\n",
      "Epoch[235/1000], kl: 18.464760, likelihood: 132.878803, elbo: 115.443879\n",
      "Epoch[236/1000], kl: 18.537396, likelihood: 133.073587, elbo: 115.601130\n",
      "Epoch[237/1000], kl: 18.536206, likelihood: 131.950538, elbo: 112.479285\n",
      "Epoch[238/1000], kl: 18.442918, likelihood: 134.272496, elbo: 115.333797\n",
      "Epoch[239/1000], kl: 17.944447, likelihood: 135.663275, elbo: 114.751009\n",
      "Epoch[240/1000], kl: 17.713533, likelihood: 135.797531, elbo: 117.768698\n",
      "Epoch[241/1000], kl: 17.446824, likelihood: 133.671068, elbo: 117.192027\n",
      "Epoch[242/1000], kl: 17.358844, likelihood: 130.104300, elbo: 113.117786\n",
      "Epoch[243/1000], kl: 17.351612, likelihood: 133.007360, elbo: 115.772415\n",
      "Epoch[244/1000], kl: 16.714071, likelihood: 132.515246, elbo: 115.123900\n",
      "Epoch[245/1000], kl: 16.661359, likelihood: 134.387726, elbo: 114.529097\n",
      "Epoch[246/1000], kl: 16.595807, likelihood: 131.548541, elbo: 113.522961\n",
      "Epoch[247/1000], kl: 16.272732, likelihood: 133.679680, elbo: 118.999348\n",
      "Epoch[248/1000], kl: 15.875362, likelihood: 136.661456, elbo: 119.361631\n",
      "Epoch[249/1000], kl: 15.713100, likelihood: 129.012502, elbo: 117.888589\n",
      "Epoch[250/1000], kl: 16.608017, likelihood: 135.956058, elbo: 118.925621\n",
      "Epoch[251/1000], kl: 16.465679, likelihood: 131.207015, elbo: 113.165102\n",
      "Epoch[252/1000], kl: 16.353673, likelihood: 130.108990, elbo: 108.592522\n",
      "Epoch[253/1000], kl: 16.727328, likelihood: 129.275950, elbo: 112.708942\n",
      "Epoch[254/1000], kl: 16.917501, likelihood: 120.696987, elbo: 110.124770\n",
      "Epoch[255/1000], kl: 16.579951, likelihood: 130.073809, elbo: 109.407060\n",
      "Epoch[256/1000], kl: 16.980341, likelihood: 134.293219, elbo: 118.651750\n",
      "Epoch[257/1000], kl: 17.011110, likelihood: 130.781372, elbo: 112.521031\n",
      "Epoch[258/1000], kl: 17.060742, likelihood: 129.571142, elbo: 112.655898\n",
      "Epoch[259/1000], kl: 17.013904, likelihood: 133.395532, elbo: 116.585219\n",
      "Epoch[260/1000], kl: 16.805265, likelihood: 134.855029, elbo: 114.897998\n",
      "Epoch[261/1000], kl: 17.064950, likelihood: 133.131664, elbo: 117.189070\n",
      "Epoch[262/1000], kl: 16.826616, likelihood: 128.551473, elbo: 112.463990\n",
      "Epoch[263/1000], kl: 17.285743, likelihood: 132.656174, elbo: 114.399418\n",
      "Epoch[264/1000], kl: 17.051314, likelihood: 131.861572, elbo: 115.875306\n",
      "Epoch[265/1000], kl: 17.151692, likelihood: 129.380304, elbo: 113.668774\n",
      "Epoch[266/1000], kl: 16.841543, likelihood: 133.070631, elbo: 113.683500\n",
      "Epoch[267/1000], kl: 16.830756, likelihood: 132.832506, elbo: 118.503257\n",
      "Epoch[268/1000], kl: 16.555898, likelihood: 134.597518, elbo: 115.829687\n",
      "Epoch[269/1000], kl: 16.205352, likelihood: 131.542707, elbo: 116.663562\n",
      "Epoch[270/1000], kl: 16.565512, likelihood: 135.009577, elbo: 117.547409\n",
      "Epoch[271/1000], kl: 16.217923, likelihood: 128.408473, elbo: 111.406467\n",
      "Epoch[272/1000], kl: 16.155894, likelihood: 128.414883, elbo: 112.822033\n",
      "Epoch[273/1000], kl: 16.711796, likelihood: 131.947386, elbo: 116.589562\n",
      "Epoch[274/1000], kl: 16.529571, likelihood: 135.513123, elbo: 119.273073\n",
      "Epoch[275/1000], kl: 16.152803, likelihood: 128.729451, elbo: 111.731223\n",
      "Epoch[276/1000], kl: 15.984141, likelihood: 132.309718, elbo: 116.509280\n",
      "Epoch[277/1000], kl: 16.295818, likelihood: 131.933980, elbo: 116.530201\n",
      "Epoch[278/1000], kl: 16.184307, likelihood: 131.057865, elbo: 116.019834\n",
      "Epoch[279/1000], kl: 15.944443, likelihood: 124.454016, elbo: 101.340513\n",
      "Epoch[280/1000], kl: 16.912438, likelihood: 130.434475, elbo: 109.439049\n",
      "Epoch[281/1000], kl: 16.767435, likelihood: 133.287201, elbo: 117.135835\n",
      "Epoch[282/1000], kl: 16.581529, likelihood: 135.435489, elbo: 118.506551\n",
      "Epoch[283/1000], kl: 16.354161, likelihood: 134.964336, elbo: 117.618019\n",
      "Epoch[284/1000], kl: 16.070470, likelihood: 132.447110, elbo: 117.032162\n",
      "Epoch[285/1000], kl: 16.322685, likelihood: 132.432515, elbo: 117.367565\n",
      "Epoch[286/1000], kl: 16.014018, likelihood: 133.389026, elbo: 117.525815\n",
      "Epoch[287/1000], kl: 15.715073, likelihood: 131.822134, elbo: 118.554090\n",
      "Epoch[288/1000], kl: 15.551352, likelihood: 130.595421, elbo: 117.273753\n",
      "Epoch[289/1000], kl: 15.916040, likelihood: 127.966166, elbo: 112.328931\n",
      "Epoch[290/1000], kl: 16.539928, likelihood: 125.039036, elbo: 113.338901\n",
      "Epoch[291/1000], kl: 16.318427, likelihood: 129.434719, elbo: 114.911857\n",
      "Epoch[292/1000], kl: 16.095094, likelihood: 133.774818, elbo: 115.417921\n",
      "Epoch[293/1000], kl: 16.057157, likelihood: 131.409737, elbo: 113.331750\n",
      "Epoch[294/1000], kl: 16.327117, likelihood: 128.066180, elbo: 112.383937\n",
      "Epoch[295/1000], kl: 17.143474, likelihood: 133.823900, elbo: 115.757242\n",
      "Epoch[296/1000], kl: 17.394210, likelihood: 134.718216, elbo: 117.266490\n",
      "Epoch[297/1000], kl: 17.266852, likelihood: 133.067361, elbo: 116.393491\n",
      "Epoch[298/1000], kl: 17.037782, likelihood: 134.989926, elbo: 117.242941\n",
      "Epoch[299/1000], kl: 16.805037, likelihood: 130.164805, elbo: 116.858006\n",
      "Epoch[300/1000], kl: 17.174931, likelihood: 132.818390, elbo: 115.646806\n",
      "Epoch[301/1000], kl: 17.338138, likelihood: 132.030382, elbo: 115.570575\n",
      "Epoch[302/1000], kl: 17.411134, likelihood: 135.035807, elbo: 116.977285\n",
      "Epoch[303/1000], kl: 17.036182, likelihood: 132.206751, elbo: 109.258583\n",
      "Epoch[304/1000], kl: 16.882981, likelihood: 134.654491, elbo: 118.045975\n",
      "Epoch[305/1000], kl: 16.875196, likelihood: 130.882634, elbo: 108.235356\n",
      "Epoch[306/1000], kl: 17.046527, likelihood: 122.370127, elbo: 112.347081\n",
      "Epoch[307/1000], kl: 17.639842, likelihood: 134.007220, elbo: 116.680759\n",
      "Epoch[308/1000], kl: 17.694144, likelihood: 132.433429, elbo: 114.474854\n",
      "Epoch[309/1000], kl: 17.411321, likelihood: 136.113830, elbo: 118.926977\n",
      "Epoch[310/1000], kl: 17.105654, likelihood: 130.090535, elbo: 114.677491\n",
      "Epoch[311/1000], kl: 16.896458, likelihood: 134.681804, elbo: 117.917423\n",
      "Epoch[312/1000], kl: 16.812029, likelihood: 131.195094, elbo: 112.712129\n",
      "Epoch[313/1000], kl: 16.711322, likelihood: 134.262682, elbo: 117.013193\n",
      "Epoch[314/1000], kl: 16.449609, likelihood: 129.756698, elbo: 116.736169\n",
      "Epoch[315/1000], kl: 16.148169, likelihood: 128.482999, elbo: 111.285981\n",
      "Epoch[316/1000], kl: 16.179324, likelihood: 134.217858, elbo: 117.725283\n",
      "Epoch[317/1000], kl: 15.969504, likelihood: 134.407116, elbo: 118.190440\n",
      "Epoch[318/1000], kl: 15.582229, likelihood: 131.021224, elbo: 114.808812\n",
      "Epoch[319/1000], kl: 15.619870, likelihood: 129.336550, elbo: 112.627437\n",
      "Epoch[320/1000], kl: 15.883804, likelihood: 134.772988, elbo: 118.846404\n",
      "Epoch[321/1000], kl: 15.582602, likelihood: 131.882294, elbo: 116.815754\n",
      "Epoch[322/1000], kl: 15.179749, likelihood: 124.590698, elbo: 106.480010\n",
      "Epoch[323/1000], kl: 15.215632, likelihood: 132.654852, elbo: 116.626134\n",
      "Epoch[324/1000], kl: 15.373107, likelihood: 127.602611, elbo: 115.059824\n",
      "Epoch[325/1000], kl: 15.972863, likelihood: 131.264897, elbo: 117.261717\n",
      "Epoch[326/1000], kl: 16.340735, likelihood: 132.615389, elbo: 116.602286\n",
      "Epoch[327/1000], kl: 16.125370, likelihood: 131.666640, elbo: 119.521036\n",
      "Epoch[328/1000], kl: 16.239624, likelihood: 135.176985, elbo: 119.113759\n",
      "Epoch[329/1000], kl: 16.037368, likelihood: 134.757402, elbo: 117.584146\n",
      "Epoch[330/1000], kl: 15.815050, likelihood: 130.071092, elbo: 113.955058\n",
      "Epoch[331/1000], kl: 15.550680, likelihood: 130.309875, elbo: 115.399755\n",
      "Epoch[332/1000], kl: 16.057364, likelihood: 132.842983, elbo: 113.231412\n",
      "Epoch[333/1000], kl: 15.817031, likelihood: 131.131951, elbo: 114.949052\n",
      "Epoch[334/1000], kl: 16.006117, likelihood: 134.700226, elbo: 119.648507\n",
      "Epoch[335/1000], kl: 15.818829, likelihood: 124.572185, elbo: 113.453071\n",
      "Epoch[336/1000], kl: 15.831961, likelihood: 133.329983, elbo: 114.946373\n",
      "Epoch[337/1000], kl: 16.228540, likelihood: 134.715333, elbo: 118.415561\n",
      "Epoch[338/1000], kl: 16.212432, likelihood: 126.681958, elbo: 114.159450\n",
      "Epoch[339/1000], kl: 16.405867, likelihood: 131.496865, elbo: 114.600022\n",
      "Epoch[340/1000], kl: 16.194731, likelihood: 125.517655, elbo: 113.404496\n",
      "Epoch[341/1000], kl: 16.468719, likelihood: 135.109629, elbo: 119.822532\n",
      "Epoch[342/1000], kl: 16.434338, likelihood: 125.941391, elbo: 112.610201\n",
      "Epoch[343/1000], kl: 16.814986, likelihood: 130.867308, elbo: 112.704572\n"
     ]
    },
    {
     "name": "stdout",
     "output_type": "stream",
     "text": [
      "Epoch[344/1000], kl: 16.544615, likelihood: 136.072529, elbo: 116.623950\n",
      "Epoch[345/1000], kl: 16.141535, likelihood: 131.211260, elbo: 116.276344\n",
      "Epoch[346/1000], kl: 15.983902, likelihood: 132.123245, elbo: 113.962158\n",
      "Epoch[347/1000], kl: 16.437423, likelihood: 131.592995, elbo: 114.249227\n",
      "Epoch[348/1000], kl: 16.493198, likelihood: 134.037924, elbo: 117.791316\n",
      "Epoch[349/1000], kl: 16.416993, likelihood: 131.252699, elbo: 118.188407\n",
      "Epoch[350/1000], kl: 16.528534, likelihood: 132.722192, elbo: 115.521526\n",
      "Epoch[351/1000], kl: 16.303448, likelihood: 135.661100, elbo: 119.439747\n",
      "Epoch[352/1000], kl: 16.452106, likelihood: 134.023724, elbo: 116.656281\n",
      "Epoch[353/1000], kl: 16.107496, likelihood: 134.182807, elbo: 118.508880\n",
      "Epoch[354/1000], kl: 15.623321, likelihood: 127.311937, elbo: 110.251088\n",
      "Epoch[355/1000], kl: 15.429881, likelihood: 134.654470, elbo: 119.822032\n",
      "Epoch[356/1000], kl: 15.451298, likelihood: 135.350951, elbo: 119.972788\n",
      "Epoch[357/1000], kl: 15.056227, likelihood: 130.384985, elbo: 118.389406\n",
      "Epoch[358/1000], kl: 15.376760, likelihood: 130.098650, elbo: 113.473121\n",
      "Epoch[359/1000], kl: 14.894250, likelihood: 133.197112, elbo: 119.367252\n",
      "Epoch[360/1000], kl: 14.583988, likelihood: 133.937869, elbo: 116.366570\n",
      "Epoch[361/1000], kl: 14.710570, likelihood: 129.264417, elbo: 110.147280\n",
      "Epoch[362/1000], kl: 14.532079, likelihood: 134.787410, elbo: 121.098439\n",
      "Epoch[363/1000], kl: 14.289629, likelihood: 130.977945, elbo: 115.806686\n",
      "Epoch[364/1000], kl: 15.020504, likelihood: 133.992278, elbo: 117.330747\n",
      "Epoch[365/1000], kl: 14.871137, likelihood: 127.879753, elbo: 121.517297\n",
      "Epoch[366/1000], kl: 14.566757, likelihood: 131.522468, elbo: 110.543514\n",
      "Epoch[367/1000], kl: 14.581364, likelihood: 131.857492, elbo: 117.458190\n",
      "Epoch[368/1000], kl: 14.335173, likelihood: 133.818406, elbo: 119.391089\n",
      "Epoch[369/1000], kl: 14.082774, likelihood: 125.441592, elbo: 115.348960\n",
      "Epoch[370/1000], kl: 14.172514, likelihood: 131.642566, elbo: 118.413865\n",
      "Epoch[371/1000], kl: 14.277307, likelihood: 134.071521, elbo: 121.086882\n",
      "Epoch[372/1000], kl: 14.497904, likelihood: 118.897504, elbo: 113.389745\n",
      "Epoch[373/1000], kl: 14.792616, likelihood: 133.413323, elbo: 118.871767\n",
      "Epoch[374/1000], kl: 14.807157, likelihood: 129.449252, elbo: 112.647183\n",
      "Epoch[375/1000], kl: 14.820692, likelihood: 136.452181, elbo: 119.104175\n",
      "Epoch[376/1000], kl: 14.645284, likelihood: 133.963575, elbo: 119.998046\n",
      "Epoch[377/1000], kl: 14.826881, likelihood: 133.016109, elbo: 117.900222\n",
      "Epoch[378/1000], kl: 14.685605, likelihood: 132.732889, elbo: 117.287181\n",
      "Epoch[379/1000], kl: 14.704662, likelihood: 134.787684, elbo: 120.664104\n",
      "Epoch[380/1000], kl: 14.361380, likelihood: 131.531705, elbo: 117.279229\n",
      "Epoch[381/1000], kl: 14.174330, likelihood: 133.324631, elbo: 119.410069\n",
      "Epoch[382/1000], kl: 14.341725, likelihood: 114.936321, elbo: 109.556655\n",
      "Epoch[383/1000], kl: 14.518499, likelihood: 128.427788, elbo: 115.121885\n",
      "Epoch[384/1000], kl: 14.751317, likelihood: 134.024132, elbo: 118.702426\n",
      "Epoch[385/1000], kl: 14.413628, likelihood: 123.599145, elbo: 117.290539\n",
      "Epoch[386/1000], kl: 15.079155, likelihood: 131.751060, elbo: 116.351115\n",
      "Epoch[387/1000], kl: 15.729480, likelihood: 132.643742, elbo: 116.435355\n",
      "Epoch[388/1000], kl: 15.580423, likelihood: 134.987739, elbo: 119.392360\n",
      "Epoch[389/1000], kl: 15.270320, likelihood: 131.209293, elbo: 111.549387\n",
      "Epoch[390/1000], kl: 15.205959, likelihood: 135.154781, elbo: 120.610447\n",
      "Epoch[391/1000], kl: 15.016673, likelihood: 134.260644, elbo: 119.482626\n",
      "Epoch[392/1000], kl: 14.833403, likelihood: 131.415751, elbo: 118.984602\n",
      "Epoch[393/1000], kl: 14.664390, likelihood: 130.783082, elbo: 115.072101\n",
      "Epoch[394/1000], kl: 14.555868, likelihood: 131.150260, elbo: 115.828352\n",
      "Epoch[395/1000], kl: 14.788525, likelihood: 135.817388, elbo: 120.666379\n",
      "Epoch[396/1000], kl: 14.678668, likelihood: 121.438814, elbo: 117.025327\n",
      "Epoch[397/1000], kl: 15.239060, likelihood: 131.722698, elbo: 119.853531\n",
      "Epoch[398/1000], kl: 15.257060, likelihood: 134.647941, elbo: 119.262059\n",
      "Epoch[399/1000], kl: 14.952572, likelihood: 132.858100, elbo: 119.838204\n",
      "Epoch[400/1000], kl: 14.594905, likelihood: 131.516246, elbo: 117.959786\n",
      "Epoch[401/1000], kl: 14.564183, likelihood: 124.734378, elbo: 110.593073\n",
      "Epoch[402/1000], kl: 14.941968, likelihood: 134.286036, elbo: 118.410591\n",
      "Epoch[403/1000], kl: 14.861963, likelihood: 132.072949, elbo: 114.630869\n",
      "Epoch[404/1000], kl: 14.506724, likelihood: 131.748507, elbo: 119.610511\n",
      "Epoch[405/1000], kl: 14.278017, likelihood: 134.481918, elbo: 120.490160\n",
      "Epoch[406/1000], kl: 13.911021, likelihood: 133.998322, elbo: 120.831644\n",
      "Epoch[407/1000], kl: 13.727483, likelihood: 125.669090, elbo: 118.418052\n",
      "Epoch[408/1000], kl: 14.024027, likelihood: 128.140267, elbo: 110.856548\n",
      "Epoch[409/1000], kl: 15.029877, likelihood: 127.446450, elbo: 110.569684\n",
      "Epoch[410/1000], kl: 15.390504, likelihood: 129.295885, elbo: 113.347186\n",
      "Epoch[411/1000], kl: 15.250076, likelihood: 131.153464, elbo: 115.209302\n",
      "Epoch[412/1000], kl: 15.147457, likelihood: 125.911853, elbo: 117.874966\n",
      "Epoch[413/1000], kl: 14.960664, likelihood: 132.133817, elbo: 118.817645\n",
      "Epoch[414/1000], kl: 14.785456, likelihood: 131.235756, elbo: 113.407280\n",
      "Epoch[415/1000], kl: 14.699429, likelihood: 133.694893, elbo: 116.884152\n",
      "Epoch[416/1000], kl: 14.461630, likelihood: 131.203812, elbo: 113.689732\n",
      "Epoch[417/1000], kl: 14.821910, likelihood: 133.790532, elbo: 119.363420\n",
      "Epoch[418/1000], kl: 14.766765, likelihood: 133.941450, elbo: 119.097685\n",
      "Epoch[419/1000], kl: 14.868667, likelihood: 128.543103, elbo: 108.413966\n",
      "Epoch[420/1000], kl: 15.266858, likelihood: 129.629484, elbo: 109.544429\n",
      "Epoch[421/1000], kl: 15.459033, likelihood: 125.541720, elbo: 110.243897\n",
      "Epoch[422/1000], kl: 15.534783, likelihood: 128.616395, elbo: 113.586904\n",
      "Epoch[423/1000], kl: 15.716528, likelihood: 133.799238, elbo: 116.804984\n",
      "Epoch[424/1000], kl: 15.439649, likelihood: 130.804120, elbo: 117.980814\n",
      "Epoch[425/1000], kl: 15.155316, likelihood: 133.317783, elbo: 117.945415\n",
      "Epoch[426/1000], kl: 14.898026, likelihood: 130.810851, elbo: 112.222319\n",
      "Epoch[427/1000], kl: 15.158521, likelihood: 132.363037, elbo: 118.196903\n",
      "Epoch[428/1000], kl: 14.953752, likelihood: 127.529448, elbo: 110.982575\n",
      "Epoch[429/1000], kl: 14.578827, likelihood: 129.121619, elbo: 118.450306\n",
      "Epoch[430/1000], kl: 14.499162, likelihood: 132.679545, elbo: 108.822058\n",
      "Epoch[431/1000], kl: 14.646048, likelihood: 130.231355, elbo: 117.144520\n",
      "Epoch[432/1000], kl: 14.702794, likelihood: 126.296080, elbo: 116.025376\n",
      "Epoch[433/1000], kl: 15.363432, likelihood: 128.309625, elbo: 119.334253\n",
      "Epoch[434/1000], kl: 15.624707, likelihood: 134.715070, elbo: 118.219399\n",
      "Epoch[435/1000], kl: 15.375654, likelihood: 124.589752, elbo: 114.009297\n",
      "Epoch[436/1000], kl: 15.859637, likelihood: 135.408749, elbo: 119.077338\n",
      "Epoch[437/1000], kl: 15.637847, likelihood: 131.658933, elbo: 117.934396\n",
      "Epoch[438/1000], kl: 15.714684, likelihood: 133.696399, elbo: 118.561514\n",
      "Epoch[439/1000], kl: 15.415991, likelihood: 135.321894, elbo: 115.667659\n",
      "Epoch[440/1000], kl: 15.296691, likelihood: 128.453931, elbo: 115.819562\n",
      "Epoch[441/1000], kl: 14.924675, likelihood: 127.846336, elbo: 115.401507\n",
      "Epoch[442/1000], kl: 14.941029, likelihood: 133.830882, elbo: 119.326786\n",
      "Epoch[443/1000], kl: 14.778434, likelihood: 133.833628, elbo: 119.710151\n",
      "Epoch[444/1000], kl: 14.710922, likelihood: 129.724731, elbo: 115.227742\n",
      "Epoch[445/1000], kl: 14.719108, likelihood: 134.912368, elbo: 117.165078\n",
      "Epoch[446/1000], kl: 14.454858, likelihood: 133.757956, elbo: 116.939597\n",
      "Epoch[447/1000], kl: 14.254692, likelihood: 128.267329, elbo: 114.238526\n",
      "Epoch[448/1000], kl: 14.010333, likelihood: 131.925254, elbo: 118.253818\n",
      "Epoch[449/1000], kl: 13.782992, likelihood: 131.157066, elbo: 113.558159\n",
      "Epoch[450/1000], kl: 14.217320, likelihood: 134.147326, elbo: 120.224927\n",
      "Epoch[451/1000], kl: 14.160533, likelihood: 133.895845, elbo: 117.198038\n",
      "Epoch[452/1000], kl: 14.430677, likelihood: 130.709491, elbo: 115.009078\n",
      "Epoch[453/1000], kl: 14.097178, likelihood: 133.320290, elbo: 113.350711\n",
      "Epoch[454/1000], kl: 14.442575, likelihood: 128.082845, elbo: 111.862299\n",
      "Epoch[455/1000], kl: 14.776625, likelihood: 132.286819, elbo: 114.036183\n",
      "Epoch[456/1000], kl: 14.656507, likelihood: 131.889376, elbo: 119.577249\n"
     ]
    },
    {
     "name": "stdout",
     "output_type": "stream",
     "text": [
      "Epoch[457/1000], kl: 14.803385, likelihood: 129.931095, elbo: 104.372652\n",
      "Epoch[458/1000], kl: 15.252331, likelihood: 132.391481, elbo: 117.637702\n",
      "Epoch[459/1000], kl: 15.063635, likelihood: 127.864646, elbo: 116.240135\n",
      "Epoch[460/1000], kl: 15.099874, likelihood: 134.337682, elbo: 119.468846\n",
      "Epoch[461/1000], kl: 14.758695, likelihood: 132.017147, elbo: 117.099600\n",
      "Epoch[462/1000], kl: 14.700497, likelihood: 126.328163, elbo: 113.740951\n",
      "Epoch[463/1000], kl: 14.422421, likelihood: 135.518438, elbo: 120.013162\n",
      "Epoch[464/1000], kl: 14.145702, likelihood: 132.423043, elbo: 117.975579\n",
      "Epoch[465/1000], kl: 14.217004, likelihood: 133.611817, elbo: 119.301062\n",
      "Epoch[466/1000], kl: 14.057524, likelihood: 130.248380, elbo: 117.243815\n",
      "Epoch[467/1000], kl: 13.638392, likelihood: 132.261245, elbo: 118.618425\n",
      "Epoch[468/1000], kl: 13.479536, likelihood: 133.970355, elbo: 119.374239\n",
      "Epoch[469/1000], kl: 13.346002, likelihood: 132.724846, elbo: 117.894189\n",
      "Epoch[470/1000], kl: 13.279017, likelihood: 130.851467, elbo: 112.503625\n",
      "Epoch[471/1000], kl: 13.275493, likelihood: 129.420313, elbo: 119.729433\n",
      "Epoch[472/1000], kl: 13.095158, likelihood: 132.201693, elbo: 121.284368\n",
      "Epoch[473/1000], kl: 12.971237, likelihood: 127.862827, elbo: 117.782320\n",
      "Epoch[474/1000], kl: 12.658564, likelihood: 130.280914, elbo: 119.948434\n",
      "Epoch[475/1000], kl: 12.993318, likelihood: 133.098647, elbo: 116.391010\n",
      "Epoch[476/1000], kl: 13.233186, likelihood: 129.203242, elbo: 118.246466\n",
      "Epoch[477/1000], kl: 13.280610, likelihood: 129.592258, elbo: 113.450013\n",
      "Epoch[478/1000], kl: 13.296984, likelihood: 128.013330, elbo: 115.737422\n",
      "Epoch[479/1000], kl: 13.792406, likelihood: 135.571163, elbo: 121.734718\n",
      "Epoch[480/1000], kl: 13.539881, likelihood: 131.465080, elbo: 119.942851\n",
      "Epoch[481/1000], kl: 13.383564, likelihood: 132.929090, elbo: 119.500230\n",
      "Epoch[482/1000], kl: 13.444320, likelihood: 132.676643, elbo: 119.918968\n",
      "Epoch[483/1000], kl: 13.207037, likelihood: 128.264940, elbo: 112.275664\n",
      "Epoch[484/1000], kl: 12.979334, likelihood: 124.613002, elbo: 105.787995\n",
      "Epoch[485/1000], kl: 13.570041, likelihood: 127.717740, elbo: 113.464001\n",
      "Epoch[486/1000], kl: 14.448940, likelihood: 134.362568, elbo: 120.064625\n",
      "Epoch[487/1000], kl: 14.286543, likelihood: 133.961053, elbo: 116.487146\n",
      "Epoch[488/1000], kl: 14.085703, likelihood: 131.522985, elbo: 118.548072\n",
      "Epoch[489/1000], kl: 13.967859, likelihood: 132.974548, elbo: 117.778965\n",
      "Epoch[490/1000], kl: 13.782525, likelihood: 132.833859, elbo: 116.643520\n",
      "Epoch[491/1000], kl: 13.626125, likelihood: 133.105047, elbo: 119.098739\n",
      "Epoch[492/1000], kl: 13.499141, likelihood: 132.857886, elbo: 118.895852\n",
      "Epoch[493/1000], kl: 13.277029, likelihood: 132.012555, elbo: 120.679316\n",
      "Epoch[494/1000], kl: 13.048189, likelihood: 133.376005, elbo: 121.375770\n",
      "Epoch[495/1000], kl: 12.992003, likelihood: 134.943707, elbo: 118.800293\n",
      "Epoch[496/1000], kl: 12.934425, likelihood: 134.567937, elbo: 121.366610\n",
      "Epoch[497/1000], kl: 12.595257, likelihood: 128.407144, elbo: 116.038185\n",
      "Epoch[498/1000], kl: 12.308001, likelihood: 123.118444, elbo: 117.230084\n",
      "Epoch[499/1000], kl: 12.811288, likelihood: 110.392196, elbo: 113.248505\n",
      "Epoch[500/1000], kl: 12.663164, likelihood: 117.941395, elbo: 115.728982\n",
      "Epoch[501/1000], kl: 13.158258, likelihood: 134.244068, elbo: 120.206974\n",
      "Epoch[502/1000], kl: 13.146675, likelihood: 133.421327, elbo: 120.034408\n",
      "Epoch[503/1000], kl: 12.962398, likelihood: 136.220481, elbo: 121.739276\n",
      "Epoch[504/1000], kl: 12.753464, likelihood: 118.261277, elbo: 104.573891\n",
      "Epoch[505/1000], kl: 13.001009, likelihood: 124.027895, elbo: 120.344116\n",
      "Epoch[506/1000], kl: 13.162030, likelihood: 127.726510, elbo: 117.675438\n",
      "Epoch[507/1000], kl: 13.031819, likelihood: 129.491184, elbo: 117.847612\n",
      "Epoch[508/1000], kl: 12.789919, likelihood: 128.241391, elbo: 116.916840\n",
      "Epoch[509/1000], kl: 12.582570, likelihood: 133.036650, elbo: 119.938227\n",
      "Epoch[510/1000], kl: 12.496363, likelihood: 136.173247, elbo: 123.072539\n",
      "Epoch[511/1000], kl: 12.317603, likelihood: 130.406185, elbo: 118.667367\n",
      "Epoch[512/1000], kl: 12.301308, likelihood: 128.216950, elbo: 116.283792\n",
      "Epoch[513/1000], kl: 12.408618, likelihood: 130.724100, elbo: 120.612716\n",
      "Epoch[514/1000], kl: 12.572501, likelihood: 124.157769, elbo: 114.716628\n",
      "Epoch[515/1000], kl: 12.613154, likelihood: 120.744466, elbo: 117.706265\n",
      "Epoch[516/1000], kl: 13.033598, likelihood: 125.612544, elbo: 109.650179\n",
      "Epoch[517/1000], kl: 13.006296, likelihood: 131.275434, elbo: 118.092599\n",
      "Epoch[518/1000], kl: 13.258026, likelihood: 129.997956, elbo: 115.180264\n",
      "Epoch[519/1000], kl: 13.265186, likelihood: 129.236345, elbo: 108.994790\n",
      "Epoch[520/1000], kl: 13.950366, likelihood: 131.983579, elbo: 117.833913\n",
      "Epoch[521/1000], kl: 14.093836, likelihood: 128.623549, elbo: 116.172520\n",
      "Epoch[522/1000], kl: 14.027173, likelihood: 129.610422, elbo: 115.862649\n",
      "Epoch[523/1000], kl: 14.042691, likelihood: 126.503731, elbo: 117.474429\n",
      "Epoch[524/1000], kl: 14.486524, likelihood: 135.528012, elbo: 121.263017\n",
      "Epoch[525/1000], kl: 14.361624, likelihood: 129.302830, elbo: 117.102200\n",
      "Epoch[526/1000], kl: 14.169570, likelihood: 128.337071, elbo: 114.721133\n",
      "Epoch[527/1000], kl: 14.646592, likelihood: 135.398387, elbo: 119.348843\n",
      "Epoch[528/1000], kl: 14.655954, likelihood: 129.649673, elbo: 114.673651\n",
      "Epoch[529/1000], kl: 14.968288, likelihood: 127.626901, elbo: 114.867912\n",
      "Epoch[530/1000], kl: 14.859570, likelihood: 131.602583, elbo: 115.057521\n",
      "Epoch[531/1000], kl: 14.649886, likelihood: 125.407460, elbo: 111.034185\n",
      "Epoch[532/1000], kl: 14.580486, likelihood: 130.809229, elbo: 112.651515\n",
      "Epoch[533/1000], kl: 14.456802, likelihood: 131.573455, elbo: 118.649571\n",
      "Epoch[534/1000], kl: 14.129322, likelihood: 131.292087, elbo: 117.421475\n",
      "Epoch[535/1000], kl: 14.343754, likelihood: 122.926262, elbo: 107.540528\n",
      "Epoch[536/1000], kl: 14.280827, likelihood: 131.964583, elbo: 118.867343\n",
      "Epoch[537/1000], kl: 14.042937, likelihood: 132.132660, elbo: 116.832059\n",
      "Epoch[538/1000], kl: 13.781162, likelihood: 135.798519, elbo: 120.450351\n",
      "Epoch[539/1000], kl: 13.634468, likelihood: 127.017938, elbo: 115.939424\n",
      "Epoch[540/1000], kl: 13.770691, likelihood: 126.093699, elbo: 120.281423\n",
      "Epoch[541/1000], kl: 13.604060, likelihood: 134.188354, elbo: 120.952697\n",
      "Epoch[542/1000], kl: 13.328349, likelihood: 131.103246, elbo: 111.365033\n",
      "Epoch[543/1000], kl: 13.401269, likelihood: 132.989673, elbo: 120.710998\n",
      "Epoch[544/1000], kl: 13.238280, likelihood: 128.621032, elbo: 115.790126\n",
      "Epoch[545/1000], kl: 13.108755, likelihood: 132.462651, elbo: 121.535590\n",
      "Epoch[546/1000], kl: 13.037802, likelihood: 133.011507, elbo: 121.596639\n",
      "Epoch[547/1000], kl: 12.895684, likelihood: 124.807728, elbo: 111.406046\n",
      "Epoch[548/1000], kl: 13.334339, likelihood: 134.674905, elbo: 121.074916\n",
      "Epoch[549/1000], kl: 13.349460, likelihood: 132.469518, elbo: 115.978704\n",
      "Epoch[550/1000], kl: 13.120466, likelihood: 123.037445, elbo: 114.363328\n",
      "Epoch[551/1000], kl: 13.924023, likelihood: 134.610121, elbo: 120.811186\n",
      "Epoch[552/1000], kl: 13.833976, likelihood: 130.325658, elbo: 116.633222\n",
      "Epoch[553/1000], kl: 14.171478, likelihood: 133.808399, elbo: 118.481216\n",
      "Epoch[554/1000], kl: 14.071595, likelihood: 129.471951, elbo: 117.935007\n",
      "Epoch[555/1000], kl: 13.911780, likelihood: 133.939094, elbo: 118.561702\n",
      "Epoch[556/1000], kl: 13.718473, likelihood: 132.313910, elbo: 119.159339\n",
      "Epoch[557/1000], kl: 13.408209, likelihood: 127.384031, elbo: 115.199288\n",
      "Epoch[558/1000], kl: 13.550561, likelihood: 131.959832, elbo: 118.084477\n",
      "Epoch[559/1000], kl: 13.515459, likelihood: 130.410849, elbo: 117.350665\n",
      "Epoch[560/1000], kl: 13.408996, likelihood: 134.932941, elbo: 121.683155\n",
      "Epoch[561/1000], kl: 13.094395, likelihood: 132.448500, elbo: 121.076176\n",
      "Epoch[562/1000], kl: 13.176787, likelihood: 130.627691, elbo: 119.545593\n",
      "Epoch[563/1000], kl: 13.132651, likelihood: 126.832410, elbo: 114.506639\n",
      "Epoch[564/1000], kl: 13.333838, likelihood: 130.108920, elbo: 115.760458\n",
      "Epoch[565/1000], kl: 13.188682, likelihood: 133.410859, elbo: 119.889415\n",
      "Epoch[566/1000], kl: 13.047508, likelihood: 127.189626, elbo: 109.005307\n",
      "Epoch[567/1000], kl: 13.381016, likelihood: 133.020159, elbo: 114.812823\n",
      "Epoch[568/1000], kl: 13.600261, likelihood: 131.911911, elbo: 120.366157\n",
      "Epoch[569/1000], kl: 13.578211, likelihood: 132.281704, elbo: 116.682722\n"
     ]
    },
    {
     "name": "stdout",
     "output_type": "stream",
     "text": [
      "Epoch[570/1000], kl: 13.672709, likelihood: 133.474995, elbo: 120.374264\n",
      "Epoch[571/1000], kl: 13.419726, likelihood: 131.171099, elbo: 117.805373\n",
      "Epoch[572/1000], kl: 13.410545, likelihood: 133.910837, elbo: 121.475899\n",
      "Epoch[573/1000], kl: 13.590700, likelihood: 126.796178, elbo: 109.689502\n",
      "Epoch[574/1000], kl: 13.826292, likelihood: 132.936917, elbo: 116.348629\n",
      "Epoch[575/1000], kl: 13.474252, likelihood: 131.863229, elbo: 117.734446\n",
      "Epoch[576/1000], kl: 13.227249, likelihood: 132.218949, elbo: 118.500817\n",
      "Epoch[577/1000], kl: 12.979466, likelihood: 134.251584, elbo: 120.929965\n",
      "Epoch[578/1000], kl: 12.885945, likelihood: 132.159630, elbo: 118.138004\n",
      "Epoch[579/1000], kl: 12.705079, likelihood: 126.852105, elbo: 116.075531\n",
      "Epoch[580/1000], kl: 12.773840, likelihood: 132.762398, elbo: 120.156528\n",
      "Epoch[581/1000], kl: 13.038033, likelihood: 131.921808, elbo: 115.155254\n",
      "Epoch[582/1000], kl: 13.166150, likelihood: 135.199378, elbo: 121.685531\n",
      "Epoch[583/1000], kl: 12.995350, likelihood: 130.561875, elbo: 117.948748\n",
      "Epoch[584/1000], kl: 12.750316, likelihood: 128.943814, elbo: 117.225578\n",
      "Epoch[585/1000], kl: 12.508083, likelihood: 133.330515, elbo: 121.314449\n",
      "Epoch[586/1000], kl: 12.438342, likelihood: 132.019308, elbo: 117.065421\n",
      "Epoch[587/1000], kl: 12.309548, likelihood: 131.300818, elbo: 122.224713\n",
      "Epoch[588/1000], kl: 12.011544, likelihood: 121.072065, elbo: 105.909844\n",
      "Epoch[589/1000], kl: 12.606442, likelihood: 129.739645, elbo: 116.582021\n",
      "Epoch[590/1000], kl: 12.397949, likelihood: 129.766511, elbo: 120.578286\n",
      "Epoch[591/1000], kl: 12.472062, likelihood: 132.590129, elbo: 114.791205\n",
      "Epoch[592/1000], kl: 12.410841, likelihood: 132.247583, elbo: 119.356548\n",
      "Epoch[593/1000], kl: 12.584134, likelihood: 132.826410, elbo: 105.943021\n",
      "Epoch[594/1000], kl: 13.503678, likelihood: 128.228421, elbo: 114.058145\n",
      "Epoch[595/1000], kl: 13.554034, likelihood: 131.685707, elbo: 114.110814\n",
      "Epoch[596/1000], kl: 13.965449, likelihood: 135.174143, elbo: 120.017020\n",
      "Epoch[597/1000], kl: 13.865026, likelihood: 133.110661, elbo: 116.680658\n",
      "Epoch[598/1000], kl: 13.858436, likelihood: 133.612481, elbo: 120.338272\n",
      "Epoch[599/1000], kl: 13.698693, likelihood: 121.967739, elbo: 111.624162\n",
      "Epoch[600/1000], kl: 13.758676, likelihood: 127.830187, elbo: 115.224764\n",
      "Epoch[601/1000], kl: 13.918026, likelihood: 133.599147, elbo: 119.421414\n",
      "Epoch[602/1000], kl: 13.783114, likelihood: 130.173613, elbo: 117.998841\n",
      "Epoch[603/1000], kl: 13.630259, likelihood: 131.632152, elbo: 117.888492\n",
      "Epoch[604/1000], kl: 13.680887, likelihood: 133.968511, elbo: 120.010266\n",
      "Epoch[605/1000], kl: 13.782921, likelihood: 127.155534, elbo: 117.114804\n",
      "Epoch[606/1000], kl: 13.757170, likelihood: 132.133505, elbo: 118.622006\n",
      "Epoch[607/1000], kl: 13.652175, likelihood: 132.168296, elbo: 121.265669\n",
      "Epoch[608/1000], kl: 13.650946, likelihood: 122.160203, elbo: 116.252003\n",
      "Epoch[609/1000], kl: 14.296231, likelihood: 127.379098, elbo: 115.023811\n",
      "Epoch[610/1000], kl: 14.661768, likelihood: 135.752524, elbo: 120.923695\n",
      "Epoch[611/1000], kl: 14.460676, likelihood: 123.214938, elbo: 106.140092\n",
      "Epoch[612/1000], kl: 14.794941, likelihood: 134.296702, elbo: 120.555432\n",
      "Epoch[613/1000], kl: 14.534460, likelihood: 127.487781, elbo: 115.748504\n",
      "Epoch[614/1000], kl: 14.238403, likelihood: 131.025154, elbo: 116.145279\n",
      "Epoch[615/1000], kl: 14.524215, likelihood: 134.362926, elbo: 120.869237\n",
      "Epoch[616/1000], kl: 14.327720, likelihood: 134.723265, elbo: 121.366506\n",
      "Epoch[617/1000], kl: 13.992148, likelihood: 135.648517, elbo: 122.284529\n",
      "Epoch[618/1000], kl: 13.669496, likelihood: 132.559002, elbo: 119.792729\n",
      "Epoch[619/1000], kl: 13.703644, likelihood: 126.014128, elbo: 109.818772\n",
      "Epoch[620/1000], kl: 14.150176, likelihood: 132.994098, elbo: 119.870758\n",
      "Epoch[621/1000], kl: 14.122893, likelihood: 130.461698, elbo: 106.181401\n",
      "Epoch[622/1000], kl: 14.239382, likelihood: 128.498562, elbo: 116.640625\n",
      "Epoch[623/1000], kl: 14.007863, likelihood: 133.796181, elbo: 119.103912\n",
      "Epoch[624/1000], kl: 13.822206, likelihood: 133.105230, elbo: 117.569035\n",
      "Epoch[625/1000], kl: 13.751362, likelihood: 136.166101, elbo: 121.005874\n",
      "Epoch[626/1000], kl: 13.610278, likelihood: 131.414398, elbo: 116.873016\n",
      "Epoch[627/1000], kl: 13.965396, likelihood: 120.393185, elbo: 111.377849\n",
      "Epoch[628/1000], kl: 14.208001, likelihood: 121.017942, elbo: 107.748401\n",
      "Epoch[629/1000], kl: 14.852259, likelihood: 134.765652, elbo: 119.749560\n",
      "Epoch[630/1000], kl: 15.114496, likelihood: 135.530982, elbo: 118.736302\n",
      "Epoch[631/1000], kl: 14.887905, likelihood: 132.541149, elbo: 113.588203\n",
      "Epoch[632/1000], kl: 14.950536, likelihood: 123.510037, elbo: 113.451615\n",
      "Epoch[633/1000], kl: 15.187322, likelihood: 133.219887, elbo: 116.821272\n",
      "Epoch[634/1000], kl: 15.229597, likelihood: 134.702688, elbo: 119.349713\n",
      "Epoch[635/1000], kl: 14.896414, likelihood: 129.067799, elbo: 113.476370\n",
      "Epoch[636/1000], kl: 14.660912, likelihood: 132.112113, elbo: 111.866534\n",
      "Epoch[637/1000], kl: 14.672180, likelihood: 132.541053, elbo: 114.804656\n",
      "Epoch[638/1000], kl: 14.289992, likelihood: 135.555923, elbo: 121.001979\n",
      "Epoch[639/1000], kl: 13.933371, likelihood: 133.654614, elbo: 120.357758\n",
      "Epoch[640/1000], kl: 13.633714, likelihood: 130.058337, elbo: 119.380807\n",
      "Epoch[641/1000], kl: 13.544933, likelihood: 131.687640, elbo: 117.921455\n",
      "Epoch[642/1000], kl: 13.357540, likelihood: 119.703590, elbo: 108.606025\n",
      "Epoch[643/1000], kl: 13.608237, likelihood: 127.569342, elbo: 114.860555\n",
      "Epoch[644/1000], kl: 13.480700, likelihood: 133.399071, elbo: 117.858250\n",
      "Epoch[645/1000], kl: 13.307517, likelihood: 124.644417, elbo: 117.150034\n",
      "Epoch[646/1000], kl: 12.842739, likelihood: 132.605229, elbo: 119.194423\n",
      "Epoch[647/1000], kl: 12.957364, likelihood: 131.732204, elbo: 120.924543\n",
      "Epoch[648/1000], kl: 12.696971, likelihood: 129.422940, elbo: 115.701886\n",
      "Epoch[649/1000], kl: 12.586189, likelihood: 132.878536, elbo: 117.213921\n",
      "Epoch[650/1000], kl: 12.300746, likelihood: 133.970692, elbo: 121.011919\n",
      "Epoch[651/1000], kl: 12.082002, likelihood: 134.673047, elbo: 119.583479\n",
      "Epoch[652/1000], kl: 11.790215, likelihood: 132.487772, elbo: 118.685201\n",
      "Epoch[653/1000], kl: 12.036768, likelihood: 131.550917, elbo: 120.251610\n",
      "Epoch[654/1000], kl: 12.111161, likelihood: 125.239408, elbo: 115.008552\n",
      "Epoch[655/1000], kl: 12.325000, likelihood: 102.259583, elbo: 110.916067\n",
      "Epoch[656/1000], kl: 13.357241, likelihood: 125.915575, elbo: 114.799163\n",
      "Epoch[657/1000], kl: 13.403916, likelihood: 129.922051, elbo: 115.435391\n",
      "Epoch[658/1000], kl: 13.384020, likelihood: 128.548945, elbo: 118.685288\n",
      "Epoch[659/1000], kl: 13.413914, likelihood: 128.310588, elbo: 118.536473\n",
      "Epoch[660/1000], kl: 13.447735, likelihood: 131.859427, elbo: 120.638545\n",
      "Epoch[661/1000], kl: 13.227377, likelihood: 132.255914, elbo: 120.467660\n",
      "Epoch[662/1000], kl: 13.012523, likelihood: 122.807402, elbo: 112.943510\n",
      "Epoch[663/1000], kl: 13.802180, likelihood: 132.586373, elbo: 117.662921\n",
      "Epoch[664/1000], kl: 13.775412, likelihood: 129.131688, elbo: 115.613181\n",
      "Epoch[665/1000], kl: 13.804801, likelihood: 128.333028, elbo: 115.277923\n",
      "Epoch[666/1000], kl: 13.882596, likelihood: 114.406118, elbo: 97.289416\n",
      "Epoch[667/1000], kl: 13.772025, likelihood: 132.771103, elbo: 121.098291\n",
      "Epoch[668/1000], kl: 13.674230, likelihood: 129.654705, elbo: 113.801976\n",
      "Epoch[669/1000], kl: 13.524733, likelihood: 123.761076, elbo: 117.502871\n",
      "Epoch[670/1000], kl: 13.328245, likelihood: 132.966569, elbo: 111.076932\n",
      "Epoch[671/1000], kl: 13.189780, likelihood: 129.910555, elbo: 118.474294\n",
      "Epoch[672/1000], kl: 13.052208, likelihood: 131.343845, elbo: 109.763968\n",
      "Epoch[673/1000], kl: 13.045094, likelihood: 132.727578, elbo: 120.933957\n",
      "Epoch[674/1000], kl: 12.851495, likelihood: 135.680206, elbo: 119.410483\n",
      "Epoch[675/1000], kl: 12.716760, likelihood: 132.298577, elbo: 118.391589\n",
      "Epoch[676/1000], kl: 12.681103, likelihood: 134.280503, elbo: 116.669904\n",
      "Epoch[677/1000], kl: 12.609082, likelihood: 129.717204, elbo: 117.647017\n",
      "Epoch[678/1000], kl: 12.804221, likelihood: 123.358531, elbo: 117.882806\n",
      "Epoch[679/1000], kl: 12.851026, likelihood: 129.202236, elbo: 118.821000\n",
      "Epoch[680/1000], kl: 12.766519, likelihood: 133.590799, elbo: 119.292801\n",
      "Epoch[681/1000], kl: 12.849469, likelihood: 132.148956, elbo: 116.946456\n",
      "Epoch[682/1000], kl: 12.986978, likelihood: 132.222335, elbo: 120.344008\n"
     ]
    },
    {
     "name": "stdout",
     "output_type": "stream",
     "text": [
      "Epoch[683/1000], kl: 12.847703, likelihood: 134.616597, elbo: 120.817508\n",
      "Epoch[684/1000], kl: 12.548468, likelihood: 135.651556, elbo: 122.374914\n",
      "Epoch[685/1000], kl: 12.378813, likelihood: 133.898322, elbo: 121.799109\n",
      "Epoch[686/1000], kl: 12.148836, likelihood: 134.253817, elbo: 121.958630\n",
      "Epoch[687/1000], kl: 11.990640, likelihood: 134.458914, elbo: 124.074200\n",
      "Epoch[688/1000], kl: 11.975775, likelihood: 131.725003, elbo: 122.028793\n",
      "Epoch[689/1000], kl: 12.075431, likelihood: 130.925141, elbo: 119.741107\n",
      "Epoch[690/1000], kl: 12.430382, likelihood: 132.641401, elbo: 116.987570\n",
      "Epoch[691/1000], kl: 12.354621, likelihood: 131.896213, elbo: 119.179411\n",
      "Epoch[692/1000], kl: 12.387296, likelihood: 127.435087, elbo: 108.295812\n",
      "Epoch[693/1000], kl: 12.704077, likelihood: 131.543985, elbo: 120.072793\n",
      "Epoch[694/1000], kl: 12.585473, likelihood: 130.803523, elbo: 119.814601\n",
      "Epoch[695/1000], kl: 12.585173, likelihood: 132.168116, elbo: 117.288618\n",
      "Epoch[696/1000], kl: 12.499570, likelihood: 131.817578, elbo: 119.741076\n",
      "Epoch[697/1000], kl: 12.339616, likelihood: 131.918550, elbo: 120.426101\n",
      "Epoch[698/1000], kl: 12.284000, likelihood: 132.856017, elbo: 120.124355\n",
      "Epoch[699/1000], kl: 12.592030, likelihood: 131.745009, elbo: 117.619597\n",
      "Epoch[700/1000], kl: 13.191545, likelihood: 123.096154, elbo: 106.984954\n",
      "Epoch[701/1000], kl: 13.775038, likelihood: 129.868531, elbo: 115.761071\n",
      "Epoch[702/1000], kl: 13.668904, likelihood: 130.024414, elbo: 116.805918\n",
      "Epoch[703/1000], kl: 13.681520, likelihood: 119.409741, elbo: 107.345582\n",
      "Epoch[704/1000], kl: 13.912756, likelihood: 134.446905, elbo: 120.682506\n",
      "Epoch[705/1000], kl: 13.691496, likelihood: 130.854909, elbo: 117.780267\n",
      "Epoch[706/1000], kl: 13.635402, likelihood: 126.647269, elbo: 111.508105\n",
      "Epoch[707/1000], kl: 13.865122, likelihood: 133.975605, elbo: 118.286472\n",
      "Epoch[708/1000], kl: 13.770819, likelihood: 131.346451, elbo: 115.016165\n",
      "Epoch[709/1000], kl: 13.882196, likelihood: 131.512684, elbo: 119.632006\n",
      "Epoch[710/1000], kl: 14.372087, likelihood: 131.614541, elbo: 113.655736\n",
      "Epoch[711/1000], kl: 14.437204, likelihood: 132.030812, elbo: 106.783355\n",
      "Epoch[712/1000], kl: 14.173593, likelihood: 135.759744, elbo: 120.159242\n",
      "Epoch[713/1000], kl: 13.931945, likelihood: 134.203241, elbo: 118.477824\n",
      "Epoch[714/1000], kl: 13.788312, likelihood: 129.056800, elbo: 115.389984\n",
      "Epoch[715/1000], kl: 13.544817, likelihood: 134.350526, elbo: 121.397662\n",
      "Epoch[716/1000], kl: 13.312401, likelihood: 130.098935, elbo: 108.977863\n",
      "Epoch[717/1000], kl: 13.333264, likelihood: 134.324064, elbo: 118.360016\n",
      "Epoch[718/1000], kl: 13.306694, likelihood: 134.202514, elbo: 118.234921\n",
      "Epoch[719/1000], kl: 13.201745, likelihood: 135.101138, elbo: 121.948124\n",
      "Epoch[720/1000], kl: 13.068072, likelihood: 128.599590, elbo: 118.300636\n",
      "Epoch[721/1000], kl: 13.022938, likelihood: 128.185114, elbo: 114.314223\n",
      "Epoch[722/1000], kl: 13.081058, likelihood: 130.306670, elbo: 116.434817\n",
      "Epoch[723/1000], kl: 13.126587, likelihood: 132.197581, elbo: 119.351634\n",
      "Epoch[724/1000], kl: 13.250339, likelihood: 131.625191, elbo: 118.865762\n",
      "Epoch[725/1000], kl: 13.147141, likelihood: 128.230068, elbo: 117.704628\n",
      "Epoch[726/1000], kl: 13.255893, likelihood: 131.080399, elbo: 116.356112\n",
      "Epoch[727/1000], kl: 13.048978, likelihood: 131.724385, elbo: 117.966053\n",
      "Epoch[728/1000], kl: 13.252729, likelihood: 131.195523, elbo: 116.267729\n",
      "Epoch[729/1000], kl: 13.087410, likelihood: 132.982617, elbo: 119.270094\n",
      "Epoch[730/1000], kl: 12.927962, likelihood: 129.281024, elbo: 114.590275\n",
      "Epoch[731/1000], kl: 12.864172, likelihood: 135.356405, elbo: 119.447968\n",
      "Epoch[732/1000], kl: 12.610098, likelihood: 134.434075, elbo: 123.072089\n",
      "Epoch[733/1000], kl: 12.484750, likelihood: 125.260115, elbo: 118.557900\n",
      "Epoch[734/1000], kl: 12.944062, likelihood: 122.222113, elbo: 119.008791\n",
      "Epoch[735/1000], kl: 13.085075, likelihood: 129.585990, elbo: 117.826610\n",
      "Epoch[736/1000], kl: 13.295987, likelihood: 130.191343, elbo: 118.524772\n",
      "Epoch[737/1000], kl: 13.214333, likelihood: 130.221465, elbo: 121.140956\n",
      "Epoch[738/1000], kl: 12.906845, likelihood: 131.227831, elbo: 112.927784\n",
      "Epoch[739/1000], kl: 12.832286, likelihood: 132.060140, elbo: 118.891486\n",
      "Epoch[740/1000], kl: 12.812091, likelihood: 128.962257, elbo: 102.484910\n",
      "Epoch[741/1000], kl: 13.220113, likelihood: 132.126837, elbo: 118.892307\n",
      "Epoch[742/1000], kl: 12.982991, likelihood: 130.472110, elbo: 120.754367\n",
      "Epoch[743/1000], kl: 12.649379, likelihood: 133.260947, elbo: 117.941792\n",
      "Epoch[744/1000], kl: 12.676416, likelihood: 131.561303, elbo: 120.365476\n",
      "Epoch[745/1000], kl: 12.918019, likelihood: 133.186948, elbo: 119.728983\n",
      "Epoch[746/1000], kl: 12.695169, likelihood: 127.016949, elbo: 118.685560\n",
      "Epoch[747/1000], kl: 12.486306, likelihood: 128.355441, elbo: 116.138710\n",
      "Epoch[748/1000], kl: 12.377913, likelihood: 118.251574, elbo: 83.489506\n",
      "Epoch[749/1000], kl: 13.329525, likelihood: 129.976555, elbo: 120.333187\n",
      "Epoch[750/1000], kl: 13.512049, likelihood: 133.381624, elbo: 121.077965\n",
      "Epoch[751/1000], kl: 13.386596, likelihood: 123.209062, elbo: 115.526360\n",
      "Epoch[752/1000], kl: 13.659438, likelihood: 133.857708, elbo: 118.888436\n",
      "Epoch[753/1000], kl: 13.693289, likelihood: 128.814795, elbo: 115.679184\n",
      "Epoch[754/1000], kl: 14.014013, likelihood: 132.066146, elbo: 116.525291\n",
      "Epoch[755/1000], kl: 13.933970, likelihood: 120.157286, elbo: 103.944290\n",
      "Epoch[756/1000], kl: 14.620379, likelihood: 121.423761, elbo: 115.150591\n",
      "Epoch[757/1000], kl: 14.521014, likelihood: 132.283426, elbo: 118.509471\n",
      "Epoch[758/1000], kl: 14.301961, likelihood: 129.281015, elbo: 115.107349\n",
      "Epoch[759/1000], kl: 14.049321, likelihood: 132.200804, elbo: 118.925557\n",
      "Epoch[760/1000], kl: 13.897260, likelihood: 131.963951, elbo: 117.059177\n",
      "Epoch[761/1000], kl: 13.947321, likelihood: 123.645693, elbo: 104.452981\n",
      "Epoch[762/1000], kl: 13.725250, likelihood: 129.242799, elbo: 114.431583\n",
      "Epoch[763/1000], kl: 13.736112, likelihood: 126.991169, elbo: 118.599883\n",
      "Epoch[764/1000], kl: 13.633511, likelihood: 134.119673, elbo: 117.448087\n",
      "Epoch[765/1000], kl: 13.566196, likelihood: 135.213303, elbo: 119.543774\n",
      "Epoch[766/1000], kl: 13.371661, likelihood: 134.418256, elbo: 121.002885\n",
      "Epoch[767/1000], kl: 13.170642, likelihood: 128.314737, elbo: 119.188911\n",
      "Epoch[768/1000], kl: 13.566911, likelihood: 133.668005, elbo: 120.879724\n",
      "Epoch[769/1000], kl: 13.325179, likelihood: 131.221002, elbo: 115.263688\n",
      "Epoch[770/1000], kl: 13.545292, likelihood: 131.402230, elbo: 115.322595\n",
      "Epoch[771/1000], kl: 13.829991, likelihood: 135.369276, elbo: 121.546295\n",
      "Epoch[772/1000], kl: 13.695161, likelihood: 133.609233, elbo: 119.921950\n",
      "Epoch[773/1000], kl: 13.461192, likelihood: 126.511240, elbo: 113.523352\n",
      "Epoch[774/1000], kl: 13.696848, likelihood: 129.845499, elbo: 115.890080\n",
      "Epoch[775/1000], kl: 13.899210, likelihood: 130.448809, elbo: 118.056748\n",
      "Epoch[776/1000], kl: 13.927477, likelihood: 125.342207, elbo: 115.802159\n",
      "Epoch[777/1000], kl: 14.063909, likelihood: 129.076611, elbo: 117.451972\n",
      "Epoch[778/1000], kl: 13.906435, likelihood: 132.305460, elbo: 118.629458\n",
      "Epoch[779/1000], kl: 13.602425, likelihood: 131.920234, elbo: 115.287700\n",
      "Epoch[780/1000], kl: 13.380454, likelihood: 133.747057, elbo: 118.834438\n",
      "Epoch[781/1000], kl: 13.401113, likelihood: 116.122519, elbo: 106.107038\n",
      "Epoch[782/1000], kl: 13.060384, likelihood: 114.590592, elbo: 91.509238\n",
      "Epoch[783/1000], kl: 13.285525, likelihood: 133.299736, elbo: 120.953541\n",
      "Epoch[784/1000], kl: 13.606607, likelihood: 126.744340, elbo: 111.719635\n",
      "Epoch[785/1000], kl: 14.125079, likelihood: 126.211467, elbo: 116.207733\n",
      "Epoch[786/1000], kl: 14.053020, likelihood: 129.927619, elbo: 114.596191\n",
      "Epoch[787/1000], kl: 14.459772, likelihood: 131.087682, elbo: 114.396951\n",
      "Epoch[788/1000], kl: 14.451717, likelihood: 128.221830, elbo: 116.612454\n",
      "Epoch[789/1000], kl: 14.349872, likelihood: 131.907876, elbo: 115.607008\n",
      "Epoch[790/1000], kl: 14.169650, likelihood: 132.652927, elbo: 116.922387\n",
      "Epoch[791/1000], kl: 13.895477, likelihood: 130.912839, elbo: 114.818021\n",
      "Epoch[792/1000], kl: 13.882638, likelihood: 134.806544, elbo: 119.898621\n",
      "Epoch[793/1000], kl: 13.742459, likelihood: 135.158697, elbo: 118.024273\n",
      "Epoch[794/1000], kl: 13.435806, likelihood: 129.324524, elbo: 113.473855\n",
      "Epoch[795/1000], kl: 13.896422, likelihood: 131.096553, elbo: 108.308819\n"
     ]
    },
    {
     "name": "stdout",
     "output_type": "stream",
     "text": [
      "Epoch[796/1000], kl: 14.117784, likelihood: 123.595140, elbo: 106.919020\n",
      "Epoch[797/1000], kl: 14.195788, likelihood: 129.467952, elbo: 108.721734\n",
      "Epoch[798/1000], kl: 14.203892, likelihood: 133.720388, elbo: 117.878859\n",
      "Epoch[799/1000], kl: 14.048004, likelihood: 133.649300, elbo: 117.960168\n",
      "Epoch[800/1000], kl: 13.723439, likelihood: 131.272450, elbo: 118.793782\n",
      "Epoch[801/1000], kl: 13.973322, likelihood: 130.719694, elbo: 117.193006\n",
      "Epoch[802/1000], kl: 13.822598, likelihood: 125.574099, elbo: 114.513225\n",
      "Epoch[803/1000], kl: 13.543924, likelihood: 132.144621, elbo: 119.526764\n",
      "Epoch[804/1000], kl: 13.553228, likelihood: 129.810275, elbo: 114.376891\n",
      "Epoch[805/1000], kl: 13.291042, likelihood: 131.687952, elbo: 113.083286\n",
      "Epoch[806/1000], kl: 12.964217, likelihood: 130.276777, elbo: 114.776209\n",
      "Epoch[807/1000], kl: 13.370225, likelihood: 134.149473, elbo: 112.006016\n",
      "Epoch[808/1000], kl: 13.738374, likelihood: 122.159872, elbo: 103.641216\n",
      "Epoch[809/1000], kl: 13.740020, likelihood: 130.278676, elbo: 120.188640\n",
      "Epoch[810/1000], kl: 14.077688, likelihood: 131.392544, elbo: 119.266904\n",
      "Epoch[811/1000], kl: 13.970049, likelihood: 127.061510, elbo: 115.466794\n",
      "Epoch[812/1000], kl: 13.969461, likelihood: 132.947617, elbo: 122.165452\n",
      "Epoch[813/1000], kl: 13.807031, likelihood: 130.905918, elbo: 115.973372\n",
      "Epoch[814/1000], kl: 13.629055, likelihood: 127.877750, elbo: 120.061359\n",
      "Epoch[815/1000], kl: 13.876077, likelihood: 126.683355, elbo: 113.430402\n",
      "Epoch[816/1000], kl: 13.657651, likelihood: 133.633724, elbo: 120.947235\n",
      "Epoch[817/1000], kl: 13.443184, likelihood: 129.595031, elbo: 116.391930\n",
      "Epoch[818/1000], kl: 13.583343, likelihood: 130.972645, elbo: 113.489329\n",
      "Epoch[819/1000], kl: 13.359322, likelihood: 133.318207, elbo: 119.820983\n",
      "Epoch[820/1000], kl: 12.992772, likelihood: 132.619884, elbo: 117.909900\n",
      "Epoch[821/1000], kl: 12.898868, likelihood: 121.270859, elbo: 119.377805\n",
      "Epoch[822/1000], kl: 13.327753, likelihood: 131.362435, elbo: 115.175600\n",
      "Epoch[823/1000], kl: 13.119903, likelihood: 133.410974, elbo: 120.773915\n",
      "Epoch[824/1000], kl: 12.863116, likelihood: 130.540907, elbo: 120.216488\n",
      "Epoch[825/1000], kl: 12.918760, likelihood: 126.140901, elbo: 112.640756\n",
      "Epoch[826/1000], kl: 12.974263, likelihood: 132.082917, elbo: 119.337095\n",
      "Epoch[827/1000], kl: 12.818562, likelihood: 129.759220, elbo: 116.527863\n",
      "Epoch[828/1000], kl: 13.016725, likelihood: 127.320353, elbo: 115.777148\n",
      "Epoch[829/1000], kl: 13.046081, likelihood: 134.811466, elbo: 120.610713\n",
      "Epoch[830/1000], kl: 13.145507, likelihood: 133.394493, elbo: 120.292158\n",
      "Epoch[831/1000], kl: 12.793951, likelihood: 129.381532, elbo: 118.033343\n",
      "Epoch[832/1000], kl: 12.415577, likelihood: 128.528654, elbo: 115.649249\n",
      "Epoch[833/1000], kl: 12.734248, likelihood: 132.560780, elbo: 119.957942\n",
      "Epoch[834/1000], kl: 12.629818, likelihood: 118.932614, elbo: 120.745737\n",
      "Epoch[835/1000], kl: 12.406251, likelihood: 125.719476, elbo: 113.466209\n",
      "Epoch[836/1000], kl: 12.728208, likelihood: 130.660421, elbo: 116.400712\n",
      "Epoch[837/1000], kl: 12.943158, likelihood: 129.030925, elbo: 117.211624\n",
      "Epoch[838/1000], kl: 12.884658, likelihood: 132.583130, elbo: 119.871916\n",
      "Epoch[839/1000], kl: 12.740739, likelihood: 132.156867, elbo: 117.212014\n",
      "Epoch[840/1000], kl: 12.977028, likelihood: 132.010250, elbo: 113.504207\n",
      "Epoch[841/1000], kl: 12.939164, likelihood: 128.552143, elbo: 118.496723\n",
      "Epoch[842/1000], kl: 12.919132, likelihood: 131.371852, elbo: 119.902154\n",
      "Epoch[843/1000], kl: 12.763025, likelihood: 133.174537, elbo: 120.988628\n",
      "Epoch[844/1000], kl: 12.547886, likelihood: 129.317133, elbo: 120.550197\n",
      "Epoch[845/1000], kl: 12.189358, likelihood: 132.141427, elbo: 120.358830\n",
      "Epoch[846/1000], kl: 12.025378, likelihood: 128.695486, elbo: 118.397415\n",
      "Epoch[847/1000], kl: 11.951552, likelihood: 129.342532, elbo: 114.097105\n",
      "Epoch[848/1000], kl: 11.811540, likelihood: 131.807717, elbo: 117.848525\n",
      "Epoch[849/1000], kl: 11.776249, likelihood: 128.585303, elbo: 119.489188\n",
      "Epoch[850/1000], kl: 11.360824, likelihood: 131.259607, elbo: 121.240775\n",
      "Epoch[851/1000], kl: 11.387853, likelihood: 132.985117, elbo: 120.801480\n",
      "Epoch[852/1000], kl: 11.152323, likelihood: 127.248975, elbo: 115.448726\n",
      "Epoch[853/1000], kl: 11.131246, likelihood: 134.384739, elbo: 123.438599\n",
      "Epoch[854/1000], kl: 10.861934, likelihood: 130.625671, elbo: 118.447646\n",
      "Epoch[855/1000], kl: 10.855602, likelihood: 128.672996, elbo: 118.962301\n",
      "Epoch[856/1000], kl: 11.034413, likelihood: 130.309511, elbo: 117.219959\n",
      "Epoch[857/1000], kl: 11.389695, likelihood: 133.948606, elbo: 121.586199\n",
      "Epoch[858/1000], kl: 11.195472, likelihood: 130.800672, elbo: 120.657731\n",
      "Epoch[859/1000], kl: 11.173886, likelihood: 132.517416, elbo: 116.528031\n",
      "Epoch[860/1000], kl: 11.613975, likelihood: 134.267903, elbo: 123.143918\n",
      "Epoch[861/1000], kl: 11.491634, likelihood: 125.645213, elbo: 113.885737\n",
      "Epoch[862/1000], kl: 11.508916, likelihood: 121.390092, elbo: 112.976454\n",
      "Epoch[863/1000], kl: 11.968410, likelihood: 132.138094, elbo: 122.094455\n",
      "Epoch[864/1000], kl: 12.172605, likelihood: 132.817151, elbo: 116.304009\n",
      "Epoch[865/1000], kl: 12.171021, likelihood: 134.459128, elbo: 122.251814\n",
      "Epoch[866/1000], kl: 11.945697, likelihood: 129.446402, elbo: 119.704755\n",
      "Epoch[867/1000], kl: 11.922350, likelihood: 131.487245, elbo: 119.399850\n",
      "Epoch[868/1000], kl: 12.079889, likelihood: 133.323585, elbo: 121.072675\n",
      "Epoch[869/1000], kl: 12.309455, likelihood: 134.343451, elbo: 122.222843\n",
      "Epoch[870/1000], kl: 12.135165, likelihood: 132.078174, elbo: 113.169249\n",
      "Epoch[871/1000], kl: 11.869170, likelihood: 133.180126, elbo: 121.883911\n",
      "Epoch[872/1000], kl: 11.747687, likelihood: 131.774780, elbo: 118.897611\n",
      "Epoch[873/1000], kl: 11.599920, likelihood: 128.269531, elbo: 118.600357\n",
      "Epoch[874/1000], kl: 12.057814, likelihood: 124.530107, elbo: 115.437957\n",
      "Epoch[875/1000], kl: 12.314773, likelihood: 128.024700, elbo: 115.369067\n",
      "Epoch[876/1000], kl: 12.248929, likelihood: 128.250274, elbo: 115.633561\n",
      "Epoch[877/1000], kl: 12.176325, likelihood: 134.417051, elbo: 120.789491\n",
      "Epoch[878/1000], kl: 12.097791, likelihood: 131.208561, elbo: 116.364122\n",
      "Epoch[879/1000], kl: 12.198892, likelihood: 133.311677, elbo: 117.412620\n",
      "Epoch[880/1000], kl: 12.121935, likelihood: 130.894648, elbo: 117.960019\n",
      "Epoch[881/1000], kl: 12.061258, likelihood: 125.243890, elbo: 115.557954\n",
      "Epoch[882/1000], kl: 12.307379, likelihood: 131.054212, elbo: 114.518444\n",
      "Epoch[883/1000], kl: 12.366726, likelihood: 128.154291, elbo: 116.823537\n",
      "Epoch[884/1000], kl: 12.891230, likelihood: 131.819722, elbo: 117.240742\n",
      "Epoch[885/1000], kl: 12.789837, likelihood: 123.568068, elbo: 117.268604\n",
      "Epoch[886/1000], kl: 13.072649, likelihood: 132.443052, elbo: 114.830075\n",
      "Epoch[887/1000], kl: 12.993779, likelihood: 117.668775, elbo: 108.169333\n",
      "Epoch[888/1000], kl: 13.124292, likelihood: 133.460653, elbo: 116.388183\n",
      "Epoch[889/1000], kl: 12.952335, likelihood: 120.759979, elbo: 117.107790\n",
      "Epoch[890/1000], kl: 13.085394, likelihood: 134.126525, elbo: 119.601388\n",
      "Epoch[891/1000], kl: 12.807015, likelihood: 134.795497, elbo: 121.831341\n",
      "Epoch[892/1000], kl: 13.074374, likelihood: 134.304818, elbo: 120.782054\n",
      "Epoch[893/1000], kl: 12.896772, likelihood: 133.300235, elbo: 120.007446\n",
      "Epoch[894/1000], kl: 13.242650, likelihood: 133.994005, elbo: 119.951512\n",
      "Epoch[895/1000], kl: 13.503089, likelihood: 128.348761, elbo: 112.835257\n",
      "Epoch[896/1000], kl: 13.701683, likelihood: 133.503036, elbo: 119.989050\n",
      "Epoch[897/1000], kl: 13.424609, likelihood: 130.738332, elbo: 115.342623\n",
      "Epoch[898/1000], kl: 13.170216, likelihood: 120.558004, elbo: 111.773148\n",
      "Epoch[899/1000], kl: 13.195890, likelihood: 129.774844, elbo: 117.563603\n",
      "Epoch[900/1000], kl: 13.191382, likelihood: 129.479927, elbo: 116.552725\n",
      "Epoch[901/1000], kl: 13.140354, likelihood: 132.604027, elbo: 119.341363\n",
      "Epoch[902/1000], kl: 12.996715, likelihood: 132.135214, elbo: 120.157287\n",
      "Epoch[903/1000], kl: 12.788167, likelihood: 131.625938, elbo: 117.118596\n",
      "Epoch[904/1000], kl: 12.809400, likelihood: 131.767028, elbo: 118.478576\n",
      "Epoch[905/1000], kl: 12.654461, likelihood: 133.682126, elbo: 120.970800\n",
      "Epoch[906/1000], kl: 12.893436, likelihood: 113.363096, elbo: 104.642584\n",
      "Epoch[907/1000], kl: 13.160147, likelihood: 131.697985, elbo: 117.257104\n",
      "Epoch[908/1000], kl: 13.120809, likelihood: 125.870336, elbo: 115.185253\n",
      "Epoch[909/1000], kl: 13.496804, likelihood: 125.457177, elbo: 108.036057\n"
     ]
    },
    {
     "name": "stdout",
     "output_type": "stream",
     "text": [
      "Epoch[910/1000], kl: 13.472506, likelihood: 131.087641, elbo: 120.939670\n",
      "Epoch[911/1000], kl: 13.396353, likelihood: 132.205298, elbo: 118.015090\n",
      "Epoch[912/1000], kl: 13.389279, likelihood: 132.074721, elbo: 115.358779\n",
      "Epoch[913/1000], kl: 13.108401, likelihood: 128.793874, elbo: 112.729489\n",
      "Epoch[914/1000], kl: 13.285498, likelihood: 131.276494, elbo: 114.158636\n",
      "Epoch[915/1000], kl: 13.062097, likelihood: 132.973321, elbo: 119.743484\n",
      "Epoch[916/1000], kl: 12.862980, likelihood: 131.450218, elbo: 117.042785\n",
      "Epoch[917/1000], kl: 12.527600, likelihood: 132.984337, elbo: 117.858307\n",
      "Epoch[918/1000], kl: 12.415135, likelihood: 129.977883, elbo: 119.257673\n",
      "Epoch[919/1000], kl: 12.300573, likelihood: 129.723487, elbo: 113.621527\n",
      "Epoch[920/1000], kl: 12.257731, likelihood: 132.560543, elbo: 119.979272\n",
      "Epoch[921/1000], kl: 12.308655, likelihood: 132.460989, elbo: 120.936319\n",
      "Epoch[922/1000], kl: 12.250926, likelihood: 128.699783, elbo: 118.564629\n",
      "Epoch[923/1000], kl: 12.470253, likelihood: 109.099549, elbo: 108.673258\n",
      "Epoch[924/1000], kl: 13.406444, likelihood: 132.182262, elbo: 117.191941\n",
      "Epoch[925/1000], kl: 13.904761, likelihood: 130.902839, elbo: 116.204720\n",
      "Epoch[926/1000], kl: 14.619107, likelihood: 134.007119, elbo: 118.354853\n",
      "Epoch[927/1000], kl: 14.512209, likelihood: 121.859954, elbo: 86.696923\n",
      "Epoch[928/1000], kl: 14.904326, likelihood: 121.600328, elbo: 106.321733\n",
      "Epoch[929/1000], kl: 15.165787, likelihood: 128.649025, elbo: 114.324269\n",
      "Epoch[930/1000], kl: 15.340637, likelihood: 128.552606, elbo: 111.735538\n",
      "Epoch[931/1000], kl: 15.321531, likelihood: 132.141428, elbo: 116.201916\n",
      "Epoch[932/1000], kl: 15.159972, likelihood: 129.895318, elbo: 113.420092\n",
      "Epoch[933/1000], kl: 14.996757, likelihood: 131.420324, elbo: 116.417128\n",
      "Epoch[934/1000], kl: 15.277773, likelihood: 115.061044, elbo: 115.250257\n",
      "Epoch[935/1000], kl: 15.447817, likelihood: 131.408433, elbo: 117.372590\n",
      "Epoch[936/1000], kl: 15.362745, likelihood: 132.389590, elbo: 116.754400\n",
      "Epoch[937/1000], kl: 15.224681, likelihood: 133.737864, elbo: 118.363579\n",
      "Epoch[938/1000], kl: 15.055388, likelihood: 127.680093, elbo: 116.681908\n",
      "Epoch[939/1000], kl: 14.769771, likelihood: 134.907236, elbo: 120.711667\n",
      "Epoch[940/1000], kl: 14.580314, likelihood: 121.096055, elbo: 104.049322\n",
      "Epoch[941/1000], kl: 14.543605, likelihood: 128.000341, elbo: 110.111095\n",
      "Epoch[942/1000], kl: 14.354125, likelihood: 130.782250, elbo: 117.817198\n",
      "Epoch[943/1000], kl: 14.015885, likelihood: 126.612200, elbo: 113.888176\n",
      "Epoch[944/1000], kl: 13.859783, likelihood: 128.474616, elbo: 119.141650\n",
      "Epoch[945/1000], kl: 13.461272, likelihood: 132.765015, elbo: 118.898113\n",
      "Epoch[946/1000], kl: 13.479557, likelihood: 132.296009, elbo: 118.850039\n",
      "Epoch[947/1000], kl: 13.425703, likelihood: 134.481200, elbo: 120.258039\n",
      "Epoch[948/1000], kl: 13.208324, likelihood: 125.675923, elbo: 112.257054\n",
      "Epoch[949/1000], kl: 13.319261, likelihood: 131.554981, elbo: 117.528652\n",
      "Epoch[950/1000], kl: 13.147745, likelihood: 126.232967, elbo: 117.799145\n",
      "Epoch[951/1000], kl: 13.232719, likelihood: 131.180894, elbo: 118.771365\n",
      "Epoch[952/1000], kl: 13.161892, likelihood: 134.363883, elbo: 120.577529\n",
      "Epoch[953/1000], kl: 12.859453, likelihood: 129.229928, elbo: 111.063589\n",
      "Epoch[954/1000], kl: 12.439000, likelihood: 120.891166, elbo: 109.743017\n",
      "Epoch[955/1000], kl: 12.859157, likelihood: 135.315548, elbo: 122.387428\n",
      "Epoch[956/1000], kl: 12.682541, likelihood: 133.411890, elbo: 121.839203\n",
      "Epoch[957/1000], kl: 12.548705, likelihood: 116.544483, elbo: 89.950211\n",
      "Epoch[958/1000], kl: 13.711700, likelihood: 128.641912, elbo: 116.330899\n",
      "Epoch[959/1000], kl: 13.823011, likelihood: 128.633944, elbo: 115.540684\n",
      "Epoch[960/1000], kl: 13.752571, likelihood: 134.220185, elbo: 121.707290\n",
      "Epoch[961/1000], kl: 13.603985, likelihood: 130.156040, elbo: 116.299355\n",
      "Epoch[962/1000], kl: 13.713818, likelihood: 135.591113, elbo: 121.867390\n",
      "Epoch[963/1000], kl: 13.570367, likelihood: 128.857828, elbo: 113.453727\n",
      "Epoch[964/1000], kl: 13.700777, likelihood: 133.097708, elbo: 120.089740\n",
      "Epoch[965/1000], kl: 13.619525, likelihood: 130.673652, elbo: 117.044316\n",
      "Epoch[966/1000], kl: 13.655646, likelihood: 131.259802, elbo: 117.110304\n",
      "Epoch[967/1000], kl: 13.446058, likelihood: 130.097114, elbo: 121.719814\n",
      "Epoch[968/1000], kl: 13.209920, likelihood: 124.871053, elbo: 117.139222\n",
      "Epoch[969/1000], kl: 13.088643, likelihood: 131.189528, elbo: 116.782150\n",
      "Epoch[970/1000], kl: 12.898340, likelihood: 130.286269, elbo: 118.799520\n",
      "Epoch[971/1000], kl: 12.765493, likelihood: 131.797129, elbo: 119.688797\n",
      "Epoch[972/1000], kl: 12.508907, likelihood: 129.175844, elbo: 113.586845\n",
      "Epoch[973/1000], kl: 12.376045, likelihood: 125.637224, elbo: 114.801642\n",
      "Epoch[974/1000], kl: 12.879304, likelihood: 133.244918, elbo: 120.709567\n",
      "Epoch[975/1000], kl: 13.083977, likelihood: 126.985722, elbo: 115.853651\n",
      "Epoch[976/1000], kl: 12.888118, likelihood: 130.881115, elbo: 107.630341\n",
      "Epoch[977/1000], kl: 13.169652, likelihood: 134.572891, elbo: 120.569343\n",
      "Epoch[978/1000], kl: 13.080712, likelihood: 131.957117, elbo: 114.657356\n",
      "Epoch[979/1000], kl: 13.061281, likelihood: 131.776744, elbo: 120.143286\n",
      "Epoch[980/1000], kl: 12.985982, likelihood: 131.192451, elbo: 121.166675\n",
      "Epoch[981/1000], kl: 12.806059, likelihood: 128.950348, elbo: 115.499098\n",
      "Epoch[982/1000], kl: 12.562902, likelihood: 130.811380, elbo: 117.703737\n",
      "Epoch[983/1000], kl: 12.350829, likelihood: 132.348221, elbo: 121.112770\n",
      "Epoch[984/1000], kl: 12.070310, likelihood: 121.381149, elbo: 113.753229\n",
      "Epoch[985/1000], kl: 12.647259, likelihood: 133.596976, elbo: 120.257581\n",
      "Epoch[986/1000], kl: 12.509694, likelihood: 131.915443, elbo: 119.406568\n",
      "Epoch[987/1000], kl: 12.587618, likelihood: 126.754254, elbo: 115.129877\n",
      "Epoch[988/1000], kl: 12.836925, likelihood: 133.203894, elbo: 119.010225\n",
      "Epoch[989/1000], kl: 12.923166, likelihood: 129.232881, elbo: 118.651529\n",
      "Epoch[990/1000], kl: 12.994060, likelihood: 127.481484, elbo: 101.540056\n",
      "Epoch[991/1000], kl: 13.426134, likelihood: 130.967603, elbo: 117.983345\n",
      "Epoch[992/1000], kl: 13.451259, likelihood: 127.166460, elbo: 117.545758\n",
      "Epoch[993/1000], kl: 13.387234, likelihood: 131.614254, elbo: 120.203032\n",
      "Epoch[994/1000], kl: 13.232152, likelihood: 130.663937, elbo: 110.419778\n",
      "Epoch[995/1000], kl: 12.982369, likelihood: 132.976377, elbo: 119.090829\n",
      "Epoch[996/1000], kl: 12.829875, likelihood: 132.279597, elbo: 116.593490\n",
      "Epoch[997/1000], kl: 13.057213, likelihood: 135.065662, elbo: 115.733181\n",
      "Epoch[998/1000], kl: 13.073019, likelihood: 135.039928, elbo: 113.393180\n",
      "Epoch[999/1000], kl: 13.112104, likelihood: 132.252673, elbo: 119.726141\n",
      "Epoch[1000/1000], kl: 12.911537, likelihood: 119.453206, elbo: 111.449824\n"
     ]
    },
    {
     "data": {
      "text/plain": [
       "[<matplotlib.lines.Line2D at 0x151d4a048>]"
      ]
     },
     "execution_count": 25,
     "metadata": {},
     "output_type": "execute_result"
    },
    {
     "data": {
      "image/png": "[encoded data removed]",
      "text/plain": [
       "<Figure size 432x288 with 1 Axes>"
      ]
     },
     "metadata": {
      "needs_background": "light"
     },
     "output_type": "display_data"
    }
   ],
   "source": [
    "elbo = -networks.train(model, optimizer, torch.from_numpy(Z), torch.from_numpy(Y), n_epochs=1000, n_rep_opt=100, print_freq=1)\n",
    "plt.plot(-elbo)"
   ]
  },
  {
   "cell_type": "code",
   "execution_count": 26,
   "metadata": {},
   "outputs": [
    {
     "data": {
      "text/plain": [
       "<matplotlib.legend.Legend at 0x151a97e80>"
      ]
     },
     "execution_count": 26,
     "metadata": {},
     "output_type": "execute_result"
    },
    {
     "data": {
      "image/png": "[encoded data removed]",
      "text/plain": [
       "<Figure size 432x288 with 1 Axes>"
      ]
     },
     "metadata": {
      "needs_background": "light"
     },
     "output_type": "display_data"
    }
   ],
   "source": [
    "# logitnormal\n",
    "eps = .0001\n",
    "x = np.linspace(0+eps,1-eps,100)\n",
    "\n",
    "logit = lambda x: np.log(x/(1-x))\n",
    "\n",
    "def logitnormal_pdf(x, mu=0, sig2=1):\n",
    "    return 1/np.sqrt(2*np.pi*sig2)/(x*(1-x))*np.exp(-(logit(x)-mu)**2/(2*sig2))\n",
    "\n",
    "\n",
    "loc = model.layer_in.s_loc[0].detach().numpy()\n",
    "scale = model.layer_in.transform(model.layer_in.s_scale_untrans[0]).detach().numpy()\n",
    "plt.plot(x, logitnormal_pdf(x,loc,scale**2), color='blue',label='s0')\n",
    "\n",
    "loc = model.layer_in.s_loc[1].detach().numpy()\n",
    "scale = model.layer_in.transform(model.layer_in.s_scale_untrans[1]).detach().numpy()\n",
    "plt.plot(x, logitnormal_pdf(x,loc,scale**2), color='red',label='s1')\n",
    "plt.legend()\n"
   ]
  },
  {
   "cell_type": "code",
   "execution_count": 307,
   "metadata": {},
   "outputs": [
    {
     "data": {
      "text/plain": [
       "<matplotlib.legend.Legend at 0x15630ab00>"
      ]
     },
     "execution_count": 307,
     "metadata": {},
     "output_type": "execute_result"
    },
    {
     "data": {
      "image/png": "[encoded data removed]",
      "text/plain": [
       "<Figure size 432x288 with 1 Axes>"
      ]
     },
     "metadata": {
      "needs_background": "light"
     },
     "output_type": "display_data"
    }
   ],
   "source": [
    "# beta\n",
    "eps = .0001\n",
    "x = np.linspace(0+eps,1-eps,100)\n",
    "import scipy\n",
    "\n",
    "a = model.layer_in.untransform(model.layer_in.s_a_trans[0]).detach().numpy()\n",
    "b = model.layer_in.untransform(model.layer_in.s_b_trans[0]).detach().numpy()\n",
    "plt.plot(x, scipy.stats.beta.pdf(x,a,b), color='blue',label='s0')\n",
    "\n",
    "a = model.layer_in.untransform(model.layer_in.s_a_trans[1]).detach().numpy()\n",
    "b = model.layer_in.untransform(model.layer_in.s_b_trans[1]).detach().numpy()\n",
    "plt.plot(x, scipy.stats.beta.pdf(x,a,b), color='red',label='s1')\n",
    "\n",
    "plt.legend()\n"
   ]
  },
  {
   "cell_type": "code",
   "execution_count": 28,
   "metadata": {},
   "outputs": [],
   "source": [
    "def sample_f_post(x_test, x_train=torch.from_numpy(Z), y_train=torch.from_numpy(Y)):\n",
    "    # inputs and outputs are numpy arrays\n",
    "    #return model(torch.from_numpy(x), weights_type_layer_in='sample_post', weights_type_layer_out='sample_post').detach().numpy()\n",
    "\n",
    "    # sample from variational dist then sample weights (conjugate)\n",
    "    #model.fixed_point_updates(torch.from_numpy(Z),torch.from_numpy(Y)) \n",
    "    \n",
    "    #return model(torch.from_numpy(x), weights_type_layer_in='stored', weights_type_layer_out='stored').detach().numpy()\n",
    "\n",
    "    with torch.no_grad():\n",
    "        return model.sample_posterior_predictive(x_test=torch.from_numpy(x_test), x_train=x_train, y_train=y_train).numpy().reshape(-1)\n"
   ]
  },
  {
   "cell_type": "code",
   "execution_count": 29,
   "metadata": {},
   "outputs": [
    {
     "data": {
      "image/png": "[encoded data removed]",
      "text/plain": [
       "<Figure size 576x288 with 2 Axes>"
      ]
     },
     "metadata": {
      "needs_background": "light"
     },
     "output_type": "display_data"
    }
   ],
   "source": [
    "fig, ax = util.plot_slices(sample_f_post, Z, Y, quantile=.5, n_samp=50, figsize=(4*2,4))\n"
   ]
  },
  {
   "cell_type": "code",
   "execution_count": null,
   "metadata": {},
   "outputs": [],
   "source": []
  },
  {
   "cell_type": "markdown",
   "metadata": {},
   "source": [
    "#### GPy for comparison"
   ]
  },
  {
   "cell_type": "code",
   "execution_count": 29,
   "metadata": {},
   "outputs": [],
   "source": [
    "import GPy\n",
    "kernel = GPy.kern.RBF(input_dim=2, variance=1., lengthscale=1.)"
   ]
  },
  {
   "cell_type": "code",
   "execution_count": 30,
   "metadata": {},
   "outputs": [
    {
     "data": {
      "text/plain": [
       "[<paramz.optimization.optimization.opt_lbfgsb at 0x1436cdda0>,\n",
       " <paramz.optimization.optimization.opt_lbfgsb at 0x1435cd1d0>,\n",
       " <paramz.optimization.optimization.opt_lbfgsb at 0x1434be470>,\n",
       " <paramz.optimization.optimization.opt_lbfgsb at 0x1434beeb8>,\n",
       " <paramz.optimization.optimization.opt_lbfgsb at 0x1434be550>,\n",
       " <paramz.optimization.optimization.opt_lbfgsb at 0x1434bee48>,\n",
       " <paramz.optimization.optimization.opt_lbfgsb at 0x1434becf8>,\n",
       " <paramz.optimization.optimization.opt_lbfgsb at 0x1434befd0>,\n",
       " <paramz.optimization.optimization.opt_lbfgsb at 0x1434bee10>,\n",
       " <paramz.optimization.optimization.opt_lbfgsb at 0x1434be6a0>]"
      ]
     },
     "execution_count": 30,
     "metadata": {},
     "output_type": "execute_result"
    }
   ],
   "source": [
    "m = GPy.models.GPRegression(Z,Y,kernel)\n",
    "\n",
    "m.Gaussian_noise.variance = sig2\n",
    "m.Gaussian_noise.fix()\n",
    "m.optimize_restarts(num_restarts = 10, verbose=False)"
   ]
  },
  {
   "cell_type": "code",
   "execution_count": 41,
   "metadata": {},
   "outputs": [
    {
     "data": {
      "image/png": "[encoded data removed]",
      "text/plain": [
       "<Figure size 432x288 with 1 Axes>"
      ]
     },
     "metadata": {
      "needs_background": "light"
     },
     "output_type": "display_data"
    }
   ],
   "source": [
    "slices = [0]\n",
    "figure = GPy.plotting.plotting_library().figure(3, 1)\n",
    "for i, y in zip(range(3), slices):\n",
    "    canvas = m.plot(figure=figure, fixed_inputs=[(1,y)], row=(i+1), plot_data=True)\n",
    "#GPy.plotting.show(canvas, filename='basic_gp_regression_notebook_slicing')"
   ]
  },
  {
   "cell_type": "code",
   "execution_count": 42,
   "metadata": {},
   "outputs": [
    {
     "data": {
      "image/png": "[encoded data removed]",
      "text/plain": [
       "<Figure size 432x288 with 1 Axes>"
      ]
     },
     "metadata": {
      "needs_background": "light"
     },
     "output_type": "display_data"
    }
   ],
   "source": [
    "slices = [0]\n",
    "figure = GPy.plotting.plotting_library().figure(3, 1)\n",
    "for i, y in zip(range(3), slices):\n",
    "    canvas = m.plot(figure=figure, fixed_inputs=[(0,y)], row=(i+1), plot_data=True)\n",
    "#GPy.plotting.show(canvas, filename='basic_gp_regression_notebook_slicing_vertical')"
   ]
  },
  {
   "cell_type": "code",
   "execution_count": null,
   "metadata": {},
   "outputs": [],
   "source": []
  }
 ],
 "metadata": {
  "kernelspec": {
   "display_name": "Python 3",
   "language": "python",
   "name": "python3"
  },
  "language_info": {
   "codemirror_mode": {
    "name": "ipython",
    "version": 3
   },
   "file_extension": ".py",
   "mimetype": "text/x-python",
   "name": "python",
   "nbconvert_exporter": "python",
   "pygments_lexer": "ipython3",
   "version": "3.7.3"
  }
 },
 "nbformat": 4,
 "nbformat_minor": 2
}
