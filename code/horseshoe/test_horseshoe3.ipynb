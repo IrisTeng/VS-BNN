{
 "cells": [
  {
   "cell_type": "code",
   "execution_count": 1,
   "metadata": {},
   "outputs": [],
   "source": [
    "import torch\n",
    "import torch.nn as nn\n",
    "import torch.nn.functional as F\n",
    "from torch.distributions.normal import Normal\n",
    "import numpy as np\n",
    "import matplotlib.pyplot as plt\n",
    "import importlib\n",
    "import seaborn as sns\n",
    "import sys\n",
    "\n",
    "import layers as layers\n",
    "import util as util\n",
    "import networks as networks\n",
    "\n",
    "torch.set_default_dtype(torch.float64)"
   ]
  },
  {
   "cell_type": "code",
   "execution_count": 2,
   "metadata": {},
   "outputs": [],
   "source": [
    "sys.path.insert(0, '../exp/')\n",
    "import util as util_data"
   ]
  },
  {
   "cell_type": "code",
   "execution_count": 3,
   "metadata": {},
   "outputs": [
    {
     "name": "stderr",
     "output_type": "stream",
     "text": [
      "WARNING:root:Limited tf.compat.v2.summary API due to missing TensorBoard installation.\n",
      "WARNING:root:Limited tf.compat.v2.summary API due to missing TensorBoard installation.\n",
      "WARNING:root:Limited tf.compat.v2.summary API due to missing TensorBoard installation.\n",
      "WARNING:root:Limited tf.summary API due to missing TensorBoard installation.\n"
     ]
    },
    {
     "data": {
      "text/plain": [
       "<module 'networks' from '/Users/beaucoker/Documents/git/VS-BNN/code/horseshoe/networks.py'>"
      ]
     },
     "execution_count": 3,
     "metadata": {},
     "output_type": "execute_result"
    }
   ],
   "source": [
    "importlib.reload(layers)\n",
    "importlib.reload(util)\n",
    "importlib.reload(networks)"
   ]
  },
  {
   "cell_type": "code",
   "execution_count": 4,
   "metadata": {},
   "outputs": [],
   "source": [
    "n_obs = 100\n",
    "dim_in = 2\n",
    "Z, X, Y, sig2 = util_data.load_data('rbf', n_obs=n_obs, dim_in=dim_in, sig2=.01, seed=0)\n"
   ]
  },
  {
   "cell_type": "code",
   "execution_count": 66,
   "metadata": {},
   "outputs": [],
   "source": [
    "n_obs = 100\n",
    "dim_in = 2\n",
    "Z = np.random.uniform(size=(n_obs, dim_in))\n",
    "Y = 5*Z[:,0]+5*Z[:,1]\n",
    "#+np.random.normal(0,np.sqrt(.0001),size=n_obs)"
   ]
  },
  {
   "cell_type": "code",
   "execution_count": 5,
   "metadata": {},
   "outputs": [],
   "source": [
    "# 2d\n",
    "n_obs = 100\n",
    "dim_in = 2\n",
    "sig2=.01\n",
    "#Z = np.zeros((n_obs, dim_in))\n",
    "#Z[:,0] = np.linspace(-5,5,n_obs)\n",
    "#Z[:,1] = np.linspace(-5,5,n_obs)\n",
    "Z = np.random.uniform(-5,5,size=(n_obs, dim_in))\n",
    "\n",
    "f_true = lambda X: X[:,0]+X[:,1]\n",
    "Y = f_true(Z)+np.random.normal(0,np.sqrt(sig2),size=n_obs)\n",
    "Y = Y.reshape(-1,1)"
   ]
  },
  {
   "cell_type": "code",
   "execution_count": 119,
   "metadata": {},
   "outputs": [],
   "source": [
    "# 1d\n",
    "n_obs = 25\n",
    "dim_in = 1\n",
    "sig2=.01\n",
    "Z = np.linspace(-5,5,n_obs).reshape(-1,1)\n",
    "Y = Z[:,0]+np.random.normal(0,np.sqrt(sig2),size=n_obs)\n",
    "Y = Y.reshape(-1,1)"
   ]
  },
  {
   "cell_type": "code",
   "execution_count": 229,
   "metadata": {},
   "outputs": [
    {
     "data": {
      "text/plain": [
       "<matplotlib.collections.PathCollection at 0x13bd61ba8>"
      ]
     },
     "execution_count": 229,
     "metadata": {},
     "output_type": "execute_result"
    },
    {
     "data": {
      "image/png": "[encoded data removed]",
      "text/plain": [
       "<Figure size 432x288 with 1 Axes>"
      ]
     },
     "metadata": {
      "needs_background": "light"
     },
     "output_type": "display_data"
    }
   ],
   "source": [
    "plt.scatter(Z[:,0],Y)"
   ]
  },
  {
   "cell_type": "code",
   "execution_count": 6,
   "metadata": {},
   "outputs": [],
   "source": [
    "torch.manual_seed(2)\n",
    "model = networks.RffHs(dim_in, 1, dim_hidden=50, sig2_inv=1/sig2)"
   ]
  },
  {
   "cell_type": "code",
   "execution_count": 7,
   "metadata": {},
   "outputs": [],
   "source": [
    "torch.manual_seed(2)\n",
    "optimizer = torch.optim.Adam(model.parameters(), lr=.001)\n",
    "model.reinit_parameters(torch.from_numpy(Z),torch.from_numpy(Y),n_reinit=10) "
   ]
  },
  {
   "cell_type": "code",
   "execution_count": 8,
   "metadata": {
    "scrolled": true
   },
   "outputs": [
    {
     "name": "stdout",
     "output_type": "stream",
     "text": [
      "layer_in.lognu_mu tensor([-0.0067])\n",
      "layer_in.lognu_logsig2 tensor([-8.9781])\n",
      "layer_in.logeta_mu tensor([ 0.0168, -0.0134])\n",
      "layer_in.logeta_logsig2 tensor([-8.9990, -8.9849])\n"
     ]
    }
   ],
   "source": [
    "for name, p in model.named_parameters():\n",
    "    print(name, p.detach())"
   ]
  },
  {
   "cell_type": "code",
   "execution_count": 339,
   "metadata": {},
   "outputs": [
    {
     "name": "stdout",
     "output_type": "stream",
     "text": [
      "Epoch[1/1], kl: 14.754923, likelihood: -65.497374, elbo: -92.275649\n"
     ]
    },
    {
     "data": {
      "text/plain": [
       "tensor([115493.4712])"
      ]
     },
     "execution_count": 339,
     "metadata": {},
     "output_type": "execute_result"
    }
   ],
   "source": [
    "# only one fixed_point_update\n",
    "model = networks.RffHs(dim_in, 1, dim_hidden=50, sig2_inv=1/sig2)\n",
    "optimizer = torch.optim.Adam(model.parameters(), lr=.001)\n",
    "networks.train(model, optimizer, torch.from_numpy(Z), torch.from_numpy(Y), n_epochs=1, n_rep_opt=1, print_freq=1)\n"
   ]
  },
  {
   "cell_type": "code",
   "execution_count": 9,
   "metadata": {
    "scrolled": true
   },
   "outputs": [
    {
     "name": "stdout",
     "output_type": "stream",
     "text": [
      "Epoch[1/500], kl: 14.727868, likelihood: -8.132254, elbo: 7.757685\n",
      "Epoch[2/500], kl: 14.732865, likelihood: 7.855213, elbo: -0.567639\n",
      "Epoch[3/500], kl: 14.739153, likelihood: 16.137141, elbo: -34.669662\n",
      "Epoch[4/500], kl: 14.747187, likelihood: -8.851765, elbo: -13.905918\n",
      "Epoch[5/500], kl: 14.757329, likelihood: 14.129060, elbo: -69.593437\n",
      "Epoch[6/500], kl: 14.764566, likelihood: 23.400410, elbo: 20.973840\n",
      "Epoch[7/500], kl: 14.773902, likelihood: 23.263046, elbo: 16.534890\n",
      "Epoch[8/500], kl: 14.783323, likelihood: -31.040848, elbo: 6.921917\n",
      "Epoch[9/500], kl: 14.792776, likelihood: 38.390280, elbo: 13.158964\n",
      "Epoch[10/500], kl: 14.801178, likelihood: 23.873542, elbo: -13.410572\n",
      "Epoch[11/500], kl: 14.812394, likelihood: 31.594941, elbo: 14.855886\n",
      "Epoch[12/500], kl: 14.824500, likelihood: 18.455228, elbo: 8.127239\n",
      "Epoch[13/500], kl: 14.836368, likelihood: -5.953668, elbo: 3.011137\n",
      "Epoch[14/500], kl: 14.846320, likelihood: 4.461057, elbo: 9.321475\n",
      "Epoch[15/500], kl: 14.856544, likelihood: 34.054980, elbo: -5.788841\n",
      "Epoch[16/500], kl: 14.867258, likelihood: 44.163191, elbo: 15.749456\n",
      "Epoch[17/500], kl: 14.875559, likelihood: 42.957252, elbo: -38.405629\n",
      "Epoch[18/500], kl: 14.882937, likelihood: 41.180570, elbo: -112.284670\n",
      "Epoch[19/500], kl: 14.893002, likelihood: 40.530746, elbo: 16.004765\n",
      "Epoch[20/500], kl: 14.907431, likelihood: 33.667657, elbo: -17.861060\n",
      "Epoch[21/500], kl: 14.916587, likelihood: -114.739637, elbo: 4.354788\n",
      "Epoch[22/500], kl: 14.930098, likelihood: 36.961711, elbo: -3.927445\n",
      "Epoch[23/500], kl: 14.941353, likelihood: 43.980897, elbo: 24.798382\n",
      "Epoch[24/500], kl: 14.954768, likelihood: 46.504797, elbo: 27.016213\n",
      "Epoch[25/500], kl: 14.964360, likelihood: 9.418209, elbo: 17.547717\n",
      "Epoch[26/500], kl: 14.982175, likelihood: 2.161542, elbo: -35.662266\n",
      "Epoch[27/500], kl: 14.995684, likelihood: 34.890865, elbo: 29.707417\n",
      "Epoch[28/500], kl: 15.005821, likelihood: 35.173083, elbo: 10.432360\n",
      "Epoch[29/500], kl: 15.014590, likelihood: 42.419515, elbo: 9.086733\n",
      "Epoch[30/500], kl: 15.025777, likelihood: 40.924264, elbo: -15.540124\n",
      "Epoch[31/500], kl: 15.039238, likelihood: -77.885902, elbo: -58.514629\n",
      "Epoch[32/500], kl: 15.049940, likelihood: 43.631136, elbo: 21.732814\n",
      "Epoch[33/500], kl: 15.058595, likelihood: 31.061716, elbo: 17.035701\n",
      "Epoch[34/500], kl: 15.068262, likelihood: 54.072504, elbo: -51.867769\n",
      "Epoch[35/500], kl: 15.080997, likelihood: 36.114686, elbo: 35.036086\n",
      "Epoch[36/500], kl: 15.088760, likelihood: 23.922743, elbo: 18.856658\n",
      "Epoch[37/500], kl: 15.097387, likelihood: -15.463040, elbo: 4.339653\n",
      "Epoch[38/500], kl: 15.113230, likelihood: 33.134523, elbo: 21.184200\n",
      "Epoch[39/500], kl: 15.126933, likelihood: 41.289341, elbo: 42.798506\n",
      "Epoch[40/500], kl: 15.138840, likelihood: 40.809044, elbo: 21.425510\n",
      "Epoch[41/500], kl: 15.149996, likelihood: 29.395704, elbo: 24.329520\n",
      "Epoch[42/500], kl: 15.164321, likelihood: 22.183535, elbo: 36.394141\n",
      "Epoch[43/500], kl: 15.175939, likelihood: -3.270485, elbo: 35.198827\n",
      "Epoch[44/500], kl: 15.188086, likelihood: -3.791683, elbo: 40.738543\n",
      "Epoch[45/500], kl: 15.202359, likelihood: 13.309013, elbo: 5.923446\n",
      "Epoch[46/500], kl: 15.216752, likelihood: 48.544165, elbo: 22.016598\n",
      "Epoch[47/500], kl: 15.227336, likelihood: 24.886053, elbo: 9.556056\n",
      "Epoch[48/500], kl: 15.238847, likelihood: 33.232874, elbo: 43.776094\n",
      "Epoch[49/500], kl: 15.251190, likelihood: 0.040133, elbo: 19.506598\n",
      "Epoch[50/500], kl: 15.262380, likelihood: 8.293724, elbo: 8.543039\n",
      "Epoch[51/500], kl: 15.275967, likelihood: 56.992705, elbo: 26.363093\n",
      "Epoch[52/500], kl: 15.288112, likelihood: 38.778446, elbo: 31.684029\n",
      "Epoch[53/500], kl: 15.298819, likelihood: -0.777074, elbo: 23.166059\n",
      "Epoch[54/500], kl: 15.309580, likelihood: 48.264533, elbo: 40.846094\n",
      "Epoch[55/500], kl: 15.321316, likelihood: 7.698450, elbo: -6.293660\n",
      "Epoch[56/500], kl: 15.329926, likelihood: -5.066644, elbo: -135.725315\n",
      "Epoch[57/500], kl: 15.340227, likelihood: 40.962695, elbo: 21.423227\n",
      "Epoch[58/500], kl: 15.349593, likelihood: -23.153023, elbo: -2.624168\n",
      "Epoch[59/500], kl: 15.360258, likelihood: 59.923528, elbo: 39.061966\n",
      "Epoch[60/500], kl: 15.372478, likelihood: 33.340422, elbo: 36.631592\n",
      "Epoch[61/500], kl: 15.382156, likelihood: 61.230847, elbo: 19.935980\n",
      "Epoch[62/500], kl: 15.394370, likelihood: 32.633953, elbo: 21.419598\n",
      "Epoch[63/500], kl: 15.404784, likelihood: 30.310309, elbo: 22.050834\n",
      "Epoch[64/500], kl: 15.416585, likelihood: 50.231489, elbo: -62.238743\n",
      "Epoch[65/500], kl: 15.428316, likelihood: 48.818475, elbo: 36.032743\n",
      "Epoch[66/500], kl: 15.440618, likelihood: 35.092791, elbo: 28.710547\n",
      "Epoch[67/500], kl: 15.454784, likelihood: 46.225611, elbo: 34.627566\n",
      "Epoch[68/500], kl: 15.471887, likelihood: 30.124985, elbo: 17.097559\n",
      "Epoch[69/500], kl: 15.482880, likelihood: 37.173580, elbo: 40.526050\n",
      "Epoch[70/500], kl: 15.498164, likelihood: 29.622017, elbo: -20.715038\n",
      "Epoch[71/500], kl: 15.507525, likelihood: 13.013069, elbo: 48.150250\n",
      "Epoch[72/500], kl: 15.517212, likelihood: 42.541646, elbo: 33.352629\n",
      "Epoch[73/500], kl: 15.528248, likelihood: 32.943193, elbo: 14.482440\n",
      "Epoch[74/500], kl: 15.537803, likelihood: 59.711201, elbo: 45.237159\n",
      "Epoch[75/500], kl: 15.548518, likelihood: 46.853298, elbo: 38.762248\n",
      "Epoch[76/500], kl: 15.564996, likelihood: 36.670395, elbo: 19.411404\n",
      "Epoch[77/500], kl: 15.575903, likelihood: 66.777415, elbo: 44.226406\n",
      "Epoch[78/500], kl: 15.586457, likelihood: 62.632488, elbo: 14.288061\n",
      "Epoch[79/500], kl: 15.598176, likelihood: 9.342732, elbo: -6.491705\n",
      "Epoch[80/500], kl: 15.613388, likelihood: 27.610232, elbo: 47.495507\n",
      "Epoch[81/500], kl: 15.627416, likelihood: 41.089953, elbo: 7.723676\n",
      "Epoch[82/500], kl: 15.637267, likelihood: 36.836671, elbo: 46.345727\n",
      "Epoch[83/500], kl: 15.645311, likelihood: 66.488677, elbo: 48.577403\n",
      "Epoch[84/500], kl: 15.660190, likelihood: 67.904136, elbo: 44.649297\n",
      "Epoch[85/500], kl: 15.671570, likelihood: 29.974681, elbo: 52.482746\n",
      "Epoch[86/500], kl: 15.686363, likelihood: 36.435219, elbo: 49.212398\n",
      "Epoch[87/500], kl: 15.695764, likelihood: 48.975617, elbo: 44.981698\n",
      "Epoch[88/500], kl: 15.706411, likelihood: 51.477622, elbo: 44.316974\n",
      "Epoch[89/500], kl: 15.716851, likelihood: 58.553455, elbo: -3.865090\n",
      "Epoch[90/500], kl: 15.728642, likelihood: 55.007263, elbo: 37.984759\n",
      "Epoch[91/500], kl: 15.740553, likelihood: 53.746661, elbo: 46.464153\n",
      "Epoch[92/500], kl: 15.751170, likelihood: 49.620814, elbo: 53.753186\n",
      "Epoch[93/500], kl: 15.761625, likelihood: 39.898952, elbo: 18.279244\n",
      "Epoch[94/500], kl: 15.771635, likelihood: 53.827183, elbo: 17.776868\n",
      "Epoch[95/500], kl: 15.778916, likelihood: 47.816114, elbo: 52.411906\n",
      "Epoch[96/500], kl: 15.788117, likelihood: 56.911988, elbo: 48.089717\n",
      "Epoch[97/500], kl: 15.795176, likelihood: 48.668646, elbo: 44.881131\n",
      "Epoch[98/500], kl: 15.809321, likelihood: 58.779099, elbo: 35.014067\n",
      "Epoch[99/500], kl: 15.821923, likelihood: 65.704268, elbo: 43.152016\n",
      "Epoch[100/500], kl: 15.829421, likelihood: 49.699379, elbo: 37.240509\n",
      "Epoch[101/500], kl: 15.839012, likelihood: 44.708943, elbo: 36.707568\n",
      "Epoch[102/500], kl: 15.847378, likelihood: 54.893628, elbo: 47.916154\n",
      "Epoch[103/500], kl: 15.855815, likelihood: 33.994227, elbo: 26.672881\n",
      "Epoch[104/500], kl: 15.867596, likelihood: 37.677716, elbo: 15.632957\n",
      "Epoch[105/500], kl: 15.881829, likelihood: 41.617867, elbo: 37.563508\n",
      "Epoch[106/500], kl: 15.893269, likelihood: 44.614024, elbo: 37.670206\n",
      "Epoch[107/500], kl: 15.904285, likelihood: 67.954566, elbo: 56.183325\n",
      "Epoch[108/500], kl: 15.916456, likelihood: 69.174433, elbo: 24.873761\n",
      "Epoch[109/500], kl: 15.931843, likelihood: 58.662267, elbo: 43.811891\n",
      "Epoch[110/500], kl: 15.944475, likelihood: 9.969755, elbo: 48.751431\n",
      "Epoch[111/500], kl: 15.957173, likelihood: 53.163762, elbo: 34.268809\n",
      "Epoch[112/500], kl: 15.964318, likelihood: 52.886181, elbo: 39.022555\n",
      "Epoch[113/500], kl: 15.975918, likelihood: 63.127604, elbo: 38.339947\n",
      "Epoch[114/500], kl: 15.993162, likelihood: 42.979292, elbo: 37.870271\n",
      "Epoch[115/500], kl: 16.004720, likelihood: 52.681361, elbo: 52.273541\n",
      "Epoch[116/500], kl: 16.015320, likelihood: 64.705516, elbo: 38.015860\n",
      "Epoch[117/500], kl: 16.024646, likelihood: 52.834406, elbo: 9.049440\n",
      "Epoch[118/500], kl: 16.033759, likelihood: 52.210309, elbo: 41.443032\n",
      "Epoch[119/500], kl: 16.044583, likelihood: 53.269567, elbo: 22.343444\n",
      "Epoch[120/500], kl: 16.059343, likelihood: 40.857170, elbo: 35.614485\n"
     ]
    },
    {
     "name": "stdout",
     "output_type": "stream",
     "text": [
      "Epoch[121/500], kl: 16.074105, likelihood: 50.710659, elbo: 13.569895\n",
      "Epoch[122/500], kl: 16.085568, likelihood: 53.970321, elbo: 23.799453\n",
      "Epoch[123/500], kl: 16.095008, likelihood: 56.566864, elbo: 52.103467\n",
      "Epoch[124/500], kl: 16.104504, likelihood: 51.345655, elbo: 22.633244\n",
      "Epoch[125/500], kl: 16.114819, likelihood: 57.233043, elbo: 8.009658\n",
      "Epoch[126/500], kl: 16.123594, likelihood: -1.496793, elbo: 29.572182\n",
      "Epoch[127/500], kl: 16.132846, likelihood: 30.098377, elbo: 31.742826\n",
      "Epoch[128/500], kl: 16.144152, likelihood: 71.070417, elbo: 46.072595\n",
      "Epoch[129/500], kl: 16.151483, likelihood: 43.117823, elbo: 16.908064\n",
      "Epoch[130/500], kl: 16.159873, likelihood: 35.039312, elbo: 6.320327\n",
      "Epoch[131/500], kl: 16.169890, likelihood: 75.037079, elbo: 62.660048\n",
      "Epoch[132/500], kl: 16.182400, likelihood: 69.003504, elbo: 31.160322\n",
      "Epoch[133/500], kl: 16.198769, likelihood: 58.682572, elbo: 27.329692\n",
      "Epoch[134/500], kl: 16.214786, likelihood: 48.964772, elbo: 18.512415\n",
      "Epoch[135/500], kl: 16.224692, likelihood: 61.981111, elbo: 33.364970\n",
      "Epoch[136/500], kl: 16.232147, likelihood: 58.738090, elbo: 47.033206\n",
      "Epoch[137/500], kl: 16.244281, likelihood: 45.221510, elbo: 22.573167\n",
      "Epoch[138/500], kl: 16.254418, likelihood: 63.651690, elbo: 6.745689\n",
      "Epoch[139/500], kl: 16.267038, likelihood: 71.183853, elbo: 52.371715\n",
      "Epoch[140/500], kl: 16.276308, likelihood: 59.150295, elbo: 36.891285\n",
      "Epoch[141/500], kl: 16.288192, likelihood: 59.811893, elbo: 41.189717\n",
      "Epoch[142/500], kl: 16.298548, likelihood: 67.313440, elbo: 43.771141\n",
      "Epoch[143/500], kl: 16.309860, likelihood: 69.454518, elbo: 44.504800\n",
      "Epoch[144/500], kl: 16.320687, likelihood: 63.055751, elbo: 44.540579\n",
      "Epoch[145/500], kl: 16.328981, likelihood: 50.748307, elbo: 12.625345\n",
      "Epoch[146/500], kl: 16.332240, likelihood: 67.754961, elbo: 51.565987\n",
      "Epoch[147/500], kl: 16.340815, likelihood: 33.002602, elbo: 19.829035\n",
      "Epoch[148/500], kl: 16.348204, likelihood: 58.976861, elbo: 34.191198\n",
      "Epoch[149/500], kl: 16.359272, likelihood: 46.167019, elbo: 23.146214\n",
      "Epoch[150/500], kl: 16.364974, likelihood: 64.317248, elbo: 18.439995\n",
      "Epoch[151/500], kl: 16.379955, likelihood: 70.855735, elbo: 44.606866\n",
      "Epoch[152/500], kl: 16.387099, likelihood: 21.360291, elbo: 24.067123\n",
      "Epoch[153/500], kl: 16.395785, likelihood: 43.194878, elbo: 13.899026\n",
      "Epoch[154/500], kl: 16.402957, likelihood: 48.369650, elbo: 7.172652\n",
      "Epoch[155/500], kl: 16.410791, likelihood: 52.180635, elbo: 48.276837\n",
      "Epoch[156/500], kl: 16.420135, likelihood: 69.139685, elbo: 35.861051\n",
      "Epoch[157/500], kl: 16.426256, likelihood: 70.598719, elbo: 54.437063\n",
      "Epoch[158/500], kl: 16.437982, likelihood: 71.461742, elbo: 58.750187\n",
      "Epoch[159/500], kl: 16.451114, likelihood: 66.781710, elbo: 49.817484\n",
      "Epoch[160/500], kl: 16.460634, likelihood: 62.027524, elbo: 30.811019\n",
      "Epoch[161/500], kl: 16.468090, likelihood: 68.941045, elbo: 60.323789\n",
      "Epoch[162/500], kl: 16.475426, likelihood: 46.314328, elbo: 10.525995\n",
      "Epoch[163/500], kl: 16.487826, likelihood: 65.676228, elbo: 58.436810\n",
      "Epoch[164/500], kl: 16.496116, likelihood: 71.914338, elbo: 53.516416\n",
      "Epoch[165/500], kl: 16.506015, likelihood: 70.507117, elbo: 45.021788\n",
      "Epoch[166/500], kl: 16.515245, likelihood: 41.822449, elbo: 47.723014\n",
      "Epoch[167/500], kl: 16.523051, likelihood: 61.196663, elbo: 42.323666\n",
      "Epoch[168/500], kl: 16.535402, likelihood: 65.063791, elbo: 42.990840\n",
      "Epoch[169/500], kl: 16.545813, likelihood: 66.911262, elbo: 49.476023\n",
      "Epoch[170/500], kl: 16.558600, likelihood: 49.180245, elbo: 63.909287\n",
      "Epoch[171/500], kl: 16.573085, likelihood: 75.710809, elbo: 44.245313\n",
      "Epoch[172/500], kl: 16.584167, likelihood: 73.916829, elbo: 51.062083\n",
      "Epoch[173/500], kl: 16.594829, likelihood: 64.927131, elbo: 52.465113\n",
      "Epoch[174/500], kl: 16.601950, likelihood: 11.531312, elbo: 48.877308\n",
      "Epoch[175/500], kl: 16.614049, likelihood: 72.779301, elbo: 13.783580\n",
      "Epoch[176/500], kl: 16.622116, likelihood: 70.274301, elbo: 47.137704\n",
      "Epoch[177/500], kl: 16.636630, likelihood: 71.588191, elbo: 48.638644\n",
      "Epoch[178/500], kl: 16.649728, likelihood: 76.373203, elbo: 60.585775\n",
      "Epoch[179/500], kl: 16.664630, likelihood: 68.923810, elbo: 52.070871\n",
      "Epoch[180/500], kl: 16.674833, likelihood: 70.796383, elbo: 58.463571\n",
      "Epoch[181/500], kl: 16.682973, likelihood: 65.366244, elbo: 29.472718\n",
      "Epoch[182/500], kl: 16.691561, likelihood: 81.801240, elbo: 50.784735\n",
      "Epoch[183/500], kl: 16.697544, likelihood: 66.461680, elbo: 49.894651\n",
      "Epoch[184/500], kl: 16.704982, likelihood: 61.167611, elbo: 40.002778\n",
      "Epoch[185/500], kl: 16.715797, likelihood: 71.636632, elbo: 55.733811\n",
      "Epoch[186/500], kl: 16.726455, likelihood: 77.803519, elbo: 62.833337\n",
      "Epoch[187/500], kl: 16.732370, likelihood: 75.614075, elbo: 56.410796\n",
      "Epoch[188/500], kl: 16.737804, likelihood: 66.450129, elbo: 38.898433\n",
      "Epoch[189/500], kl: 16.743289, likelihood: 67.755526, elbo: 51.564167\n",
      "Epoch[190/500], kl: 16.749716, likelihood: 71.185195, elbo: 55.607409\n",
      "Epoch[191/500], kl: 16.761186, likelihood: 61.038498, elbo: 49.508904\n",
      "Epoch[192/500], kl: 16.769478, likelihood: 41.227749, elbo: 49.909765\n",
      "Epoch[193/500], kl: 16.774725, likelihood: 69.683273, elbo: 19.458380\n",
      "Epoch[194/500], kl: 16.786186, likelihood: 23.041262, elbo: 35.160233\n",
      "Epoch[195/500], kl: 16.791160, likelihood: 69.466915, elbo: 51.185015\n",
      "Epoch[196/500], kl: 16.798783, likelihood: 49.881838, elbo: 45.142526\n",
      "Epoch[197/500], kl: 16.805428, likelihood: 72.022090, elbo: 53.111740\n",
      "Epoch[198/500], kl: 16.812211, likelihood: 70.721988, elbo: 50.132084\n",
      "Epoch[199/500], kl: 16.822533, likelihood: 71.484753, elbo: 54.879297\n",
      "Epoch[200/500], kl: 16.830599, likelihood: 60.809066, elbo: 35.764082\n",
      "Epoch[201/500], kl: 16.840625, likelihood: 52.356383, elbo: 33.430812\n",
      "Epoch[202/500], kl: 16.845923, likelihood: 58.415414, elbo: 34.113371\n",
      "Epoch[203/500], kl: 16.855232, likelihood: 55.327952, elbo: 41.206614\n",
      "Epoch[204/500], kl: 16.864074, likelihood: 73.024107, elbo: 43.190378\n",
      "Epoch[205/500], kl: 16.876693, likelihood: 66.378265, elbo: 60.717445\n",
      "Epoch[206/500], kl: 16.892118, likelihood: 58.503204, elbo: 48.831221\n",
      "Epoch[207/500], kl: 16.900935, likelihood: 70.184608, elbo: 65.067223\n",
      "Epoch[208/500], kl: 16.909132, likelihood: 72.700414, elbo: 55.493563\n",
      "Epoch[209/500], kl: 16.916598, likelihood: 73.549165, elbo: 53.175733\n",
      "Epoch[210/500], kl: 16.927633, likelihood: 72.897948, elbo: 59.901008\n",
      "Epoch[211/500], kl: 16.934880, likelihood: 59.916502, elbo: 37.983165\n",
      "Epoch[212/500], kl: 16.943159, likelihood: 48.156214, elbo: 42.926720\n",
      "Epoch[213/500], kl: 16.951121, likelihood: 74.576902, elbo: 57.340732\n",
      "Epoch[214/500], kl: 16.957606, likelihood: 70.931965, elbo: 54.822767\n",
      "Epoch[215/500], kl: 16.964645, likelihood: 71.870807, elbo: 39.836826\n",
      "Epoch[216/500], kl: 16.971264, likelihood: 77.083145, elbo: 60.978834\n",
      "Epoch[217/500], kl: 16.978979, likelihood: 56.004013, elbo: 59.061426\n",
      "Epoch[218/500], kl: 16.983301, likelihood: 58.060301, elbo: 37.570498\n",
      "Epoch[219/500], kl: 16.985688, likelihood: 64.225975, elbo: 43.299136\n",
      "Epoch[220/500], kl: 16.990111, likelihood: 62.012628, elbo: 48.552734\n",
      "Epoch[221/500], kl: 16.999433, likelihood: 36.725466, elbo: 43.872223\n",
      "Epoch[222/500], kl: 17.011163, likelihood: 77.698250, elbo: 53.434308\n",
      "Epoch[223/500], kl: 17.025298, likelihood: 76.192124, elbo: 50.047373\n",
      "Epoch[224/500], kl: 17.030213, likelihood: 79.444354, elbo: 64.791714\n",
      "Epoch[225/500], kl: 17.035062, likelihood: 73.395489, elbo: 52.471386\n",
      "Epoch[226/500], kl: 17.043711, likelihood: 78.807125, elbo: 61.364290\n",
      "Epoch[227/500], kl: 17.053272, likelihood: 72.595840, elbo: 32.806824\n",
      "Epoch[228/500], kl: 17.061186, likelihood: 73.822592, elbo: 49.671390\n",
      "Epoch[229/500], kl: 17.066810, likelihood: 69.825214, elbo: 53.596057\n",
      "Epoch[230/500], kl: 17.076112, likelihood: 40.481267, elbo: 49.050462\n",
      "Epoch[231/500], kl: 17.085013, likelihood: 77.166528, elbo: 62.125431\n",
      "Epoch[232/500], kl: 17.096186, likelihood: 60.401165, elbo: 44.767879\n",
      "Epoch[233/500], kl: 17.101547, likelihood: 73.937442, elbo: 47.411929\n",
      "Epoch[234/500], kl: 17.106182, likelihood: 73.914305, elbo: 58.338872\n",
      "Epoch[235/500], kl: 17.113656, likelihood: 81.351815, elbo: 61.656349\n",
      "Epoch[236/500], kl: 17.119799, likelihood: 50.386731, elbo: 54.672696\n",
      "Epoch[237/500], kl: 17.129857, likelihood: 65.291510, elbo: 54.158360\n",
      "Epoch[238/500], kl: 17.137136, likelihood: 70.827600, elbo: 52.339730\n"
     ]
    },
    {
     "name": "stdout",
     "output_type": "stream",
     "text": [
      "Epoch[239/500], kl: 17.141893, likelihood: 66.528328, elbo: 51.224713\n",
      "Epoch[240/500], kl: 17.147928, likelihood: 74.408632, elbo: 55.943970\n",
      "Epoch[241/500], kl: 17.154960, likelihood: 76.945771, elbo: 63.462188\n",
      "Epoch[242/500], kl: 17.163207, likelihood: 85.111378, elbo: 66.602707\n",
      "Epoch[243/500], kl: 17.169414, likelihood: 73.312459, elbo: 56.326133\n",
      "Epoch[244/500], kl: 17.171236, likelihood: 78.349396, elbo: 62.983967\n",
      "Epoch[245/500], kl: 17.176189, likelihood: 51.002261, elbo: 56.735248\n",
      "Epoch[246/500], kl: 17.182366, likelihood: 77.256219, elbo: 58.906203\n",
      "Epoch[247/500], kl: 17.188860, likelihood: 77.124560, elbo: 58.110743\n",
      "Epoch[248/500], kl: 17.197053, likelihood: 79.170072, elbo: 61.390153\n",
      "Epoch[249/500], kl: 17.209442, likelihood: 74.156061, elbo: 57.779340\n",
      "Epoch[250/500], kl: 17.213887, likelihood: 72.963559, elbo: 53.822105\n",
      "Epoch[251/500], kl: 17.217476, likelihood: 60.984573, elbo: 26.581518\n",
      "Epoch[252/500], kl: 17.222882, likelihood: 81.888346, elbo: 66.107473\n",
      "Epoch[253/500], kl: 17.228120, likelihood: 56.262737, elbo: 57.179293\n",
      "Epoch[254/500], kl: 17.236081, likelihood: 74.746142, elbo: 59.292941\n",
      "Epoch[255/500], kl: 17.238375, likelihood: 71.691394, elbo: 59.707906\n",
      "Epoch[256/500], kl: 17.245787, likelihood: 82.340381, elbo: 60.769366\n",
      "Epoch[257/500], kl: 17.251393, likelihood: 56.690876, elbo: 30.782973\n",
      "Epoch[258/500], kl: 17.255273, likelihood: 68.422565, elbo: 53.853473\n",
      "Epoch[259/500], kl: 17.260916, likelihood: 73.169609, elbo: 59.716388\n",
      "Epoch[260/500], kl: 17.265853, likelihood: 80.362952, elbo: 64.201833\n",
      "Epoch[261/500], kl: 17.264753, likelihood: 67.973518, elbo: 51.626970\n",
      "Epoch[262/500], kl: 17.270995, likelihood: 61.141916, elbo: 49.207499\n",
      "Epoch[263/500], kl: 17.277901, likelihood: 74.552198, elbo: 60.546776\n",
      "Epoch[264/500], kl: 17.282900, likelihood: 71.271298, elbo: 51.381996\n",
      "Epoch[265/500], kl: 17.289850, likelihood: 77.175606, elbo: 55.585619\n",
      "Epoch[266/500], kl: 17.296919, likelihood: 73.132776, elbo: 41.146331\n",
      "Epoch[267/500], kl: 17.300001, likelihood: 74.007463, elbo: 64.707452\n",
      "Epoch[268/500], kl: 17.306168, likelihood: 78.953177, elbo: 59.744705\n",
      "Epoch[269/500], kl: 17.315110, likelihood: 71.985169, elbo: 58.599909\n",
      "Epoch[270/500], kl: 17.320058, likelihood: 75.314386, elbo: 61.470078\n",
      "Epoch[271/500], kl: 17.325625, likelihood: 58.856061, elbo: 60.281727\n",
      "Epoch[272/500], kl: 17.327632, likelihood: 76.488128, elbo: 59.179264\n",
      "Epoch[273/500], kl: 17.335747, likelihood: 68.393408, elbo: 62.907224\n",
      "Epoch[274/500], kl: 17.340235, likelihood: 72.954248, elbo: 61.361500\n",
      "Epoch[275/500], kl: 17.348907, likelihood: 83.473564, elbo: 64.253486\n",
      "Epoch[276/500], kl: 17.358968, likelihood: 68.710444, elbo: 50.488558\n",
      "Epoch[277/500], kl: 17.361463, likelihood: 71.858723, elbo: 51.697805\n",
      "Epoch[278/500], kl: 17.367323, likelihood: 80.980874, elbo: 67.225912\n",
      "Epoch[279/500], kl: 17.371603, likelihood: 65.660963, elbo: 43.410957\n",
      "Epoch[280/500], kl: 17.375459, likelihood: 43.585520, elbo: 42.654604\n",
      "Epoch[281/500], kl: 17.376293, likelihood: 59.836318, elbo: 21.319811\n",
      "Epoch[282/500], kl: 17.384649, likelihood: 62.579978, elbo: 47.782463\n",
      "Epoch[283/500], kl: 17.388721, likelihood: 70.412119, elbo: 52.448737\n",
      "Epoch[284/500], kl: 17.388706, likelihood: 58.650617, elbo: 21.158747\n",
      "Epoch[285/500], kl: 17.394736, likelihood: 70.040470, elbo: 55.083537\n",
      "Epoch[286/500], kl: 17.399630, likelihood: 78.468228, elbo: 64.745604\n",
      "Epoch[287/500], kl: 17.405717, likelihood: 76.473019, elbo: 56.314600\n",
      "Epoch[288/500], kl: 17.411930, likelihood: 72.542352, elbo: 55.318299\n",
      "Epoch[289/500], kl: 17.420396, likelihood: 60.100556, elbo: 42.568115\n",
      "Epoch[290/500], kl: 17.427951, likelihood: 74.771663, elbo: 47.931069\n",
      "Epoch[291/500], kl: 17.434875, likelihood: 75.584522, elbo: 58.635868\n",
      "Epoch[292/500], kl: 17.439422, likelihood: 77.353556, elbo: 55.881739\n",
      "Epoch[293/500], kl: 17.447640, likelihood: 76.942423, elbo: 61.970596\n",
      "Epoch[294/500], kl: 17.448452, likelihood: 61.265839, elbo: 45.384986\n",
      "Epoch[295/500], kl: 17.452934, likelihood: 56.547912, elbo: 51.549770\n",
      "Epoch[296/500], kl: 17.462310, likelihood: 64.063143, elbo: 62.930891\n",
      "Epoch[297/500], kl: 17.474552, likelihood: 86.990360, elbo: 68.076002\n",
      "Epoch[298/500], kl: 17.483614, likelihood: 68.479628, elbo: 51.502076\n",
      "Epoch[299/500], kl: 17.489185, likelihood: 68.234131, elbo: 53.213749\n",
      "Epoch[300/500], kl: 17.494378, likelihood: 71.387939, elbo: 54.997337\n",
      "Epoch[301/500], kl: 17.501143, likelihood: 54.379955, elbo: 52.085541\n",
      "Epoch[302/500], kl: 17.506392, likelihood: 68.524899, elbo: 31.406035\n",
      "Epoch[303/500], kl: 17.517877, likelihood: 54.709074, elbo: 47.748549\n",
      "Epoch[304/500], kl: 17.529272, likelihood: 71.216234, elbo: 54.437370\n",
      "Epoch[305/500], kl: 17.533213, likelihood: 74.977262, elbo: 59.392722\n",
      "Epoch[306/500], kl: 17.537535, likelihood: 72.980850, elbo: 56.007613\n",
      "Epoch[307/500], kl: 17.547877, likelihood: 74.331584, elbo: 53.208420\n",
      "Epoch[308/500], kl: 17.554047, likelihood: 74.066614, elbo: 51.836045\n",
      "Epoch[309/500], kl: 17.558944, likelihood: 81.305320, elbo: 60.844761\n",
      "Epoch[310/500], kl: 17.565671, likelihood: 77.615294, elbo: 56.656428\n",
      "Epoch[311/500], kl: 17.567495, likelihood: 80.104462, elbo: 55.670072\n",
      "Epoch[312/500], kl: 17.571973, likelihood: 70.126573, elbo: 52.461031\n",
      "Epoch[313/500], kl: 17.573886, likelihood: 69.433489, elbo: 63.606837\n",
      "Epoch[314/500], kl: 17.574271, likelihood: 79.082245, elbo: 63.460702\n",
      "Epoch[315/500], kl: 17.577729, likelihood: 72.209526, elbo: 57.138592\n",
      "Epoch[316/500], kl: 17.581342, likelihood: 78.010820, elbo: 62.596518\n",
      "Epoch[317/500], kl: 17.582799, likelihood: 78.534411, elbo: 56.124177\n",
      "Epoch[318/500], kl: 17.592923, likelihood: 72.949406, elbo: 56.828603\n",
      "Epoch[319/500], kl: 17.601464, likelihood: 66.329434, elbo: 56.940961\n",
      "Epoch[320/500], kl: 17.609306, likelihood: 80.312515, elbo: 47.371659\n",
      "Epoch[321/500], kl: 17.613711, likelihood: 73.393636, elbo: 58.073277\n",
      "Epoch[322/500], kl: 17.617703, likelihood: 76.846663, elbo: 61.671617\n",
      "Epoch[323/500], kl: 17.625487, likelihood: 70.901223, elbo: 57.774725\n",
      "Epoch[324/500], kl: 17.626868, likelihood: 87.152748, elbo: 67.356548\n",
      "Epoch[325/500], kl: 17.628840, likelihood: 71.460516, elbo: 50.938207\n",
      "Epoch[326/500], kl: 17.628493, likelihood: 70.734131, elbo: 55.504099\n",
      "Epoch[327/500], kl: 17.636442, likelihood: 74.661086, elbo: 58.731316\n",
      "Epoch[328/500], kl: 17.642425, likelihood: 79.562172, elbo: 62.663058\n",
      "Epoch[329/500], kl: 17.652057, likelihood: 82.801127, elbo: 62.683807\n",
      "Epoch[330/500], kl: 17.654476, likelihood: 66.231227, elbo: 46.830510\n",
      "Epoch[331/500], kl: 17.656648, likelihood: 82.464284, elbo: 65.428892\n",
      "Epoch[332/500], kl: 17.662375, likelihood: 67.947473, elbo: 52.072787\n",
      "Epoch[333/500], kl: 17.668933, likelihood: 75.959053, elbo: 54.821378\n",
      "Epoch[334/500], kl: 17.679490, likelihood: 72.907203, elbo: 55.389676\n",
      "Epoch[335/500], kl: 17.687729, likelihood: 71.475496, elbo: 44.704868\n",
      "Epoch[336/500], kl: 17.693894, likelihood: 80.470690, elbo: 68.329307\n",
      "Epoch[337/500], kl: 17.694999, likelihood: 74.123717, elbo: 59.849274\n",
      "Epoch[338/500], kl: 17.697907, likelihood: 64.234481, elbo: 54.110255\n",
      "Epoch[339/500], kl: 17.699725, likelihood: 65.190314, elbo: 53.389185\n",
      "Epoch[340/500], kl: 17.706291, likelihood: 73.475391, elbo: 57.364234\n",
      "Epoch[341/500], kl: 17.710014, likelihood: 79.463468, elbo: 60.226182\n",
      "Epoch[342/500], kl: 17.714837, likelihood: 71.619594, elbo: 55.881205\n",
      "Epoch[343/500], kl: 17.724754, likelihood: 81.693966, elbo: 60.509619\n",
      "Epoch[344/500], kl: 17.725397, likelihood: 74.066132, elbo: 45.239490\n",
      "Epoch[345/500], kl: 17.727869, likelihood: 83.514594, elbo: 71.618411\n",
      "Epoch[346/500], kl: 17.733309, likelihood: 75.516788, elbo: 55.810599\n",
      "Epoch[347/500], kl: 17.742811, likelihood: 74.358075, elbo: 62.195203\n",
      "Epoch[348/500], kl: 17.743710, likelihood: 79.516318, elbo: 64.375675\n",
      "Epoch[349/500], kl: 17.744497, likelihood: 74.770178, elbo: 57.522101\n",
      "Epoch[350/500], kl: 17.746521, likelihood: 72.623487, elbo: 66.167818\n",
      "Epoch[351/500], kl: 17.753054, likelihood: 63.795646, elbo: 67.187151\n",
      "Epoch[352/500], kl: 17.756747, likelihood: 82.023511, elbo: 65.340793\n",
      "Epoch[353/500], kl: 17.761342, likelihood: 71.420551, elbo: 54.211641\n",
      "Epoch[354/500], kl: 17.772216, likelihood: 74.350289, elbo: 65.304929\n",
      "Epoch[355/500], kl: 17.775084, likelihood: 79.594606, elbo: 63.798955\n",
      "Epoch[356/500], kl: 17.773678, likelihood: 80.068987, elbo: 60.900088\n",
      "Epoch[357/500], kl: 17.771805, likelihood: 83.392116, elbo: 61.369885\n",
      "Epoch[358/500], kl: 17.771801, likelihood: 78.283613, elbo: 66.419732\n",
      "Epoch[359/500], kl: 17.772762, likelihood: 72.279324, elbo: 49.104520\n"
     ]
    },
    {
     "name": "stdout",
     "output_type": "stream",
     "text": [
      "Epoch[360/500], kl: 17.778017, likelihood: 72.302675, elbo: 56.842216\n",
      "Epoch[361/500], kl: 17.776917, likelihood: 90.126369, elbo: 65.885177\n",
      "Epoch[362/500], kl: 17.779172, likelihood: 77.692966, elbo: 50.921373\n",
      "Epoch[363/500], kl: 17.786924, likelihood: 66.394780, elbo: 39.150062\n",
      "Epoch[364/500], kl: 17.792797, likelihood: 78.825980, elbo: 56.527575\n",
      "Epoch[365/500], kl: 17.795577, likelihood: 76.500887, elbo: 64.709537\n",
      "Epoch[366/500], kl: 17.799710, likelihood: 79.088694, elbo: 50.694484\n",
      "Epoch[367/500], kl: 17.802709, likelihood: 75.005042, elbo: 53.514223\n",
      "Epoch[368/500], kl: 17.802259, likelihood: 87.148393, elbo: 68.971766\n",
      "Epoch[369/500], kl: 17.805992, likelihood: 71.006804, elbo: 53.310322\n",
      "Epoch[370/500], kl: 17.815576, likelihood: 67.682172, elbo: 62.797509\n",
      "Epoch[371/500], kl: 17.819420, likelihood: 77.533342, elbo: 58.265445\n",
      "Epoch[372/500], kl: 17.825791, likelihood: 59.461492, elbo: 57.662956\n",
      "Epoch[373/500], kl: 17.830482, likelihood: 78.002291, elbo: 61.804407\n",
      "Epoch[374/500], kl: 17.839281, likelihood: 70.341609, elbo: 59.380527\n",
      "Epoch[375/500], kl: 17.847535, likelihood: 84.082172, elbo: 54.525668\n",
      "Epoch[376/500], kl: 17.852902, likelihood: 79.099185, elbo: 40.465315\n",
      "Epoch[377/500], kl: 17.862535, likelihood: 81.827110, elbo: 64.883606\n",
      "Epoch[378/500], kl: 17.872574, likelihood: 82.191362, elbo: 63.689144\n",
      "Epoch[379/500], kl: 17.882277, likelihood: 82.468997, elbo: 63.696678\n",
      "Epoch[380/500], kl: 17.882431, likelihood: 73.602402, elbo: 57.336555\n",
      "Epoch[381/500], kl: 17.880916, likelihood: 75.224990, elbo: 56.765076\n",
      "Epoch[382/500], kl: 17.879247, likelihood: 83.325083, elbo: 68.328966\n",
      "Epoch[383/500], kl: 17.882727, likelihood: 79.649319, elbo: 64.324536\n",
      "Epoch[384/500], kl: 17.885427, likelihood: 65.145927, elbo: 44.896747\n",
      "Epoch[385/500], kl: 17.884536, likelihood: 65.873830, elbo: 63.193258\n",
      "Epoch[386/500], kl: 17.885270, likelihood: 79.208992, elbo: 60.208522\n",
      "Epoch[387/500], kl: 17.889022, likelihood: 72.952782, elbo: 54.187258\n",
      "Epoch[388/500], kl: 17.890304, likelihood: 78.329438, elbo: 54.427582\n",
      "Epoch[389/500], kl: 17.892897, likelihood: 87.747737, elbo: 71.179449\n",
      "Epoch[390/500], kl: 17.901738, likelihood: 59.153002, elbo: 42.322125\n",
      "Epoch[391/500], kl: 17.908970, likelihood: 82.624805, elbo: 65.272496\n",
      "Epoch[392/500], kl: 17.916998, likelihood: 81.180220, elbo: 61.549119\n",
      "Epoch[393/500], kl: 17.916533, likelihood: 66.715407, elbo: 55.375125\n",
      "Epoch[394/500], kl: 17.915328, likelihood: 86.346191, elbo: 68.528211\n",
      "Epoch[395/500], kl: 17.918253, likelihood: 70.443281, elbo: 56.678511\n",
      "Epoch[396/500], kl: 17.917158, likelihood: 67.501090, elbo: 55.909626\n",
      "Epoch[397/500], kl: 17.913413, likelihood: 69.815855, elbo: 44.602785\n",
      "Epoch[398/500], kl: 17.916230, likelihood: 60.118389, elbo: 49.483876\n",
      "Epoch[399/500], kl: 17.920814, likelihood: 79.048786, elbo: 56.141533\n",
      "Epoch[400/500], kl: 17.930403, likelihood: 76.536110, elbo: 45.846679\n",
      "Epoch[401/500], kl: 17.934312, likelihood: 58.477492, elbo: 45.898366\n",
      "Epoch[402/500], kl: 17.936868, likelihood: 84.468894, elbo: 68.394027\n",
      "Epoch[403/500], kl: 17.938344, likelihood: 87.808540, elbo: 67.348233\n",
      "Epoch[404/500], kl: 17.940202, likelihood: 73.831239, elbo: 56.523497\n",
      "Epoch[405/500], kl: 17.939645, likelihood: 79.452927, elbo: 63.648421\n",
      "Epoch[406/500], kl: 17.940566, likelihood: 82.425051, elbo: 58.430219\n",
      "Epoch[407/500], kl: 17.945098, likelihood: 85.754632, elbo: 66.878571\n",
      "Epoch[408/500], kl: 17.946879, likelihood: 69.358919, elbo: 50.900769\n",
      "Epoch[409/500], kl: 17.951112, likelihood: 70.899580, elbo: 57.212630\n",
      "Epoch[410/500], kl: 17.952184, likelihood: 69.314719, elbo: 55.310549\n",
      "Epoch[411/500], kl: 17.956282, likelihood: 73.354248, elbo: 54.231741\n",
      "Epoch[412/500], kl: 17.961900, likelihood: 80.262522, elbo: 65.214142\n",
      "Epoch[413/500], kl: 17.964136, likelihood: 67.967431, elbo: 55.890759\n",
      "Epoch[414/500], kl: 17.969707, likelihood: 76.167740, elbo: 60.600180\n",
      "Epoch[415/500], kl: 17.978169, likelihood: 86.960580, elbo: 67.604642\n",
      "Epoch[416/500], kl: 17.984915, likelihood: 67.378323, elbo: 42.411020\n",
      "Epoch[417/500], kl: 17.987448, likelihood: 78.542613, elbo: 57.080020\n",
      "Epoch[418/500], kl: 17.985172, likelihood: 72.335941, elbo: 49.698241\n",
      "Epoch[419/500], kl: 17.989750, likelihood: 69.441105, elbo: 57.439129\n",
      "Epoch[420/500], kl: 17.996456, likelihood: 73.657818, elbo: 53.524778\n",
      "Epoch[421/500], kl: 18.001215, likelihood: 31.987207, elbo: 39.182105\n",
      "Epoch[422/500], kl: 18.003881, likelihood: 81.031163, elbo: 62.021143\n",
      "Epoch[423/500], kl: 18.013892, likelihood: 77.622362, elbo: 43.554160\n",
      "Epoch[424/500], kl: 18.017451, likelihood: 90.038951, elbo: 67.331393\n",
      "Epoch[425/500], kl: 18.021426, likelihood: 78.932032, elbo: 63.402856\n",
      "Epoch[426/500], kl: 18.020584, likelihood: 81.672011, elbo: 64.348478\n",
      "Epoch[427/500], kl: 18.018217, likelihood: 74.320051, elbo: 59.455994\n",
      "Epoch[428/500], kl: 18.022817, likelihood: 67.845869, elbo: 49.753822\n",
      "Epoch[429/500], kl: 18.020177, likelihood: 75.381712, elbo: 52.751347\n",
      "Epoch[430/500], kl: 18.020901, likelihood: 87.060737, elbo: 67.400632\n",
      "Epoch[431/500], kl: 18.017360, likelihood: 75.505758, elbo: 56.906996\n",
      "Epoch[432/500], kl: 18.018411, likelihood: 85.976620, elbo: 69.908479\n",
      "Epoch[433/500], kl: 18.023275, likelihood: 64.888997, elbo: 50.142804\n",
      "Epoch[434/500], kl: 18.026017, likelihood: 73.063435, elbo: 53.852999\n",
      "Epoch[435/500], kl: 18.029989, likelihood: 76.762766, elbo: 53.793453\n",
      "Epoch[436/500], kl: 18.033544, likelihood: 83.450125, elbo: 64.376213\n",
      "Epoch[437/500], kl: 18.043537, likelihood: 77.977941, elbo: 56.634863\n",
      "Epoch[438/500], kl: 18.045396, likelihood: 76.479355, elbo: 52.725430\n",
      "Epoch[439/500], kl: 18.046639, likelihood: 78.189892, elbo: 65.240241\n",
      "Epoch[440/500], kl: 18.048467, likelihood: 75.626934, elbo: 59.785670\n",
      "Epoch[441/500], kl: 18.047339, likelihood: 81.810358, elbo: 57.259066\n",
      "Epoch[442/500], kl: 18.045421, likelihood: 77.647486, elbo: 57.469246\n",
      "Epoch[443/500], kl: 18.041980, likelihood: 79.907576, elbo: 62.646592\n",
      "Epoch[444/500], kl: 18.042934, likelihood: 76.324965, elbo: 48.494155\n",
      "Epoch[445/500], kl: 18.058707, likelihood: 79.508079, elbo: 61.266180\n",
      "Epoch[446/500], kl: 18.061017, likelihood: 80.498306, elbo: 65.483138\n",
      "Epoch[447/500], kl: 18.064952, likelihood: 81.628170, elbo: 60.844265\n",
      "Epoch[448/500], kl: 18.066034, likelihood: 69.476269, elbo: 50.983970\n",
      "Epoch[449/500], kl: 18.071015, likelihood: 85.391002, elbo: 65.834741\n",
      "Epoch[450/500], kl: 18.071239, likelihood: 89.733952, elbo: 66.171674\n",
      "Epoch[451/500], kl: 18.072707, likelihood: 68.885864, elbo: 52.706651\n",
      "Epoch[452/500], kl: 18.077815, likelihood: 83.300890, elbo: 65.803935\n",
      "Epoch[453/500], kl: 18.081985, likelihood: 77.273014, elbo: 62.929077\n",
      "Epoch[454/500], kl: 18.083793, likelihood: 71.964958, elbo: 62.524788\n",
      "Epoch[455/500], kl: 18.082064, likelihood: 79.297078, elbo: 60.499464\n",
      "Epoch[456/500], kl: 18.089798, likelihood: 64.164572, elbo: 48.571550\n",
      "Epoch[457/500], kl: 18.096989, likelihood: 80.370733, elbo: 57.104491\n",
      "Epoch[458/500], kl: 18.101872, likelihood: 72.765559, elbo: 56.586008\n",
      "Epoch[459/500], kl: 18.101773, likelihood: 77.073033, elbo: 61.580685\n",
      "Epoch[460/500], kl: 18.100744, likelihood: 74.763287, elbo: 52.099911\n",
      "Epoch[461/500], kl: 18.103705, likelihood: 80.533347, elbo: 57.651500\n",
      "Epoch[462/500], kl: 18.103679, likelihood: 81.907157, elbo: 57.557071\n",
      "Epoch[463/500], kl: 18.103720, likelihood: 65.433774, elbo: 54.437989\n",
      "Epoch[464/500], kl: 18.110091, likelihood: 82.301253, elbo: 67.164104\n",
      "Epoch[465/500], kl: 18.112781, likelihood: 85.886323, elbo: 64.225374\n",
      "Epoch[466/500], kl: 18.114397, likelihood: 78.520095, elbo: 70.032747\n",
      "Epoch[467/500], kl: 18.121906, likelihood: 69.694386, elbo: 48.653904\n",
      "Epoch[468/500], kl: 18.129686, likelihood: 77.807888, elbo: 57.181962\n",
      "Epoch[469/500], kl: 18.132604, likelihood: 59.436851, elbo: 59.242884\n",
      "Epoch[470/500], kl: 18.135926, likelihood: 79.013898, elbo: 59.112063\n",
      "Epoch[471/500], kl: 18.133302, likelihood: 80.149687, elbo: 65.377172\n",
      "Epoch[472/500], kl: 18.132345, likelihood: 67.109992, elbo: 49.570545\n",
      "Epoch[473/500], kl: 18.134262, likelihood: 73.373169, elbo: 56.166697\n",
      "Epoch[474/500], kl: 18.137815, likelihood: 70.556204, elbo: 45.367373\n",
      "Epoch[475/500], kl: 18.140919, likelihood: 82.001909, elbo: 63.352653\n",
      "Epoch[476/500], kl: 18.143283, likelihood: 81.003453, elbo: 58.798156\n",
      "Epoch[477/500], kl: 18.143486, likelihood: 78.673151, elbo: 56.935028\n",
      "Epoch[478/500], kl: 18.142238, likelihood: 91.479799, elbo: 72.865129\n",
      "Epoch[479/500], kl: 18.146502, likelihood: 80.638506, elbo: 62.759406\n"
     ]
    },
    {
     "name": "stdout",
     "output_type": "stream",
     "text": [
      "Epoch[480/500], kl: 18.149733, likelihood: 82.850837, elbo: 63.812699\n",
      "Epoch[481/500], kl: 18.149116, likelihood: 80.124723, elbo: 59.631724\n",
      "Epoch[482/500], kl: 18.152604, likelihood: 70.203901, elbo: 40.106604\n",
      "Epoch[483/500], kl: 18.153681, likelihood: 82.156549, elbo: 64.987804\n",
      "Epoch[484/500], kl: 18.149772, likelihood: 81.509435, elbo: 65.201575\n",
      "Epoch[485/500], kl: 18.150173, likelihood: 86.914727, elbo: 58.357443\n",
      "Epoch[486/500], kl: 18.153341, likelihood: 78.940090, elbo: 63.888900\n",
      "Epoch[487/500], kl: 18.151236, likelihood: 59.803388, elbo: 52.172108\n",
      "Epoch[488/500], kl: 18.147802, likelihood: 78.808938, elbo: 60.981934\n",
      "Epoch[489/500], kl: 18.148120, likelihood: 83.465198, elbo: 65.189130\n",
      "Epoch[490/500], kl: 18.150693, likelihood: 69.583753, elbo: 48.445552\n",
      "Epoch[491/500], kl: 18.151244, likelihood: 74.794250, elbo: 56.662053\n",
      "Epoch[492/500], kl: 18.152956, likelihood: 84.508103, elbo: 66.090251\n",
      "Epoch[493/500], kl: 18.154788, likelihood: 75.741742, elbo: 57.106402\n",
      "Epoch[494/500], kl: 18.159196, likelihood: 76.702495, elbo: 59.698381\n",
      "Epoch[495/500], kl: 18.158732, likelihood: 84.426362, elbo: 64.985114\n",
      "Epoch[496/500], kl: 18.155911, likelihood: 81.664671, elbo: 60.119494\n",
      "Epoch[497/500], kl: 18.155503, likelihood: 81.207261, elbo: 64.166434\n",
      "Epoch[498/500], kl: 18.155580, likelihood: 73.053737, elbo: 55.476812\n",
      "Epoch[499/500], kl: 18.162619, likelihood: 72.215725, elbo: 67.414266\n",
      "Epoch[500/500], kl: 18.171306, likelihood: 72.435797, elbo: 55.017370\n"
     ]
    },
    {
     "data": {
      "text/plain": [
       "[<matplotlib.lines.Line2D at 0x15296b2e8>]"
      ]
     },
     "execution_count": 9,
     "metadata": {},
     "output_type": "execute_result"
    },
    {
     "data": {
      "image/png": "[encoded data removed]",
      "text/plain": [
       "<Figure size 432x288 with 1 Axes>"
      ]
     },
     "metadata": {
      "needs_background": "light"
     },
     "output_type": "display_data"
    }
   ],
   "source": [
    "elbo = -networks.train(model, optimizer, torch.from_numpy(Z), torch.from_numpy(Y), n_epochs=500, n_rep_opt=25, print_freq=1)\n",
    "plt.plot(-elbo)"
   ]
  },
  {
   "cell_type": "code",
   "execution_count": 10,
   "metadata": {},
   "outputs": [],
   "source": [
    "def plot_slice(model, x, y, dim=0, x_plot=None, x_plot_slice=0.0, n_samp=500, ax=None, f_true=None):\n",
    "    with torch.no_grad():\n",
    "    \n",
    "        if ax is None:\n",
    "            fig, ax = plt.subplots()\n",
    "        dim_in = model.dim_in\n",
    "\n",
    "        if x_plot is None:\n",
    "            x_plot = torch.linspace(x.min(),x.max(),100)\n",
    "            \n",
    "        if type(x) is not np.ndarray:\n",
    "            x = x.numpy()\n",
    "            \n",
    "        if type(y) is not np.ndarray:\n",
    "            y = y.numpy()\n",
    "\n",
    "        xx = x_plot_slice*torch.ones(x_plot.shape[0], dim_in)\n",
    "        xx[:,dim] = x_plot.reshape(-1)\n",
    "\n",
    "        f_pred_plot = model(xx, sample_input_layer=False, weights_type='mean').numpy() # posterior mean\n",
    "\n",
    "        ax.scatter(x[:,dim], y) # training data\n",
    "        ax.plot(xx[:,dim], f_pred_plot) # posterior mean\n",
    "        \n",
    "        # true function\n",
    "        if f_true is not None:\n",
    "            y_true = f_true(xx)\n",
    "            ax.plot(xx[:,dim], y_true)\n",
    "\n",
    "        # uncertainty\n",
    "        f_samp_plot = np.zeros((n_samp, x_plot.shape[0]))\n",
    "        for i in range(n_samp):\n",
    "            f_samp_plot[i,:] = model(xx, sample_input_layer=True, weights_type='sample').numpy().reshape(-1)\n",
    "        for q in [.025, .05, .1]:\n",
    "            ci = np.quantile(f_samp_plot, [q, 1-q], axis=0)\n",
    "            ax.fill_between(xx[:,dim].reshape(-1), ci[0,:], ci[1,:], alpha=.1, color='blue')\n",
    "\n",
    "            \n",
    "def plot_slices(model, x, y, x_plot=None, x_plot_slice=0.0, n_samp=500, figsize=(4,4)):\n",
    "    fig, ax = plt.subplots(1,model.dim_in, figsize=figsize, sharey=True)\n",
    "    ax[0].set_ylabel('y')\n",
    "    fig.suptitle(\"Posterior predictive (1d slices)\")\n",
    "    for dim in range(model.dim_in):\n",
    "        plot_slice(model, x, y, dim, x_plot, x_plot_slice, n_samp, ax=ax[dim])\n",
    "        ax[dim].set_xlabel('x'+str(dim))\n",
    "    return fig, ax\n"
   ]
  },
  {
   "cell_type": "code",
   "execution_count": 11,
   "metadata": {},
   "outputs": [],
   "source": [
    "# only one fixed_point_update\n",
    "model = networks.RffHs(dim_in, 1, dim_hidden=50, sig2_inv=1/sig2)\n",
    "#optimizer = torch.optim.Adam(model.parameters(), lr=.001)\n",
    "#networks.train(model, optimizer, torch.from_numpy(Z), torch.from_numpy(Y), n_epochs=1, n_rep_opt=1, print_freq=1)\n",
    "\n",
    "h = model.layer_in(torch.from_numpy(Z), sample=True)\n",
    "model.layer_out.fixed_point_updates(h, torch.from_numpy(Y))"
   ]
  },
  {
   "cell_type": "code",
   "execution_count": 12,
   "metadata": {},
   "outputs": [
    {
     "data": {
      "image/png": "[encoded data removed]",
      "text/plain": [
       "<Figure size 432x288 with 1 Axes>"
      ]
     },
     "metadata": {
      "needs_background": "light"
     },
     "output_type": "display_data"
    }
   ],
   "source": [
    "plot_slice(model, Z, Y, dim=0, f_true=f_true)"
   ]
  },
  {
   "cell_type": "code",
   "execution_count": 311,
   "metadata": {},
   "outputs": [],
   "source": [
    "#h = model.layer_in(torch.from_numpy(Z), sample=True)\n",
    "from math import sqrt, pi\n",
    "\n",
    "w=torch.empty(model.dim_hidden, model.dim_in)\n",
    "b=torch.empty(model.dim_hidden)\n",
    "y = torch.from_numpy(Y)\n",
    "\n",
    "w.normal_(0,1)\n",
    "b.uniform_(0, 2*pi)\n",
    "\n",
    "#h = sqrt(2/model.dim_out)*torch.cos(F.linear(torch.from_numpy(Z), w, b))\n",
    "h = F.relu(F.linear(torch.from_numpy(Z), w, b)) # relu features for testing\n",
    "beta_hat = torch.pinverse(h.T @ h + .001*np.eye(h.shape[1]))@h.T@Y\n",
    "\n",
    "x_plot = torch.linspace(Z.min(),Z.max(),100)\n",
    "dim = 0\n",
    "xx = 0.0*torch.ones(x_plot.shape[0], dim_in)\n",
    "xx[:,dim] = x_plot.reshape(-1)\n",
    "inp = xx\n",
    "#inp = torch.from_numpy(Z)\n",
    "\n",
    "#h = model.layer_in(inp, sample=True)\n",
    "#h = sqrt(2/model.dim_out)*torch.cos(F.linear(inp, w, b))\n",
    "h = F.relu(F.linear(inp, w, b)) # relu features for testing\n",
    "\n",
    "y = f_true(inp)\n",
    "yhat = h@beta_hat\n",
    "\n",
    "#model.layer_out.prior_sig2 = .001\n",
    "\n",
    "#prior_sig2inv_mat = 1/model.layer_out.prior_sig2*torch.eye(model.layer_out.dim_in)\n",
    "#sig2 = torch.pinverse(prior_sig2inv_mat + h.T@h/model.layer_out.sig2_y)\n",
    "#mu = (sig2 @ h.T@y/model.layer_out.sig2_y).transpose(0,1)\n",
    "\n",
    "#yhat = h@mu.T\n"
   ]
  },
  {
   "cell_type": "code",
   "execution_count": null,
   "metadata": {},
   "outputs": [],
   "source": []
  },
  {
   "cell_type": "code",
   "execution_count": 312,
   "metadata": {},
   "outputs": [
    {
     "data": {
      "text/plain": [
       "<matplotlib.collections.PathCollection at 0x13d4ff630>"
      ]
     },
     "execution_count": 312,
     "metadata": {},
     "output_type": "execute_result"
    },
    {
     "data": {
      "image/png": "[encoded data removed]",
      "text/plain": [
       "<Figure size 432x288 with 1 Axes>"
      ]
     },
     "metadata": {
      "needs_background": "light"
     },
     "output_type": "display_data"
    }
   ],
   "source": [
    "fig, ax = plt.subplots()\n",
    "plot_slice(model, Z, Y, dim=0, ax=ax, f_true=f_true)\n",
    "ax.scatter(inp[:,0], yhat.numpy().reshape(-1),color='red')\n",
    "\n",
    "yhat_model = model(inp,sample_input_layer=True, weights_type='sample').detach()\n",
    "ax.scatter(inp[:,0], yhat_model.numpy().reshape(-1),color='green')\n",
    "           "
   ]
  },
  {
   "cell_type": "code",
   "execution_count": 13,
   "metadata": {},
   "outputs": [
    {
     "data": {
      "image/png": "[encoded data removed]",
      "text/plain": [
       "<Figure size 720x288 with 2 Axes>"
      ]
     },
     "metadata": {
      "needs_background": "light"
     },
     "output_type": "display_data"
    }
   ],
   "source": [
    "fig, ax = plot_slices(model, Z, Y, x_plot=torch.linspace(-7,7,100).reshape(-1,1), figsize=(10,4))\n"
   ]
  },
  {
   "cell_type": "code",
   "execution_count": 14,
   "metadata": {},
   "outputs": [
    {
     "name": "stdout",
     "output_type": "stream",
     "text": [
      "layer_in.lognu_mu tensor([-0.0012])\n",
      "layer_in.lognu_logsig2 tensor([-8.9926])\n",
      "layer_in.logeta_mu tensor([0.0102, 0.0151])\n",
      "layer_in.logeta_logsig2 tensor([-9.0034, -8.9986])\n"
     ]
    }
   ],
   "source": [
    "for name, p in model.named_parameters():\n",
    "    print(name, p.detach())"
   ]
  },
  {
   "cell_type": "code",
   "execution_count": 15,
   "metadata": {},
   "outputs": [],
   "source": [
    "with torch.no_grad():\n",
    "    mu = model.layer_in.logeta_mu\n",
    "    sig2 = model.layer_in.logeta_logsig2.exp()\n",
    "\n",
    "    mean = torch.exp(mu + sig2/2)\n",
    "    var = (torch.exp(sig2)-1)*torch.exp(2*mu+sig2)"
   ]
  },
  {
   "cell_type": "code",
   "execution_count": 16,
   "metadata": {},
   "outputs": [
    {
     "data": {
      "text/plain": [
       "tensor([1.0103, 1.0153])"
      ]
     },
     "execution_count": 16,
     "metadata": {},
     "output_type": "execute_result"
    }
   ],
   "source": [
    "mean"
   ]
  },
  {
   "cell_type": "code",
   "execution_count": 17,
   "metadata": {},
   "outputs": [
    {
     "data": {
      "text/plain": [
       "tensor([0.0001, 0.0001])"
      ]
     },
     "execution_count": 17,
     "metadata": {},
     "output_type": "execute_result"
    }
   ],
   "source": [
    "var"
   ]
  },
  {
   "cell_type": "code",
   "execution_count": 18,
   "metadata": {},
   "outputs": [
    {
     "data": {
      "text/plain": [
       "Text(0, 0.5, 'horseshoe parameter (for variable selection)')"
      ]
     },
     "execution_count": 18,
     "metadata": {},
     "output_type": "execute_result"
    },
    {
     "data": {
      "image/png": "[encoded data removed]",
      "text/plain": [
       "<Figure size 144x288 with 1 Axes>"
      ]
     },
     "metadata": {
      "needs_background": "light"
     },
     "output_type": "display_data"
    }
   ],
   "source": [
    "fig, ax = plt.subplots(figsize=(2,4))\n",
    "ax.errorbar(np.arange(model.dim_in), mean.detach(), yerr=var.detach(), fmt='o')\n",
    "ax.set_ylim(0,1.1*mean.max())\n",
    "ax.set_xticks(np.arange(model.dim_in))\n",
    "ax.set_xticklabels(['x'+str(z) for z in range(dim_in)])\n",
    "ax.set_ylabel('horseshoe parameter (for variable selection)')"
   ]
  },
  {
   "cell_type": "markdown",
   "metadata": {},
   "source": [
    "#### GPy for comparison"
   ]
  },
  {
   "cell_type": "code",
   "execution_count": 29,
   "metadata": {},
   "outputs": [],
   "source": [
    "import GPy\n",
    "kernel = GPy.kern.RBF(input_dim=2, variance=1., lengthscale=1.)"
   ]
  },
  {
   "cell_type": "code",
   "execution_count": 30,
   "metadata": {},
   "outputs": [
    {
     "data": {
      "text/plain": [
       "[<paramz.optimization.optimization.opt_lbfgsb at 0x1436cdda0>,\n",
       " <paramz.optimization.optimization.opt_lbfgsb at 0x1435cd1d0>,\n",
       " <paramz.optimization.optimization.opt_lbfgsb at 0x1434be470>,\n",
       " <paramz.optimization.optimization.opt_lbfgsb at 0x1434beeb8>,\n",
       " <paramz.optimization.optimization.opt_lbfgsb at 0x1434be550>,\n",
       " <paramz.optimization.optimization.opt_lbfgsb at 0x1434bee48>,\n",
       " <paramz.optimization.optimization.opt_lbfgsb at 0x1434becf8>,\n",
       " <paramz.optimization.optimization.opt_lbfgsb at 0x1434befd0>,\n",
       " <paramz.optimization.optimization.opt_lbfgsb at 0x1434bee10>,\n",
       " <paramz.optimization.optimization.opt_lbfgsb at 0x1434be6a0>]"
      ]
     },
     "execution_count": 30,
     "metadata": {},
     "output_type": "execute_result"
    }
   ],
   "source": [
    "m = GPy.models.GPRegression(Z,Y,kernel)\n",
    "\n",
    "m.Gaussian_noise.variance = sig2\n",
    "m.Gaussian_noise.fix()\n",
    "m.optimize_restarts(num_restarts = 10, verbose=False)"
   ]
  },
  {
   "cell_type": "code",
   "execution_count": 41,
   "metadata": {},
   "outputs": [
    {
     "data": {
      "image/png": "[encoded data removed]",
      "text/plain": [
       "<Figure size 432x288 with 1 Axes>"
      ]
     },
     "metadata": {
      "needs_background": "light"
     },
     "output_type": "display_data"
    }
   ],
   "source": [
    "slices = [0]\n",
    "figure = GPy.plotting.plotting_library().figure(3, 1)\n",
    "for i, y in zip(range(3), slices):\n",
    "    canvas = m.plot(figure=figure, fixed_inputs=[(1,y)], row=(i+1), plot_data=True)\n",
    "#GPy.plotting.show(canvas, filename='basic_gp_regression_notebook_slicing')"
   ]
  },
  {
   "cell_type": "code",
   "execution_count": 42,
   "metadata": {},
   "outputs": [
    {
     "data": {
      "image/png": "[encoded data removed]",
      "text/plain": [
       "<Figure size 432x288 with 1 Axes>"
      ]
     },
     "metadata": {
      "needs_background": "light"
     },
     "output_type": "display_data"
    }
   ],
   "source": [
    "slices = [0]\n",
    "figure = GPy.plotting.plotting_library().figure(3, 1)\n",
    "for i, y in zip(range(3), slices):\n",
    "    canvas = m.plot(figure=figure, fixed_inputs=[(0,y)], row=(i+1), plot_data=True)\n",
    "#GPy.plotting.show(canvas, filename='basic_gp_regression_notebook_slicing_vertical')"
   ]
  },
  {
   "cell_type": "code",
   "execution_count": null,
   "metadata": {},
   "outputs": [],
   "source": [
    "### SIN dataset"
   ]
  },
  {
   "cell_type": "code",
   "execution_count": null,
   "metadata": {},
   "outputs": [],
   "source": []
  },
  {
   "cell_type": "code",
   "execution_count": null,
   "metadata": {},
   "outputs": [],
   "source": []
  },
  {
   "cell_type": "code",
   "execution_count": null,
   "metadata": {},
   "outputs": [],
   "source": []
  },
  {
   "cell_type": "code",
   "execution_count": 19,
   "metadata": {},
   "outputs": [],
   "source": [
    "m = torch.distributions.multivariate_normal.MultivariateNormal(torch.zeros(2), torch.eye(2))"
   ]
  },
  {
   "cell_type": "code",
   "execution_count": 31,
   "metadata": {},
   "outputs": [
    {
     "data": {
      "text/plain": [
       "torch.Size([10, 2])"
      ]
     },
     "execution_count": 31,
     "metadata": {},
     "output_type": "execute_result"
    }
   ],
   "source": [
    "m.sample((10,)).shape"
   ]
  },
  {
   "cell_type": "code",
   "execution_count": 35,
   "metadata": {},
   "outputs": [],
   "source": [
    "dist_nu = torch.distributions.log_normal.LogNormal(loc=model.layer_in.lognu_mu, \n",
    "                                                               scale=model.layer_in.lognu_logsig2.exp().sqrt())\n",
    "\n",
    "dist_eta = torch.distributions.log_normal.LogNormal(loc=model.layer_in.logeta_mu, \n",
    "                                                    scale=model.layer_in.logeta_logsig2.exp().sqrt())\n",
    "\n",
    "dist_beta = torch.distributions.multivariate_normal.MultivariateNormal(loc=model.layer_out.mu, \n",
    "                                                                       covariance_matrix=model.layer_out.sig2)\n"
   ]
  },
  {
   "cell_type": "code",
   "execution_count": 36,
   "metadata": {},
   "outputs": [],
   "source": [
    "n_samp = 3\n",
    "samp_nu = dist_nu.sample((n_samp,))\n",
    "samp_eta = dist_eta.sample((n_samp,))\n",
    "samp_beta = dist_beta.sample((n_samp,))"
   ]
  },
  {
   "cell_type": "code",
   "execution_count": 42,
   "metadata": {},
   "outputs": [],
   "source": [
    "X = torch.from_numpy(Z)"
   ]
  },
  {
   "cell_type": "code",
   "execution_count": 50,
   "metadata": {},
   "outputs": [
    {
     "data": {
      "text/plain": [
       "torch.Size([2, 50])"
      ]
     },
     "execution_count": 50,
     "metadata": {},
     "output_type": "execute_result"
    }
   ],
   "source": [
    "model.layer_in.w.T"
   ]
  },
  {
   "cell_type": "code",
   "execution_count": 47,
   "metadata": {},
   "outputs": [
    {
     "data": {
      "text/plain": [
       "torch.Size([3, 2])"
      ]
     },
     "execution_count": 47,
     "metadata": {},
     "output_type": "execute_result"
    }
   ],
   "source": [
    "samp_eta.shape"
   ]
  },
  {
   "cell_type": "code",
   "execution_count": 62,
   "metadata": {},
   "outputs": [
    {
     "data": {
      "text/plain": [
       "torch.Size([1, 2, 50])"
      ]
     },
     "execution_count": 62,
     "metadata": {},
     "output_type": "execute_result"
    }
   ],
   "source": [
    "torch.unsqueeze(model.layer_in.w.T,0).shape"
   ]
  },
  {
   "cell_type": "code",
   "execution_count": 60,
   "metadata": {},
   "outputs": [
    {
     "data": {
      "text/plain": [
       "torch.Size([3, 2, 1])"
      ]
     },
     "execution_count": 60,
     "metadata": {},
     "output_type": "execute_result"
    }
   ],
   "source": [
    "torch.unsqueeze(samp_eta, 2).shape"
   ]
  },
  {
   "cell_type": "code",
   "execution_count": 64,
   "metadata": {},
   "outputs": [
    {
     "data": {
      "text/plain": [
       "torch.Size([3, 2, 50])"
      ]
     },
     "execution_count": 64,
     "metadata": {},
     "output_type": "execute_result"
    }
   ],
   "source": [
    "temp = torch.unsqueeze(samp_eta, 2) * torch.unsqueeze(model.layer_in.w.T,0)\n",
    "temp.shape"
   ]
  },
  {
   "cell_type": "code",
   "execution_count": 71,
   "metadata": {},
   "outputs": [
    {
     "data": {
      "text/plain": [
       "torch.Size([50, 2])"
      ]
     },
     "execution_count": 71,
     "metadata": {},
     "output_type": "execute_result"
    }
   ],
   "source": [
    "model.layer_in.w.shape"
   ]
  },
  {
   "cell_type": "code",
   "execution_count": 68,
   "metadata": {},
   "outputs": [
    {
     "data": {
      "text/plain": [
       "torch.Size([100, 2])"
      ]
     },
     "execution_count": 68,
     "metadata": {},
     "output_type": "execute_result"
    }
   ],
   "source": [
    "X.shape"
   ]
  },
  {
   "cell_type": "code",
   "execution_count": 73,
   "metadata": {},
   "outputs": [],
   "source": [
    "torch.addbmm?"
   ]
  },
  {
   "cell_type": "code",
   "execution_count": null,
   "metadata": {},
   "outputs": [],
   "source": []
  },
  {
   "cell_type": "code",
   "execution_count": null,
   "metadata": {},
   "outputs": [],
   "source": []
  },
  {
   "cell_type": "code",
   "execution_count": 85,
   "metadata": {},
   "outputs": [],
   "source": [
    "samp_nu = dist_nu.sample()\n",
    "samp_eta = dist_eta.sample()\n",
    "samp_beta = dist_beta.sample()\n",
    "\n",
    "nu_eta_w = samp_nu*samp_eta*model.layer_in.w\n",
    "\n",
    "temp=torch.sin(F.linear(X, nu_eta_w, model.layer_in.b)).shape"
   ]
  },
  {
   "cell_type": "code",
   "execution_count": 90,
   "metadata": {},
   "outputs": [
    {
     "data": {
      "text/plain": [
       "torch.Size([50, 50])"
      ]
     },
     "execution_count": 90,
     "metadata": {},
     "output_type": "execute_result"
    }
   ],
   "source": [
    "torch.diag(nu_eta_w[:,1])"
   ]
  },
  {
   "cell_type": "code",
   "execution_count": 79,
   "metadata": {},
   "outputs": [
    {
     "data": {
      "text/plain": [
       "torch.Size([100, 50])"
      ]
     },
     "execution_count": 79,
     "metadata": {},
     "output_type": "execute_result"
    }
   ],
   "source": [
    "torch.sin(F.linear(X, samp_nu*samp_eta*model.layer_in.w, model.layer_in.b))"
   ]
  },
  {
   "cell_type": "code",
   "execution_count": 80,
   "metadata": {},
   "outputs": [
    {
     "data": {
      "text/plain": [
       "torch.Size([50, 2])"
      ]
     },
     "execution_count": 80,
     "metadata": {},
     "output_type": "execute_result"
    }
   ],
   "source": [
    "model.layer_in.w.shape"
   ]
  },
  {
   "cell_type": "code",
   "execution_count": null,
   "metadata": {},
   "outputs": [],
   "source": [
    "-sqrt(2/self.dim_out)\\\n",
    " *torch.sin(F.linear(torch.from_numpy(X), nu_eta_w, self.layer_in.b))\n",
    " *torch.diag(nu_eta_w[:,1])\n",
    " @samp_beta"
   ]
  },
  {
   "cell_type": "code",
   "execution_count": 108,
   "metadata": {},
   "outputs": [],
   "source": [
    "temp = torch.sin(F.linear(X, nu_eta_w, model.layer_in.b)) \\\n",
    " @ torch.diag(nu_eta_w[:,1]) \\\n",
    " @ samp_beta.T"
   ]
  },
  {
   "cell_type": "code",
   "execution_count": 109,
   "metadata": {},
   "outputs": [
    {
     "data": {
      "text/plain": [
       "torch.Size([100, 1])"
      ]
     },
     "execution_count": 109,
     "metadata": {},
     "output_type": "execute_result"
    }
   ],
   "source": [
    "temp.shape"
   ]
  },
  {
   "cell_type": "code",
   "execution_count": 110,
   "metadata": {},
   "outputs": [
    {
     "data": {
      "text/plain": [
       "torch.Size([100, 2])"
      ]
     },
     "execution_count": 110,
     "metadata": {},
     "output_type": "execute_result"
    }
   ],
   "source": [
    "X.shape"
   ]
  },
  {
   "cell_type": "code",
   "execution_count": 112,
   "metadata": {},
   "outputs": [],
   "source": [
    "X.requires_grad=True"
   ]
  },
  {
   "cell_type": "code",
   "execution_count": 114,
   "metadata": {},
   "outputs": [],
   "source": [
    "?torch.from_numpy?"
   ]
  },
  {
   "cell_type": "code",
   "execution_count": null,
   "metadata": {},
   "outputs": [],
   "source": [
    "?torch.from_numpy"
   ]
  },
  {
   "cell_type": "code",
   "execution_count": 126,
   "metadata": {},
   "outputs": [],
   "source": [
    "x = torch.randn((10,2),requires_grad=True)\n",
    "w = torch.randn((1,2))"
   ]
  },
  {
   "cell_type": "code",
   "execution_count": 127,
   "metadata": {},
   "outputs": [
    {
     "data": {
      "text/plain": [
       "tensor([[ 0.0086, -0.2584]])"
      ]
     },
     "execution_count": 127,
     "metadata": {},
     "output_type": "execute_result"
    }
   ],
   "source": [
    "w"
   ]
  },
  {
   "cell_type": "code",
   "execution_count": 128,
   "metadata": {},
   "outputs": [],
   "source": [
    "y = x @ w.T"
   ]
  },
  {
   "cell_type": "code",
   "execution_count": 129,
   "metadata": {},
   "outputs": [],
   "source": [
    "y.sum().backward()"
   ]
  },
  {
   "cell_type": "code",
   "execution_count": 130,
   "metadata": {},
   "outputs": [
    {
     "data": {
      "text/plain": [
       "tensor([[ 0.0086, -0.2584],\n",
       "        [ 0.0086, -0.2584],\n",
       "        [ 0.0086, -0.2584],\n",
       "        [ 0.0086, -0.2584],\n",
       "        [ 0.0086, -0.2584],\n",
       "        [ 0.0086, -0.2584],\n",
       "        [ 0.0086, -0.2584],\n",
       "        [ 0.0086, -0.2584],\n",
       "        [ 0.0086, -0.2584],\n",
       "        [ 0.0086, -0.2584]])"
      ]
     },
     "execution_count": 130,
     "metadata": {},
     "output_type": "execute_result"
    }
   ],
   "source": [
    "x.grad"
   ]
  },
  {
   "cell_type": "code",
   "execution_count": 131,
   "metadata": {},
   "outputs": [
    {
     "data": {
      "text/plain": [
       "torch.Size([10, 1])"
      ]
     },
     "execution_count": 131,
     "metadata": {},
     "output_type": "execute_result"
    }
   ],
   "source": [
    "y.shape"
   ]
  },
  {
   "cell_type": "code",
   "execution_count": 133,
   "metadata": {},
   "outputs": [
    {
     "data": {
      "text/plain": [
       "False"
      ]
     },
     "execution_count": 133,
     "metadata": {},
     "output_type": "execute_result"
    }
   ],
   "source": [
    "hasattr(model, 'forward2')"
   ]
  },
  {
   "cell_type": "code",
   "execution_count": null,
   "metadata": {},
   "outputs": [],
   "source": []
  }
 ],
 "metadata": {
  "kernelspec": {
   "display_name": "Python 3",
   "language": "python",
   "name": "python3"
  },
  "language_info": {
   "codemirror_mode": {
    "name": "ipython",
    "version": 3
   },
   "file_extension": ".py",
   "mimetype": "text/x-python",
   "name": "python",
   "nbconvert_exporter": "python",
   "pygments_lexer": "ipython3",
   "version": "3.7.3"
  }
 },
 "nbformat": 4,
 "nbformat_minor": 2
}
