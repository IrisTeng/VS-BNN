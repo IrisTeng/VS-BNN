{
 "cells": [
  {
   "cell_type": "code",
   "execution_count": 44,
   "metadata": {},
   "outputs": [],
   "source": [
    "import torch\n",
    "import torch.nn as nn\n",
    "import torch.nn.functional as F\n",
    "from torch.distributions.normal import Normal\n",
    "import numpy as np\n",
    "import matplotlib.pyplot as plt\n",
    "import importlib\n",
    "import seaborn as sns\n",
    "import sys\n",
    "\n",
    "import layers_v2 as layers\n",
    "import util as util\n",
    "import networks as networks\n",
    "import distributions\n",
    "\n",
    "torch.set_default_dtype(torch.float64)"
   ]
  },
  {
   "cell_type": "code",
   "execution_count": 45,
   "metadata": {},
   "outputs": [],
   "source": [
    "sys.path.insert(0, '../exp/')\n",
    "import util as util_data"
   ]
  },
  {
   "cell_type": "code",
   "execution_count": 46,
   "metadata": {},
   "outputs": [
    {
     "data": {
      "text/plain": [
       "<module 'distributions' from '/Users/beaucoker/Documents/git/VS-BNN/code/horseshoe/distributions.py'>"
      ]
     },
     "execution_count": 46,
     "metadata": {},
     "output_type": "execute_result"
    }
   ],
   "source": [
    "importlib.reload(layers)\n",
    "importlib.reload(util)\n",
    "importlib.reload(networks)\n",
    "importlib.reload(distributions)"
   ]
  },
  {
   "cell_type": "markdown",
   "metadata": {},
   "source": [
    "### Test LogitNormal"
   ]
  },
  {
   "cell_type": "code",
   "execution_count": 4,
   "metadata": {},
   "outputs": [
    {
     "data": {
      "text/plain": [
       "tensor([0.4725])"
      ]
     },
     "execution_count": 4,
     "metadata": {},
     "output_type": "execute_result"
    }
   ],
   "source": [
    "m = distributions.LogitNormal(torch.tensor([0.0]), torch.tensor([1.0]))\n",
    "m.sample()"
   ]
  },
  {
   "cell_type": "code",
   "execution_count": 5,
   "metadata": {},
   "outputs": [
    {
     "data": {
      "text/plain": [
       "tensor([0.4431])"
      ]
     },
     "execution_count": 5,
     "metadata": {},
     "output_type": "execute_result"
    }
   ],
   "source": [
    "m1 = distributions.LogitNormal(torch.tensor([0.0]), torch.tensor([1.0]))\n",
    "m2 = distributions.LogitNormal(torch.tensor([1.0]), torch.tensor([2.0]))\n",
    "\n",
    "torch.distributions.kl_divergence(m1, m2)"
   ]
  },
  {
   "cell_type": "code",
   "execution_count": null,
   "metadata": {},
   "outputs": [],
   "source": []
  },
  {
   "cell_type": "code",
   "execution_count": 17,
   "metadata": {},
   "outputs": [
    {
     "data": {
      "text/plain": [
       "[<matplotlib.lines.Line2D at 0x147c4fc50>]"
      ]
     },
     "execution_count": 17,
     "metadata": {},
     "output_type": "execute_result"
    },
    {
     "data": {
      "image/png": "[encoded data removed]",
      "text/plain": [
       "<Figure size 432x288 with 1 Axes>"
      ]
     },
     "metadata": {
      "needs_background": "light"
     },
     "output_type": "display_data"
    }
   ],
   "source": [
    "logit = lambda x: np.log(x/(1-x))\n",
    "\n",
    "def logitnormal_pdf(x, mu=0, sig2=1):\n",
    "    return 1/np.sqrt(2*np.pi*sig2)/(x*(1-x))*np.exp(-(logit(x)-mu)**2/(2*sig2))\n",
    "\n",
    "eps = .0001\n",
    "x = np.linspace(0+eps,1-eps,100)\n",
    "plt.plot(x, logitnormal_pdf(x,0,1))"
   ]
  },
  {
   "cell_type": "markdown",
   "metadata": {},
   "source": [
    "### Temp"
   ]
  },
  {
   "cell_type": "code",
   "execution_count": 20,
   "metadata": {
    "scrolled": true
   },
   "outputs": [
    {
     "data": {
      "text/plain": [
       "Parameter containing:\n",
       "tensor(2., requires_grad=True)"
      ]
     },
     "execution_count": 20,
     "metadata": {},
     "output_type": "execute_result"
    }
   ],
   "source": [
    "a = nn.Parameter(torch.tensor(1.0))\n",
    "b = a\n",
    "a.data = torch.tensor(2.0)\n",
    "b"
   ]
  },
  {
   "cell_type": "code",
   "execution_count": 25,
   "metadata": {},
   "outputs": [
    {
     "data": {
      "text/plain": [
       "Parameter containing:\n",
       "tensor(2., requires_grad=True)"
      ]
     },
     "execution_count": 25,
     "metadata": {},
     "output_type": "execute_result"
    }
   ],
   "source": [
    "a = nn.Parameter(torch.tensor(1.0))\n",
    "m = torch.distributions.normal.Normal(a, torch.tensor(3.0))\n",
    "a.data = torch.tensor(2.0)\n",
    "m.loc"
   ]
  },
  {
   "cell_type": "code",
   "execution_count": 37,
   "metadata": {},
   "outputs": [
    {
     "data": {
      "text/plain": [
       "tensor(1., grad_fn=<AbsBackward>)"
      ]
     },
     "execution_count": 37,
     "metadata": {},
     "output_type": "execute_result"
    }
   ],
   "source": [
    "a = nn.Parameter(torch.tensor(-1.0))\n",
    "t = torch.distributions.transforms.AbsTransform()\n",
    "b = t(a)\n",
    "a.data = torch.tensor(-2.0)\n",
    "b"
   ]
  },
  {
   "cell_type": "code",
   "execution_count": 46,
   "metadata": {},
   "outputs": [
    {
     "name": "stdout",
     "output_type": "stream",
     "text": [
      "tensor(0.3133, grad_fn=<SoftplusBackward>)\n",
      "tensor(0.3133, grad_fn=<SoftplusBackward>)\n",
      "tensor(0.1269, grad_fn=<SoftplusBackward>)\n"
     ]
    }
   ],
   "source": [
    "a = nn.Parameter(torch.tensor(-1.0))\n",
    "t = torch.nn.Softplus()\n",
    "b = t(a)\n",
    "print(b)\n",
    "a.data = torch.tensor(-2.0)\n",
    "print(b)\n",
    "print(t(a))"
   ]
  },
  {
   "cell_type": "code",
   "execution_count": 29,
   "metadata": {},
   "outputs": [
    {
     "data": {
      "text/plain": [
       "tensor(1., grad_fn=<AbsBackward>)"
      ]
     },
     "execution_count": 29,
     "metadata": {},
     "output_type": "execute_result"
    }
   ],
   "source": [
    "b"
   ]
  },
  {
   "cell_type": "code",
   "execution_count": 57,
   "metadata": {},
   "outputs": [
    {
     "data": {
      "text/plain": [
       "tensor(-2.4578)"
      ]
     },
     "execution_count": 57,
     "metadata": {},
     "output_type": "execute_result"
    }
   ],
   "source": [
    "loc = nn.Parameter(torch.tensor(0.0))\n",
    "scale = nn.Parameter(torch.tensor(1.0))\n",
    "\n",
    "loss = (1.0 - (loc + torch.randn(1)*scale))**2\n",
    "loss.backward()\n",
    "loc.grad"
   ]
  },
  {
   "cell_type": "code",
   "execution_count": 59,
   "metadata": {},
   "outputs": [
    {
     "data": {
      "text/plain": [
       "tensor(-3.9945)"
      ]
     },
     "execution_count": 59,
     "metadata": {},
     "output_type": "execute_result"
    }
   ],
   "source": [
    "loc = nn.Parameter(torch.tensor(0.0))\n",
    "scale = nn.Parameter(torch.tensor(1.0))\n",
    "\n",
    "m = torch.distributions.normal.Normal(loc,scale)\n",
    "\n",
    "loss = (1.0 - m.rsample())**2\n",
    "loss.backward()\n",
    "loc.grad"
   ]
  },
  {
   "cell_type": "code",
   "execution_count": 71,
   "metadata": {},
   "outputs": [
    {
     "data": {
      "text/plain": [
       "tensor(-17.6694)"
      ]
     },
     "execution_count": 71,
     "metadata": {},
     "output_type": "execute_result"
    }
   ],
   "source": [
    "m = torch.distributions.normal.Normal(torch.tensor(0.0),torch.tensor(-100.0))\n",
    "m.sample()"
   ]
  },
  {
   "cell_type": "code",
   "execution_count": 88,
   "metadata": {},
   "outputs": [
    {
     "data": {
      "text/plain": [
       "tensor(1120.5515)"
      ]
     },
     "execution_count": 88,
     "metadata": {},
     "output_type": "execute_result"
    }
   ],
   "source": [
    "torch.normal(torch.tensor(0.), torch.tensor(-1000.))"
   ]
  },
  {
   "cell_type": "code",
   "execution_count": 90,
   "metadata": {},
   "outputs": [
    {
     "data": {
      "text/plain": [
       "GreaterThan(lower_bound=0.0)"
      ]
     },
     "execution_count": 90,
     "metadata": {},
     "output_type": "execute_result"
    }
   ],
   "source": [
    "torch.distributions.normal.Normal.arg_constraints['scale']"
   ]
  },
  {
   "cell_type": "code",
   "execution_count": 97,
   "metadata": {},
   "outputs": [],
   "source": [
    "transform_to = torch.distributions.constraint_registry.ConstraintRegistry()\n",
    "\n",
    "@transform_to.register(torch.distributions.constraints.positive)\n",
    "def _transform_to_positive(constraint):\n",
    "    return torch.distributions.transforms.ExpTransform()"
   ]
  },
  {
   "cell_type": "code",
   "execution_count": 99,
   "metadata": {},
   "outputs": [],
   "source": [
    "constraint = torch.distributions.normal.Normal.arg_constraints['scale']\n",
    "scale = transform_to(constraint)(torch.zeros(1))  # constrained\n",
    "u = transform_to(constraint).inv(scale)"
   ]
  },
  {
   "cell_type": "code",
   "execution_count": 106,
   "metadata": {},
   "outputs": [
    {
     "name": "stdout",
     "output_type": "stream",
     "text": [
      "Parameter containing:\n",
      "tensor(-1., requires_grad=True)\n",
      "tensor(-1., grad_fn=<LogBackward>)\n",
      "Parameter containing:\n",
      "tensor(-2., requires_grad=True)\n",
      "tensor(-1., grad_fn=<LogBackward>)\n"
     ]
    }
   ],
   "source": [
    "a = nn.Parameter(torch.tensor(-1.0))\n",
    "scale = transform_to(constraint)(a)  # constrained\n",
    "print(a)\n",
    "print(torch.log(scale))\n",
    "a.data = torch.tensor(-2.0)\n",
    "print(a)\n",
    "print(torch.log(scale))"
   ]
  },
  {
   "cell_type": "code",
   "execution_count": null,
   "metadata": {},
   "outputs": [],
   "source": [
    "a = nn.Parameter(torch.tensor(-1.0))\n",
    "t = torch.distributions.transforms.AbsTransform()\n",
    "b = t(a)\n",
    "a.data = torch.tensor(-2.0)\n",
    "b"
   ]
  },
  {
   "cell_type": "markdown",
   "metadata": {},
   "source": [
    "### SIN dataset"
   ]
  },
  {
   "cell_type": "code",
   "execution_count": 47,
   "metadata": {},
   "outputs": [],
   "source": [
    "n_obs = 100\n",
    "dim_in = 2\n",
    "Z, X, Y, sig2 = util_data.load_data('sin', n_obs=n_obs, dim_in=dim_in, sig2=.01, seed=0)\n"
   ]
  },
  {
   "cell_type": "code",
   "execution_count": 48,
   "metadata": {},
   "outputs": [
    {
     "data": {
      "text/plain": [
       "<matplotlib.collections.PathCollection at 0x15057a080>"
      ]
     },
     "execution_count": 48,
     "metadata": {},
     "output_type": "execute_result"
    },
    {
     "data": {
      "image/png": "[encoded data removed]",
      "text/plain": [
       "<Figure size 432x288 with 1 Axes>"
      ]
     },
     "metadata": {
      "needs_background": "light"
     },
     "output_type": "display_data"
    }
   ],
   "source": [
    "plt.scatter(Z[:,0],Y)"
   ]
  },
  {
   "cell_type": "code",
   "execution_count": 82,
   "metadata": {},
   "outputs": [
    {
     "data": {
      "text/plain": [
       "<module 'distributions' from '/Users/beaucoker/Documents/git/VS-BNN/code/horseshoe/distributions.py'>"
      ]
     },
     "execution_count": 82,
     "metadata": {},
     "output_type": "execute_result"
    }
   ],
   "source": [
    "importlib.reload(layers)\n",
    "importlib.reload(util)\n",
    "importlib.reload(networks)\n",
    "importlib.reload(distributions)"
   ]
  },
  {
   "cell_type": "code",
   "execution_count": 83,
   "metadata": {},
   "outputs": [],
   "source": [
    "# logitnormal\n",
    "torch.manual_seed(2)\n",
    "model = networks.RffHs(dim_in, 1, dim_hidden=50, sig2_inv=1/sig2, \\\n",
    "                       layer_in_name='RffVarSelectLogitNormalLayer',\\\n",
    "                       s_loc_prior=0.5,\n",
    "                       s_scale_prior=1.0)\n"
   ]
  },
  {
   "cell_type": "code",
   "execution_count": 31,
   "metadata": {},
   "outputs": [
    {
     "data": {
      "text/plain": [
       "[<matplotlib.lines.Line2D at 0x14f137f28>]"
      ]
     },
     "execution_count": 31,
     "metadata": {},
     "output_type": "execute_result"
    },
    {
     "data": {
      "image/png": "[encoded data removed]",
      "text/plain": [
       "<Figure size 432x288 with 1 Axes>"
      ]
     },
     "metadata": {
      "needs_background": "light"
     },
     "output_type": "display_data"
    }
   ],
   "source": [
    "eps = .0001\n",
    "x = np.linspace(0+eps,1-eps,100)\n",
    "\n",
    "logit = lambda x: np.log(x/(1-x))\n",
    "\n",
    "def logitnormal_pdf(x, mu=0, sig2=1):\n",
    "    return 1/np.sqrt(2*np.pi*sig2)/(x*(1-x))*np.exp(-(logit(x)-mu)**2/(2*sig2))\n",
    "\n",
    "\n",
    "loc = model.layer_in.s_loc_prior.item()\n",
    "scale = model.layer_in.s_loc_prior.item()\n",
    "plt.plot(x, logitnormal_pdf(x,loc,scale**2), color='blue',label='s0')"
   ]
  },
  {
   "cell_type": "code",
   "execution_count": 38,
   "metadata": {},
   "outputs": [],
   "source": [
    "# beta\n",
    "torch.manual_seed(2)\n",
    "model = networks.RffHs(dim_in, 1, dim_hidden=50, sig2_inv=1/sig2, \\\n",
    "                       layer_in_name='RffVarSelectBetaLayer',\\\n",
    "                       s_a_prior=3,\n",
    "                       s_b_prior=2)"
   ]
  },
  {
   "cell_type": "code",
   "execution_count": 39,
   "metadata": {},
   "outputs": [
    {
     "data": {
      "text/plain": [
       "[<matplotlib.lines.Line2D at 0x14f296fd0>]"
      ]
     },
     "execution_count": 39,
     "metadata": {},
     "output_type": "execute_result"
    },
    {
     "data": {
      "image/png": "[encoded data removed]",
      "text/plain": [
       "<Figure size 432x288 with 1 Axes>"
      ]
     },
     "metadata": {
      "needs_background": "light"
     },
     "output_type": "display_data"
    }
   ],
   "source": [
    "eps = .0001\n",
    "x = np.linspace(0+eps,1-eps,100)\n",
    "import scipy\n",
    "\n",
    "a = model.layer_in.s_a_prior.item()\n",
    "b = model.layer_in.s_b_prior.item()\n",
    "plt.plot(x, scipy.stats.beta.pdf(x,a,b), color='blue',label='s0')\n"
   ]
  },
  {
   "cell_type": "code",
   "execution_count": 40,
   "metadata": {},
   "outputs": [
    {
     "data": {
      "image/png": "[encoded data removed]",
      "text/plain": [
       "<Figure size 576x288 with 2 Axes>"
      ]
     },
     "metadata": {
      "needs_background": "light"
     },
     "output_type": "display_data"
    }
   ],
   "source": [
    "def sample_f_prior(x):\n",
    "    with torch.no_grad():\n",
    "        return model.forward(torch.from_numpy(x), weights_type_layer_in='sample_prior', weights_type_layer_out='sample_prior')\n",
    "\n",
    "fig, ax = util.plot_slices(sample_f_prior, Z, Y, quantile=.5, n_samp=50, figsize=(4*2,4))\n"
   ]
  },
  {
   "cell_type": "code",
   "execution_count": 41,
   "metadata": {},
   "outputs": [],
   "source": [
    "torch.manual_seed(2)\n",
    "#optimizer = torch.optim.Adam(model.parameters(), lr=.001)\n",
    "optimizer = torch.optim.Adam(model.parameters(), lr=.01)\n",
    "model.reinit_parameters(torch.from_numpy(Z),torch.from_numpy(Y),n_reinit=10) \n"
   ]
  },
  {
   "cell_type": "code",
   "execution_count": 42,
   "metadata": {
    "scrolled": true
   },
   "outputs": [
    {
     "name": "stdout",
     "output_type": "stream",
     "text": [
      "layer_in.s_a_trans tensor([1.0013, 1.0061])\n",
      "layer_in.s_b_trans tensor([0.9967, 1.0084])\n"
     ]
    }
   ],
   "source": [
    "for name, p in model.named_parameters():\n",
    "    print(name, p.detach())"
   ]
  },
  {
   "cell_type": "code",
   "execution_count": 277,
   "metadata": {},
   "outputs": [],
   "source": [
    "q = model.layer_in.get_variational()"
   ]
  },
  {
   "cell_type": "code",
   "execution_count": 286,
   "metadata": {},
   "outputs": [
    {
     "data": {
      "text/plain": [
       "torch.Size([3, 2])"
      ]
     },
     "execution_count": 286,
     "metadata": {},
     "output_type": "execute_result"
    }
   ],
   "source": [
    "q.sample((3,)).shape"
   ]
  },
  {
   "cell_type": "code",
   "execution_count": 285,
   "metadata": {},
   "outputs": [
    {
     "data": {
      "text/plain": [
       "torch.Size([2])"
      ]
     },
     "execution_count": 285,
     "metadata": {},
     "output_type": "execute_result"
    }
   ],
   "source": [
    "q.sample().shape"
   ]
  },
  {
   "cell_type": "code",
   "execution_count": null,
   "metadata": {},
   "outputs": [],
   "source": []
  },
  {
   "cell_type": "code",
   "execution_count": 296,
   "metadata": {},
   "outputs": [
    {
     "data": {
      "text/plain": [
       "torch.Size([4, 3])"
      ]
     },
     "execution_count": 296,
     "metadata": {},
     "output_type": "execute_result"
    }
   ],
   "source": [
    "D = 2 # dimension of input\n",
    "K = 3 # number of hidden units\n",
    "N = 4 # number of observations\n",
    "S = 1 # number of samples from q\n",
    "\n",
    "s = torch.ones((S,D))\n",
    "w = torch.ones((K,D))\n",
    "x = torch.ones((N,D))\n",
    "\n",
    "xs = x.unsqueeze(1) * s.unsqueeze(0)\n",
    "\n",
    "torch.squeeze(F.linear(xs,w)).shape"
   ]
  },
  {
   "cell_type": "code",
   "execution_count": 289,
   "metadata": {},
   "outputs": [
    {
     "data": {
      "text/plain": [
       "torch.Size([4, 1, 2])"
      ]
     },
     "execution_count": 289,
     "metadata": {},
     "output_type": "execute_result"
    }
   ],
   "source": [
    "x.unsqueeze(1).shape"
   ]
  },
  {
   "cell_type": "code",
   "execution_count": 294,
   "metadata": {},
   "outputs": [
    {
     "data": {
      "text/plain": [
       "torch.Size([1, 5, 2])"
      ]
     },
     "execution_count": 294,
     "metadata": {},
     "output_type": "execute_result"
    }
   ],
   "source": [
    "s.unsqueeze(0).shape"
   ]
  },
  {
   "cell_type": "code",
   "execution_count": 79,
   "metadata": {},
   "outputs": [
    {
     "data": {
      "text/plain": [
       "torch.Size([1, 1, 2])"
      ]
     },
     "execution_count": 79,
     "metadata": {},
     "output_type": "execute_result"
    }
   ],
   "source": [
    "s.view(1,1,-1)."
   ]
  },
  {
   "cell_type": "code",
   "execution_count": 76,
   "metadata": {},
   "outputs": [
    {
     "data": {
      "text/plain": [
       "torch.Size([3, 1])"
      ]
     },
     "execution_count": 76,
     "metadata": {},
     "output_type": "execute_result"
    }
   ],
   "source": [
    "x.shape"
   ]
  },
  {
   "cell_type": "code",
   "execution_count": 84,
   "metadata": {},
   "outputs": [
    {
     "data": {
      "text/plain": [
       "tensor([[1, 1, 1, 1],\n",
       "        [2, 2, 2, 2],\n",
       "        [3, 3, 3, 3]])"
      ]
     },
     "execution_count": 84,
     "metadata": {},
     "output_type": "execute_result"
    }
   ],
   "source": [
    "x = torch.tensor([[1], [2], [3]])\n",
    "\n",
    "x.expand(-1, 4)"
   ]
  },
  {
   "cell_type": "code",
   "execution_count": 77,
   "metadata": {},
   "outputs": [
    {
     "data": {
      "text/plain": [
       "torch.Size([3, 4])"
      ]
     },
     "execution_count": 77,
     "metadata": {},
     "output_type": "execute_result"
    }
   ],
   "source": [
    "x.expand(3, 4).shape"
   ]
  },
  {
   "cell_type": "code",
   "execution_count": 72,
   "metadata": {},
   "outputs": [
    {
     "ename": "RuntimeError",
     "evalue": "The expanded size of the tensor (1) must match the existing size (3) at non-singleton dimension 1.  Target sizes: [3, 1].  Tensor sizes: [1, 3]",
     "output_type": "error",
     "traceback": [
      "\u001b[0;31m---------------------------------------------------------------------------\u001b[0m",
      "\u001b[0;31mRuntimeError\u001b[0m                              Traceback (most recent call last)",
      "\u001b[0;32m<ipython-input-72-a1d1ecf30192>\u001b[0m in \u001b[0;36m<module>\u001b[0;34m\u001b[0m\n\u001b[1;32m      1\u001b[0m \u001b[0mx\u001b[0m \u001b[0;34m=\u001b[0m \u001b[0mtorch\u001b[0m\u001b[0;34m.\u001b[0m\u001b[0mtensor\u001b[0m\u001b[0;34m(\u001b[0m\u001b[0;34m[\u001b[0m\u001b[0;34m[\u001b[0m\u001b[0;36m1\u001b[0m\u001b[0;34m,\u001b[0m\u001b[0;36m2\u001b[0m\u001b[0;34m,\u001b[0m\u001b[0;36m3\u001b[0m\u001b[0;34m]\u001b[0m\u001b[0;34m]\u001b[0m\u001b[0;34m)\u001b[0m\u001b[0;34m\u001b[0m\u001b[0;34m\u001b[0m\u001b[0m\n\u001b[0;32m----> 2\u001b[0;31m \u001b[0mx\u001b[0m\u001b[0;34m.\u001b[0m\u001b[0mexpand\u001b[0m\u001b[0;34m(\u001b[0m\u001b[0;36m3\u001b[0m\u001b[0;34m,\u001b[0m\u001b[0;36m1\u001b[0m\u001b[0;34m)\u001b[0m\u001b[0;34m\u001b[0m\u001b[0;34m\u001b[0m\u001b[0m\n\u001b[0m",
      "\u001b[0;31mRuntimeError\u001b[0m: The expanded size of the tensor (1) must match the existing size (3) at non-singleton dimension 1.  Target sizes: [3, 1].  Tensor sizes: [1, 3]"
     ]
    }
   ],
   "source": [
    "x = torch.tensor([[1,2,3]])\n",
    "x.expand(3,1)"
   ]
  },
  {
   "cell_type": "code",
   "execution_count": 297,
   "metadata": {},
   "outputs": [
    {
     "data": {
      "text/plain": [
       "[torch.Size([5, 2, 1]), torch.Size([])]"
      ]
     },
     "execution_count": 297,
     "metadata": {},
     "output_type": "execute_result"
    }
   ],
   "source": [
    "# dimensions of m are observations\n",
    "N = 5 # number of observations\n",
    "S = 2 # number of samples from q\n",
    "D = 1 # output dimension\n",
    "\n",
    "loc = torch.randn((N,S,D)) # network output\n",
    "scale = torch.tensor(1.0)\n",
    "\n",
    "m = torch.distributions.normal.Normal(loc, scale)\n",
    "[m.batch_shape, m.event_shape]"
   ]
  },
  {
   "cell_type": "code",
   "execution_count": 308,
   "metadata": {},
   "outputs": [
    {
     "data": {
      "text/plain": [
       "torch.Size([5, 2, 1])"
      ]
     },
     "execution_count": 308,
     "metadata": {},
     "output_type": "execute_result"
    }
   ],
   "source": [
    "data = torch.ones((N,D))\n",
    "m.log_prob(data.unsqueeze(1)).shape"
   ]
  },
  {
   "cell_type": "code",
   "execution_count": 309,
   "metadata": {},
   "outputs": [
    {
     "data": {
      "text/plain": [
       "tensor([[[-0.9855],\n",
       "         [-2.0768]],\n",
       "\n",
       "        [[-2.0024],\n",
       "         [-0.9379]],\n",
       "\n",
       "        [[-4.9539],\n",
       "         [-1.4323]],\n",
       "\n",
       "        [[-1.2106],\n",
       "         [-3.7649]],\n",
       "\n",
       "        [[-4.0840],\n",
       "         [-1.4917]]])"
      ]
     },
     "execution_count": 309,
     "metadata": {},
     "output_type": "execute_result"
    }
   ],
   "source": [
    "m.log_prob(data.unsqueeze(1))"
   ]
  },
  {
   "cell_type": "code",
   "execution_count": 303,
   "metadata": {},
   "outputs": [
    {
     "data": {
      "text/plain": [
       "tensor([-11.4700])"
      ]
     },
     "execution_count": 303,
     "metadata": {},
     "output_type": "execute_result"
    }
   ],
   "source": [
    "m.log_prob(data.unsqueeze(1)).mean(1).sum(0)"
   ]
  },
  {
   "cell_type": "code",
   "execution_count": 301,
   "metadata": {},
   "outputs": [
    {
     "data": {
      "text/plain": [
       "[torch.Size([5, 2]), torch.Size([1])]"
      ]
     },
     "execution_count": 301,
     "metadata": {},
     "output_type": "execute_result"
    }
   ],
   "source": [
    "diagm = torch.distributions.independent.Independent(m,1)\n",
    "[diagm.batch_shape, diagm.event_shape]"
   ]
  },
  {
   "cell_type": "code",
   "execution_count": 270,
   "metadata": {},
   "outputs": [
    {
     "data": {
      "text/plain": [
       "tensor([-3.5973, -5.4053, -3.3917, -3.4972, -4.3453])"
      ]
     },
     "execution_count": 270,
     "metadata": {},
     "output_type": "execute_result"
    }
   ],
   "source": [
    "data = torch.ones((N,S,D))\n",
    "diagm.log_prob(data)"
   ]
  },
  {
   "cell_type": "code",
   "execution_count": null,
   "metadata": {},
   "outputs": [],
   "source": []
  },
  {
   "cell_type": "code",
   "execution_count": null,
   "metadata": {},
   "outputs": [],
   "source": []
  },
  {
   "cell_type": "code",
   "execution_count": 224,
   "metadata": {},
   "outputs": [
    {
     "data": {
      "text/plain": [
       "[torch.Size([2]), torch.Size([])]"
      ]
     },
     "execution_count": 224,
     "metadata": {},
     "output_type": "execute_result"
    }
   ],
   "source": [
    "# dimensions of m are observations\n",
    "loc = torch.tensor([0.,0.])\n",
    "scale = torch.tensor(1.0)\n",
    "\n",
    "m = torch.distributions.normal.Normal(loc.view(-1), scale)\n",
    "[m.batch_shape, m.event_shape]"
   ]
  },
  {
   "cell_type": "code",
   "execution_count": 233,
   "metadata": {},
   "outputs": [
    {
     "data": {
      "text/plain": [
       "tensor([[ 0.1994, -1.3322],\n",
       "        [ 0.3696, -0.4417],\n",
       "        [ 1.0378,  0.1359],\n",
       "        [ 0.0681, -1.8377],\n",
       "        [-0.8369, -0.9166]])"
      ]
     },
     "execution_count": 233,
     "metadata": {},
     "output_type": "execute_result"
    }
   ],
   "source": [
    "S = 5\n",
    "y=torch.randn(S, 2) \n",
    "y"
   ]
  },
  {
   "cell_type": "code",
   "execution_count": 234,
   "metadata": {},
   "outputs": [
    {
     "data": {
      "text/plain": [
       "tensor([[-0.9388, -1.8063],\n",
       "        [-0.9872, -1.0165],\n",
       "        [-1.4574, -0.9282],\n",
       "        [-0.9213, -2.6076],\n",
       "        [-1.2691, -1.3390]])"
      ]
     },
     "execution_count": 234,
     "metadata": {},
     "output_type": "execute_result"
    }
   ],
   "source": [
    "m.log_prob(y)"
   ]
  },
  {
   "cell_type": "code",
   "execution_count": null,
   "metadata": {},
   "outputs": [],
   "source": []
  },
  {
   "cell_type": "code",
   "execution_count": null,
   "metadata": {},
   "outputs": [],
   "source": []
  },
  {
   "cell_type": "code",
   "execution_count": 168,
   "metadata": {},
   "outputs": [
    {
     "data": {
      "text/plain": [
       "tensor([[-0.9634],\n",
       "        [-0.9775]])"
      ]
     },
     "execution_count": 168,
     "metadata": {},
     "output_type": "execute_result"
    }
   ],
   "source": [
    "m.log_prob(y)"
   ]
  },
  {
   "cell_type": "code",
   "execution_count": 229,
   "metadata": {},
   "outputs": [
    {
     "data": {
      "text/plain": [
       "tensor(-2.1879)"
      ]
     },
     "execution_count": 229,
     "metadata": {},
     "output_type": "execute_result"
    }
   ],
   "source": [
    "m.log_prob(y).mean(0).sum()"
   ]
  },
  {
   "cell_type": "code",
   "execution_count": 152,
   "metadata": {},
   "outputs": [
    {
     "data": {
      "text/plain": [
       "tensor([0.4247, 0.7341])"
      ]
     },
     "execution_count": 152,
     "metadata": {},
     "output_type": "execute_result"
    }
   ],
   "source": [
    "y=torch.randn(2) # first dimension could be anything (like samples), second dimension is observations\n",
    "y"
   ]
  },
  {
   "cell_type": "code",
   "execution_count": 154,
   "metadata": {},
   "outputs": [
    {
     "data": {
      "text/plain": [
       "tensor([[-1.0091, -1.0091],\n",
       "        [-1.1884, -1.1884]])"
      ]
     },
     "execution_count": 154,
     "metadata": {},
     "output_type": "execute_result"
    }
   ],
   "source": [
    "m.log_prob(y.reshape(-1,1))"
   ]
  },
  {
   "cell_type": "code",
   "execution_count": 156,
   "metadata": {},
   "outputs": [
    {
     "data": {
      "text/plain": [
       "torch.Size([2, 1])"
      ]
     },
     "execution_count": 156,
     "metadata": {},
     "output_type": "execute_result"
    }
   ],
   "source": [
    "y.reshape(-1,1).shape"
   ]
  },
  {
   "cell_type": "code",
   "execution_count": 43,
   "metadata": {
    "scrolled": true
   },
   "outputs": [
    {
     "name": "stdout",
     "output_type": "stream",
     "text": [
      "Epoch[1/1000], kl: 3.050004, likelihood: -22693.579146, elbo: -22935.835146\n",
      "Epoch[2/1000], kl: 13.794821, likelihood: -2489.607456, elbo: -2477.544470\n",
      "Epoch[3/1000], kl: 15.144655, likelihood: -2454.934210, elbo: -2478.862202\n",
      "Epoch[4/1000], kl: 15.706383, likelihood: -2599.089872, elbo: -4035.040206\n",
      "Epoch[5/1000], kl: 24.689842, likelihood: -2935.286137, elbo: -2828.304801\n",
      "Epoch[6/1000], kl: 31.097433, likelihood: -2806.236798, elbo: -2723.773770\n",
      "Epoch[7/1000], kl: 35.856251, likelihood: -2502.200256, elbo: -2592.934763\n",
      "Epoch[8/1000], kl: 36.119682, likelihood: -13746.663947, elbo: -13679.592926\n",
      "Epoch[9/1000], kl: 45.367174, likelihood: -4369.680860, elbo: -8919.735623\n",
      "Epoch[10/1000], kl: 81.981834, likelihood: -2500.753650, elbo: -2599.401830\n",
      "Epoch[11/1000], kl: 85.701607, likelihood: -2413.421085, elbo: -2606.072327\n",
      "Epoch[12/1000], kl: 88.187250, likelihood: -3016.929060, elbo: -3150.921600\n",
      "Epoch[13/1000], kl: 101.072042, likelihood: -2611.189411, elbo: -2804.510279\n",
      "Epoch[14/1000], kl: 109.565642, likelihood: -3015.499150, elbo: -2934.107890\n",
      "Epoch[15/1000], kl: 130.845204, likelihood: -2455.656611, elbo: -2543.560431\n",
      "Epoch[16/1000], kl: 138.598445, likelihood: -2508.836366, elbo: -2640.156336\n",
      "Epoch[17/1000], kl: 143.752184, likelihood: -2775.482223, elbo: -2554.672346\n",
      "Epoch[18/1000], kl: 146.688740, likelihood: -2412.538767, elbo: -2557.511672\n",
      "Epoch[19/1000], kl: 147.186929, likelihood: -2462.915864, elbo: -2607.023730\n",
      "Epoch[20/1000], kl: 150.535562, likelihood: -2642.839441, elbo: -2836.807120\n",
      "Epoch[21/1000], kl: 162.283426, likelihood: -2473.512181, elbo: -2596.934736\n",
      "Epoch[22/1000], kl: 168.607874, likelihood: -2442.587011, elbo: -2591.825255\n",
      "Epoch[23/1000], kl: 174.833089, likelihood: -2410.944219, elbo: -2621.988718\n",
      "Epoch[24/1000], kl: 183.419197, likelihood: -2415.598547, elbo: -2590.241861\n",
      "Epoch[25/1000], kl: 183.530253, likelihood: -2441.869684, elbo: -2602.269749\n",
      "Epoch[26/1000], kl: 186.331041, likelihood: -2458.801999, elbo: -2628.121295\n",
      "Epoch[27/1000], kl: 195.606126, likelihood: -3049.627915, elbo: -2672.991955\n",
      "Epoch[28/1000], kl: 218.745845, likelihood: -2527.653220, elbo: -2639.942336\n",
      "Epoch[29/1000], kl: 229.662174, likelihood: -2430.557005, elbo: -2683.765610\n",
      "Epoch[30/1000], kl: 240.318729, likelihood: -2440.222320, elbo: -2681.124425\n",
      "Epoch[31/1000], kl: 254.370313, likelihood: -2472.064368, elbo: -2697.566651\n",
      "Epoch[32/1000], kl: 263.803972, likelihood: -2418.554248, elbo: -2680.912869\n",
      "Epoch[33/1000], kl: 265.398620, likelihood: -2407.037187, elbo: -2672.510286\n",
      "Epoch[34/1000], kl: 260.666215, likelihood: -2410.056922, elbo: -2686.408137\n",
      "Epoch[35/1000], kl: 256.463679, likelihood: -2412.263288, elbo: -2667.040240\n",
      "Epoch[36/1000], kl: 252.600906, likelihood: -2404.396763, elbo: -2671.541599\n",
      "Epoch[37/1000], kl: 246.455745, likelihood: -2413.190223, elbo: -2663.307131\n",
      "Epoch[38/1000], kl: 243.180912, likelihood: -2454.610749, elbo: -2711.499970\n",
      "Epoch[39/1000], kl: 260.482174, likelihood: -2979.983296, elbo: -3977.405715\n",
      "Epoch[40/1000], kl: 415.297858, likelihood: -2471.602573, elbo: -2847.830808\n",
      "Epoch[41/1000], kl: 442.547476, likelihood: -2415.520484, elbo: -2848.183889\n",
      "Epoch[42/1000], kl: 417.666979, likelihood: -2406.798771, elbo: -2849.742992\n",
      "Epoch[43/1000], kl: 394.066334, likelihood: -2433.246033, elbo: -2865.790339\n",
      "Epoch[44/1000], kl: 398.230079, likelihood: -2430.139914, elbo: -2857.729299\n",
      "Epoch[45/1000], kl: 377.156267, likelihood: -2403.389919, elbo: -2785.014079\n",
      "Epoch[46/1000], kl: 347.231049, likelihood: -2414.498678, elbo: -2760.920437\n",
      "Epoch[47/1000], kl: 335.855264, likelihood: -2461.954773, elbo: -2764.636298\n",
      "Epoch[48/1000], kl: 346.111532, likelihood: -2408.983945, elbo: -2858.593576\n",
      "Epoch[49/1000], kl: 325.298622, likelihood: -2418.666528, elbo: -2732.263754\n",
      "Epoch[50/1000], kl: 325.177930, likelihood: -2409.928634, elbo: -2740.270603\n",
      "Epoch[51/1000], kl: 302.953238, likelihood: -2419.770721, elbo: -2743.571557\n",
      "Epoch[52/1000], kl: 328.968299, likelihood: -2410.409485, elbo: -2738.622616\n",
      "Epoch[53/1000], kl: 295.120535, likelihood: -2408.205281, elbo: -2703.367283\n",
      "Epoch[54/1000], kl: 288.013201, likelihood: -2599.372180, elbo: -2832.957803\n",
      "Epoch[55/1000], kl: 473.260345, likelihood: -2404.565477, elbo: -2888.849542\n",
      "Epoch[56/1000], kl: 429.390736, likelihood: -2418.325093, elbo: -2841.056119\n"
     ]
    },
    {
     "ename": "KeyboardInterrupt",
     "evalue": "",
     "output_type": "error",
     "traceback": [
      "\u001b[0;31m---------------------------------------------------------------------------\u001b[0m",
      "\u001b[0;31mKeyboardInterrupt\u001b[0m                         Traceback (most recent call last)",
      "\u001b[0;32m<ipython-input-43-62866bf915a6>\u001b[0m in \u001b[0;36m<module>\u001b[0;34m\u001b[0m\n\u001b[0;32m----> 1\u001b[0;31m \u001b[0melbo\u001b[0m \u001b[0;34m=\u001b[0m \u001b[0;34m-\u001b[0m\u001b[0mnetworks\u001b[0m\u001b[0;34m.\u001b[0m\u001b[0mtrain\u001b[0m\u001b[0;34m(\u001b[0m\u001b[0mmodel\u001b[0m\u001b[0;34m,\u001b[0m \u001b[0moptimizer\u001b[0m\u001b[0;34m,\u001b[0m \u001b[0mtorch\u001b[0m\u001b[0;34m.\u001b[0m\u001b[0mfrom_numpy\u001b[0m\u001b[0;34m(\u001b[0m\u001b[0mZ\u001b[0m\u001b[0;34m)\u001b[0m\u001b[0;34m,\u001b[0m \u001b[0mtorch\u001b[0m\u001b[0;34m.\u001b[0m\u001b[0mfrom_numpy\u001b[0m\u001b[0;34m(\u001b[0m\u001b[0mY\u001b[0m\u001b[0;34m)\u001b[0m\u001b[0;34m,\u001b[0m \u001b[0mn_epochs\u001b[0m\u001b[0;34m=\u001b[0m\u001b[0;36m1000\u001b[0m\u001b[0;34m,\u001b[0m \u001b[0mn_rep_opt\u001b[0m\u001b[0;34m=\u001b[0m\u001b[0;36m100\u001b[0m\u001b[0;34m,\u001b[0m \u001b[0mprint_freq\u001b[0m\u001b[0;34m=\u001b[0m\u001b[0;36m1\u001b[0m\u001b[0;34m)\u001b[0m\u001b[0;34m\u001b[0m\u001b[0;34m\u001b[0m\u001b[0m\n\u001b[0m\u001b[1;32m      2\u001b[0m \u001b[0mplt\u001b[0m\u001b[0;34m.\u001b[0m\u001b[0mplot\u001b[0m\u001b[0;34m(\u001b[0m\u001b[0;34m-\u001b[0m\u001b[0melbo\u001b[0m\u001b[0;34m)\u001b[0m\u001b[0;34m\u001b[0m\u001b[0;34m\u001b[0m\u001b[0m\n",
      "\u001b[0;32m~/Documents/git/VS-BNN/code/horseshoe/networks.py\u001b[0m in \u001b[0;36mtrain\u001b[0;34m(model, optimizer, x, y, n_epochs, x_linear, n_warmup, n_rep_opt, print_freq, frac_start_save)\u001b[0m\n\u001b[1;32m    662\u001b[0m             \u001b[0;31m# backward\u001b[0m\u001b[0;34m\u001b[0m\u001b[0;34m\u001b[0m\u001b[0;34m\u001b[0m\u001b[0m\n\u001b[1;32m    663\u001b[0m             \u001b[0moptimizer\u001b[0m\u001b[0;34m.\u001b[0m\u001b[0mzero_grad\u001b[0m\u001b[0;34m(\u001b[0m\u001b[0;34m)\u001b[0m\u001b[0;34m\u001b[0m\u001b[0;34m\u001b[0m\u001b[0m\n\u001b[0;32m--> 664\u001b[0;31m             \u001b[0ml\u001b[0m\u001b[0;34m.\u001b[0m\u001b[0mbackward\u001b[0m\u001b[0;34m(\u001b[0m\u001b[0mretain_graph\u001b[0m\u001b[0;34m=\u001b[0m\u001b[0;32mTrue\u001b[0m\u001b[0;34m)\u001b[0m\u001b[0;34m\u001b[0m\u001b[0;34m\u001b[0m\u001b[0m\n\u001b[0m\u001b[1;32m    665\u001b[0m             \u001b[0moptimizer\u001b[0m\u001b[0;34m.\u001b[0m\u001b[0mstep\u001b[0m\u001b[0;34m(\u001b[0m\u001b[0;34m)\u001b[0m\u001b[0;34m\u001b[0m\u001b[0;34m\u001b[0m\u001b[0m\n\u001b[1;32m    666\u001b[0m         \u001b[0;31m#print('temp: ', temperature_kl)\u001b[0m\u001b[0;34m\u001b[0m\u001b[0;34m\u001b[0m\u001b[0;34m\u001b[0m\u001b[0m\n",
      "\u001b[0;32m//anaconda/lib/python3.7/site-packages/torch/tensor.py\u001b[0m in \u001b[0;36mbackward\u001b[0;34m(self, gradient, retain_graph, create_graph)\u001b[0m\n\u001b[1;32m    196\u001b[0m                 \u001b[0mproducts\u001b[0m\u001b[0;34m.\u001b[0m \u001b[0mDefaults\u001b[0m \u001b[0mto\u001b[0m\u001b[0;31m \u001b[0m\u001b[0;31m`\u001b[0m\u001b[0;31m`\u001b[0m\u001b[0;32mFalse\u001b[0m\u001b[0;31m`\u001b[0m\u001b[0;31m`\u001b[0m\u001b[0;34m.\u001b[0m\u001b[0;34m\u001b[0m\u001b[0;34m\u001b[0m\u001b[0m\n\u001b[1;32m    197\u001b[0m         \"\"\"\n\u001b[0;32m--> 198\u001b[0;31m         \u001b[0mtorch\u001b[0m\u001b[0;34m.\u001b[0m\u001b[0mautograd\u001b[0m\u001b[0;34m.\u001b[0m\u001b[0mbackward\u001b[0m\u001b[0;34m(\u001b[0m\u001b[0mself\u001b[0m\u001b[0;34m,\u001b[0m \u001b[0mgradient\u001b[0m\u001b[0;34m,\u001b[0m \u001b[0mretain_graph\u001b[0m\u001b[0;34m,\u001b[0m \u001b[0mcreate_graph\u001b[0m\u001b[0;34m)\u001b[0m\u001b[0;34m\u001b[0m\u001b[0;34m\u001b[0m\u001b[0m\n\u001b[0m\u001b[1;32m    199\u001b[0m \u001b[0;34m\u001b[0m\u001b[0m\n\u001b[1;32m    200\u001b[0m     \u001b[0;32mdef\u001b[0m \u001b[0mregister_hook\u001b[0m\u001b[0;34m(\u001b[0m\u001b[0mself\u001b[0m\u001b[0;34m,\u001b[0m \u001b[0mhook\u001b[0m\u001b[0;34m)\u001b[0m\u001b[0;34m:\u001b[0m\u001b[0;34m\u001b[0m\u001b[0;34m\u001b[0m\u001b[0m\n",
      "\u001b[0;32m//anaconda/lib/python3.7/site-packages/torch/autograd/__init__.py\u001b[0m in \u001b[0;36mbackward\u001b[0;34m(tensors, grad_tensors, retain_graph, create_graph, grad_variables)\u001b[0m\n\u001b[1;32m     98\u001b[0m     Variable._execution_engine.run_backward(\n\u001b[1;32m     99\u001b[0m         \u001b[0mtensors\u001b[0m\u001b[0;34m,\u001b[0m \u001b[0mgrad_tensors\u001b[0m\u001b[0;34m,\u001b[0m \u001b[0mretain_graph\u001b[0m\u001b[0;34m,\u001b[0m \u001b[0mcreate_graph\u001b[0m\u001b[0;34m,\u001b[0m\u001b[0;34m\u001b[0m\u001b[0;34m\u001b[0m\u001b[0m\n\u001b[0;32m--> 100\u001b[0;31m         allow_unreachable=True)  # allow_unreachable flag\n\u001b[0m\u001b[1;32m    101\u001b[0m \u001b[0;34m\u001b[0m\u001b[0m\n\u001b[1;32m    102\u001b[0m \u001b[0;34m\u001b[0m\u001b[0m\n",
      "\u001b[0;31mKeyboardInterrupt\u001b[0m: "
     ]
    }
   ],
   "source": [
    "elbo = -networks.train(model, optimizer, torch.from_numpy(Z), torch.from_numpy(Y), n_epochs=1000, n_rep_opt=100, print_freq=1)\n",
    "plt.plot(-elbo)"
   ]
  },
  {
   "cell_type": "code",
   "execution_count": 26,
   "metadata": {},
   "outputs": [
    {
     "data": {
      "text/plain": [
       "<matplotlib.legend.Legend at 0x151a97e80>"
      ]
     },
     "execution_count": 26,
     "metadata": {},
     "output_type": "execute_result"
    },
    {
     "data": {
      "image/png": "[encoded data removed]",
      "text/plain": [
       "<Figure size 432x288 with 1 Axes>"
      ]
     },
     "metadata": {
      "needs_background": "light"
     },
     "output_type": "display_data"
    }
   ],
   "source": [
    "# logitnormal\n",
    "eps = .0001\n",
    "x = np.linspace(0+eps,1-eps,100)\n",
    "\n",
    "logit = lambda x: np.log(x/(1-x))\n",
    "\n",
    "def logitnormal_pdf(x, mu=0, sig2=1):\n",
    "    return 1/np.sqrt(2*np.pi*sig2)/(x*(1-x))*np.exp(-(logit(x)-mu)**2/(2*sig2))\n",
    "\n",
    "\n",
    "loc = model.layer_in.s_loc[0].detach().numpy()\n",
    "scale = model.layer_in.transform(model.layer_in.s_scale_untrans[0]).detach().numpy()\n",
    "plt.plot(x, logitnormal_pdf(x,loc,scale**2), color='blue',label='s0')\n",
    "\n",
    "loc = model.layer_in.s_loc[1].detach().numpy()\n",
    "scale = model.layer_in.transform(model.layer_in.s_scale_untrans[1]).detach().numpy()\n",
    "plt.plot(x, logitnormal_pdf(x,loc,scale**2), color='red',label='s1')\n",
    "plt.legend()\n"
   ]
  },
  {
   "cell_type": "code",
   "execution_count": 307,
   "metadata": {},
   "outputs": [
    {
     "data": {
      "text/plain": [
       "<matplotlib.legend.Legend at 0x15630ab00>"
      ]
     },
     "execution_count": 307,
     "metadata": {},
     "output_type": "execute_result"
    },
    {
     "data": {
      "image/png": "[encoded data removed]",
      "text/plain": [
       "<Figure size 432x288 with 1 Axes>"
      ]
     },
     "metadata": {
      "needs_background": "light"
     },
     "output_type": "display_data"
    }
   ],
   "source": [
    "# beta\n",
    "eps = .0001\n",
    "x = np.linspace(0+eps,1-eps,100)\n",
    "import scipy\n",
    "\n",
    "a = model.layer_in.untransform(model.layer_in.s_a_trans[0]).detach().numpy()\n",
    "b = model.layer_in.untransform(model.layer_in.s_b_trans[0]).detach().numpy()\n",
    "plt.plot(x, scipy.stats.beta.pdf(x,a,b), color='blue',label='s0')\n",
    "\n",
    "a = model.layer_in.untransform(model.layer_in.s_a_trans[1]).detach().numpy()\n",
    "b = model.layer_in.untransform(model.layer_in.s_b_trans[1]).detach().numpy()\n",
    "plt.plot(x, scipy.stats.beta.pdf(x,a,b), color='red',label='s1')\n",
    "\n",
    "plt.legend()\n"
   ]
  },
  {
   "cell_type": "code",
   "execution_count": 28,
   "metadata": {},
   "outputs": [],
   "source": [
    "def sample_f_post(x_test, x_train=torch.from_numpy(Z), y_train=torch.from_numpy(Y)):\n",
    "    # inputs and outputs are numpy arrays\n",
    "    #return model(torch.from_numpy(x), weights_type_layer_in='sample_post', weights_type_layer_out='sample_post').detach().numpy()\n",
    "\n",
    "    # sample from variational dist then sample weights (conjugate)\n",
    "    #model.fixed_point_updates(torch.from_numpy(Z),torch.from_numpy(Y)) \n",
    "    \n",
    "    #return model(torch.from_numpy(x), weights_type_layer_in='stored', weights_type_layer_out='stored').detach().numpy()\n",
    "\n",
    "    with torch.no_grad():\n",
    "        return model.sample_posterior_predictive(x_test=torch.from_numpy(x_test), x_train=x_train, y_train=y_train).numpy().reshape(-1)\n"
   ]
  },
  {
   "cell_type": "code",
   "execution_count": 29,
   "metadata": {},
   "outputs": [
    {
     "data": {
      "image/png": "[encoded data removed]",
      "text/plain": [
       "<Figure size 576x288 with 2 Axes>"
      ]
     },
     "metadata": {
      "needs_background": "light"
     },
     "output_type": "display_data"
    }
   ],
   "source": [
    "fig, ax = util.plot_slices(sample_f_post, Z, Y, quantile=.5, n_samp=50, figsize=(4*2,4))\n"
   ]
  },
  {
   "cell_type": "code",
   "execution_count": null,
   "metadata": {},
   "outputs": [],
   "source": []
  },
  {
   "cell_type": "markdown",
   "metadata": {},
   "source": [
    "#### GPy for comparison"
   ]
  },
  {
   "cell_type": "code",
   "execution_count": 29,
   "metadata": {},
   "outputs": [],
   "source": [
    "import GPy\n",
    "kernel = GPy.kern.RBF(input_dim=2, variance=1., lengthscale=1.)"
   ]
  },
  {
   "cell_type": "code",
   "execution_count": 30,
   "metadata": {},
   "outputs": [
    {
     "data": {
      "text/plain": [
       "[<paramz.optimization.optimization.opt_lbfgsb at 0x1436cdda0>,\n",
       " <paramz.optimization.optimization.opt_lbfgsb at 0x1435cd1d0>,\n",
       " <paramz.optimization.optimization.opt_lbfgsb at 0x1434be470>,\n",
       " <paramz.optimization.optimization.opt_lbfgsb at 0x1434beeb8>,\n",
       " <paramz.optimization.optimization.opt_lbfgsb at 0x1434be550>,\n",
       " <paramz.optimization.optimization.opt_lbfgsb at 0x1434bee48>,\n",
       " <paramz.optimization.optimization.opt_lbfgsb at 0x1434becf8>,\n",
       " <paramz.optimization.optimization.opt_lbfgsb at 0x1434befd0>,\n",
       " <paramz.optimization.optimization.opt_lbfgsb at 0x1434bee10>,\n",
       " <paramz.optimization.optimization.opt_lbfgsb at 0x1434be6a0>]"
      ]
     },
     "execution_count": 30,
     "metadata": {},
     "output_type": "execute_result"
    }
   ],
   "source": [
    "m = GPy.models.GPRegression(Z,Y,kernel)\n",
    "\n",
    "m.Gaussian_noise.variance = sig2\n",
    "m.Gaussian_noise.fix()\n",
    "m.optimize_restarts(num_restarts = 10, verbose=False)"
   ]
  },
  {
   "cell_type": "code",
   "execution_count": 41,
   "metadata": {},
   "outputs": [
    {
     "data": {
      "image/png": "[encoded data removed]",
      "text/plain": [
       "<Figure size 432x288 with 1 Axes>"
      ]
     },
     "metadata": {
      "needs_background": "light"
     },
     "output_type": "display_data"
    }
   ],
   "source": [
    "slices = [0]\n",
    "figure = GPy.plotting.plotting_library().figure(3, 1)\n",
    "for i, y in zip(range(3), slices):\n",
    "    canvas = m.plot(figure=figure, fixed_inputs=[(1,y)], row=(i+1), plot_data=True)\n",
    "#GPy.plotting.show(canvas, filename='basic_gp_regression_notebook_slicing')"
   ]
  },
  {
   "cell_type": "code",
   "execution_count": 42,
   "metadata": {},
   "outputs": [
    {
     "data": {
      "image/png": "[encoded data removed]",
      "text/plain": [
       "<Figure size 432x288 with 1 Axes>"
      ]
     },
     "metadata": {
      "needs_background": "light"
     },
     "output_type": "display_data"
    }
   ],
   "source": [
    "slices = [0]\n",
    "figure = GPy.plotting.plotting_library().figure(3, 1)\n",
    "for i, y in zip(range(3), slices):\n",
    "    canvas = m.plot(figure=figure, fixed_inputs=[(0,y)], row=(i+1), plot_data=True)\n",
    "#GPy.plotting.show(canvas, filename='basic_gp_regression_notebook_slicing_vertical')"
   ]
  },
  {
   "cell_type": "code",
   "execution_count": null,
   "metadata": {},
   "outputs": [],
   "source": []
  }
 ],
 "metadata": {
  "kernelspec": {
   "display_name": "Python 3",
   "language": "python",
   "name": "python3"
  },
  "language_info": {
   "codemirror_mode": {
    "name": "ipython",
    "version": 3
   },
   "file_extension": ".py",
   "mimetype": "text/x-python",
   "name": "python",
   "nbconvert_exporter": "python",
   "pygments_lexer": "ipython3",
   "version": "3.7.3"
  }
 },
 "nbformat": 4,
 "nbformat_minor": 2
}
