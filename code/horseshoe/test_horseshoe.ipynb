{
 "cells": [
  {
   "cell_type": "code",
   "execution_count": 208,
   "metadata": {},
   "outputs": [],
   "source": [
    "import torch\n",
    "import torch.nn as nn\n",
    "import torch.nn.functional as F\n",
    "from torch.distributions.normal import Normal\n",
    "import numpy as np\n",
    "import matplotlib.pyplot as plt\n",
    "import importlib\n",
    "import seaborn as sns\n",
    "\n",
    "import layers as layers\n",
    "import util as util\n",
    "import networks as networks"
   ]
  },
  {
   "cell_type": "code",
   "execution_count": 210,
   "metadata": {},
   "outputs": [
    {
     "data": {
      "text/plain": [
       "<module 'networks' from '/Users/beaucoker/Documents/git/VS-BNN/code/horseshoe/networks.py'>"
      ]
     },
     "execution_count": 210,
     "metadata": {},
     "output_type": "execute_result"
    }
   ],
   "source": [
    "importlib.reload(layers)\n",
    "importlib.reload(util)\n",
    "importlib.reload(networks)"
   ]
  },
  {
   "cell_type": "code",
   "execution_count": 3,
   "metadata": {},
   "outputs": [],
   "source": [
    "def plot_results(x, y, x_plot, model, n_samp=500):\n",
    "    plt.scatter(x.numpy(), y.numpy())\n",
    "    f_pred_plot = model(x_plot, sample_input_layer=False, weights_type='mean').detach()\n",
    "    plt.plot(x_plot.numpy(), f_pred_plot.numpy())\n",
    "    \n",
    "    f_samp_plot = torch.zeros(n_samp, x_plot.shape[0])\n",
    "    for i in range(n_samp):\n",
    "        f_samp_plot[i,:] = model(x_plot, sample_input_layer=True, weights_type='sample').detach().reshape(-1)\n",
    "\n",
    "    for q in [.025, .05, .1]:\n",
    "        ci = np.quantile(f_samp_plot.numpy(), [q, 1-q], axis=0)\n",
    "        plt.fill_between(x_plot.reshape(-1).numpy(), ci[0,:], ci[1,:], alpha=.1, color='blue')"
   ]
  },
  {
   "cell_type": "code",
   "execution_count": 357,
   "metadata": {},
   "outputs": [],
   "source": [
    "def plot_results_2d(x, y, x_plot, model, idx=0, n_samp=500):\n",
    "    plt.scatter(x[:,idx].numpy(), y.numpy())\n",
    "    f_pred_plot = model(x_plot, sample_input_layer=False, weights_type='mean').detach()\n",
    "    plt.plot(x_plot[:,idx].numpy(), f_pred_plot.numpy())\n",
    "    \n",
    "    f_samp_plot = torch.zeros(n_samp, x_plot.shape[0])\n",
    "    for i in range(n_samp):\n",
    "        f_samp_plot[i,:] = model(x_plot, sample_input_layer=True, weights_type='sample').detach().reshape(-1)\n",
    "\n",
    "    for q in [.025, .05, .1]:\n",
    "        ci = np.quantile(f_samp_plot.numpy(), [q, 1-q], axis=0)\n",
    "        plt.fill_between(x_plot[:,0].reshape(-1).numpy(), ci[0,:], ci[1,:], alpha=.1, color='blue')"
   ]
  },
  {
   "cell_type": "markdown",
   "metadata": {},
   "source": [
    "## Basic testing"
   ]
  },
  {
   "cell_type": "markdown",
   "metadata": {},
   "source": [
    "#### Layer"
   ]
  },
  {
   "cell_type": "code",
   "execution_count": 5,
   "metadata": {},
   "outputs": [],
   "source": [
    "x = torch.empty((5,1)).normal_(0,1)\n",
    "y = torch.randn(5,1)"
   ]
  },
  {
   "cell_type": "markdown",
   "metadata": {},
   "source": [
    "rff layer"
   ]
  },
  {
   "cell_type": "code",
   "execution_count": 6,
   "metadata": {},
   "outputs": [],
   "source": [
    "l = layers.RffHsLayer(1,6)"
   ]
  },
  {
   "cell_type": "code",
   "execution_count": 7,
   "metadata": {},
   "outputs": [
    {
     "data": {
      "text/plain": [
       "tensor([[ 0.4319,  0.5514,  0.1227,  0.5538,  0.3404, -0.3607],\n",
       "        [ 0.4073,  0.5573,  0.1200,  0.5553,  0.3545, -0.3663],\n",
       "        [ 0.4340,  0.5508,  0.1230,  0.5537,  0.3391, -0.3602],\n",
       "        [ 0.4275,  0.5525,  0.1222,  0.5541,  0.3430, -0.3617],\n",
       "        [ 0.4099,  0.5567,  0.1203,  0.5551,  0.3531, -0.3657]],\n",
       "       grad_fn=<MulBackward0>)"
      ]
     },
     "execution_count": 7,
     "metadata": {},
     "output_type": "execute_result"
    }
   ],
   "source": [
    "l.forward(x, sample=True)"
   ]
  },
  {
   "cell_type": "code",
   "execution_count": 8,
   "metadata": {},
   "outputs": [
    {
     "data": {
      "text/plain": [
       "tensor(-20.3013, grad_fn=<AddBackward0>)"
      ]
     },
     "execution_count": 8,
     "metadata": {},
     "output_type": "execute_result"
    }
   ],
   "source": [
    "l.entropy()"
   ]
  },
  {
   "cell_type": "code",
   "execution_count": 9,
   "metadata": {},
   "outputs": [
    {
     "data": {
      "text/plain": [
       "tensor(32.7447, grad_fn=<AddBackward0>)"
      ]
     },
     "execution_count": 9,
     "metadata": {},
     "output_type": "execute_result"
    }
   ],
   "source": [
    "l.cross_entropy()"
   ]
  },
  {
   "cell_type": "code",
   "execution_count": 10,
   "metadata": {},
   "outputs": [
    {
     "data": {
      "text/plain": [
       "tensor(53.0460, grad_fn=<SubBackward0>)"
      ]
     },
     "execution_count": 10,
     "metadata": {},
     "output_type": "execute_result"
    }
   ],
   "source": [
    "l.kl_divergence()"
   ]
  },
  {
   "cell_type": "code",
   "execution_count": 11,
   "metadata": {},
   "outputs": [],
   "source": [
    "l.fixed_point_updates()"
   ]
  },
  {
   "cell_type": "markdown",
   "metadata": {},
   "source": [
    "Linear layer"
   ]
  },
  {
   "cell_type": "code",
   "execution_count": 12,
   "metadata": {},
   "outputs": [],
   "source": [
    "\n",
    "h = torch.randn(5,3)\n",
    "l = layers.LinearLayer(3)"
   ]
  },
  {
   "cell_type": "code",
   "execution_count": 13,
   "metadata": {},
   "outputs": [],
   "source": [
    "l.fixed_point_updates(h,y)"
   ]
  },
  {
   "cell_type": "code",
   "execution_count": 14,
   "metadata": {},
   "outputs": [
    {
     "ename": "UnboundLocalError",
     "evalue": "local variable 'w' referenced before assignment",
     "output_type": "error",
     "traceback": [
      "\u001b[0;31m---------------------------------------------------------------------------\u001b[0m",
      "\u001b[0;31mUnboundLocalError\u001b[0m                         Traceback (most recent call last)",
      "\u001b[0;32m<ipython-input-14-8e0cd26f6c46>\u001b[0m in \u001b[0;36m<module>\u001b[0;34m\u001b[0m\n\u001b[0;32m----> 1\u001b[0;31m \u001b[0ml\u001b[0m\u001b[0;34m.\u001b[0m\u001b[0mforward\u001b[0m\u001b[0;34m(\u001b[0m\u001b[0mh\u001b[0m\u001b[0;34m,\u001b[0m \u001b[0;32mTrue\u001b[0m\u001b[0;34m)\u001b[0m\u001b[0;34m\u001b[0m\u001b[0;34m\u001b[0m\u001b[0m\n\u001b[0m",
      "\u001b[0;32m~/Documents/git/VS-BNN/code/horseshoe/layers.py\u001b[0m in \u001b[0;36mforward\u001b[0;34m(self, x, weights_type)\u001b[0m\n\u001b[1;32m     67\u001b[0m             \u001b[0mw\u001b[0m \u001b[0;34m=\u001b[0m \u001b[0mself\u001b[0m\u001b[0;34m.\u001b[0m\u001b[0mw\u001b[0m\u001b[0;34m\u001b[0m\u001b[0;34m\u001b[0m\u001b[0m\n\u001b[1;32m     68\u001b[0m \u001b[0;34m\u001b[0m\u001b[0m\n\u001b[0;32m---> 69\u001b[0;31m         \u001b[0;32mreturn\u001b[0m \u001b[0mF\u001b[0m\u001b[0;34m.\u001b[0m\u001b[0mlinear\u001b[0m\u001b[0;34m(\u001b[0m\u001b[0mx\u001b[0m\u001b[0;34m,\u001b[0m \u001b[0mw\u001b[0m\u001b[0;34m)\u001b[0m\u001b[0;34m\u001b[0m\u001b[0;34m\u001b[0m\u001b[0m\n\u001b[0m\u001b[1;32m     70\u001b[0m \u001b[0;34m\u001b[0m\u001b[0m\n\u001b[1;32m     71\u001b[0m \u001b[0;34m\u001b[0m\u001b[0m\n",
      "\u001b[0;31mUnboundLocalError\u001b[0m: local variable 'w' referenced before assignment"
     ]
    }
   ],
   "source": [
    "l.forward(h, True)"
   ]
  },
  {
   "cell_type": "code",
   "execution_count": null,
   "metadata": {},
   "outputs": [],
   "source": [
    "l.init_parameters()"
   ]
  },
  {
   "cell_type": "code",
   "execution_count": null,
   "metadata": {},
   "outputs": [],
   "source": []
  },
  {
   "cell_type": "markdown",
   "metadata": {},
   "source": [
    "## Infer prior"
   ]
  },
  {
   "cell_type": "code",
   "execution_count": 190,
   "metadata": {},
   "outputs": [
    {
     "data": {
      "text/plain": [
       "<module 'networks' from '/Users/beaucoker/Documents/git/VS-BNN/code/horseshoe/networks.py'>"
      ]
     },
     "execution_count": 190,
     "metadata": {},
     "output_type": "execute_result"
    }
   ],
   "source": [
    "importlib.reload(layers)\n",
    "importlib.reload(util)\n",
    "importlib.reload(networks)"
   ]
  },
  {
   "cell_type": "markdown",
   "metadata": {},
   "source": [
    "Dataset is sample from the prior"
   ]
  },
  {
   "cell_type": "code",
   "execution_count": 191,
   "metadata": {},
   "outputs": [],
   "source": [
    "model = networks.RffHs(1, 1, dim_hidden=50, sig2_inv=1/.1)"
   ]
  },
  {
   "cell_type": "code",
   "execution_count": 197,
   "metadata": {},
   "outputs": [
    {
     "data": {
      "text/plain": [
       "<matplotlib.collections.PathCollection at 0x12b088278>"
      ]
     },
     "execution_count": 197,
     "metadata": {},
     "output_type": "execute_result"
    },
    {
     "data": {
      "image/png": "[encoded data removed]",
      "text/plain": [
       "<Figure size 432x288 with 1 Axes>"
      ]
     },
     "metadata": {
      "needs_background": "light"
     },
     "output_type": "display_data"
    }
   ],
   "source": [
    "n_obs = 10\n",
    "sig2 = .001\n",
    "\n",
    "torch.manual_seed(1)\n",
    "model.init_parameters()\n",
    "x = torch.linspace(-1,1, n_obs).reshape(-1,1)\n",
    "y = model.forward(x, sample=False).detach() + sig2*torch.randn(n_obs).reshape(-1,1)\n",
    "plt.scatter(x.numpy(), y.numpy())"
   ]
  },
  {
   "cell_type": "code",
   "execution_count": 178,
   "metadata": {},
   "outputs": [
    {
     "name": "stdout",
     "output_type": "stream",
     "text": [
      "Epoch[250/1000], kl: 1052.906616, likelihood: 2.262321, elbo: -1050.595215\n",
      "Epoch[500/1000], kl: 1044.439209, likelihood: 0.835122, elbo: -1042.244873\n",
      "Epoch[750/1000], kl: 1036.899292, likelihood: 1.461719, elbo: -1036.358887\n",
      "Epoch[1000/1000], kl: 1030.976562, likelihood: 0.789685, elbo: -1030.020142\n"
     ]
    },
    {
     "data": {
      "text/plain": [
       "[<matplotlib.lines.Line2D at 0x12a9d5ef0>]"
      ]
     },
     "execution_count": 178,
     "metadata": {},
     "output_type": "execute_result"
    },
    {
     "data": {
      "image/png": "[encoded data removed]",
      "text/plain": [
       "<Figure size 432x288 with 1 Axes>"
      ]
     },
     "metadata": {
      "needs_background": "light"
     },
     "output_type": "display_data"
    }
   ],
   "source": [
    "optimizer = torch.optim.Adam(model.parameters(), lr=.001)\n",
    "#model.reinit_parameters(x,y,n_reinit=10) # comment out to start at truth\n",
    "elbo = -networks.train(model, optimizer, x, y, n_epochs=1000, print_freq=250)\n",
    "plt.plot(elbo)"
   ]
  },
  {
   "cell_type": "code",
   "execution_count": 198,
   "metadata": {},
   "outputs": [
    {
     "data": {
      "text/plain": [
       "tensor([0.2478], grad_fn=<ExpBackward>)"
      ]
     },
     "execution_count": 198,
     "metadata": {},
     "output_type": "execute_result"
    }
   ],
   "source": [
    "torch.exp(model.layer_in.lognu_mu + model.layer_in.lognu_logsig2.exp()/2)"
   ]
  },
  {
   "cell_type": "code",
   "execution_count": 199,
   "metadata": {},
   "outputs": [
    {
     "data": {
      "text/plain": [
       "tensor([0.1375], grad_fn=<ExpBackward>)"
      ]
     },
     "execution_count": 199,
     "metadata": {},
     "output_type": "execute_result"
    }
   ],
   "source": [
    "torch.exp(model.layer_in.logeta_mu + model.layer_in.logeta_logsig2.exp()/2)"
   ]
  },
  {
   "cell_type": "code",
   "execution_count": 180,
   "metadata": {},
   "outputs": [
    {
     "data": {
      "image/png": "[encoded data removed]",
      "text/plain": [
       "<Figure size 432x288 with 1 Axes>"
      ]
     },
     "metadata": {
      "needs_background": "light"
     },
     "output_type": "display_data"
    }
   ],
   "source": [
    "x_plot = torch.linspace(-1,1,100).reshape(-1,1)\n",
    "plot_results(x,y,x_plot, model)"
   ]
  },
  {
   "cell_type": "code",
   "execution_count": 133,
   "metadata": {},
   "outputs": [
    {
     "name": "stdout",
     "output_type": "stream",
     "text": [
      "layer_in.lognu_mu\n",
      "layer_in.lognu_logsig2\n",
      "layer_in.logeta_mu\n",
      "layer_in.logeta_logsig2\n"
     ]
    }
   ],
   "source": [
    "for name, p in model.named_parameters():\n",
    "    print(name)"
   ]
  },
  {
   "cell_type": "markdown",
   "metadata": {},
   "source": [
    "## Very simple"
   ]
  },
  {
   "cell_type": "code",
   "execution_count": 248,
   "metadata": {},
   "outputs": [
    {
     "data": {
      "text/plain": [
       "<module 'networks' from '/Users/beaucoker/Documents/git/VS-BNN/code/horseshoe/networks.py'>"
      ]
     },
     "execution_count": 248,
     "metadata": {},
     "output_type": "execute_result"
    }
   ],
   "source": [
    "importlib.reload(layers)\n",
    "importlib.reload(util)\n",
    "importlib.reload(networks)"
   ]
  },
  {
   "cell_type": "code",
   "execution_count": 249,
   "metadata": {},
   "outputs": [
    {
     "data": {
      "text/plain": [
       "<matplotlib.collections.PathCollection at 0x12fdd9630>"
      ]
     },
     "execution_count": 249,
     "metadata": {},
     "output_type": "execute_result"
    },
    {
     "data": {
      "image/png": "[encoded data removed]",
      "text/plain": [
       "<Figure size 432x288 with 1 Axes>"
      ]
     },
     "metadata": {
      "needs_background": "light"
     },
     "output_type": "display_data"
    }
   ],
   "source": [
    "n_obs = 10\n",
    "sig2 = .1\n",
    "x = torch.linspace(-1,1,n_obs).reshape(-1,1)\n",
    "y = x + sig2*torch.randn(n_obs).reshape(-1,1)\n",
    "plt.scatter(x.numpy(), y.numpy()) "
   ]
  },
  {
   "cell_type": "code",
   "execution_count": 250,
   "metadata": {},
   "outputs": [],
   "source": [
    "torch.manual_seed(2)\n",
    "model = networks.RffHs(1, 1, dim_hidden=50, sig2_inv=1/sig2)"
   ]
  },
  {
   "cell_type": "code",
   "execution_count": 251,
   "metadata": {},
   "outputs": [
    {
     "name": "stdout",
     "output_type": "stream",
     "text": [
      "before: 59.67872619628906\n",
      "temp:  0.0\n",
      "after: 54.718017578125\n",
      "Epoch[1/20], kl: 9.869433, likelihood: 0.949994, elbo: -8.927835\n",
      "before: 8.929020881652832\n",
      "temp:  0.1\n",
      "after: 8.745442390441895\n",
      "Epoch[2/20], kl: 9.823696, likelihood: -1.317722, elbo: -11.005574\n",
      "before: 10.97335433959961\n",
      "temp:  0.2\n",
      "after: 10.537339210510254\n",
      "Epoch[3/20], kl: 9.718320, likelihood: -4.440721, elbo: -14.082626\n",
      "before: 13.76612663269043\n",
      "temp:  0.3\n",
      "after: 10.941112518310547\n",
      "Epoch[4/20], kl: 9.613235, likelihood: -0.384644, elbo: -10.143505\n",
      "before: 10.055156707763672\n",
      "temp:  0.4\n",
      "after: 9.806396484375\n",
      "Epoch[5/20], kl: 9.497922, likelihood: 1.407524, elbo: -8.178403\n",
      "before: 8.213655471801758\n",
      "temp:  0.5\n",
      "after: 7.655297756195068\n",
      "Epoch[6/20], kl: 9.372961, likelihood: -0.641543, elbo: -9.933913\n",
      "before: 10.049519538879395\n",
      "temp:  0.6\n",
      "after: 8.739078521728516\n",
      "Epoch[7/20], kl: 9.247330, likelihood: -3.077036, elbo: -12.289177\n",
      "before: 12.284509658813477\n",
      "temp:  0.7\n",
      "after: 12.230781555175781\n",
      "Epoch[8/20], kl: 9.133636, likelihood: -0.248323, elbo: -9.372150\n",
      "before: 9.369379043579102\n",
      "temp:  0.8\n",
      "after: 9.256620407104492\n",
      "Epoch[9/20], kl: 9.020864, likelihood: 0.712140, elbo: -8.339890\n",
      "before: 8.389704704284668\n",
      "temp:  0.9\n",
      "after: 7.432817459106445\n",
      "Epoch[10/20], kl: 8.919525, likelihood: -0.303559, elbo: -9.337444\n",
      "before: 9.22803020477295\n",
      "temp:  1\n",
      "after: 9.151941299438477\n",
      "Epoch[11/20], kl: 8.808299, likelihood: -0.487224, elbo: -9.187000\n",
      "before: 9.440515518188477\n",
      "temp:  1\n",
      "after: 8.137547492980957\n",
      "Epoch[12/20], kl: 8.720063, likelihood: 0.108791, elbo: -8.586886\n",
      "before: 8.610700607299805\n",
      "temp:  1\n",
      "after: 8.505112648010254\n",
      "Epoch[13/20], kl: 8.619123, likelihood: -2.462950, elbo: -10.803187\n",
      "before: 11.075813293457031\n",
      "temp:  1\n",
      "after: 10.35676383972168\n",
      "Epoch[14/20], kl: 8.511294, likelihood: -2.683569, elbo: -11.195937\n",
      "before: 11.341543197631836\n",
      "temp:  1\n",
      "after: 11.05429458618164\n",
      "Epoch[15/20], kl: 8.407300, likelihood: 0.800791, elbo: -7.573743\n",
      "before: 8.26736831665039\n",
      "temp:  1\n",
      "after: 6.933570384979248\n",
      "Epoch[16/20], kl: 8.295443, likelihood: 1.554472, elbo: -6.865035\n",
      "before: 6.738303184509277\n",
      "temp:  1\n",
      "after: 6.598143577575684\n",
      "Epoch[17/20], kl: 8.193020, likelihood: -1.351550, elbo: -10.345703\n",
      "before: 9.645889282226562\n",
      "temp:  1\n",
      "after: 9.300155639648438\n",
      "Epoch[18/20], kl: 8.095069, likelihood: 1.896863, elbo: -6.287733\n",
      "before: 6.194858551025391\n",
      "temp:  1\n",
      "after: 6.093320369720459\n",
      "Epoch[19/20], kl: 7.995246, likelihood: -1.079541, elbo: -10.117825\n",
      "before: 10.220735549926758\n",
      "temp:  1\n",
      "after: 8.123332023620605\n",
      "Epoch[20/20], kl: 7.889894, likelihood: 0.638159, elbo: -7.243952\n"
     ]
    },
    {
     "data": {
      "text/plain": [
       "[<matplotlib.lines.Line2D at 0x12fcb25c0>]"
      ]
     },
     "execution_count": 251,
     "metadata": {},
     "output_type": "execute_result"
    },
    {
     "data": {
      "image/png": "[encoded data removed]",
      "text/plain": [
       "<Figure size 432x288 with 1 Axes>"
      ]
     },
     "metadata": {
      "needs_background": "light"
     },
     "output_type": "display_data"
    }
   ],
   "source": [
    "torch.manual_seed(2)\n",
    "optimizer = torch.optim.Adam(model.parameters(), lr=.0001)\n",
    "model.reinit_parameters(x,y,n_reinit=10) \n",
    "elbo = -networks.train(model, optimizer, x, y, n_epochs=20, n_rep_opt=1000, print_freq=1)\n",
    "plt.plot(-elbo)"
   ]
  },
  {
   "cell_type": "code",
   "execution_count": 252,
   "metadata": {},
   "outputs": [
    {
     "data": {
      "image/png": "[encoded data removed]",
      "text/plain": [
       "<Figure size 432x288 with 1 Axes>"
      ]
     },
     "metadata": {
      "needs_background": "light"
     },
     "output_type": "display_data"
    }
   ],
   "source": [
    "x_plot = torch.linspace(-1,1,100).reshape(-1,1)\n",
    "plot_results(x,y,x_plot, model)"
   ]
  },
  {
   "cell_type": "code",
   "execution_count": 253,
   "metadata": {},
   "outputs": [
    {
     "data": {
      "text/plain": [
       "tensor([7.1398], grad_fn=<AddBackward0>)"
      ]
     },
     "execution_count": 253,
     "metadata": {},
     "output_type": "execute_result"
    }
   ],
   "source": [
    "model.loss(x, y, x_linear=None, temperature=1)"
   ]
  },
  {
   "cell_type": "code",
   "execution_count": 254,
   "metadata": {},
   "outputs": [
    {
     "name": "stdout",
     "output_type": "stream",
     "text": [
      "layer_in.lognu_mu -0.26410552859306335\n",
      "layer_in.lognu_logsig2 -7.030379772186279\n",
      "layer_in.logeta_mu 0.3566124439239502\n",
      "layer_in.logeta_logsig2 -7.023773193359375\n"
     ]
    }
   ],
   "source": [
    "for name, p in model.named_parameters():\n",
    "    print(name, p.detach().item())"
   ]
  },
  {
   "cell_type": "code",
   "execution_count": 255,
   "metadata": {},
   "outputs": [
    {
     "data": {
      "text/plain": [
       "tensor([2.3028])"
      ]
     },
     "execution_count": 255,
     "metadata": {},
     "output_type": "execute_result"
    }
   ],
   "source": [
    "model.layer_in.vtheta_b"
   ]
  },
  {
   "cell_type": "code",
   "execution_count": 256,
   "metadata": {},
   "outputs": [
    {
     "data": {
      "text/plain": [
       "tensor([1.7004])"
      ]
     },
     "execution_count": 256,
     "metadata": {},
     "output_type": "execute_result"
    }
   ],
   "source": [
    "model.layer_in.psi_b"
   ]
  },
  {
   "cell_type": "markdown",
   "metadata": {},
   "source": [
    "## Checking KL"
   ]
  },
  {
   "cell_type": "code",
   "execution_count": 128,
   "metadata": {},
   "outputs": [
    {
     "data": {
      "text/plain": [
       "<module 'networks' from '/Users/beaucoker/Documents/git/VS-BNN/code/horseshoe/networks.py'>"
      ]
     },
     "execution_count": 128,
     "metadata": {},
     "output_type": "execute_result"
    }
   ],
   "source": [
    "importlib.reload(layers)\n",
    "importlib.reload(util)\n",
    "importlib.reload(networks)"
   ]
  },
  {
   "cell_type": "code",
   "execution_count": 129,
   "metadata": {},
   "outputs": [],
   "source": [
    "torch.manual_seed(2)\n",
    "model = networks.RffHs(1, 1, dim_hidden=50, sig2_inv=1/sig2)"
   ]
  },
  {
   "cell_type": "markdown",
   "metadata": {},
   "source": [
    "entropy: lognormal"
   ]
  },
  {
   "cell_type": "code",
   "execution_count": 130,
   "metadata": {},
   "outputs": [
    {
     "data": {
      "text/plain": [
       "tensor(-2.5203, grad_fn=<AddBackward0>)"
      ]
     },
     "execution_count": 130,
     "metadata": {},
     "output_type": "execute_result"
    }
   ],
   "source": [
    "# My code\n",
    "self = model.layer_in\n",
    "util.lognormal_entropy(self.lognu_logsig2.exp().sqrt().log(), self.lognu_mu, 1)\n"
   ]
  },
  {
   "cell_type": "code",
   "execution_count": 131,
   "metadata": {},
   "outputs": [
    {
     "data": {
      "text/plain": [
       "tensor([-2.5203], grad_fn=<AddBackward0>)"
      ]
     },
     "execution_count": 131,
     "metadata": {},
     "output_type": "execute_result"
    }
   ],
   "source": [
    "# Torch \n",
    "m = torch.distributions.log_normal.LogNormal(self.lognu_mu, \\\n",
    "                                             self.lognu_logsig2.exp().sqrt())\n",
    "m.entropy()"
   ]
  },
  {
   "cell_type": "markdown",
   "metadata": {},
   "source": [
    "entropy: invgamma"
   ]
  },
  {
   "cell_type": "code",
   "execution_count": 132,
   "metadata": {},
   "outputs": [
    {
     "data": {
      "text/plain": [
       "tensor(2.6055, grad_fn=<SumBackward0>)"
      ]
     },
     "execution_count": 132,
     "metadata": {},
     "output_type": "execute_result"
    }
   ],
   "source": [
    "# My code\n",
    "util.entropy_invgamma(self.vtheta_a, self.vtheta_b)\n"
   ]
  },
  {
   "cell_type": "code",
   "execution_count": 133,
   "metadata": {},
   "outputs": [
    {
     "data": {
      "text/plain": [
       "array(2.60545596)"
      ]
     },
     "execution_count": 133,
     "metadata": {},
     "output_type": "execute_result"
    }
   ],
   "source": [
    "# Scipy\n",
    "from scipy.stats import invgamma\n",
    "ig = invgamma(a=self.vtheta_a.item(), scale=self.vtheta_b.item())\n",
    "ig.entropy()"
   ]
  },
  {
   "cell_type": "code",
   "execution_count": null,
   "metadata": {},
   "outputs": [],
   "source": []
  },
  {
   "cell_type": "markdown",
   "metadata": {},
   "source": [
    "## Very simple 2D"
   ]
  },
  {
   "cell_type": "code",
   "execution_count": 383,
   "metadata": {},
   "outputs": [
    {
     "data": {
      "text/plain": [
       "<module 'networks' from '/Users/beaucoker/Documents/git/VS-BNN/code/horseshoe/networks.py'>"
      ]
     },
     "execution_count": 383,
     "metadata": {},
     "output_type": "execute_result"
    }
   ],
   "source": [
    "importlib.reload(layers)\n",
    "importlib.reload(util)\n",
    "importlib.reload(networks)"
   ]
  },
  {
   "cell_type": "code",
   "execution_count": 384,
   "metadata": {},
   "outputs": [
    {
     "data": {
      "text/plain": [
       "Text(0.5, 0, 'x2')"
      ]
     },
     "execution_count": 384,
     "metadata": {},
     "output_type": "execute_result"
    },
    {
     "data": {
      "image/png": "[encoded data removed]",
      "text/plain": [
       "<Figure size 432x288 with 2 Axes>"
      ]
     },
     "metadata": {
      "needs_background": "light"
     },
     "output_type": "display_data"
    }
   ],
   "source": [
    "n_obs = 100\n",
    "sig2 = .01\n",
    "x1 = torch.linspace(-1,1,n_obs).reshape(-1,1)\n",
    "x2 = torch.randn(n_obs).reshape(-1,1)\n",
    "x = torch.cat([x1,x2],dim=1)\n",
    "\n",
    "y = x1 + sig2*torch.randn(n_obs).reshape(-1,1)\n",
    "\n",
    "fix, ax = plt.subplots(1,2,sharey=True)\n",
    "\n",
    "ax[0].scatter(x[:,0].numpy(), y.numpy()); ax[0].set_xlabel('x1')\n",
    "ax[1].scatter(x[:,1].numpy(), y.numpy()); ax[1].set_xlabel('x2')"
   ]
  },
  {
   "cell_type": "code",
   "execution_count": 417,
   "metadata": {},
   "outputs": [],
   "source": [
    "torch.manual_seed(2)\n",
    "model = networks.RffHs(2, 1, dim_hidden=50, sig2_inv=1/sig2)"
   ]
  },
  {
   "cell_type": "code",
   "execution_count": 418,
   "metadata": {},
   "outputs": [
    {
     "name": "stdout",
     "output_type": "stream",
     "text": [
      "before: 1653.8682861328125\n",
      "temp:  0.0\n",
      "after: 1608.32666015625\n",
      "Epoch[1/100], kl: 14.758945, likelihood: 130.950638, elbo: 117.143417\n",
      "before: -116.74821472167969\n",
      "temp:  0.02\n",
      "after: -116.90808868408203\n",
      "Epoch[2/100], kl: 14.759881, likelihood: 124.457909, elbo: 110.078835\n",
      "before: -111.3617172241211\n",
      "temp:  0.04\n",
      "after: -111.81927490234375\n",
      "Epoch[3/100], kl: 14.760319, likelihood: 122.241249, elbo: 108.703217\n",
      "before: -108.83293151855469\n",
      "temp:  0.06\n",
      "after: -109.1109619140625\n",
      "Epoch[4/100], kl: 14.760695, likelihood: 127.829834, elbo: 112.487770\n",
      "before: -111.98165893554688\n",
      "temp:  0.08\n",
      "after: -112.48896026611328\n",
      "Epoch[5/100], kl: 14.761305, likelihood: 124.410980, elbo: 108.397781\n",
      "before: -109.09846496582031\n",
      "temp:  0.1\n",
      "after: -110.41873168945312\n",
      "Epoch[6/100], kl: 14.762444, likelihood: 131.230789, elbo: 116.874382\n",
      "before: -116.29564666748047\n",
      "temp:  0.12\n",
      "after: -115.25346374511719\n",
      "Epoch[7/100], kl: 14.762967, likelihood: 131.273224, elbo: 117.749069\n",
      "before: -115.96134948730469\n",
      "temp:  0.14\n",
      "after: -117.92626190185547\n",
      "Epoch[8/100], kl: 14.763389, likelihood: 125.441978, elbo: 111.333603\n",
      "before: -110.68488311767578\n",
      "temp:  0.16\n",
      "after: -113.5989761352539\n",
      "Epoch[9/100], kl: 14.764057, likelihood: 132.550003, elbo: 116.944504\n",
      "before: -117.22634887695312\n",
      "temp:  0.18\n",
      "after: -117.47784423828125\n",
      "Epoch[10/100], kl: 14.764238, likelihood: 123.377289, elbo: 111.451508\n",
      "before: -114.08033752441406\n",
      "temp:  0.2\n",
      "after: -113.22574615478516\n",
      "Epoch[11/100], kl: 14.764688, likelihood: 128.866013, elbo: 115.459068\n",
      "before: -117.40103912353516\n",
      "temp:  0.22\n",
      "after: -116.13626098632812\n",
      "Epoch[12/100], kl: 14.764636, likelihood: 123.008469, elbo: 108.822128\n",
      "before: -107.03144836425781\n",
      "temp:  0.24\n",
      "after: -107.27237701416016\n",
      "Epoch[13/100], kl: 14.764797, likelihood: 130.375610, elbo: 114.912567\n",
      "before: -115.54611206054688\n",
      "temp:  0.26\n",
      "after: -115.64164733886719\n",
      "Epoch[14/100], kl: 14.764494, likelihood: 122.846451, elbo: 108.147614\n",
      "before: -107.76551818847656\n",
      "temp:  0.28\n",
      "after: -103.58033752441406\n",
      "Epoch[15/100], kl: 14.763754, likelihood: 129.334442, elbo: 113.441841\n",
      "before: -113.62235260009766\n",
      "temp:  0.3\n",
      "after: -114.59642028808594\n",
      "Epoch[16/100], kl: 14.762802, likelihood: 127.962082, elbo: 114.960587\n",
      "before: -114.24610900878906\n",
      "temp:  0.32\n",
      "after: -115.4171142578125\n",
      "Epoch[17/100], kl: 14.761746, likelihood: 128.739944, elbo: 109.421669\n",
      "before: -113.90542602539062\n",
      "temp:  0.34\n",
      "after: -111.48971557617188\n",
      "Epoch[18/100], kl: 14.759256, likelihood: 129.967926, elbo: 115.299370\n",
      "before: -115.16602325439453\n",
      "temp:  0.36\n",
      "after: -115.79338073730469\n",
      "Epoch[19/100], kl: 14.758429, likelihood: 124.860710, elbo: 110.561226\n",
      "before: -110.80488586425781\n",
      "temp:  0.38\n",
      "after: -111.25572967529297\n",
      "Epoch[20/100], kl: 14.756987, likelihood: 126.114746, elbo: 112.961525\n",
      "before: -113.54452514648438\n",
      "temp:  0.4\n",
      "after: -113.41670227050781\n",
      "Epoch[21/100], kl: 14.755404, likelihood: 130.359344, elbo: 114.856934\n",
      "before: -115.67851257324219\n",
      "temp:  0.42\n",
      "after: -115.23640441894531\n",
      "Epoch[22/100], kl: 14.752934, likelihood: 129.747421, elbo: 113.986847\n",
      "before: -114.917724609375\n",
      "temp:  0.44\n",
      "after: -115.55171966552734\n",
      "Epoch[23/100], kl: 14.751133, likelihood: 129.100906, elbo: 112.149719\n",
      "before: -112.42359924316406\n",
      "temp:  0.46\n",
      "after: -112.71830749511719\n",
      "Epoch[24/100], kl: 14.748684, likelihood: 123.325287, elbo: 109.084549\n",
      "before: -109.67796325683594\n",
      "temp:  0.48\n",
      "after: -108.43323516845703\n",
      "Epoch[25/100], kl: 14.745222, likelihood: 123.507912, elbo: 110.190170\n",
      "before: -109.19745635986328\n",
      "temp:  0.5\n",
      "after: -110.05487060546875\n",
      "Epoch[26/100], kl: 14.742249, likelihood: 129.238678, elbo: 115.934982\n",
      "before: -114.98977661132812\n",
      "temp:  0.52\n",
      "after: -116.2934799194336\n",
      "Epoch[27/100], kl: 14.737906, likelihood: 127.338089, elbo: 112.364357\n",
      "before: -112.15562438964844\n",
      "temp:  0.54\n",
      "after: -112.66294860839844\n",
      "Epoch[28/100], kl: 14.732761, likelihood: 130.345612, elbo: 116.604706\n",
      "before: -115.34800720214844\n",
      "temp:  0.56\n",
      "after: -116.81485748291016\n",
      "Epoch[29/100], kl: 14.728353, likelihood: 125.275543, elbo: 107.690895\n",
      "before: -112.43777465820312\n",
      "temp:  0.58\n",
      "after: -109.19034576416016\n",
      "Epoch[30/100], kl: 14.722351, likelihood: 130.487335, elbo: 116.278748\n",
      "before: -115.66445922851562\n",
      "temp:  0.6\n",
      "after: -116.09292602539062\n",
      "Epoch[31/100], kl: 14.716082, likelihood: 128.355988, elbo: 113.187935\n",
      "before: -113.537109375\n",
      "temp:  0.62\n",
      "after: -114.19690704345703\n",
      "Epoch[32/100], kl: 14.709563, likelihood: 124.416107, elbo: 108.198036\n",
      "before: -108.31534576416016\n",
      "temp:  0.64\n",
      "after: -109.461181640625\n",
      "Epoch[33/100], kl: 14.703304, likelihood: 122.052528, elbo: 108.116058\n",
      "before: -107.17131042480469\n",
      "temp:  0.66\n",
      "after: -109.65596771240234\n",
      "Epoch[34/100], kl: 14.695729, likelihood: 132.703918, elbo: 117.964546\n",
      "before: -117.06832122802734\n",
      "temp:  0.68\n",
      "after: -118.81864929199219\n",
      "Epoch[35/100], kl: 14.687870, likelihood: 131.709351, elbo: 116.741501\n",
      "before: -117.27058410644531\n",
      "temp:  0.7\n",
      "after: -117.14356994628906\n",
      "Epoch[36/100], kl: 14.679544, likelihood: 127.957382, elbo: 112.933144\n",
      "before: -112.4666519165039\n",
      "temp:  0.72\n",
      "after: -113.17052459716797\n",
      "Epoch[37/100], kl: 14.671009, likelihood: 129.827042, elbo: 116.536575\n",
      "before: -114.81999206542969\n",
      "temp:  0.74\n",
      "after: -115.16744232177734\n",
      "Epoch[38/100], kl: 14.663446, likelihood: 123.563148, elbo: 108.378021\n",
      "before: -107.48123168945312\n",
      "temp:  0.76\n",
      "after: -108.54888916015625\n",
      "Epoch[39/100], kl: 14.654842, likelihood: 127.087685, elbo: 105.462250\n",
      "before: -104.06132507324219\n",
      "temp:  0.78\n",
      "after: -112.39163970947266\n",
      "Epoch[40/100], kl: 14.647464, likelihood: 130.555695, elbo: 116.246109\n",
      "before: -113.07284545898438\n",
      "temp:  0.8\n",
      "after: -115.89323425292969\n",
      "Epoch[41/100], kl: 14.638775, likelihood: 113.742706, elbo: 103.220856\n",
      "before: -105.64190673828125\n",
      "temp:  0.82\n",
      "after: -108.7513656616211\n",
      "Epoch[42/100], kl: 14.629576, likelihood: 119.028824, elbo: 109.073227\n",
      "before: -109.0911636352539\n",
      "temp:  0.84\n",
      "after: -109.19351196289062\n",
      "Epoch[43/100], kl: 14.619332, likelihood: 124.316399, elbo: 111.330635\n",
      "before: -112.19441223144531\n",
      "temp:  0.86\n",
      "after: -113.48556518554688\n",
      "Epoch[44/100], kl: 14.609790, likelihood: 127.809082, elbo: 113.170723\n",
      "before: -112.14745330810547\n",
      "temp:  0.88\n",
      "after: -112.98046112060547\n",
      "Epoch[45/100], kl: 14.600153, likelihood: 133.037704, elbo: 118.459389\n",
      "before: -117.07990264892578\n",
      "temp:  0.9\n",
      "after: -118.37516784667969\n",
      "Epoch[46/100], kl: 14.589262, likelihood: 133.227142, elbo: 119.097382\n",
      "before: -118.55174255371094\n",
      "temp:  0.92\n",
      "after: -118.64274597167969\n",
      "Epoch[47/100], kl: 14.578863, likelihood: 132.038513, elbo: 117.636986\n",
      "before: -117.47708892822266\n",
      "temp:  0.94\n",
      "after: -117.85981750488281\n",
      "Epoch[48/100], kl: 14.568419, likelihood: 129.830551, elbo: 113.799835\n",
      "before: -115.70632934570312\n",
      "temp:  0.96\n",
      "after: -115.37386322021484\n",
      "Epoch[49/100], kl: 14.559484, likelihood: 132.578796, elbo: 117.085686\n",
      "before: -117.51700592041016\n",
      "temp:  0.98\n",
      "after: -118.16032409667969\n",
      "Epoch[50/100], kl: 14.549828, likelihood: 133.421844, elbo: 119.597832\n",
      "before: -120.7468490600586\n",
      "temp:  1\n",
      "after: -119.27217102050781\n",
      "Epoch[51/100], kl: 14.539116, likelihood: 128.104538, elbo: 115.516243\n",
      "before: -111.87366485595703\n",
      "temp:  1\n",
      "after: -114.91084289550781\n",
      "Epoch[52/100], kl: 14.528650, likelihood: 133.225708, elbo: 118.661827\n",
      "before: -119.05565643310547\n",
      "temp:  1\n",
      "after: -119.26896667480469\n",
      "Epoch[53/100], kl: 14.516248, likelihood: 121.600586, elbo: 112.110031\n",
      "before: -114.21969604492188\n",
      "temp:  1\n",
      "after: -112.74424743652344\n",
      "Epoch[54/100], kl: 14.507757, likelihood: 126.622223, elbo: 109.787315\n",
      "before: -111.51600646972656\n",
      "temp:  1\n",
      "after: -112.92840576171875\n",
      "Epoch[55/100], kl: 14.498640, likelihood: 119.408417, elbo: 109.060181\n",
      "before: -108.99078369140625\n",
      "temp:  1\n",
      "after: -113.15994262695312\n",
      "Epoch[56/100], kl: 14.491177, likelihood: 133.089828, elbo: 118.305542\n",
      "before: -120.57113647460938\n",
      "temp:  1\n",
      "after: -120.59968566894531\n",
      "Epoch[57/100], kl: 14.481274, likelihood: 132.454315, elbo: 118.371536\n",
      "before: -119.21177673339844\n",
      "temp:  1\n",
      "after: -118.51302337646484\n",
      "Epoch[58/100], kl: 14.472256, likelihood: 129.147446, elbo: 114.484756\n",
      "before: -113.15422058105469\n",
      "temp:  1\n",
      "after: -115.33248901367188\n",
      "Epoch[59/100], kl: 14.462684, likelihood: 129.142181, elbo: 114.045815\n",
      "before: -111.68010711669922\n",
      "temp:  1\n",
      "after: -115.66789245605469\n",
      "Epoch[60/100], kl: 14.454358, likelihood: 129.951065, elbo: 116.310226\n",
      "before: -116.00627136230469\n"
     ]
    },
    {
     "name": "stdout",
     "output_type": "stream",
     "text": [
      "temp:  1\n",
      "after: -116.35440063476562\n",
      "Epoch[61/100], kl: 14.444332, likelihood: 131.818192, elbo: 115.676422\n",
      "before: -116.59402465820312\n",
      "temp:  1\n",
      "after: -116.32720947265625\n",
      "Epoch[62/100], kl: 14.435150, likelihood: 122.020805, elbo: 108.625595\n",
      "before: -112.11011505126953\n",
      "temp:  1\n",
      "after: -113.08653259277344\n",
      "Epoch[63/100], kl: 14.427238, likelihood: 129.908020, elbo: 115.451057\n",
      "before: -114.84906768798828\n",
      "temp:  1\n",
      "after: -114.54358673095703\n",
      "Epoch[64/100], kl: 14.418058, likelihood: 124.874855, elbo: 107.708534\n",
      "before: -113.5594711303711\n",
      "temp:  1\n",
      "after: -114.16314697265625\n",
      "Epoch[65/100], kl: 14.410142, likelihood: 128.527634, elbo: 109.525986\n",
      "before: -114.56541442871094\n",
      "temp:  1\n",
      "after: -115.17200469970703\n",
      "Epoch[66/100], kl: 14.401234, likelihood: 126.670868, elbo: 111.346207\n",
      "before: -110.10369873046875\n",
      "temp:  1\n",
      "after: -112.44813537597656\n",
      "Epoch[67/100], kl: 14.391237, likelihood: 131.733551, elbo: 115.452682\n",
      "before: -116.89608764648438\n",
      "temp:  1\n",
      "after: -117.34649658203125\n",
      "Epoch[68/100], kl: 14.382040, likelihood: 133.587570, elbo: 119.017723\n",
      "before: -119.39154815673828\n",
      "temp:  1\n",
      "after: -119.45846557617188\n",
      "Epoch[69/100], kl: 14.373636, likelihood: 129.230469, elbo: 112.866402\n",
      "before: -115.26715850830078\n",
      "temp:  1\n",
      "after: -114.75595092773438\n",
      "Epoch[70/100], kl: 14.363369, likelihood: 128.313568, elbo: 114.526337\n",
      "before: -113.18449401855469\n",
      "temp:  1\n",
      "after: -114.2989273071289\n",
      "Epoch[71/100], kl: 14.354176, likelihood: 132.905197, elbo: 115.134171\n",
      "before: -117.81741333007812\n",
      "temp:  1\n",
      "after: -118.91555786132812\n",
      "Epoch[72/100], kl: 14.347197, likelihood: 131.340454, elbo: 116.894119\n",
      "before: -116.52919006347656\n",
      "temp:  1\n",
      "after: -117.11065673828125\n",
      "Epoch[73/100], kl: 14.338149, likelihood: 129.687363, elbo: 115.888733\n",
      "before: -116.60649108886719\n",
      "temp:  1\n",
      "after: -115.51187896728516\n",
      "Epoch[74/100], kl: 14.330437, likelihood: 125.793076, elbo: 110.619438\n",
      "before: -112.39778900146484\n",
      "temp:  1\n",
      "after: -114.81458282470703\n",
      "Epoch[75/100], kl: 14.322962, likelihood: 129.872162, elbo: 113.325035\n",
      "before: -116.5103530883789\n",
      "temp:  1\n",
      "after: -116.11866760253906\n",
      "Epoch[76/100], kl: 14.312504, likelihood: 128.197418, elbo: 120.204147\n",
      "before: -119.03727722167969\n",
      "temp:  1\n",
      "after: -120.2190170288086\n",
      "Epoch[77/100], kl: 14.303564, likelihood: 131.438721, elbo: 119.415993\n",
      "before: -118.32524871826172\n",
      "temp:  1\n",
      "after: -119.31047058105469\n",
      "Epoch[78/100], kl: 14.295526, likelihood: 127.508888, elbo: 113.007401\n",
      "before: -111.79295349121094\n",
      "temp:  1\n",
      "after: -112.64546203613281\n",
      "Epoch[79/100], kl: 14.286461, likelihood: 131.775116, elbo: 117.401665\n",
      "before: -114.22444915771484\n",
      "temp:  1\n",
      "after: -116.84789276123047\n",
      "Epoch[80/100], kl: 14.277127, likelihood: 131.913910, elbo: 118.998932\n",
      "before: -118.32435607910156\n",
      "temp:  1\n",
      "after: -118.94950103759766\n",
      "Epoch[81/100], kl: 14.268422, likelihood: 132.704590, elbo: 118.111992\n",
      "before: -118.0132064819336\n",
      "temp:  1\n",
      "after: -118.80508422851562\n",
      "Epoch[82/100], kl: 14.259417, likelihood: 128.908783, elbo: 114.013840\n",
      "before: -113.96554565429688\n",
      "temp:  1\n",
      "after: -113.97944641113281\n",
      "Epoch[83/100], kl: 14.250061, likelihood: 125.549324, elbo: 111.485626\n",
      "before: -110.91812133789062\n",
      "temp:  1\n",
      "after: -112.96549224853516\n",
      "Epoch[84/100], kl: 14.241354, likelihood: 133.659470, elbo: 119.063377\n",
      "before: -119.2469253540039\n",
      "temp:  1\n",
      "after: -119.35547637939453\n",
      "Epoch[85/100], kl: 14.233030, likelihood: 129.366989, elbo: 118.318619\n",
      "before: -119.12518310546875\n",
      "temp:  1\n",
      "after: -118.96468353271484\n",
      "Epoch[86/100], kl: 14.223521, likelihood: 130.370758, elbo: 115.341072\n",
      "before: -116.67362213134766\n",
      "temp:  1\n",
      "after: -117.46766662597656\n",
      "Epoch[87/100], kl: 14.213942, likelihood: 129.124695, elbo: 115.118622\n",
      "before: -115.0968017578125\n",
      "temp:  1\n",
      "after: -113.34197235107422\n",
      "Epoch[88/100], kl: 14.205057, likelihood: 128.282410, elbo: 114.397881\n",
      "before: -113.63477325439453\n",
      "temp:  1\n",
      "after: -113.8577880859375\n",
      "Epoch[89/100], kl: 14.196314, likelihood: 129.323227, elbo: 113.956642\n",
      "before: -117.3678207397461\n",
      "temp:  1\n",
      "after: -117.48843383789062\n",
      "Epoch[90/100], kl: 14.190628, likelihood: 132.846832, elbo: 119.162064\n",
      "before: -118.6007080078125\n",
      "temp:  1\n",
      "after: -118.81415557861328\n",
      "Epoch[91/100], kl: 14.182148, likelihood: 130.145737, elbo: 113.441620\n",
      "before: -114.73707580566406\n",
      "temp:  1\n",
      "after: -117.11843872070312\n",
      "Epoch[92/100], kl: 14.174677, likelihood: 128.967667, elbo: 117.668892\n",
      "before: -113.13964080810547\n",
      "temp:  1\n",
      "after: -117.6121826171875\n",
      "Epoch[93/100], kl: 14.167203, likelihood: 126.545555, elbo: 110.974777\n",
      "before: -108.23017883300781\n",
      "temp:  1\n",
      "after: -113.86772918701172\n",
      "Epoch[94/100], kl: 14.159790, likelihood: 131.232513, elbo: 114.816635\n",
      "before: -116.53535461425781\n",
      "temp:  1\n",
      "after: -116.9619140625\n",
      "Epoch[95/100], kl: 14.150721, likelihood: 123.581924, elbo: 116.151192\n",
      "before: -111.34769439697266\n",
      "temp:  1\n",
      "after: -117.23355102539062\n",
      "Epoch[96/100], kl: 14.143769, likelihood: 124.643166, elbo: 112.632095\n",
      "before: -112.5793685913086\n",
      "temp:  1\n",
      "after: -110.16764831542969\n",
      "Epoch[97/100], kl: 14.134356, likelihood: 121.403137, elbo: 110.147316\n",
      "before: -109.27073669433594\n",
      "temp:  1\n",
      "after: -111.05751037597656\n",
      "Epoch[98/100], kl: 14.125883, likelihood: 131.441544, elbo: 116.984192\n",
      "before: -115.17697143554688\n",
      "temp:  1\n",
      "after: -116.95355224609375\n",
      "Epoch[99/100], kl: 14.118044, likelihood: 129.320816, elbo: 114.009430\n",
      "before: -112.54523468017578\n",
      "temp:  1\n",
      "after: -115.19580841064453\n",
      "Epoch[100/100], kl: 14.109593, likelihood: 128.234741, elbo: 115.147102\n"
     ]
    },
    {
     "data": {
      "text/plain": [
       "[<matplotlib.lines.Line2D at 0x1320d25c0>]"
      ]
     },
     "execution_count": 418,
     "metadata": {},
     "output_type": "execute_result"
    },
    {
     "data": {
      "image/png": "[encoded data removed]",
      "text/plain": [
       "<Figure size 432x288 with 1 Axes>"
      ]
     },
     "metadata": {
      "needs_background": "light"
     },
     "output_type": "display_data"
    }
   ],
   "source": [
    "torch.manual_seed(2)\n",
    "optimizer = torch.optim.Adam(model.parameters(), lr=.0001)\n",
    "model.reinit_parameters(x,y,n_reinit=10) \n",
    "elbo = -networks.train(model, optimizer, x, y, n_epochs=100, n_rep_opt=100, print_freq=1)\n",
    "plt.plot(-elbo)"
   ]
  },
  {
   "cell_type": "code",
   "execution_count": 408,
   "metadata": {},
   "outputs": [],
   "source": [
    "model.layer_in.lognu_mu.data = torch.log(torch.tensor([1.]))\n",
    "model.layer_in.logeta_mu.data = torch.log(torch.tensor([1., 1e-10]))\n",
    "\n",
    "model.fixed_point_updates(x, y, x_linear=False, temperature=1)"
   ]
  },
  {
   "cell_type": "code",
   "execution_count": 404,
   "metadata": {},
   "outputs": [
    {
     "data": {
      "image/png": "[encoded data removed]",
      "text/plain": [
       "<Figure size 432x288 with 1 Axes>"
      ]
     },
     "metadata": {
      "needs_background": "light"
     },
     "output_type": "display_data"
    }
   ],
   "source": [
    "x_plot = torch.linspace(-1,1,100).reshape(-1,1)\n",
    "x_plot = torch.cat([x_plot, torch.zeros(x_plot.shape[0]).reshape(-1,1)],dim=1)\n",
    "plot_results_2d(x,y,x_plot, model)"
   ]
  },
  {
   "cell_type": "code",
   "execution_count": 409,
   "metadata": {},
   "outputs": [
    {
     "data": {
      "image/png": "[encoded data removed]",
      "text/plain": [
       "<Figure size 432x288 with 1 Axes>"
      ]
     },
     "metadata": {
      "needs_background": "light"
     },
     "output_type": "display_data"
    }
   ],
   "source": [
    "x_plot = torch.linspace(-2,2,100).reshape(-1,1)\n",
    "x_plot = torch.cat([torch.zeros(x_plot.shape[0]).reshape(-1,1), x_plot],dim=1)\n",
    "plot_results_2d(x,y,x_plot, model, idx=1)"
   ]
  },
  {
   "cell_type": "code",
   "execution_count": null,
   "metadata": {},
   "outputs": [],
   "source": []
  },
  {
   "cell_type": "code",
   "execution_count": 419,
   "metadata": {},
   "outputs": [
    {
     "name": "stdout",
     "output_type": "stream",
     "text": [
      "layer_in.lognu_mu tensor([-0.2276])\n",
      "layer_in.lognu_logsig2 tensor([-8.6950])\n",
      "layer_in.logeta_mu tensor([-0.0590, -0.5292])\n",
      "layer_in.logeta_logsig2 tensor([-8.6634, -8.2638])\n"
     ]
    }
   ],
   "source": [
    "for name, p in model.named_parameters():\n",
    "    print(name, p.detach())"
   ]
  },
  {
   "cell_type": "code",
   "execution_count": 421,
   "metadata": {},
   "outputs": [
    {
     "data": {
      "text/plain": [
       "tensor([0.7964], grad_fn=<ExpBackward>)"
      ]
     },
     "execution_count": 421,
     "metadata": {},
     "output_type": "execute_result"
    }
   ],
   "source": [
    "model.layer_in.lognu_mu.exp()"
   ]
  },
  {
   "cell_type": "code",
   "execution_count": 420,
   "metadata": {},
   "outputs": [
    {
     "data": {
      "text/plain": [
       "tensor([0.9427, 0.5891], grad_fn=<ExpBackward>)"
      ]
     },
     "execution_count": 420,
     "metadata": {},
     "output_type": "execute_result"
    }
   ],
   "source": [
    "model.layer_in.logeta_mu.exp()"
   ]
  },
  {
   "cell_type": "code",
   "execution_count": 412,
   "metadata": {},
   "outputs": [
    {
     "data": {
      "text/plain": [
       "0.0"
      ]
     },
     "execution_count": 412,
     "metadata": {},
     "output_type": "execute_result"
    }
   ],
   "source": [
    "model.layer_in.logeta_mu[0].item()"
   ]
  },
  {
   "cell_type": "code",
   "execution_count": 413,
   "metadata": {},
   "outputs": [
    {
     "data": {
      "text/plain": [
       "-23.025850296020508"
      ]
     },
     "execution_count": 413,
     "metadata": {},
     "output_type": "execute_result"
    }
   ],
   "source": [
    "model.layer_in.logeta_mu[1].item()"
   ]
  },
  {
   "cell_type": "code",
   "execution_count": 414,
   "metadata": {},
   "outputs": [
    {
     "data": {
      "text/plain": [
       "tensor([1.0001], grad_fn=<ExpBackward>)"
      ]
     },
     "execution_count": 414,
     "metadata": {},
     "output_type": "execute_result"
    }
   ],
   "source": [
    "util.reparam_trick_lognormal(model.layer_in.lognu_mu, model.layer_in.lognu_logsig2.exp(), False)\n"
   ]
  },
  {
   "cell_type": "code",
   "execution_count": 415,
   "metadata": {},
   "outputs": [
    {
     "data": {
      "text/plain": [
       "tensor([1.0001e+00, 1.0001e-10], grad_fn=<ExpBackward>)"
      ]
     },
     "execution_count": 415,
     "metadata": {},
     "output_type": "execute_result"
    }
   ],
   "source": [
    "util.reparam_trick_lognormal(model.layer_in.logeta_mu, model.layer_in.logeta_logsig2.exp(), False)\n"
   ]
  },
  {
   "cell_type": "code",
   "execution_count": 416,
   "metadata": {},
   "outputs": [
    {
     "name": "stdout",
     "output_type": "stream",
     "text": [
      "Epoch[2/2], kl: 25.575773, likelihood: 136.753220, elbo: 108.370468\n"
     ]
    }
   ],
   "source": [
    "model.print_state(x, y, 1+1, 2)"
   ]
  },
  {
   "cell_type": "markdown",
   "metadata": {},
   "source": [
    "## Simple model"
   ]
  },
  {
   "cell_type": "code",
   "execution_count": 422,
   "metadata": {},
   "outputs": [
    {
     "data": {
      "text/plain": [
       "[<matplotlib.lines.Line2D at 0x1320dc748>]"
      ]
     },
     "execution_count": 422,
     "metadata": {},
     "output_type": "execute_result"
    },
    {
     "data": {
      "image/png": "[encoded data removed]",
      "text/plain": [
       "<Figure size 432x288 with 1 Axes>"
      ]
     },
     "metadata": {
      "needs_background": "light"
     },
     "output_type": "display_data"
    }
   ],
   "source": [
    "# Toy data\n",
    "x_true = torch.tensor(np.linspace(-5,5,100).reshape(-1,1), dtype=torch.float)\n",
    "x, x_val, y, y_val, y_scale, y_true = util.gen_toy_data(num_train=200, x_true=x_true)\n",
    "\n",
    "plt.scatter(x.numpy(), y.numpy())\n",
    "plt.plot(x_true.numpy(), y_true.numpy())"
   ]
  },
  {
   "cell_type": "code",
   "execution_count": 423,
   "metadata": {},
   "outputs": [
    {
     "data": {
      "text/plain": [
       "<module 'networks' from '/Users/beaucoker/Documents/git/VS-BNN/code/horseshoe/networks.py'>"
      ]
     },
     "execution_count": 423,
     "metadata": {},
     "output_type": "execute_result"
    }
   ],
   "source": [
    "importlib.reload(layers)\n",
    "importlib.reload(util)\n",
    "importlib.reload(networks)"
   ]
  },
  {
   "cell_type": "code",
   "execution_count": 434,
   "metadata": {},
   "outputs": [],
   "source": [
    "model = networks.RffHs(x.shape[1],y.shape[1], dim_hidden=300, sig2_inv=1/(0.1**2))\n",
    "optimizer = torch.optim.Adam(model.parameters(), lr=.001)"
   ]
  },
  {
   "cell_type": "code",
   "execution_count": 435,
   "metadata": {},
   "outputs": [
    {
     "name": "stdout",
     "output_type": "stream",
     "text": [
      "layer_in.lognu_mu tensor([0.0087])\n",
      "layer_in.lognu_logsig2 tensor([-9.0083])\n",
      "layer_in.logeta_mu tensor([0.0124])\n",
      "layer_in.logeta_logsig2 tensor([-9.0182])\n"
     ]
    }
   ],
   "source": [
    "for name, param in model.named_parameters():\n",
    "    print(name, param.data)"
   ]
  },
  {
   "cell_type": "code",
   "execution_count": 426,
   "metadata": {},
   "outputs": [],
   "source": [
    "model.reinit_parameters(x,y,n_reinit=10)"
   ]
  },
  {
   "cell_type": "code",
   "execution_count": 427,
   "metadata": {},
   "outputs": [
    {
     "name": "stdout",
     "output_type": "stream",
     "text": [
      "before: 29218.064453125\n",
      "temp:  0.0\n",
      "after: 26675.576171875\n",
      "before: 2442.88330078125\n",
      "temp:  0.02\n",
      "after: 2292.513916015625\n",
      "before: 2319.8330078125\n",
      "temp:  0.04\n",
      "after: 2296.27685546875\n",
      "before: 2266.487060546875\n",
      "temp:  0.06\n",
      "after: 2310.221923828125\n",
      "before: 2276.000244140625\n",
      "temp:  0.08\n",
      "after: 2264.427490234375\n",
      "before: 2275.76806640625\n",
      "temp:  0.1\n",
      "after: 2285.462158203125\n",
      "before: 2278.872802734375\n",
      "temp:  0.12\n",
      "after: 2289.820556640625\n",
      "before: 2254.696044921875\n",
      "temp:  0.14\n",
      "after: 2329.604248046875\n",
      "before: 2265.58056640625\n",
      "temp:  0.16\n",
      "after: 2439.882568359375\n",
      "before: 2266.653564453125\n",
      "temp:  0.18\n",
      "after: 2273.63427734375\n",
      "before: 2273.5244140625\n",
      "temp:  0.2\n",
      "after: 2274.303466796875\n",
      "before: 2274.42626953125\n",
      "temp:  0.22\n",
      "after: 2268.474853515625\n",
      "before: 2270.47265625\n",
      "temp:  0.24\n",
      "after: 2328.16162109375\n",
      "before: 2269.05859375\n",
      "temp:  0.26\n",
      "after: 2271.652099609375\n",
      "before: 2253.68115234375\n",
      "temp:  0.28\n",
      "after: 2258.758544921875\n",
      "before: 2265.99609375\n",
      "temp:  0.3\n",
      "after: 2295.541259765625\n",
      "before: 2394.390869140625\n",
      "temp:  0.32\n",
      "after: 2276.934814453125\n",
      "before: 2271.859619140625\n",
      "temp:  0.34\n",
      "after: 2272.080078125\n",
      "before: 2263.248291015625\n",
      "temp:  0.36\n",
      "after: 2263.3662109375\n",
      "before: 2333.87890625\n",
      "temp:  0.38\n",
      "after: 2266.293212890625\n",
      "before: 2446.172607421875\n",
      "temp:  0.4\n",
      "after: 2264.32421875\n",
      "before: 2261.65380859375\n",
      "temp:  0.42\n",
      "after: 2287.20703125\n",
      "before: 2261.4228515625\n",
      "temp:  0.44\n",
      "after: 2263.394287109375\n",
      "before: 2274.093017578125\n",
      "temp:  0.46\n",
      "after: 2270.6826171875\n",
      "before: 2277.68115234375\n",
      "temp:  0.48\n",
      "after: 2276.38037109375\n",
      "before: 2255.975341796875\n",
      "temp:  0.5\n",
      "after: 2290.027587890625\n",
      "before: 2365.633056640625\n",
      "temp:  0.52\n",
      "after: 2271.912353515625\n",
      "before: 2420.324462890625\n",
      "temp:  0.54\n",
      "after: 2258.828369140625\n",
      "before: 2267.38623046875\n",
      "temp:  0.56\n",
      "after: 2263.262939453125\n",
      "before: 2274.100341796875\n",
      "temp:  0.58\n",
      "after: 2300.95361328125\n",
      "before: 2361.734130859375\n",
      "temp:  0.6\n",
      "after: 2270.341064453125\n",
      "before: 2255.2587890625\n",
      "temp:  0.62\n",
      "after: 2282.586669921875\n",
      "before: 2330.46875\n",
      "temp:  0.64\n",
      "after: 2267.345703125\n",
      "before: 2274.50146484375\n",
      "temp:  0.66\n",
      "after: 2274.932861328125\n",
      "before: 2262.5322265625\n",
      "temp:  0.68\n",
      "after: 2263.640625\n",
      "before: 2261.6728515625\n",
      "temp:  0.7\n",
      "after: 2272.064208984375\n",
      "before: 2298.324951171875\n",
      "temp:  0.72\n",
      "after: 2277.81396484375\n",
      "before: 2341.80859375\n",
      "temp:  0.74\n",
      "after: 2267.590087890625\n",
      "before: 2281.91650390625\n",
      "temp:  0.76\n",
      "after: 2276.18994140625\n",
      "before: 2273.7373046875\n",
      "temp:  0.78\n",
      "after: 2260.331787109375\n",
      "before: 2267.555908203125\n",
      "temp:  0.8\n",
      "after: 2270.819580078125\n",
      "before: 2274.950927734375\n",
      "temp:  0.82\n",
      "after: 2279.31689453125\n",
      "before: 2307.4619140625\n",
      "temp:  0.84\n",
      "after: 2276.303466796875\n",
      "before: 2284.7958984375\n",
      "temp:  0.86\n",
      "after: 2256.114013671875\n",
      "before: 2288.907470703125\n",
      "temp:  0.88\n",
      "after: 2274.215576171875\n",
      "before: 2262.837890625\n",
      "temp:  0.9\n",
      "after: 2263.200927734375\n",
      "before: 2267.234375\n",
      "temp:  0.92\n",
      "after: 2254.731689453125\n",
      "before: 2267.1689453125\n",
      "temp:  0.94\n",
      "after: 2264.932373046875\n",
      "before: 2259.30224609375\n",
      "temp:  0.96\n",
      "after: 2260.415283203125\n",
      "before: 2275.610107421875\n",
      "temp:  0.98\n",
      "after: 2275.8505859375\n",
      "before: 2271.3916015625\n",
      "temp:  1\n",
      "after: 2275.4736328125\n",
      "before: 2273.571044921875\n",
      "temp:  1\n",
      "after: 2267.047607421875\n",
      "before: 2281.161376953125\n",
      "temp:  1\n",
      "after: 2268.8623046875\n",
      "before: 2263.960693359375\n",
      "temp:  1\n",
      "after: 2264.522705078125\n",
      "before: 2280.3310546875\n",
      "temp:  1\n",
      "after: 2273.396484375\n",
      "before: 2279.967041015625\n",
      "temp:  1\n",
      "after: 2265.887939453125\n",
      "before: 2266.57568359375\n",
      "temp:  1\n",
      "after: 2265.64501953125\n",
      "before: 2270.372314453125\n",
      "temp:  1\n",
      "after: 2267.145263671875\n",
      "before: 2279.195556640625\n",
      "temp:  1\n",
      "after: 2276.963623046875\n",
      "before: 2269.00732421875\n",
      "temp:  1\n",
      "after: 2267.541259765625\n",
      "before: 2261.6455078125\n",
      "temp:  1\n",
      "after: 2264.7158203125\n",
      "before: 2252.987548828125\n",
      "temp:  1\n",
      "after: 2264.492431640625\n",
      "before: 2271.9765625\n",
      "temp:  1\n",
      "after: 2272.445556640625\n",
      "before: 2268.431396484375\n",
      "temp:  1\n",
      "after: 2268.095458984375\n",
      "before: 2265.025634765625\n",
      "temp:  1\n",
      "after: 2280.510498046875\n",
      "before: 2256.865234375\n",
      "temp:  1\n",
      "after: 2256.58251953125\n",
      "before: 2276.71484375\n",
      "temp:  1\n",
      "after: 2268.212158203125\n",
      "before: 2267.502685546875\n",
      "temp:  1\n",
      "after: 2269.23876953125\n",
      "before: 2267.530517578125\n",
      "temp:  1\n",
      "after: 2266.088134765625\n",
      "before: 2262.643310546875\n",
      "temp:  1\n",
      "after: 2256.22119140625\n",
      "before: 2260.387939453125\n",
      "temp:  1\n",
      "after: 2261.470458984375\n",
      "before: 2265.603759765625\n",
      "temp:  1\n",
      "after: 2261.936767578125\n",
      "before: 2267.552001953125\n",
      "temp:  1\n",
      "after: 2260.8271484375\n",
      "before: 2262.785400390625\n",
      "temp:  1\n",
      "after: 2262.83154296875\n",
      "before: 2262.82080078125\n",
      "temp:  1\n",
      "after: 2263.242431640625\n",
      "before: 2253.447998046875\n",
      "temp:  1\n",
      "after: 2253.920654296875\n",
      "before: 2273.843017578125\n",
      "temp:  1\n",
      "after: 2281.4189453125\n",
      "before: 2261.88623046875\n",
      "temp:  1\n",
      "after: 2261.7275390625\n",
      "before: 2289.123046875\n",
      "temp:  1\n",
      "after: 2278.62451171875\n",
      "before: 2268.715087890625\n",
      "temp:  1\n",
      "after: 2262.257080078125\n",
      "before: 2265.316162109375\n",
      "temp:  1\n",
      "after: 2265.681396484375\n",
      "before: 2273.515625\n",
      "temp:  1\n",
      "after: 2261.48095703125\n",
      "before: 2272.490234375\n",
      "temp:  1\n",
      "after: 2270.980712890625\n",
      "before: 2253.288330078125\n",
      "temp:  1\n",
      "after: 2251.061279296875\n",
      "before: 2271.54052734375\n",
      "temp:  1\n",
      "after: 2266.58544921875\n",
      "before: 2269.20458984375\n",
      "temp:  1\n",
      "after: 2276.3369140625\n",
      "before: 2287.652099609375\n",
      "temp:  1\n",
      "after: 2276.419677734375\n",
      "before: 2283.6796875\n",
      "temp:  1\n",
      "after: 2270.852294921875\n",
      "before: 2270.72021484375\n",
      "temp:  1\n",
      "after: 2266.753662109375\n",
      "before: 2292.566162109375\n",
      "temp:  1\n",
      "after: 2276.371337890625\n",
      "before: 2291.803955078125\n",
      "temp:  1\n",
      "after: 2280.364013671875\n",
      "before: 2258.322509765625\n",
      "temp:  1\n",
      "after: 2261.025634765625\n",
      "before: 2266.6484375\n",
      "temp:  1\n",
      "after: 2265.08935546875\n",
      "before: 2261.4248046875\n",
      "temp:  1\n",
      "after: 2258.90966796875\n",
      "before: 2271.248779296875\n",
      "temp:  1\n",
      "after: 2270.3330078125\n",
      "before: 2269.167236328125\n",
      "temp:  1\n",
      "after: 2267.7802734375\n",
      "before: 2268.2958984375\n",
      "temp:  1\n",
      "after: 2270.347900390625\n",
      "before: 2264.25634765625\n",
      "temp:  1\n",
      "after: 2284.123779296875\n",
      "before: 2264.611083984375\n",
      "temp:  1\n",
      "after: 2266.71142578125\n",
      "before: 2269.370849609375\n",
      "temp:  1\n",
      "after: 2266.87060546875\n"
     ]
    }
   ],
   "source": [
    "elbo = -networks.train(model, optimizer, x, y, n_epochs=100, n_rep_opt=100, print_freq=1000)\n"
   ]
  },
  {
   "cell_type": "code",
   "execution_count": 19,
   "metadata": {},
   "outputs": [],
   "source": [
    "#plt.plot(elbo.numpy())"
   ]
  },
  {
   "cell_type": "code",
   "execution_count": 431,
   "metadata": {},
   "outputs": [
    {
     "data": {
      "image/png": "[encoded data removed]",
      "text/plain": [
       "<Figure size 432x288 with 1 Axes>"
      ]
     },
     "metadata": {
      "needs_background": "light"
     },
     "output_type": "display_data"
    }
   ],
   "source": [
    "def plot_varbnn(bnn, n_samp, x_true):\n",
    "    #bnn = networks.RffHs(x.shape[1],y.shape[1], dim_hidden=100, sig2_inv=1/.1)\n",
    "    y_samps=np.array([bnn(x_true, sample_input_layer=True, weights_type='sample').view(-1).detach().numpy() for _ in range(n_samp)])\n",
    "    sns.tsplot(y_samps, time=x_true.numpy(),ci='sd',color='red')\n",
    "    plt.scatter(x.numpy(),y.numpy(), color='k', alpha=.5)\n",
    "    plt.plot(x_true.numpy(),y_true.numpy(), color='k')\n",
    "    plt.legend(['Truth','BNN'])\n",
    "\n",
    "    plt.xlabel('x')\n",
    "    plt.ylabel('y')  \n",
    "    \n",
    "    \n",
    "plot_varbnn(model, 100, x_true)\n",
    "\n"
   ]
  },
  {
   "cell_type": "code",
   "execution_count": 432,
   "metadata": {},
   "outputs": [
    {
     "data": {
      "text/plain": [
       "[<matplotlib.lines.Line2D at 0x131da9518>]"
      ]
     },
     "execution_count": 432,
     "metadata": {},
     "output_type": "execute_result"
    },
    {
     "data": {
      "image/png": "[encoded data removed]",
      "text/plain": [
       "<Figure size 432x288 with 1 Axes>"
      ]
     },
     "metadata": {
      "needs_background": "light"
     },
     "output_type": "display_data"
    }
   ],
   "source": [
    "plt.scatter(x.numpy(), y.numpy())\n",
    "plt.plot(x_true.numpy(), y_true.numpy())\n",
    "plt.plot(x_true.numpy(), model.forward(x_true, sample_input_layer=False, weights_type='mean').detach().numpy())\n"
   ]
  },
  {
   "cell_type": "code",
   "execution_count": null,
   "metadata": {},
   "outputs": [],
   "source": []
  },
  {
   "cell_type": "code",
   "execution_count": null,
   "metadata": {},
   "outputs": [],
   "source": []
  },
  {
   "cell_type": "code",
   "execution_count": 433,
   "metadata": {},
   "outputs": [
    {
     "name": "stdout",
     "output_type": "stream",
     "text": [
      "layer_in.lognu_mu tensor([-0.0911])\n",
      "layer_in.lognu_logsig2 tensor([-11.5330])\n",
      "layer_in.logeta_mu tensor([-0.0950])\n",
      "layer_in.logeta_logsig2 tensor([-11.5245])\n"
     ]
    }
   ],
   "source": [
    "for name, param in model.named_parameters():\n",
    "    print(name, param.data)"
   ]
  },
  {
   "cell_type": "code",
   "execution_count": null,
   "metadata": {},
   "outputs": [],
   "source": []
  }
 ],
 "metadata": {
  "kernelspec": {
   "display_name": "Python 3",
   "language": "python",
   "name": "python3"
  },
  "language_info": {
   "codemirror_mode": {
    "name": "ipython",
    "version": 3
   },
   "file_extension": ".py",
   "mimetype": "text/x-python",
   "name": "python",
   "nbconvert_exporter": "python",
   "pygments_lexer": "ipython3",
   "version": "3.7.3"
  }
 },
 "nbformat": 4,
 "nbformat_minor": 2
}
