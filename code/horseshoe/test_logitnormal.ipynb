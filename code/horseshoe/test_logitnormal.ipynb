{
 "cells": [
  {
   "cell_type": "code",
   "execution_count": 1,
   "metadata": {},
   "outputs": [],
   "source": [
    "import torch\n",
    "import torch.nn as nn\n",
    "import torch.nn.functional as F\n",
    "from torch.distributions.normal import Normal\n",
    "import numpy as np\n",
    "import matplotlib.pyplot as plt\n",
    "import importlib\n",
    "import seaborn as sns\n",
    "import sys\n",
    "\n",
    "import layers_v2 as layers\n",
    "import util as util\n",
    "import networks as networks\n",
    "import distributions\n",
    "\n",
    "torch.set_default_dtype(torch.float64)"
   ]
  },
  {
   "cell_type": "code",
   "execution_count": 2,
   "metadata": {},
   "outputs": [],
   "source": [
    "sys.path.insert(0, '../exp/')\n",
    "import util as util_data"
   ]
  },
  {
   "cell_type": "code",
   "execution_count": 3,
   "metadata": {},
   "outputs": [
    {
     "data": {
      "text/plain": [
       "<module 'distributions' from '/Users/beaucoker/Documents/git/VS-BNN/code/horseshoe/distributions.py'>"
      ]
     },
     "execution_count": 3,
     "metadata": {},
     "output_type": "execute_result"
    }
   ],
   "source": [
    "importlib.reload(layers)\n",
    "importlib.reload(util)\n",
    "importlib.reload(networks)\n",
    "importlib.reload(distributions)"
   ]
  },
  {
   "cell_type": "markdown",
   "metadata": {},
   "source": [
    "### Test LogitNormal"
   ]
  },
  {
   "cell_type": "code",
   "execution_count": 4,
   "metadata": {},
   "outputs": [
    {
     "data": {
      "text/plain": [
       "tensor([0.4725])"
      ]
     },
     "execution_count": 4,
     "metadata": {},
     "output_type": "execute_result"
    }
   ],
   "source": [
    "m = distributions.LogitNormal(torch.tensor([0.0]), torch.tensor([1.0]))\n",
    "m.sample()"
   ]
  },
  {
   "cell_type": "code",
   "execution_count": 5,
   "metadata": {},
   "outputs": [
    {
     "data": {
      "text/plain": [
       "tensor([0.4431])"
      ]
     },
     "execution_count": 5,
     "metadata": {},
     "output_type": "execute_result"
    }
   ],
   "source": [
    "m1 = distributions.LogitNormal(torch.tensor([0.0]), torch.tensor([1.0]))\n",
    "m2 = distributions.LogitNormal(torch.tensor([1.0]), torch.tensor([2.0]))\n",
    "\n",
    "torch.distributions.kl_divergence(m1, m2)"
   ]
  },
  {
   "cell_type": "code",
   "execution_count": null,
   "metadata": {},
   "outputs": [],
   "source": []
  },
  {
   "cell_type": "code",
   "execution_count": 17,
   "metadata": {},
   "outputs": [
    {
     "data": {
      "text/plain": [
       "[<matplotlib.lines.Line2D at 0x147c4fc50>]"
      ]
     },
     "execution_count": 17,
     "metadata": {},
     "output_type": "execute_result"
    },
    {
     "data": {
      "image/png": "[encoded data removed]",
      "text/plain": [
       "<Figure size 432x288 with 1 Axes>"
      ]
     },
     "metadata": {
      "needs_background": "light"
     },
     "output_type": "display_data"
    }
   ],
   "source": [
    "logit = lambda x: np.log(x/(1-x))\n",
    "\n",
    "def logitnormal_pdf(x, mu=0, sig2=1):\n",
    "    return 1/np.sqrt(2*np.pi*sig2)/(x*(1-x))*np.exp(-(logit(x)-mu)**2/(2*sig2))\n",
    "\n",
    "eps = .0001\n",
    "x = np.linspace(0+eps,1-eps,100)\n",
    "plt.plot(x, logitnormal_pdf(x,0,1))"
   ]
  },
  {
   "cell_type": "markdown",
   "metadata": {},
   "source": [
    "### Temp"
   ]
  },
  {
   "cell_type": "code",
   "execution_count": 20,
   "metadata": {
    "scrolled": true
   },
   "outputs": [
    {
     "data": {
      "text/plain": [
       "Parameter containing:\n",
       "tensor(2., requires_grad=True)"
      ]
     },
     "execution_count": 20,
     "metadata": {},
     "output_type": "execute_result"
    }
   ],
   "source": [
    "a = nn.Parameter(torch.tensor(1.0))\n",
    "b = a\n",
    "a.data = torch.tensor(2.0)\n",
    "b"
   ]
  },
  {
   "cell_type": "code",
   "execution_count": 25,
   "metadata": {},
   "outputs": [
    {
     "data": {
      "text/plain": [
       "Parameter containing:\n",
       "tensor(2., requires_grad=True)"
      ]
     },
     "execution_count": 25,
     "metadata": {},
     "output_type": "execute_result"
    }
   ],
   "source": [
    "a = nn.Parameter(torch.tensor(1.0))\n",
    "m = torch.distributions.normal.Normal(a, torch.tensor(3.0))\n",
    "a.data = torch.tensor(2.0)\n",
    "m.loc"
   ]
  },
  {
   "cell_type": "code",
   "execution_count": 37,
   "metadata": {},
   "outputs": [
    {
     "data": {
      "text/plain": [
       "tensor(1., grad_fn=<AbsBackward>)"
      ]
     },
     "execution_count": 37,
     "metadata": {},
     "output_type": "execute_result"
    }
   ],
   "source": [
    "a = nn.Parameter(torch.tensor(-1.0))\n",
    "t = torch.distributions.transforms.AbsTransform()\n",
    "b = t(a)\n",
    "a.data = torch.tensor(-2.0)\n",
    "b"
   ]
  },
  {
   "cell_type": "code",
   "execution_count": 46,
   "metadata": {},
   "outputs": [
    {
     "name": "stdout",
     "output_type": "stream",
     "text": [
      "tensor(0.3133, grad_fn=<SoftplusBackward>)\n",
      "tensor(0.3133, grad_fn=<SoftplusBackward>)\n",
      "tensor(0.1269, grad_fn=<SoftplusBackward>)\n"
     ]
    }
   ],
   "source": [
    "a = nn.Parameter(torch.tensor(-1.0))\n",
    "t = torch.nn.Softplus()\n",
    "b = t(a)\n",
    "print(b)\n",
    "a.data = torch.tensor(-2.0)\n",
    "print(b)\n",
    "print(t(a))"
   ]
  },
  {
   "cell_type": "code",
   "execution_count": 29,
   "metadata": {},
   "outputs": [
    {
     "data": {
      "text/plain": [
       "tensor(1., grad_fn=<AbsBackward>)"
      ]
     },
     "execution_count": 29,
     "metadata": {},
     "output_type": "execute_result"
    }
   ],
   "source": [
    "b"
   ]
  },
  {
   "cell_type": "code",
   "execution_count": 57,
   "metadata": {},
   "outputs": [
    {
     "data": {
      "text/plain": [
       "tensor(-2.4578)"
      ]
     },
     "execution_count": 57,
     "metadata": {},
     "output_type": "execute_result"
    }
   ],
   "source": [
    "loc = nn.Parameter(torch.tensor(0.0))\n",
    "scale = nn.Parameter(torch.tensor(1.0))\n",
    "\n",
    "loss = (1.0 - (loc + torch.randn(1)*scale))**2\n",
    "loss.backward()\n",
    "loc.grad"
   ]
  },
  {
   "cell_type": "code",
   "execution_count": 59,
   "metadata": {},
   "outputs": [
    {
     "data": {
      "text/plain": [
       "tensor(-3.9945)"
      ]
     },
     "execution_count": 59,
     "metadata": {},
     "output_type": "execute_result"
    }
   ],
   "source": [
    "loc = nn.Parameter(torch.tensor(0.0))\n",
    "scale = nn.Parameter(torch.tensor(1.0))\n",
    "\n",
    "m = torch.distributions.normal.Normal(loc,scale)\n",
    "\n",
    "loss = (1.0 - m.rsample())**2\n",
    "loss.backward()\n",
    "loc.grad"
   ]
  },
  {
   "cell_type": "code",
   "execution_count": 71,
   "metadata": {},
   "outputs": [
    {
     "data": {
      "text/plain": [
       "tensor(-17.6694)"
      ]
     },
     "execution_count": 71,
     "metadata": {},
     "output_type": "execute_result"
    }
   ],
   "source": [
    "m = torch.distributions.normal.Normal(torch.tensor(0.0),torch.tensor(-100.0))\n",
    "m.sample()"
   ]
  },
  {
   "cell_type": "code",
   "execution_count": 88,
   "metadata": {},
   "outputs": [
    {
     "data": {
      "text/plain": [
       "tensor(1120.5515)"
      ]
     },
     "execution_count": 88,
     "metadata": {},
     "output_type": "execute_result"
    }
   ],
   "source": [
    "torch.normal(torch.tensor(0.), torch.tensor(-1000.))"
   ]
  },
  {
   "cell_type": "code",
   "execution_count": 90,
   "metadata": {},
   "outputs": [
    {
     "data": {
      "text/plain": [
       "GreaterThan(lower_bound=0.0)"
      ]
     },
     "execution_count": 90,
     "metadata": {},
     "output_type": "execute_result"
    }
   ],
   "source": [
    "torch.distributions.normal.Normal.arg_constraints['scale']"
   ]
  },
  {
   "cell_type": "code",
   "execution_count": 97,
   "metadata": {},
   "outputs": [],
   "source": [
    "transform_to = torch.distributions.constraint_registry.ConstraintRegistry()\n",
    "\n",
    "@transform_to.register(torch.distributions.constraints.positive)\n",
    "def _transform_to_positive(constraint):\n",
    "    return torch.distributions.transforms.ExpTransform()"
   ]
  },
  {
   "cell_type": "code",
   "execution_count": 99,
   "metadata": {},
   "outputs": [],
   "source": [
    "constraint = torch.distributions.normal.Normal.arg_constraints['scale']\n",
    "scale = transform_to(constraint)(torch.zeros(1))  # constrained\n",
    "u = transform_to(constraint).inv(scale)"
   ]
  },
  {
   "cell_type": "code",
   "execution_count": 106,
   "metadata": {},
   "outputs": [
    {
     "name": "stdout",
     "output_type": "stream",
     "text": [
      "Parameter containing:\n",
      "tensor(-1., requires_grad=True)\n",
      "tensor(-1., grad_fn=<LogBackward>)\n",
      "Parameter containing:\n",
      "tensor(-2., requires_grad=True)\n",
      "tensor(-1., grad_fn=<LogBackward>)\n"
     ]
    }
   ],
   "source": [
    "a = nn.Parameter(torch.tensor(-1.0))\n",
    "scale = transform_to(constraint)(a)  # constrained\n",
    "print(a)\n",
    "print(torch.log(scale))\n",
    "a.data = torch.tensor(-2.0)\n",
    "print(a)\n",
    "print(torch.log(scale))"
   ]
  },
  {
   "cell_type": "code",
   "execution_count": null,
   "metadata": {},
   "outputs": [],
   "source": [
    "a = nn.Parameter(torch.tensor(-1.0))\n",
    "t = torch.distributions.transforms.AbsTransform()\n",
    "b = t(a)\n",
    "a.data = torch.tensor(-2.0)\n",
    "b"
   ]
  },
  {
   "cell_type": "markdown",
   "metadata": {},
   "source": [
    "### SIN dataset"
   ]
  },
  {
   "cell_type": "code",
   "execution_count": 4,
   "metadata": {},
   "outputs": [],
   "source": [
    "n_obs = 100\n",
    "dim_in = 2\n",
    "Z, X, Y, sig2 = util_data.load_data('sin', n_obs=n_obs, dim_in=dim_in, sig2=.01, seed=0)\n"
   ]
  },
  {
   "cell_type": "code",
   "execution_count": 5,
   "metadata": {},
   "outputs": [
    {
     "data": {
      "text/plain": [
       "<matplotlib.collections.PathCollection at 0x14547df60>"
      ]
     },
     "execution_count": 5,
     "metadata": {},
     "output_type": "execute_result"
    },
    {
     "data": {
      "image/png": "[encoded data removed]",
      "text/plain": [
       "<Figure size 432x288 with 1 Axes>"
      ]
     },
     "metadata": {
      "needs_background": "light"
     },
     "output_type": "display_data"
    }
   ],
   "source": [
    "plt.scatter(Z[:,0],Y)"
   ]
  },
  {
   "cell_type": "code",
   "execution_count": 6,
   "metadata": {},
   "outputs": [
    {
     "data": {
      "text/plain": [
       "<module 'distributions' from '/Users/beaucoker/Documents/git/VS-BNN/code/horseshoe/distributions.py'>"
      ]
     },
     "execution_count": 6,
     "metadata": {},
     "output_type": "execute_result"
    }
   ],
   "source": [
    "importlib.reload(layers)\n",
    "importlib.reload(util)\n",
    "importlib.reload(networks)\n",
    "importlib.reload(distributions)"
   ]
  },
  {
   "cell_type": "code",
   "execution_count": 7,
   "metadata": {},
   "outputs": [],
   "source": [
    "# logitnormal\n",
    "torch.manual_seed(2)\n",
    "model = networks.RffHs(dim_in, 1, dim_hidden=50, sig2_inv=1/sig2, \\\n",
    "                       layer_in_name='RffVarSelectLogitNormalLayer',\\\n",
    "                       s_loc_prior=0.5,\n",
    "                       s_scale_prior=1.0)\n"
   ]
  },
  {
   "cell_type": "code",
   "execution_count": 8,
   "metadata": {},
   "outputs": [
    {
     "data": {
      "text/plain": [
       "[<matplotlib.lines.Line2D at 0x14757c198>]"
      ]
     },
     "execution_count": 8,
     "metadata": {},
     "output_type": "execute_result"
    },
    {
     "data": {
      "image/png": "[encoded data removed]",
      "text/plain": [
       "<Figure size 432x288 with 1 Axes>"
      ]
     },
     "metadata": {
      "needs_background": "light"
     },
     "output_type": "display_data"
    }
   ],
   "source": [
    "eps = .0001\n",
    "x = np.linspace(0+eps,1-eps,100)\n",
    "\n",
    "logit = lambda x: np.log(x/(1-x))\n",
    "\n",
    "def logitnormal_pdf(x, mu=0, sig2=1):\n",
    "    return 1/np.sqrt(2*np.pi*sig2)/(x*(1-x))*np.exp(-(logit(x)-mu)**2/(2*sig2))\n",
    "\n",
    "\n",
    "loc = model.layer_in.s_loc_prior.item()\n",
    "scale = model.layer_in.s_loc_prior.item()\n",
    "plt.plot(x, logitnormal_pdf(x,loc,scale**2), color='blue',label='s0')"
   ]
  },
  {
   "cell_type": "code",
   "execution_count": 16,
   "metadata": {},
   "outputs": [],
   "source": [
    "# beta\n",
    "torch.manual_seed(2)\n",
    "model = networks.RffHs(dim_in, 1, dim_hidden=50, sig2_inv=1/sig2, \\\n",
    "                       layer_in_name='RffVarSelectBetaLayer',\\\n",
    "                       s_a_prior=3,\n",
    "                       s_b_prior=2)"
   ]
  },
  {
   "cell_type": "code",
   "execution_count": 17,
   "metadata": {},
   "outputs": [
    {
     "data": {
      "text/plain": [
       "[<matplotlib.lines.Line2D at 0x14a638940>]"
      ]
     },
     "execution_count": 17,
     "metadata": {},
     "output_type": "execute_result"
    },
    {
     "data": {
      "image/png": "[encoded data removed]",
      "text/plain": [
       "<Figure size 432x288 with 1 Axes>"
      ]
     },
     "metadata": {
      "needs_background": "light"
     },
     "output_type": "display_data"
    }
   ],
   "source": [
    "eps = .0001\n",
    "x = np.linspace(0+eps,1-eps,100)\n",
    "import scipy\n",
    "\n",
    "a = model.layer_in.s_a_prior.item()\n",
    "b = model.layer_in.s_b_prior.item()\n",
    "plt.plot(x, scipy.stats.beta.pdf(x,a,b), color='blue',label='s0')\n"
   ]
  },
  {
   "cell_type": "code",
   "execution_count": 18,
   "metadata": {},
   "outputs": [
    {
     "data": {
      "image/png": "[encoded data removed]",
      "text/plain": [
       "<Figure size 576x288 with 2 Axes>"
      ]
     },
     "metadata": {
      "needs_background": "light"
     },
     "output_type": "display_data"
    }
   ],
   "source": [
    "def sample_f_prior(x):\n",
    "    with torch.no_grad():\n",
    "        return model.forward(torch.from_numpy(x), weights_type_layer_in='sample_prior', weights_type_layer_out='sample_prior')\n",
    "\n",
    "fig, ax = util.plot_slices(sample_f_prior, Z, Y, quantile=.5, n_samp=50, figsize=(4*2,4))\n"
   ]
  },
  {
   "cell_type": "code",
   "execution_count": 22,
   "metadata": {},
   "outputs": [],
   "source": [
    "torch.manual_seed(2)\n",
    "#optimizer = torch.optim.Adam(model.parameters(), lr=.001)\n",
    "optimizer = torch.optim.Adam(model.parameters(), lr=.0001)\n",
    "model.reinit_parameters(torch.from_numpy(Z),torch.from_numpy(Y),n_reinit=10) \n"
   ]
  },
  {
   "cell_type": "code",
   "execution_count": 23,
   "metadata": {
    "scrolled": true
   },
   "outputs": [
    {
     "name": "stdout",
     "output_type": "stream",
     "text": [
      "layer_in.s_a_trans tensor([1.0152, 1.0032])\n",
      "layer_in.s_b_trans tensor([0.9959, 0.9905])\n"
     ]
    }
   ],
   "source": [
    "for name, p in model.named_parameters():\n",
    "    print(name, p.detach())"
   ]
  },
  {
   "cell_type": "code",
   "execution_count": 277,
   "metadata": {},
   "outputs": [],
   "source": [
    "q = model.layer_in.get_variational()"
   ]
  },
  {
   "cell_type": "code",
   "execution_count": 286,
   "metadata": {},
   "outputs": [
    {
     "data": {
      "text/plain": [
       "torch.Size([3, 2])"
      ]
     },
     "execution_count": 286,
     "metadata": {},
     "output_type": "execute_result"
    }
   ],
   "source": [
    "q.sample((3,)).shape"
   ]
  },
  {
   "cell_type": "code",
   "execution_count": 285,
   "metadata": {},
   "outputs": [
    {
     "data": {
      "text/plain": [
       "torch.Size([2])"
      ]
     },
     "execution_count": 285,
     "metadata": {},
     "output_type": "execute_result"
    }
   ],
   "source": [
    "q.sample().shape"
   ]
  },
  {
   "cell_type": "code",
   "execution_count": null,
   "metadata": {},
   "outputs": [],
   "source": []
  },
  {
   "cell_type": "code",
   "execution_count": 296,
   "metadata": {},
   "outputs": [
    {
     "data": {
      "text/plain": [
       "torch.Size([4, 3])"
      ]
     },
     "execution_count": 296,
     "metadata": {},
     "output_type": "execute_result"
    }
   ],
   "source": [
    "D = 2\n",
    "K = 3\n",
    "N = 4\n",
    "S = 1\n",
    "\n",
    "s = torch.ones((S,D))\n",
    "w = torch.ones((K,D))\n",
    "x = torch.ones((N,D))\n",
    "\n",
    "xs = x.unsqueeze(1) * s.unsqueeze(0)\n",
    "\n",
    "torch.squeeze(F.linear(xs,w)).shape"
   ]
  },
  {
   "cell_type": "code",
   "execution_count": 289,
   "metadata": {},
   "outputs": [
    {
     "data": {
      "text/plain": [
       "torch.Size([4, 1, 2])"
      ]
     },
     "execution_count": 289,
     "metadata": {},
     "output_type": "execute_result"
    }
   ],
   "source": [
    "x.unsqueeze(1).shape"
   ]
  },
  {
   "cell_type": "code",
   "execution_count": 294,
   "metadata": {},
   "outputs": [
    {
     "data": {
      "text/plain": [
       "torch.Size([1, 5, 2])"
      ]
     },
     "execution_count": 294,
     "metadata": {},
     "output_type": "execute_result"
    }
   ],
   "source": [
    "s.unsqueeze(0).shape"
   ]
  },
  {
   "cell_type": "code",
   "execution_count": 79,
   "metadata": {},
   "outputs": [
    {
     "data": {
      "text/plain": [
       "torch.Size([1, 1, 2])"
      ]
     },
     "execution_count": 79,
     "metadata": {},
     "output_type": "execute_result"
    }
   ],
   "source": [
    "s.view(1,1,-1)."
   ]
  },
  {
   "cell_type": "code",
   "execution_count": 76,
   "metadata": {},
   "outputs": [
    {
     "data": {
      "text/plain": [
       "torch.Size([3, 1])"
      ]
     },
     "execution_count": 76,
     "metadata": {},
     "output_type": "execute_result"
    }
   ],
   "source": [
    "x.shape"
   ]
  },
  {
   "cell_type": "code",
   "execution_count": 84,
   "metadata": {},
   "outputs": [
    {
     "data": {
      "text/plain": [
       "tensor([[1, 1, 1, 1],\n",
       "        [2, 2, 2, 2],\n",
       "        [3, 3, 3, 3]])"
      ]
     },
     "execution_count": 84,
     "metadata": {},
     "output_type": "execute_result"
    }
   ],
   "source": [
    "x = torch.tensor([[1], [2], [3]])\n",
    "\n",
    "x.expand(-1, 4)"
   ]
  },
  {
   "cell_type": "code",
   "execution_count": 77,
   "metadata": {},
   "outputs": [
    {
     "data": {
      "text/plain": [
       "torch.Size([3, 4])"
      ]
     },
     "execution_count": 77,
     "metadata": {},
     "output_type": "execute_result"
    }
   ],
   "source": [
    "x.expand(3, 4).shape"
   ]
  },
  {
   "cell_type": "code",
   "execution_count": 72,
   "metadata": {},
   "outputs": [
    {
     "ename": "RuntimeError",
     "evalue": "The expanded size of the tensor (1) must match the existing size (3) at non-singleton dimension 1.  Target sizes: [3, 1].  Tensor sizes: [1, 3]",
     "output_type": "error",
     "traceback": [
      "\u001b[0;31m---------------------------------------------------------------------------\u001b[0m",
      "\u001b[0;31mRuntimeError\u001b[0m                              Traceback (most recent call last)",
      "\u001b[0;32m<ipython-input-72-a1d1ecf30192>\u001b[0m in \u001b[0;36m<module>\u001b[0;34m\u001b[0m\n\u001b[1;32m      1\u001b[0m \u001b[0mx\u001b[0m \u001b[0;34m=\u001b[0m \u001b[0mtorch\u001b[0m\u001b[0;34m.\u001b[0m\u001b[0mtensor\u001b[0m\u001b[0;34m(\u001b[0m\u001b[0;34m[\u001b[0m\u001b[0;34m[\u001b[0m\u001b[0;36m1\u001b[0m\u001b[0;34m,\u001b[0m\u001b[0;36m2\u001b[0m\u001b[0;34m,\u001b[0m\u001b[0;36m3\u001b[0m\u001b[0;34m]\u001b[0m\u001b[0;34m]\u001b[0m\u001b[0;34m)\u001b[0m\u001b[0;34m\u001b[0m\u001b[0;34m\u001b[0m\u001b[0m\n\u001b[0;32m----> 2\u001b[0;31m \u001b[0mx\u001b[0m\u001b[0;34m.\u001b[0m\u001b[0mexpand\u001b[0m\u001b[0;34m(\u001b[0m\u001b[0;36m3\u001b[0m\u001b[0;34m,\u001b[0m\u001b[0;36m1\u001b[0m\u001b[0;34m)\u001b[0m\u001b[0;34m\u001b[0m\u001b[0;34m\u001b[0m\u001b[0m\n\u001b[0m",
      "\u001b[0;31mRuntimeError\u001b[0m: The expanded size of the tensor (1) must match the existing size (3) at non-singleton dimension 1.  Target sizes: [3, 1].  Tensor sizes: [1, 3]"
     ]
    }
   ],
   "source": [
    "x = torch.tensor([[1,2,3]])\n",
    "x.expand(3,1)"
   ]
  },
  {
   "cell_type": "code",
   "execution_count": 260,
   "metadata": {},
   "outputs": [
    {
     "data": {
      "text/plain": [
       "[torch.Size([5, 2, 1]), torch.Size([])]"
      ]
     },
     "execution_count": 260,
     "metadata": {},
     "output_type": "execute_result"
    }
   ],
   "source": [
    "# dimensions of m are observations\n",
    "N = 5\n",
    "S = 2\n",
    "D = 1\n",
    "\n",
    "loc = torch.randn((N,S,D)) # network output\n",
    "scale = torch.tensor(1.0)\n",
    "\n",
    "m = torch.distributions.normal.Normal(loc, scale)\n",
    "[m.batch_shape, m.event_shape]"
   ]
  },
  {
   "cell_type": "code",
   "execution_count": 274,
   "metadata": {},
   "outputs": [
    {
     "data": {
      "text/plain": [
       "torch.Size([5, 2, 1])"
      ]
     },
     "execution_count": 274,
     "metadata": {},
     "output_type": "execute_result"
    }
   ],
   "source": [
    "data = torch.ones((N,D))\n",
    "m.log_prob(data.unsqueeze(1)).shape"
   ]
  },
  {
   "cell_type": "code",
   "execution_count": 275,
   "metadata": {},
   "outputs": [
    {
     "data": {
      "text/plain": [
       "tensor([-10.1184])"
      ]
     },
     "execution_count": 275,
     "metadata": {},
     "output_type": "execute_result"
    }
   ],
   "source": [
    "m.log_prob(data.unsqueeze(1)).mean(1).sum(0)"
   ]
  },
  {
   "cell_type": "code",
   "execution_count": 269,
   "metadata": {},
   "outputs": [
    {
     "data": {
      "text/plain": [
       "[torch.Size([5]), torch.Size([2, 1])]"
      ]
     },
     "execution_count": 269,
     "metadata": {},
     "output_type": "execute_result"
    }
   ],
   "source": [
    "diagm = torch.distributions.independent.Independent(m,2)\n",
    "[diagm.batch_shape, diagm.event_shape]"
   ]
  },
  {
   "cell_type": "code",
   "execution_count": 270,
   "metadata": {},
   "outputs": [
    {
     "data": {
      "text/plain": [
       "tensor([-3.5973, -5.4053, -3.3917, -3.4972, -4.3453])"
      ]
     },
     "execution_count": 270,
     "metadata": {},
     "output_type": "execute_result"
    }
   ],
   "source": [
    "data = torch.ones((N,S,D))\n",
    "diagm.log_prob(data)"
   ]
  },
  {
   "cell_type": "code",
   "execution_count": null,
   "metadata": {},
   "outputs": [],
   "source": []
  },
  {
   "cell_type": "code",
   "execution_count": null,
   "metadata": {},
   "outputs": [],
   "source": []
  },
  {
   "cell_type": "code",
   "execution_count": 224,
   "metadata": {},
   "outputs": [
    {
     "data": {
      "text/plain": [
       "[torch.Size([2]), torch.Size([])]"
      ]
     },
     "execution_count": 224,
     "metadata": {},
     "output_type": "execute_result"
    }
   ],
   "source": [
    "# dimensions of m are observations\n",
    "loc = torch.tensor([0.,0.])\n",
    "scale = torch.tensor(1.0)\n",
    "\n",
    "m = torch.distributions.normal.Normal(loc.view(-1), scale)\n",
    "[m.batch_shape, m.event_shape]"
   ]
  },
  {
   "cell_type": "code",
   "execution_count": 233,
   "metadata": {},
   "outputs": [
    {
     "data": {
      "text/plain": [
       "tensor([[ 0.1994, -1.3322],\n",
       "        [ 0.3696, -0.4417],\n",
       "        [ 1.0378,  0.1359],\n",
       "        [ 0.0681, -1.8377],\n",
       "        [-0.8369, -0.9166]])"
      ]
     },
     "execution_count": 233,
     "metadata": {},
     "output_type": "execute_result"
    }
   ],
   "source": [
    "S = 5\n",
    "y=torch.randn(S, 2) \n",
    "y"
   ]
  },
  {
   "cell_type": "code",
   "execution_count": 234,
   "metadata": {},
   "outputs": [
    {
     "data": {
      "text/plain": [
       "tensor([[-0.9388, -1.8063],\n",
       "        [-0.9872, -1.0165],\n",
       "        [-1.4574, -0.9282],\n",
       "        [-0.9213, -2.6076],\n",
       "        [-1.2691, -1.3390]])"
      ]
     },
     "execution_count": 234,
     "metadata": {},
     "output_type": "execute_result"
    }
   ],
   "source": [
    "m.log_prob(y)"
   ]
  },
  {
   "cell_type": "code",
   "execution_count": null,
   "metadata": {},
   "outputs": [],
   "source": []
  },
  {
   "cell_type": "code",
   "execution_count": null,
   "metadata": {},
   "outputs": [],
   "source": []
  },
  {
   "cell_type": "code",
   "execution_count": 168,
   "metadata": {},
   "outputs": [
    {
     "data": {
      "text/plain": [
       "tensor([[-0.9634],\n",
       "        [-0.9775]])"
      ]
     },
     "execution_count": 168,
     "metadata": {},
     "output_type": "execute_result"
    }
   ],
   "source": [
    "m.log_prob(y)"
   ]
  },
  {
   "cell_type": "code",
   "execution_count": 229,
   "metadata": {},
   "outputs": [
    {
     "data": {
      "text/plain": [
       "tensor(-2.1879)"
      ]
     },
     "execution_count": 229,
     "metadata": {},
     "output_type": "execute_result"
    }
   ],
   "source": [
    "m.log_prob(y).mean(0).sum()"
   ]
  },
  {
   "cell_type": "code",
   "execution_count": 152,
   "metadata": {},
   "outputs": [
    {
     "data": {
      "text/plain": [
       "tensor([0.4247, 0.7341])"
      ]
     },
     "execution_count": 152,
     "metadata": {},
     "output_type": "execute_result"
    }
   ],
   "source": [
    "y=torch.randn(2) # first dimension could be anything (like samples), second dimension is observations\n",
    "y"
   ]
  },
  {
   "cell_type": "code",
   "execution_count": 154,
   "metadata": {},
   "outputs": [
    {
     "data": {
      "text/plain": [
       "tensor([[-1.0091, -1.0091],\n",
       "        [-1.1884, -1.1884]])"
      ]
     },
     "execution_count": 154,
     "metadata": {},
     "output_type": "execute_result"
    }
   ],
   "source": [
    "m.log_prob(y.reshape(-1,1))"
   ]
  },
  {
   "cell_type": "code",
   "execution_count": 156,
   "metadata": {},
   "outputs": [
    {
     "data": {
      "text/plain": [
       "torch.Size([2, 1])"
      ]
     },
     "execution_count": 156,
     "metadata": {},
     "output_type": "execute_result"
    }
   ],
   "source": [
    "y.reshape(-1,1).shape"
   ]
  },
  {
   "cell_type": "code",
   "execution_count": 25,
   "metadata": {
    "scrolled": true
   },
   "outputs": [
    {
     "name": "stdout",
     "output_type": "stream",
     "text": [
      "Epoch[1/1000], kl: 0.573797, likelihood: -1310.367418, elbo: 111.834159\n",
      "Epoch[2/1000], kl: 0.571321, likelihood: -877.645412, elbo: -58946.244969\n",
      "Epoch[3/1000], kl: 0.574738, likelihood: -17273.841023, elbo: -359.872489\n",
      "Epoch[4/1000], kl: 0.581006, likelihood: -452.470264, elbo: -615.241990\n",
      "Epoch[5/1000], kl: 0.582070, likelihood: -189.994895, elbo: -4195.440882\n",
      "Epoch[6/1000], kl: 0.583131, likelihood: -61014.187880, elbo: -2935.154682\n",
      "Epoch[7/1000], kl: 0.580934, likelihood: -1575.853025, elbo: -24321.995530\n",
      "Epoch[8/1000], kl: 0.582117, likelihood: -38.681434, elbo: -4698.097777\n",
      "Epoch[9/1000], kl: 0.582119, likelihood: 103.365444, elbo: -1722.591343\n",
      "Epoch[10/1000], kl: 0.582327, likelihood: -992.346064, elbo: -5121.672134\n",
      "Epoch[11/1000], kl: 0.582964, likelihood: -1492.318405, elbo: -1461.585353\n",
      "Epoch[12/1000], kl: 0.582989, likelihood: -3901.430530, elbo: -22.910102\n",
      "Epoch[13/1000], kl: 0.582941, likelihood: -4549.949886, elbo: -4707.135273\n",
      "Epoch[14/1000], kl: 0.582701, likelihood: -2796.824130, elbo: -2698.345178\n",
      "Epoch[15/1000], kl: 0.583833, likelihood: -174923.307540, elbo: -191370.684256\n",
      "Epoch[16/1000], kl: 0.587520, likelihood: -57083.941459, elbo: -159818.885491\n",
      "Epoch[17/1000], kl: 0.588291, likelihood: -4671.053204, elbo: -616.376836\n",
      "Epoch[18/1000], kl: 0.588260, likelihood: -4454.794371, elbo: -4698.241167\n",
      "Epoch[19/1000], kl: 0.588234, likelihood: -4379.697592, elbo: -2800.153536\n",
      "Epoch[20/1000], kl: 0.588318, likelihood: -8835.592913, elbo: -100508.353961\n",
      "Epoch[21/1000], kl: 0.590061, likelihood: -452.371288, elbo: -3900.363742\n",
      "Epoch[22/1000], kl: 0.590482, likelihood: -2847.597516, elbo: -3841.442470\n",
      "Epoch[23/1000], kl: 0.590489, likelihood: -3209.588183, elbo: -3998.989074\n",
      "Epoch[24/1000], kl: 0.590364, likelihood: -564.590797, elbo: -3868.942150\n",
      "Epoch[25/1000], kl: 0.590618, likelihood: -108769.464641, elbo: -74424.491440\n",
      "Epoch[26/1000], kl: 0.588269, likelihood: 111.584612, elbo: -3844.996286\n",
      "Epoch[27/1000], kl: 0.588185, likelihood: 106.435611, elbo: -4143.790189\n",
      "Epoch[28/1000], kl: 0.588429, likelihood: -459.771434, elbo: -1583.936677\n",
      "Epoch[29/1000], kl: 0.588160, likelihood: -1105.409759, elbo: 17.927176\n",
      "Epoch[30/1000], kl: 0.589262, likelihood: -81.806317, elbo: -3437.684473\n",
      "Epoch[31/1000], kl: 0.589460, likelihood: -8344.747200, elbo: -303.076434\n",
      "Epoch[32/1000], kl: 0.592456, likelihood: -2180.473457, elbo: -3584.757809\n",
      "Epoch[33/1000], kl: 0.595141, likelihood: -3210.436712, elbo: -5195.853626\n",
      "Epoch[34/1000], kl: 0.594858, likelihood: -2546.160618, elbo: -6970.808756\n",
      "Epoch[35/1000], kl: 0.599356, likelihood: -4753.878333, elbo: -1913.542233\n",
      "Epoch[36/1000], kl: 0.599780, likelihood: -4048.057518, elbo: -3549.881815\n",
      "Epoch[37/1000], kl: 0.600354, likelihood: -10592.041815, elbo: -5094.823279\n",
      "Epoch[38/1000], kl: 0.601263, likelihood: -192196.531521, elbo: -111240.700628\n",
      "Epoch[39/1000], kl: 0.613754, likelihood: -106900.281602, elbo: -194264.237654\n",
      "Epoch[40/1000], kl: 0.622944, likelihood: -1064.652255, elbo: -26.325514\n",
      "Epoch[41/1000], kl: 0.624872, likelihood: -2541.489625, elbo: -62322.688100\n",
      "Epoch[42/1000], kl: 0.628243, likelihood: -4119.320716, elbo: -72.200696\n",
      "Epoch[43/1000], kl: 0.628481, likelihood: -1391.030083, elbo: -2562.862410\n",
      "Epoch[44/1000], kl: 0.628290, likelihood: -6496.812551, elbo: -3728.580658\n",
      "Epoch[45/1000], kl: 0.629023, likelihood: -32134.102321, elbo: -39498.855300\n",
      "Epoch[46/1000], kl: 0.630873, likelihood: -11176.809271, elbo: -522.101192\n",
      "Epoch[47/1000], kl: 0.632043, likelihood: -39351.561593, elbo: -47295.790916\n",
      "Epoch[48/1000], kl: 0.631697, likelihood: -3420.817679, elbo: -5261.820111\n",
      "Epoch[49/1000], kl: 0.631349, likelihood: -49256.367584, elbo: -50117.416664\n",
      "Epoch[50/1000], kl: 0.633904, likelihood: -4842.000917, elbo: -4267.091154\n",
      "Epoch[51/1000], kl: 0.634852, likelihood: -15.724933, elbo: -624.759225\n",
      "Epoch[52/1000], kl: 0.634715, likelihood: -226734.345778, elbo: -2194.225164\n",
      "Epoch[53/1000], kl: 0.642753, likelihood: -27480.064836, elbo: -31029.654396\n",
      "Epoch[54/1000], kl: 0.643621, likelihood: -2268.429535, elbo: 88.134241\n",
      "Epoch[55/1000], kl: 0.643832, likelihood: -2582.889039, elbo: -1562.729431\n",
      "Epoch[56/1000], kl: 0.647595, likelihood: -1021.621002, elbo: -3311.606368\n",
      "Epoch[57/1000], kl: 0.647501, likelihood: -35984.471605, elbo: -155255.579626\n",
      "Epoch[58/1000], kl: 0.657150, likelihood: -4947.235433, elbo: -73.947766\n",
      "Epoch[59/1000], kl: 0.657979, likelihood: -759.108304, elbo: -516.599624\n",
      "Epoch[60/1000], kl: 0.657952, likelihood: -147.008509, elbo: -3653.719392\n",
      "Epoch[61/1000], kl: 0.657713, likelihood: -3522.297390, elbo: -183.957713\n",
      "Epoch[62/1000], kl: 0.658886, likelihood: -27540.644716, elbo: -16855.458226\n",
      "Epoch[63/1000], kl: 0.659461, likelihood: -17145.210921, elbo: -9786.533801\n",
      "Epoch[64/1000], kl: 0.660948, likelihood: -2688.298136, elbo: -1334.943799\n",
      "Epoch[65/1000], kl: 0.660997, likelihood: -115.807541, elbo: -6905.459690\n",
      "Epoch[66/1000], kl: 0.662772, likelihood: -2230.725615, elbo: -4208.301041\n",
      "Epoch[67/1000], kl: 0.662453, likelihood: -5176.881245, elbo: -188.391554\n",
      "Epoch[68/1000], kl: 0.662028, likelihood: -5049.017034, elbo: -2481.748801\n",
      "Epoch[69/1000], kl: 0.661767, likelihood: -3380.885185, elbo: -1458.918200\n",
      "Epoch[70/1000], kl: 0.663249, likelihood: -6096.948328, elbo: -4727.423749\n",
      "Epoch[71/1000], kl: 0.663816, likelihood: -4751.710747, elbo: -2652.361898\n",
      "Epoch[72/1000], kl: 0.663667, likelihood: 1.013020, elbo: -4574.034693\n",
      "Epoch[73/1000], kl: 0.663214, likelihood: -97095.196185, elbo: -12929.688861\n",
      "Epoch[74/1000], kl: 0.674507, likelihood: -1919.663305, elbo: -2381.420330\n",
      "Epoch[75/1000], kl: 0.676560, likelihood: -223452.444353, elbo: -152484.848189\n",
      "Epoch[76/1000], kl: 0.693878, likelihood: -21354.233963, elbo: -15254.963989\n",
      "Epoch[77/1000], kl: 0.696964, likelihood: -696.565120, elbo: -1718.706067\n",
      "Epoch[78/1000], kl: 0.697110, likelihood: -3190.023926, elbo: -2557.894363\n",
      "Epoch[79/1000], kl: 0.696784, likelihood: -4194.633246, elbo: -3251.703354\n",
      "Epoch[80/1000], kl: 0.696458, likelihood: -29222.030280, elbo: -17866.248625\n",
      "Epoch[81/1000], kl: 0.698821, likelihood: -5039.944479, elbo: -3149.611781\n",
      "Epoch[82/1000], kl: 0.698616, likelihood: -3216.278134, elbo: -4047.998577\n",
      "Epoch[83/1000], kl: 0.698384, likelihood: -1192.527347, elbo: -1174.201590\n",
      "Epoch[84/1000], kl: 0.698061, likelihood: -851.483216, elbo: -2636.871079\n",
      "Epoch[85/1000], kl: 0.697640, likelihood: 120.811617, elbo: -8755.273300\n",
      "Epoch[86/1000], kl: 0.697505, likelihood: -5078.326202, elbo: -2884.490103\n",
      "Epoch[87/1000], kl: 0.697034, likelihood: -34849.531366, elbo: -7772.801755\n",
      "Epoch[88/1000], kl: 0.700569, likelihood: -74849.659928, elbo: -580.771839\n",
      "Epoch[89/1000], kl: 0.710349, likelihood: -150691.222784, elbo: -148223.119465\n",
      "Epoch[90/1000], kl: 0.732403, likelihood: -5481.656702, elbo: -811.037830\n",
      "Epoch[91/1000], kl: 0.733387, likelihood: -148424.440997, elbo: -214315.945709\n",
      "Epoch[92/1000], kl: 0.751199, likelihood: -3122.966262, elbo: -4110.544641\n",
      "Epoch[93/1000], kl: 0.755628, likelihood: -2273.168260, elbo: -5030.081534\n",
      "Epoch[94/1000], kl: 0.755766, likelihood: -4965.879449, elbo: -274.044495\n",
      "Epoch[95/1000], kl: 0.755766, likelihood: -32077.787249, elbo: -9259.825117\n",
      "Epoch[96/1000], kl: 0.758813, likelihood: -3697.890358, elbo: -1861.674132\n",
      "Epoch[97/1000], kl: 0.759231, likelihood: -4743.589791, elbo: -223.509602\n",
      "Epoch[98/1000], kl: 0.758899, likelihood: -2631.709664, elbo: -1392.715213\n",
      "Epoch[99/1000], kl: 0.771726, likelihood: 82.012993, elbo: -2128.943172\n",
      "Epoch[100/1000], kl: 0.772701, likelihood: -9790.098824, elbo: -4165.094574\n",
      "Epoch[101/1000], kl: 0.774468, likelihood: -4540.660766, elbo: -287.543013\n",
      "Epoch[102/1000], kl: 0.774106, likelihood: -50202.585089, elbo: -52935.984969\n",
      "Epoch[103/1000], kl: 0.779839, likelihood: -4904.222446, elbo: -5105.490824\n",
      "Epoch[104/1000], kl: 0.779771, likelihood: -5069.730988, elbo: -3775.562673\n",
      "Epoch[105/1000], kl: 0.779286, likelihood: -10540.333988, elbo: -153139.358849\n",
      "Epoch[106/1000], kl: 0.796582, likelihood: -3060.803004, elbo: -2449.029309\n",
      "Epoch[107/1000], kl: 0.797906, likelihood: -4250.270720, elbo: -1192.926519\n",
      "Epoch[108/1000], kl: 0.798221, likelihood: -18228.708872, elbo: -1361.425204\n",
      "Epoch[109/1000], kl: 0.798947, likelihood: -443.331653, elbo: -2824.521830\n",
      "Epoch[110/1000], kl: 0.798596, likelihood: 43.284696, elbo: -5363.498814\n"
     ]
    },
    {
     "name": "stdout",
     "output_type": "stream",
     "text": [
      "Epoch[111/1000], kl: 0.798319, likelihood: -4954.212777, elbo: -4976.376154\n",
      "Epoch[112/1000], kl: 0.797679, likelihood: -81506.664485, elbo: -86027.890270\n",
      "Epoch[113/1000], kl: 0.809613, likelihood: -10089.211575, elbo: -1631.516705\n",
      "Epoch[114/1000], kl: 0.812988, likelihood: -2349.683695, elbo: -3586.439471\n",
      "Epoch[115/1000], kl: 0.812565, likelihood: -4575.099342, elbo: -5019.059932\n",
      "Epoch[116/1000], kl: 0.813695, likelihood: -325.277847, elbo: -1923.195132\n",
      "Epoch[117/1000], kl: 0.813122, likelihood: -28162.189064, elbo: -31505.861673\n",
      "Epoch[118/1000], kl: 0.822601, likelihood: -1859.918669, elbo: -3862.718489\n",
      "Epoch[119/1000], kl: 0.846325, likelihood: -5944.170142, elbo: -146.276887\n",
      "Epoch[120/1000], kl: 0.847762, likelihood: -80024.515721, elbo: -3146.430024\n",
      "Epoch[121/1000], kl: 0.856824, likelihood: -4697.073842, elbo: -60.406694\n",
      "Epoch[122/1000], kl: 0.857425, likelihood: -5260.601989, elbo: -3692.975634\n",
      "Epoch[123/1000], kl: 0.857009, likelihood: -14746.285901, elbo: -3368.392576\n",
      "Epoch[124/1000], kl: 0.886964, likelihood: -4249.859155, elbo: -4250.771203\n",
      "Epoch[125/1000], kl: 0.888749, likelihood: -112.012507, elbo: -728.741781\n",
      "Epoch[126/1000], kl: 0.888263, likelihood: -63399.339558, elbo: -17050.693554\n",
      "Epoch[127/1000], kl: 0.892723, likelihood: -28961.397016, elbo: -26283.658433\n",
      "Epoch[128/1000], kl: 0.896479, likelihood: -121323.597888, elbo: -40054.115434\n",
      "Epoch[129/1000], kl: 0.912627, likelihood: -7675.167161, elbo: -3761.045762\n",
      "Epoch[130/1000], kl: 0.914786, likelihood: -99724.248771, elbo: -83544.821125\n",
      "Epoch[131/1000], kl: 0.926011, likelihood: -4229.042468, elbo: -1437.777163\n",
      "Epoch[132/1000], kl: 0.926679, likelihood: -2692.775780, elbo: -1401.077524\n",
      "Epoch[133/1000], kl: 0.925956, likelihood: -2158.502294, elbo: -3738.497653\n",
      "Epoch[134/1000], kl: 0.928172, likelihood: -2977.470725, elbo: -1011.903738\n",
      "Epoch[135/1000], kl: 0.928413, likelihood: -531.004575, elbo: -23654.006640\n",
      "Epoch[136/1000], kl: 0.930077, likelihood: -403.696949, elbo: -5240.485926\n",
      "Epoch[137/1000], kl: 0.929917, likelihood: -2392.963181, elbo: -4971.314301\n",
      "Epoch[138/1000], kl: 0.932985, likelihood: -14290.756546, elbo: -16010.966965\n",
      "Epoch[139/1000], kl: 0.937157, likelihood: -61681.989429, elbo: -3572.342170\n",
      "Epoch[140/1000], kl: 0.947070, likelihood: -3584.323608, elbo: -991.475889\n",
      "Epoch[141/1000], kl: 0.948151, likelihood: -322.579433, elbo: -3155.650830\n",
      "Epoch[142/1000], kl: 0.950269, likelihood: -3568.049259, elbo: -4820.863768\n",
      "Epoch[143/1000], kl: 0.949956, likelihood: -5961.780604, elbo: -2904.861902\n",
      "Epoch[144/1000], kl: 0.949415, likelihood: -2895.876757, elbo: -629.885073\n",
      "Epoch[145/1000], kl: 0.948563, likelihood: -4827.890025, elbo: -3257.801658\n",
      "Epoch[146/1000], kl: 0.947492, likelihood: -33118.681191, elbo: -2695.737353\n",
      "Epoch[147/1000], kl: 0.952724, likelihood: -11494.218058, elbo: -9752.194430\n",
      "Epoch[148/1000], kl: 0.961524, likelihood: -11446.949254, elbo: -2681.666997\n",
      "Epoch[149/1000], kl: 0.967898, likelihood: -3324.869476, elbo: -4464.311328\n",
      "Epoch[150/1000], kl: 0.995676, likelihood: -3635.063080, elbo: -13128.409761\n",
      "Epoch[151/1000], kl: 1.000393, likelihood: -6182.761342, elbo: -483.819015\n",
      "Epoch[152/1000], kl: 1.001002, likelihood: -22555.508246, elbo: -37273.942084\n",
      "Epoch[153/1000], kl: 1.007096, likelihood: -2178.934530, elbo: -2280.663321\n",
      "Epoch[154/1000], kl: 1.011881, likelihood: -37474.116721, elbo: -38980.388440\n",
      "Epoch[155/1000], kl: 1.023514, likelihood: -4615.091722, elbo: 112.500055\n",
      "Epoch[156/1000], kl: 1.026531, likelihood: -2136.362660, elbo: -4640.276358\n",
      "Epoch[157/1000], kl: 1.026023, likelihood: -5077.035118, elbo: -2827.325701\n",
      "Epoch[158/1000], kl: 1.024723, likelihood: -22311.712225, elbo: -26805.478894\n",
      "Epoch[159/1000], kl: 1.030815, likelihood: -3269.923436, elbo: -2631.614096\n",
      "Epoch[160/1000], kl: 1.030660, likelihood: -177156.463924, elbo: -142123.596676\n",
      "Epoch[161/1000], kl: 1.071683, likelihood: -22390.300087, elbo: -3926.514759\n",
      "Epoch[162/1000], kl: 1.076972, likelihood: 61.183954, elbo: -4535.623929\n",
      "Epoch[163/1000], kl: 1.076820, likelihood: -3696.815387, elbo: -3360.181366\n",
      "Epoch[164/1000], kl: 1.077392, likelihood: -176177.298912, elbo: -179033.726537\n",
      "Epoch[165/1000], kl: 1.109511, likelihood: -1322.355835, elbo: -1686.891774\n",
      "Epoch[166/1000], kl: 1.112200, likelihood: -99994.849083, elbo: -3076.666799\n",
      "Epoch[167/1000], kl: 1.124727, likelihood: -2038.303718, elbo: -2595.155757\n",
      "Epoch[168/1000], kl: 1.135106, likelihood: 92.695875, elbo: -3780.757010\n",
      "Epoch[169/1000], kl: 1.138223, likelihood: -5215.696991, elbo: -1489.495243\n",
      "Epoch[170/1000], kl: 1.139641, likelihood: -3140.992162, elbo: -30850.023195\n",
      "Epoch[171/1000], kl: 1.143399, likelihood: -5734.193351, elbo: -5987.424754\n",
      "Epoch[172/1000], kl: 1.143355, likelihood: -4747.980934, elbo: -228.598670\n",
      "Epoch[173/1000], kl: 1.142716, likelihood: -31385.509952, elbo: -474.655868\n",
      "Epoch[174/1000], kl: 1.146582, likelihood: -11453.217200, elbo: -475.118394\n",
      "Epoch[175/1000], kl: 1.147754, likelihood: -19771.830053, elbo: -3562.205591\n",
      "Epoch[176/1000], kl: 1.150422, likelihood: -13684.143304, elbo: -79681.108168\n",
      "Epoch[177/1000], kl: 1.176891, likelihood: -178643.148024, elbo: -155534.239097\n",
      "Epoch[178/1000], kl: 1.202625, likelihood: -2089.377608, elbo: -94.470348\n",
      "Epoch[179/1000], kl: 1.205365, likelihood: -4492.334251, elbo: -514.860522\n",
      "Epoch[180/1000], kl: 1.204980, likelihood: -28278.298447, elbo: -27362.207830\n",
      "Epoch[181/1000], kl: 1.211186, likelihood: -920.797783, elbo: -3697.561362\n",
      "Epoch[182/1000], kl: 1.211482, likelihood: -10595.528225, elbo: -5313.769871\n",
      "Epoch[183/1000], kl: 1.215212, likelihood: -16326.868155, elbo: -6423.671872\n",
      "Epoch[184/1000], kl: 1.241887, likelihood: -181178.200887, elbo: -2306.183780\n",
      "Epoch[185/1000], kl: 1.270195, likelihood: -8019.734321, elbo: -48.819623\n",
      "Epoch[186/1000], kl: 1.273193, likelihood: -3431.026486, elbo: -183.966896\n",
      "Epoch[187/1000], kl: 1.273310, likelihood: -2757.887233, elbo: -4898.124482\n",
      "Epoch[188/1000], kl: 1.273027, likelihood: -6732.174585, elbo: -7572.423357\n",
      "Epoch[189/1000], kl: 1.271889, likelihood: -96323.490877, elbo: -154014.421117\n",
      "Epoch[190/1000], kl: 1.297203, likelihood: -4627.270565, elbo: -2609.469008\n",
      "Epoch[191/1000], kl: 1.298705, likelihood: -2601.153736, elbo: -1787.823229\n",
      "Epoch[192/1000], kl: 1.298116, likelihood: -15370.740394, elbo: -3010.351299\n",
      "Epoch[193/1000], kl: 1.301381, likelihood: -107802.519468, elbo: -10329.266746\n",
      "Epoch[194/1000], kl: 1.323227, likelihood: -2086.470799, elbo: -4886.100906\n",
      "Epoch[195/1000], kl: 1.326214, likelihood: -10934.580332, elbo: -11086.632382\n",
      "Epoch[196/1000], kl: 1.327009, likelihood: -32586.436998, elbo: -6287.692939\n",
      "Epoch[197/1000], kl: 1.332310, likelihood: -22796.544855, elbo: -26473.651560\n",
      "Epoch[198/1000], kl: 1.338057, likelihood: -17069.993043, elbo: -29133.776416\n",
      "Epoch[199/1000], kl: 1.344545, likelihood: -4786.098293, elbo: -2895.476424\n",
      "Epoch[200/1000], kl: 1.344851, likelihood: -2933.187695, elbo: -5049.093017\n",
      "Epoch[201/1000], kl: 1.344032, likelihood: -212295.052566, elbo: -1738.076685\n",
      "Epoch[202/1000], kl: 1.389712, likelihood: -91745.668554, elbo: -3210.663707\n",
      "Epoch[203/1000], kl: 1.412410, likelihood: -1861.273268, elbo: -10461.159530\n",
      "Epoch[204/1000], kl: 1.415769, likelihood: -5313.814863, elbo: -1364.527740\n",
      "Epoch[205/1000], kl: 1.415495, likelihood: -186.109492, elbo: -2806.310333\n",
      "Epoch[206/1000], kl: 1.415014, likelihood: -4406.494991, elbo: 9.416019\n",
      "Epoch[207/1000], kl: 1.414638, likelihood: -14328.557225, elbo: -2068.236350\n",
      "Epoch[208/1000], kl: 1.428101, likelihood: -60566.744978, elbo: -2051.799990\n",
      "Epoch[209/1000], kl: 1.444167, likelihood: -3597.503853, elbo: -14598.377544\n",
      "Epoch[210/1000], kl: 1.453548, likelihood: -337.659038, elbo: -2459.916235\n",
      "Epoch[211/1000], kl: 1.458379, likelihood: -3071.285281, elbo: -124.089907\n",
      "Epoch[212/1000], kl: 1.458939, likelihood: -353.266110, elbo: -944.579545\n",
      "Epoch[213/1000], kl: 1.461279, likelihood: -2458.547201, elbo: -26970.562439\n",
      "Epoch[214/1000], kl: 1.465059, likelihood: -4829.151243, elbo: -2781.062768\n",
      "Epoch[215/1000], kl: 1.464576, likelihood: -5270.099337, elbo: -4485.668555\n",
      "Epoch[216/1000], kl: 1.463912, likelihood: -2555.412813, elbo: -61524.780773\n",
      "Epoch[217/1000], kl: 1.503856, likelihood: -3723.867792, elbo: -181.482745\n",
      "Epoch[218/1000], kl: 1.510991, likelihood: -224.753052, elbo: -5058.079328\n"
     ]
    },
    {
     "name": "stdout",
     "output_type": "stream",
     "text": [
      "Epoch[219/1000], kl: 1.510937, likelihood: -3010.855036, elbo: -20354.573083\n",
      "Epoch[220/1000], kl: 1.512576, likelihood: -1889.281859, elbo: -3648.085643\n",
      "Epoch[221/1000], kl: 1.518821, likelihood: -12566.012010, elbo: -22855.295408\n",
      "Epoch[222/1000], kl: 1.522466, likelihood: -252037.972586, elbo: -176163.504610\n",
      "Epoch[223/1000], kl: 1.569850, likelihood: -5132.971099, elbo: -1819.491645\n",
      "Epoch[224/1000], kl: 1.574820, likelihood: -18224.063111, elbo: -152287.414504\n",
      "Epoch[225/1000], kl: 1.602265, likelihood: -3965.163577, elbo: -16.563724\n",
      "Epoch[226/1000], kl: 1.604656, likelihood: -22574.517158, elbo: -18842.619465\n",
      "Epoch[227/1000], kl: 1.607283, likelihood: -2348.440762, elbo: -1924.892068\n",
      "Epoch[228/1000], kl: 1.630483, likelihood: -134159.116088, elbo: -2818.919711\n",
      "Epoch[229/1000], kl: 1.649639, likelihood: -959.411456, elbo: -3871.415108\n",
      "Epoch[230/1000], kl: 1.651683, likelihood: -2684.499554, elbo: -4846.505104\n",
      "Epoch[231/1000], kl: 1.651542, likelihood: -821.096011, elbo: -223.246850\n",
      "Epoch[232/1000], kl: 1.651606, likelihood: -3814.378303, elbo: -4742.889125\n",
      "Epoch[233/1000], kl: 1.651719, likelihood: -34369.716180, elbo: -2295.131201\n",
      "Epoch[234/1000], kl: 1.659407, likelihood: -40367.735303, elbo: -16735.208280\n",
      "Epoch[235/1000], kl: 1.665146, likelihood: -403.783856, elbo: -271.881527\n",
      "Epoch[236/1000], kl: 1.665178, likelihood: -4821.829995, elbo: -3363.868579\n",
      "Epoch[237/1000], kl: 1.664728, likelihood: -190725.122448, elbo: -209575.871430\n",
      "Epoch[238/1000], kl: 1.710127, likelihood: -4469.155570, elbo: -4258.069972\n",
      "Epoch[239/1000], kl: 1.714639, likelihood: -78298.305998, elbo: -25160.413521\n",
      "Epoch[240/1000], kl: 1.729666, likelihood: -653.274671, elbo: -4793.417414\n",
      "Epoch[241/1000], kl: 1.730333, likelihood: -50317.358775, elbo: -35862.914311\n",
      "Epoch[242/1000], kl: 1.740423, likelihood: -6969.831376, elbo: -17779.875205\n",
      "Epoch[243/1000], kl: 1.746954, likelihood: -4510.373691, elbo: -3620.945628\n",
      "Epoch[244/1000], kl: 1.746338, likelihood: -14445.220428, elbo: -3221.646407\n",
      "Epoch[245/1000], kl: 1.749662, likelihood: -5233.832560, elbo: -2780.993871\n",
      "Epoch[246/1000], kl: 1.753268, likelihood: -2139.874616, elbo: -24544.046318\n",
      "Epoch[247/1000], kl: 1.762228, likelihood: -2594.144221, elbo: -160157.098791\n",
      "Epoch[248/1000], kl: 1.810323, likelihood: -1733.456717, elbo: -2851.434595\n",
      "Epoch[249/1000], kl: 1.815403, likelihood: -41775.366832, elbo: -52799.106095\n",
      "Epoch[250/1000], kl: 1.826234, likelihood: -44433.648324, elbo: -2566.872055\n",
      "Epoch[251/1000], kl: 1.845006, likelihood: -4333.809751, elbo: -4184.383852\n",
      "Epoch[252/1000], kl: 1.847757, likelihood: -1874.008373, elbo: -2621.520246\n",
      "Epoch[253/1000], kl: 1.850177, likelihood: -2494.147506, elbo: -37845.555236\n",
      "Epoch[254/1000], kl: 1.858422, likelihood: -1654.341334, elbo: -2478.912863\n",
      "Epoch[255/1000], kl: 1.858862, likelihood: -7595.200102, elbo: 97.739940\n",
      "Epoch[256/1000], kl: 1.859104, likelihood: -35355.958856, elbo: -3314.440817\n",
      "Epoch[257/1000], kl: 1.863196, likelihood: -3512.589720, elbo: -478.968753\n",
      "Epoch[258/1000], kl: 1.865075, likelihood: -7624.490112, elbo: -6027.360678\n",
      "Epoch[259/1000], kl: 1.864483, likelihood: -1018.149076, elbo: -4700.027953\n",
      "Epoch[260/1000], kl: 1.867108, likelihood: -2873.096580, elbo: -2452.142783\n",
      "Epoch[261/1000], kl: 1.886765, likelihood: -360.093127, elbo: -22782.379773\n",
      "Epoch[262/1000], kl: 1.891960, likelihood: -15901.979546, elbo: -8042.621181\n",
      "Epoch[263/1000], kl: 1.892041, likelihood: -158.321203, elbo: -2900.945274\n",
      "Epoch[264/1000], kl: 1.890886, likelihood: -3729.774707, elbo: -239.749687\n",
      "Epoch[265/1000], kl: 1.892039, likelihood: -2794.996476, elbo: -3715.507850\n",
      "Epoch[266/1000], kl: 1.892503, likelihood: -43439.883757, elbo: -16892.993839\n",
      "Epoch[267/1000], kl: 1.903864, likelihood: -4386.004397, elbo: -3407.895929\n",
      "Epoch[268/1000], kl: 1.905712, likelihood: -2509.181591, elbo: -3134.496765\n",
      "Epoch[269/1000], kl: 1.904975, likelihood: -17368.083658, elbo: -20914.212777\n",
      "Epoch[270/1000], kl: 1.921332, likelihood: -67507.682923, elbo: -8553.417819\n",
      "Epoch[271/1000], kl: 1.959373, likelihood: -2000.439018, elbo: -33013.406017\n",
      "Epoch[272/1000], kl: 2.008605, likelihood: -99757.571763, elbo: -2515.986112\n",
      "Epoch[273/1000], kl: 2.043305, likelihood: -20197.477883, elbo: -2113.531100\n",
      "Epoch[274/1000], kl: 2.049891, likelihood: 106.974333, elbo: -3740.425814\n",
      "Epoch[275/1000], kl: 2.050088, likelihood: -14285.089887, elbo: -16608.987013\n",
      "Epoch[276/1000], kl: 2.056900, likelihood: -2528.417165, elbo: -2396.143172\n",
      "Epoch[277/1000], kl: 2.115468, likelihood: -1830.006233, elbo: -1914.943948\n",
      "Epoch[278/1000], kl: 2.123648, likelihood: -20516.785901, elbo: -26126.311576\n",
      "Epoch[279/1000], kl: 2.132229, likelihood: -8361.969687, elbo: -2319.434117\n",
      "Epoch[280/1000], kl: 2.145444, likelihood: -184124.094361, elbo: -3862.518844\n",
      "Epoch[281/1000], kl: 2.181422, likelihood: -33438.849823, elbo: -3226.768033\n",
      "Epoch[282/1000], kl: 2.187244, likelihood: -2029.273524, elbo: 91.673114\n",
      "Epoch[283/1000], kl: 2.187116, likelihood: -6846.845354, elbo: -24102.312320\n",
      "Epoch[284/1000], kl: 2.222720, likelihood: -5121.344205, elbo: -2897.569839\n",
      "Epoch[285/1000], kl: 2.226187, likelihood: -323.503069, elbo: -2575.609966\n",
      "Epoch[286/1000], kl: 2.231231, likelihood: -3409.059335, elbo: -2391.743474\n",
      "Epoch[287/1000], kl: 2.231769, likelihood: -43646.411526, elbo: -52494.553750\n",
      "Epoch[288/1000], kl: 2.251162, likelihood: -25439.667177, elbo: -28867.100909\n",
      "Epoch[289/1000], kl: 2.257972, likelihood: -2567.675568, elbo: -2377.081296\n",
      "Epoch[290/1000], kl: 2.267657, likelihood: -2269.965553, elbo: -165238.062004\n",
      "Epoch[291/1000], kl: 2.297082, likelihood: -13627.631157, elbo: -25024.429835\n",
      "Epoch[292/1000], kl: 2.312154, likelihood: -804.729029, elbo: -380.031964\n",
      "Epoch[293/1000], kl: 2.318027, likelihood: -24571.121926, elbo: -3834.380297\n",
      "Epoch[294/1000], kl: 2.319402, likelihood: -4423.133681, elbo: -1586.841885\n",
      "Epoch[295/1000], kl: 2.319570, likelihood: -4982.484516, elbo: -2960.351788\n",
      "Epoch[296/1000], kl: 2.319175, likelihood: -11390.304588, elbo: -2653.706731\n",
      "Epoch[297/1000], kl: 2.324811, likelihood: -49743.823449, elbo: -33230.157727\n",
      "Epoch[298/1000], kl: 2.338557, likelihood: -706.959166, elbo: -210.801900\n",
      "Epoch[299/1000], kl: 2.341224, likelihood: -3674.799757, elbo: -4525.548261\n",
      "Epoch[300/1000], kl: 2.342338, likelihood: -2331.421373, elbo: -33678.304780\n",
      "Epoch[301/1000], kl: 2.354508, likelihood: -1711.628506, elbo: -17563.361402\n",
      "Epoch[302/1000], kl: 2.382293, likelihood: -21275.911386, elbo: -34465.259103\n",
      "Epoch[303/1000], kl: 2.392966, likelihood: -3798.451307, elbo: -3269.952308\n",
      "Epoch[304/1000], kl: 2.407118, likelihood: -2160.928913, elbo: -4320.839991\n",
      "Epoch[305/1000], kl: 2.412510, likelihood: -3097.570474, elbo: -6638.891042\n",
      "Epoch[306/1000], kl: 2.485074, likelihood: -25653.381782, elbo: -36045.749285\n",
      "Epoch[307/1000], kl: 2.499687, likelihood: -3786.460069, elbo: -5196.588797\n",
      "Epoch[308/1000], kl: 2.502222, likelihood: -31688.149691, elbo: -40716.169989\n",
      "Epoch[309/1000], kl: 2.510323, likelihood: -3007.502885, elbo: -2826.828373\n",
      "Epoch[310/1000], kl: 2.541114, likelihood: -21127.351073, elbo: -2279.459225\n",
      "Epoch[311/1000], kl: 2.554786, likelihood: -4742.743380, elbo: -3966.710036\n",
      "Epoch[312/1000], kl: 2.556998, likelihood: -2586.815637, elbo: -2684.230504\n",
      "Epoch[313/1000], kl: 2.596796, likelihood: -2481.552302, elbo: -2573.992829\n",
      "Epoch[314/1000], kl: 2.629611, likelihood: -40229.912493, elbo: -3082.808153\n",
      "Epoch[315/1000], kl: 2.640450, likelihood: -2669.437716, elbo: -3156.554477\n",
      "Epoch[316/1000], kl: 2.668477, likelihood: -3036.121675, elbo: -4380.146402\n",
      "Epoch[317/1000], kl: 2.671912, likelihood: -18236.223280, elbo: -18341.908268\n",
      "Epoch[318/1000], kl: 2.675478, likelihood: -2971.744223, elbo: -2861.979921\n",
      "Epoch[319/1000], kl: 2.675237, likelihood: -349.714842, elbo: -2100.376862\n",
      "Epoch[320/1000], kl: 2.674891, likelihood: -27963.713043, elbo: -27791.688993\n",
      "Epoch[321/1000], kl: 2.670084, likelihood: -3159.891882, elbo: -2900.457407\n",
      "Epoch[322/1000], kl: 2.669622, likelihood: -4920.429402, elbo: 25.013782\n",
      "Epoch[323/1000], kl: 2.668705, likelihood: -23812.801432, elbo: -2302.487351\n",
      "Epoch[324/1000], kl: 2.694732, likelihood: -2669.612022, elbo: 88.287411\n",
      "Epoch[325/1000], kl: 2.696694, likelihood: -26328.803151, elbo: -59481.951389\n",
      "Epoch[326/1000], kl: 2.722248, likelihood: -47157.409824, elbo: -7212.571052\n"
     ]
    },
    {
     "name": "stdout",
     "output_type": "stream",
     "text": [
      "Epoch[327/1000], kl: 2.754164, likelihood: -4322.508458, elbo: -4320.657647\n",
      "Epoch[328/1000], kl: 2.757067, likelihood: -31750.422622, elbo: -26349.571463\n",
      "Epoch[329/1000], kl: 2.774456, likelihood: -341.581991, elbo: -79.812236\n",
      "Epoch[330/1000], kl: 2.774674, likelihood: -1540.927770, elbo: -136218.145642\n",
      "Epoch[331/1000], kl: 2.829897, likelihood: -2780.655674, elbo: -2227.688729\n",
      "Epoch[332/1000], kl: 2.839235, likelihood: -3093.730241, elbo: -2548.741849\n",
      "Epoch[333/1000], kl: 2.839893, likelihood: -11116.910551, elbo: -21322.148028\n",
      "Epoch[334/1000], kl: 2.856515, likelihood: -2860.766638, elbo: -123274.587827\n",
      "Epoch[335/1000], kl: 2.904005, likelihood: -28468.102545, elbo: -3646.493224\n",
      "Epoch[336/1000], kl: 2.912059, likelihood: -89853.613827, elbo: -3551.167653\n",
      "Epoch[337/1000], kl: 2.939398, likelihood: -5973.515477, elbo: -3302.155165\n",
      "Epoch[338/1000], kl: 2.952821, likelihood: -9288.591611, elbo: -2509.840488\n",
      "Epoch[339/1000], kl: 2.960931, likelihood: -2590.321160, elbo: -1357.953732\n",
      "Epoch[340/1000], kl: 2.961468, likelihood: -43392.991008, elbo: -660.155473\n",
      "Epoch[341/1000], kl: 2.975210, likelihood: -2571.869360, elbo: -90091.328010\n",
      "Epoch[342/1000], kl: 3.037348, likelihood: -131693.610039, elbo: -106224.129682\n",
      "Epoch[343/1000], kl: 3.061332, likelihood: -5777.525693, elbo: -56736.096995\n",
      "Epoch[344/1000], kl: 3.077196, likelihood: -2257.176055, elbo: -8790.028640\n",
      "Epoch[345/1000], kl: 3.083239, likelihood: -1698.884944, elbo: -3049.357527\n",
      "Epoch[346/1000], kl: 3.083138, likelihood: -3784.590792, elbo: -2755.287678\n",
      "Epoch[347/1000], kl: 3.084777, likelihood: -21.147175, elbo: -3654.988893\n",
      "Epoch[348/1000], kl: 3.085760, likelihood: -2844.109260, elbo: -2584.427266\n",
      "Epoch[349/1000], kl: 3.085158, likelihood: -15132.210268, elbo: -23393.598590\n",
      "Epoch[350/1000], kl: 3.090603, likelihood: -123312.210471, elbo: -2859.458546\n",
      "Epoch[351/1000], kl: 3.147941, likelihood: -2264.621666, elbo: -2481.214499\n",
      "Epoch[352/1000], kl: 3.164885, likelihood: -3765.563792, elbo: -6811.483685\n",
      "Epoch[353/1000], kl: 3.163029, likelihood: -4491.516938, elbo: -4376.186294\n",
      "Epoch[354/1000], kl: 3.162703, likelihood: -4469.964724, elbo: -1901.014979\n",
      "Epoch[355/1000], kl: 3.162367, likelihood: -4187.254402, elbo: -89941.545182\n",
      "Epoch[356/1000], kl: 3.195314, likelihood: -3047.666186, elbo: -10924.400754\n",
      "Epoch[357/1000], kl: 3.194141, likelihood: -2468.155183, elbo: -30201.650190\n",
      "Epoch[358/1000], kl: 3.244198, likelihood: -21161.891264, elbo: -5504.245605\n",
      "Epoch[359/1000], kl: 3.252658, likelihood: -2749.031795, elbo: -4221.622098\n",
      "Epoch[360/1000], kl: 3.252753, likelihood: -2204.383253, elbo: -1073.156575\n",
      "Epoch[361/1000], kl: 3.292766, likelihood: -2897.548896, elbo: -92505.156858\n",
      "Epoch[362/1000], kl: 3.321030, likelihood: -2324.020863, elbo: -3420.534089\n",
      "Epoch[363/1000], kl: 3.333817, likelihood: -4867.957348, elbo: -3079.309345\n",
      "Epoch[364/1000], kl: 3.335990, likelihood: -10372.690890, elbo: -2470.332686\n",
      "Epoch[365/1000], kl: 3.347241, likelihood: -17351.055743, elbo: -29427.731162\n",
      "Epoch[366/1000], kl: 3.368970, likelihood: -4685.242150, elbo: -13707.596885\n",
      "Epoch[367/1000], kl: 3.384216, likelihood: -4491.069951, elbo: -4598.030922\n",
      "Epoch[368/1000], kl: 3.385831, likelihood: -69924.353635, elbo: -2449.741615\n",
      "Epoch[369/1000], kl: 3.402974, likelihood: -3319.426009, elbo: -1381.134136\n",
      "Epoch[370/1000], kl: 3.405852, likelihood: -3334.757197, elbo: -3042.073214\n",
      "Epoch[371/1000], kl: 3.404467, likelihood: -2730.222361, elbo: -3770.108624\n",
      "Epoch[372/1000], kl: 3.404861, likelihood: -647.255474, elbo: -23810.004144\n",
      "Epoch[373/1000], kl: 3.408375, likelihood: -2021.871169, elbo: -2381.000930\n",
      "Epoch[374/1000], kl: 3.424183, likelihood: -89744.393088, elbo: -1083.379034\n",
      "Epoch[375/1000], kl: 3.464324, likelihood: -4759.554827, elbo: -4210.377481\n",
      "Epoch[376/1000], kl: 3.464876, likelihood: -4200.024727, elbo: -2747.375512\n",
      "Epoch[377/1000], kl: 3.464731, likelihood: -6461.357580, elbo: -3370.247054\n",
      "Epoch[378/1000], kl: 3.459661, likelihood: -2979.755238, elbo: -4111.033649\n",
      "Epoch[379/1000], kl: 3.461819, likelihood: -24575.933276, elbo: -7935.256692\n",
      "Epoch[380/1000], kl: 3.472221, likelihood: -699.513988, elbo: -3523.375049\n",
      "Epoch[381/1000], kl: 3.492840, likelihood: -15748.308697, elbo: -2242.083460\n",
      "Epoch[382/1000], kl: 3.510385, likelihood: -3299.922471, elbo: -18988.171287\n",
      "Epoch[383/1000], kl: 3.523682, likelihood: -3048.423790, elbo: -16698.963241\n",
      "Epoch[384/1000], kl: 3.544554, likelihood: -2758.976419, elbo: -1388.485646\n",
      "Epoch[385/1000], kl: 3.605199, likelihood: -2118.824623, elbo: -2269.164449\n",
      "Epoch[386/1000], kl: 3.611803, likelihood: -766.473530, elbo: -2620.631127\n",
      "Epoch[387/1000], kl: 3.612881, likelihood: -7683.297014, elbo: -2356.252212\n",
      "Epoch[388/1000], kl: 3.618565, likelihood: -2747.949043, elbo: -1297.518196\n",
      "Epoch[389/1000], kl: 3.653147, likelihood: -3310.244332, elbo: -4442.833721\n",
      "Epoch[390/1000], kl: 3.657633, likelihood: -2478.792216, elbo: -251.040929\n",
      "Epoch[391/1000], kl: 3.657882, likelihood: -5621.620008, elbo: -2885.799653\n",
      "Epoch[392/1000], kl: 3.658549, likelihood: -2043.134900, elbo: -20443.578049\n",
      "Epoch[393/1000], kl: 3.711151, likelihood: -6352.735703, elbo: -2326.423971\n",
      "Epoch[394/1000], kl: 3.719174, likelihood: -33272.042112, elbo: -11609.314341\n",
      "Epoch[395/1000], kl: 3.726258, likelihood: -1976.392257, elbo: -3895.223518\n",
      "Epoch[396/1000], kl: 3.727091, likelihood: -1994.448136, elbo: -2464.048934\n",
      "Epoch[397/1000], kl: 3.742883, likelihood: -3039.978748, elbo: -4749.768913\n",
      "Epoch[398/1000], kl: 3.744413, likelihood: -2519.283914, elbo: -21249.985520\n",
      "Epoch[399/1000], kl: 3.759387, likelihood: -3878.275633, elbo: -222.457356\n",
      "Epoch[400/1000], kl: 3.763064, likelihood: -2496.719176, elbo: -3471.997500\n",
      "Epoch[401/1000], kl: 3.764765, likelihood: -2690.458224, elbo: -3154.731884\n",
      "Epoch[402/1000], kl: 3.803041, likelihood: -2453.172137, elbo: -2221.914680\n",
      "Epoch[403/1000], kl: 3.806461, likelihood: -2467.935450, elbo: -2881.339964\n",
      "Epoch[404/1000], kl: 3.890078, likelihood: -3165.198298, elbo: -3701.697995\n",
      "Epoch[405/1000], kl: 3.901106, likelihood: -2581.347653, elbo: -2375.492000\n",
      "Epoch[406/1000], kl: 3.913144, likelihood: -2225.877230, elbo: -17580.316605\n",
      "Epoch[407/1000], kl: 3.924857, likelihood: -1427.605083, elbo: -73.830261\n",
      "Epoch[408/1000], kl: 3.925713, likelihood: -2036.711715, elbo: -3714.366454\n",
      "Epoch[409/1000], kl: 3.940394, likelihood: -3742.372876, elbo: -6198.252318\n",
      "Epoch[410/1000], kl: 3.939761, likelihood: -3156.298940, elbo: -9568.634873\n",
      "Epoch[411/1000], kl: 3.944044, likelihood: -2499.973248, elbo: -5395.665347\n",
      "Epoch[412/1000], kl: 3.946885, likelihood: -3083.291418, elbo: -3125.975200\n",
      "Epoch[413/1000], kl: 3.980346, likelihood: -2637.940135, elbo: -2491.963266\n",
      "Epoch[414/1000], kl: 3.998710, likelihood: -13445.265490, elbo: -3265.373065\n",
      "Epoch[415/1000], kl: 4.000724, likelihood: -22562.124751, elbo: -24317.419809\n",
      "Epoch[416/1000], kl: 3.995142, likelihood: -4736.158781, elbo: -4608.926580\n",
      "Epoch[417/1000], kl: 4.042729, likelihood: -2977.571833, elbo: -2511.954851\n",
      "Epoch[418/1000], kl: 4.110589, likelihood: -8247.688210, elbo: -2232.240005\n",
      "Epoch[419/1000], kl: 4.121178, likelihood: -3275.166880, elbo: -2358.157367\n",
      "Epoch[420/1000], kl: 4.152102, likelihood: -4989.070196, elbo: -4635.831509\n",
      "Epoch[421/1000], kl: 4.154161, likelihood: -5008.310533, elbo: -2725.435356\n",
      "Epoch[422/1000], kl: 4.154171, likelihood: -45166.125259, elbo: -2193.772407\n",
      "Epoch[423/1000], kl: 4.180215, likelihood: -2291.928097, elbo: -25729.192370\n",
      "Epoch[424/1000], kl: 4.203810, likelihood: -28047.317189, elbo: -35423.117567\n",
      "Epoch[425/1000], kl: 4.223075, likelihood: -2472.186387, elbo: -2337.735561\n",
      "Epoch[426/1000], kl: 4.247324, likelihood: -83670.089435, elbo: -2369.875043\n",
      "Epoch[427/1000], kl: 4.292276, likelihood: -2202.535364, elbo: -3532.138688\n",
      "Epoch[428/1000], kl: 4.304789, likelihood: -16154.387068, elbo: -7366.300994\n",
      "Epoch[429/1000], kl: 4.310193, likelihood: -19975.455484, elbo: -3667.910781\n",
      "Epoch[430/1000], kl: 4.321264, likelihood: -6226.115438, elbo: -2462.943077\n",
      "Epoch[431/1000], kl: 4.389102, likelihood: -2791.922207, elbo: -10545.886015\n",
      "Epoch[432/1000], kl: 4.399605, likelihood: -21729.879465, elbo: -2353.592104\n",
      "Epoch[433/1000], kl: 4.402016, likelihood: -6980.479032, elbo: -8118.745381\n",
      "Epoch[434/1000], kl: 4.424360, likelihood: -2433.701319, elbo: -32204.761344\n"
     ]
    },
    {
     "name": "stdout",
     "output_type": "stream",
     "text": [
      "Epoch[435/1000], kl: 4.477213, likelihood: -19486.569924, elbo: -4527.568662\n",
      "Epoch[436/1000], kl: 4.491320, likelihood: -45738.566289, elbo: -42691.705676\n",
      "Epoch[437/1000], kl: 4.519043, likelihood: -2418.055727, elbo: -10304.152710\n",
      "Epoch[438/1000], kl: 4.521928, likelihood: -6543.357706, elbo: -9222.985343\n",
      "Epoch[439/1000], kl: 4.528565, likelihood: -2831.679649, elbo: -3263.388273\n",
      "Epoch[440/1000], kl: 4.534940, likelihood: -2193.723882, elbo: -12648.373362\n",
      "Epoch[441/1000], kl: 4.551483, likelihood: -67808.045081, elbo: -21782.790772\n",
      "Epoch[442/1000], kl: 4.572432, likelihood: -1820.408939, elbo: -2529.762380\n",
      "Epoch[443/1000], kl: 4.574312, likelihood: -5015.234123, elbo: -5181.635957\n",
      "Epoch[444/1000], kl: 4.574548, likelihood: -2854.265136, elbo: -7143.279118\n",
      "Epoch[445/1000], kl: 4.577929, likelihood: -2244.720393, elbo: -2406.518742\n",
      "Epoch[446/1000], kl: 4.598201, likelihood: -3682.573835, elbo: -2690.507501\n",
      "Epoch[447/1000], kl: 4.606258, likelihood: -4107.853052, elbo: -49284.253124\n",
      "Epoch[448/1000], kl: 4.624151, likelihood: -193364.842205, elbo: -2588.934345\n",
      "Epoch[449/1000], kl: 4.687871, likelihood: -20256.036358, elbo: -2635.030629\n",
      "Epoch[450/1000], kl: 4.704860, likelihood: -20020.565544, elbo: -2484.639847\n",
      "Epoch[451/1000], kl: 4.713875, likelihood: -2173.389958, elbo: -2298.544640\n",
      "Epoch[452/1000], kl: 4.730427, likelihood: -22955.461985, elbo: -23800.053223\n",
      "Epoch[453/1000], kl: 4.730355, likelihood: -2143.163136, elbo: -2294.964903\n",
      "Epoch[454/1000], kl: 4.731536, likelihood: -2921.864360, elbo: -2302.994641\n",
      "Epoch[455/1000], kl: 4.747825, likelihood: -2337.318015, elbo: -3231.451259\n",
      "Epoch[456/1000], kl: 4.753872, likelihood: -2569.719325, elbo: -4070.441337\n",
      "Epoch[457/1000], kl: 4.754976, likelihood: -13376.408140, elbo: -34000.936112\n",
      "Epoch[458/1000], kl: 4.763031, likelihood: -6968.781283, elbo: -2820.959253\n",
      "Epoch[459/1000], kl: 4.830080, likelihood: -11314.030313, elbo: -20178.779841\n",
      "Epoch[460/1000], kl: 4.847090, likelihood: -15014.393640, elbo: -20613.738594\n",
      "Epoch[461/1000], kl: 4.855515, likelihood: -2894.232871, elbo: -5474.780714\n",
      "Epoch[462/1000], kl: 4.860408, likelihood: -3486.748338, elbo: -2480.860807\n",
      "Epoch[463/1000], kl: 4.861299, likelihood: -2973.668430, elbo: -2488.300603\n",
      "Epoch[464/1000], kl: 4.861571, likelihood: -40361.204260, elbo: -3997.782773\n",
      "Epoch[465/1000], kl: 4.891493, likelihood: -6176.772491, elbo: -18616.967291\n",
      "Epoch[466/1000], kl: 4.908143, likelihood: -15842.144531, elbo: -14307.322708\n",
      "Epoch[467/1000], kl: 4.938327, likelihood: -3216.221569, elbo: 16.535292\n",
      "Epoch[468/1000], kl: 4.940732, likelihood: -17193.221791, elbo: -19757.171989\n",
      "Epoch[469/1000], kl: 4.944146, likelihood: -2262.791111, elbo: -116955.591609\n",
      "Epoch[470/1000], kl: 5.003424, likelihood: -4175.335990, elbo: -3121.013125\n",
      "Epoch[471/1000], kl: 5.010796, likelihood: -11562.341103, elbo: -2084.381950\n",
      "Epoch[472/1000], kl: 5.025500, likelihood: -2396.241240, elbo: -2113.276599\n",
      "Epoch[473/1000], kl: 5.055877, likelihood: -2520.024507, elbo: -2486.233218\n",
      "Epoch[474/1000], kl: 5.057853, likelihood: -2134.737877, elbo: -2364.835652\n",
      "Epoch[475/1000], kl: 5.063236, likelihood: -2328.544162, elbo: -2468.351585\n",
      "Epoch[476/1000], kl: 5.082351, likelihood: -2575.423936, elbo: -2077.322208\n",
      "Epoch[477/1000], kl: 5.104991, likelihood: -8387.134927, elbo: -6225.646429\n",
      "Epoch[478/1000], kl: 5.113488, likelihood: -2183.437047, elbo: -17561.158814\n",
      "Epoch[479/1000], kl: 5.123771, likelihood: -43887.100926, elbo: -42532.540349\n",
      "Epoch[480/1000], kl: 5.162924, likelihood: -23885.506131, elbo: -10052.926114\n",
      "Epoch[481/1000], kl: 5.193762, likelihood: -9963.038836, elbo: -2402.217245\n",
      "Epoch[482/1000], kl: 5.219275, likelihood: -2510.744735, elbo: -4802.115373\n",
      "Epoch[483/1000], kl: 5.220696, likelihood: -36565.105556, elbo: -17117.981738\n",
      "Epoch[484/1000], kl: 5.294525, likelihood: -4440.000812, elbo: -3457.355925\n",
      "Epoch[485/1000], kl: 5.300437, likelihood: -26299.347011, elbo: -2718.820809\n",
      "Epoch[486/1000], kl: 5.345527, likelihood: -185927.653544, elbo: -7703.766659\n",
      "Epoch[487/1000], kl: 5.415919, likelihood: -2206.300275, elbo: -2240.687157\n",
      "Epoch[488/1000], kl: 5.424799, likelihood: -2840.988480, elbo: -4542.901651\n",
      "Epoch[489/1000], kl: 5.425393, likelihood: -9473.188550, elbo: -2428.143830\n",
      "Epoch[490/1000], kl: 5.450548, likelihood: -3257.989953, elbo: -9006.164343\n",
      "Epoch[491/1000], kl: 5.485866, likelihood: -3748.316247, elbo: -4071.483521\n",
      "Epoch[492/1000], kl: 5.488860, likelihood: -4093.545967, elbo: -2796.349467\n",
      "Epoch[493/1000], kl: 5.490051, likelihood: -2470.584708, elbo: -2451.550905\n",
      "Epoch[494/1000], kl: 5.493795, likelihood: -3662.251674, elbo: -2566.540643\n",
      "Epoch[495/1000], kl: 5.493983, likelihood: -3598.259016, elbo: -2455.015448\n",
      "Epoch[496/1000], kl: 5.542696, likelihood: -2404.011242, elbo: -2539.383786\n",
      "Epoch[497/1000], kl: 5.550406, likelihood: -2329.997472, elbo: -2319.904804\n",
      "Epoch[498/1000], kl: 5.552735, likelihood: -1487.766424, elbo: -67284.590904\n",
      "Epoch[499/1000], kl: 5.586684, likelihood: -2826.518724, elbo: -13453.551203\n",
      "Epoch[500/1000], kl: 5.596950, likelihood: -1637.773693, elbo: -2408.886585\n",
      "Epoch[501/1000], kl: 5.627094, likelihood: -19481.475175, elbo: -2465.456653\n",
      "Epoch[502/1000], kl: 5.646768, likelihood: -2433.840366, elbo: -2459.553227\n",
      "Epoch[503/1000], kl: 5.691971, likelihood: -2463.298763, elbo: -4594.563818\n",
      "Epoch[504/1000], kl: 5.698898, likelihood: -19143.994465, elbo: -3480.326778\n",
      "Epoch[505/1000], kl: 5.712469, likelihood: -15253.235826, elbo: -2344.440148\n",
      "Epoch[506/1000], kl: 5.733282, likelihood: -13943.245103, elbo: -2481.232989\n",
      "Epoch[507/1000], kl: 5.741962, likelihood: -46624.574684, elbo: -2352.404358\n",
      "Epoch[508/1000], kl: 5.785719, likelihood: -15199.946858, elbo: -16421.745974\n",
      "Epoch[509/1000], kl: 5.795244, likelihood: -29442.420186, elbo: -33639.098710\n",
      "Epoch[510/1000], kl: 5.825723, likelihood: -6031.168178, elbo: -3719.337544\n",
      "Epoch[511/1000], kl: 5.840535, likelihood: -3750.949431, elbo: -4025.171984\n",
      "Epoch[512/1000], kl: 5.841070, likelihood: -20336.622113, elbo: -18452.218642\n",
      "Epoch[513/1000], kl: 5.835326, likelihood: -3196.249893, elbo: -2432.719427\n",
      "Epoch[514/1000], kl: 5.871434, likelihood: -3166.025891, elbo: -2319.408758\n",
      "Epoch[515/1000], kl: 5.874659, likelihood: -2398.508227, elbo: -3574.605176\n",
      "Epoch[516/1000], kl: 5.876149, likelihood: -4052.270097, elbo: -2327.277694\n",
      "Epoch[517/1000], kl: 5.923655, likelihood: -23455.224043, elbo: -4255.690033\n",
      "Epoch[518/1000], kl: 5.961807, likelihood: -22569.113994, elbo: -16739.518887\n",
      "Epoch[519/1000], kl: 5.980294, likelihood: -6696.474225, elbo: -2394.499658\n",
      "Epoch[520/1000], kl: 6.011613, likelihood: -16978.647005, elbo: -13233.111712\n",
      "Epoch[521/1000], kl: 6.012759, likelihood: -1975.792843, elbo: -2182.192567\n",
      "Epoch[522/1000], kl: 6.030834, likelihood: -7517.081787, elbo: -8822.914158\n",
      "Epoch[523/1000], kl: 6.051323, likelihood: -2554.448803, elbo: -5451.856011\n",
      "Epoch[524/1000], kl: 6.077484, likelihood: -2528.950072, elbo: -4869.477485\n",
      "Epoch[525/1000], kl: 6.109635, likelihood: -145.341940, elbo: -2629.670564\n",
      "Epoch[526/1000], kl: 6.111473, likelihood: -3625.848840, elbo: -2682.353697\n",
      "Epoch[527/1000], kl: 6.126992, likelihood: -2530.542058, elbo: -3420.332759\n",
      "Epoch[528/1000], kl: 6.132880, likelihood: -2330.208597, elbo: -15992.012163\n",
      "Epoch[529/1000], kl: 6.158170, likelihood: -4301.443649, elbo: -1813.440534\n",
      "Epoch[530/1000], kl: 6.205001, likelihood: -2230.693397, elbo: -3070.231753\n",
      "Epoch[531/1000], kl: 6.229205, likelihood: -2447.978245, elbo: -2674.630292\n",
      "Epoch[532/1000], kl: 6.234673, likelihood: -2543.423052, elbo: -2537.696291\n",
      "Epoch[533/1000], kl: 6.297211, likelihood: -3494.122588, elbo: -5897.926726\n",
      "Epoch[534/1000], kl: 6.305749, likelihood: -2481.474208, elbo: -48398.795411\n",
      "Epoch[535/1000], kl: 6.323554, likelihood: -22748.263784, elbo: -46674.592644\n",
      "Epoch[536/1000], kl: 6.428634, likelihood: -2501.362199, elbo: -10381.178202\n",
      "Epoch[537/1000], kl: 6.457787, likelihood: -5480.490931, elbo: -2109.783323\n",
      "Epoch[538/1000], kl: 6.471391, likelihood: -2070.802623, elbo: -27805.274520\n",
      "Epoch[539/1000], kl: 6.501046, likelihood: -2326.235716, elbo: -2532.296792\n",
      "Epoch[540/1000], kl: 6.556753, likelihood: -46773.982988, elbo: -2265.298450\n",
      "Epoch[541/1000], kl: 6.614386, likelihood: -3228.972799, elbo: -2531.690642\n",
      "Epoch[542/1000], kl: 6.623853, likelihood: -8579.636864, elbo: -2449.662011\n",
      "Epoch[543/1000], kl: 6.619469, likelihood: -2297.365250, elbo: -41096.163957\n"
     ]
    },
    {
     "name": "stdout",
     "output_type": "stream",
     "text": [
      "Epoch[544/1000], kl: 6.628718, likelihood: -3438.538163, elbo: -2611.042705\n",
      "Epoch[545/1000], kl: 6.633667, likelihood: -2558.314645, elbo: -309.606720\n",
      "Epoch[546/1000], kl: 6.637563, likelihood: -5844.372012, elbo: -17324.455506\n",
      "Epoch[547/1000], kl: 6.661311, likelihood: -3520.234572, elbo: -2507.564321\n",
      "Epoch[548/1000], kl: 6.686241, likelihood: -2559.149608, elbo: -4387.304229\n",
      "Epoch[549/1000], kl: 6.693076, likelihood: -11569.056855, elbo: -14176.410044\n",
      "Epoch[550/1000], kl: 6.711536, likelihood: -190045.588772, elbo: -58691.679024\n",
      "Epoch[551/1000], kl: 6.785225, likelihood: -2629.375560, elbo: -2056.103234\n",
      "Epoch[552/1000], kl: 6.810752, likelihood: -2872.420847, elbo: -2381.069857\n",
      "Epoch[553/1000], kl: 6.834935, likelihood: -13846.627487, elbo: -9403.768936\n",
      "Epoch[554/1000], kl: 6.843308, likelihood: -2677.382597, elbo: -1978.753318\n",
      "Epoch[555/1000], kl: 6.885304, likelihood: -2895.869642, elbo: -26186.664400\n",
      "Epoch[556/1000], kl: 6.934937, likelihood: -3365.952081, elbo: -3787.808822\n",
      "Epoch[557/1000], kl: 6.952774, likelihood: -100152.073322, elbo: -7697.620450\n",
      "Epoch[558/1000], kl: 6.995508, likelihood: -2457.867035, elbo: -3136.828287\n",
      "Epoch[559/1000], kl: 7.034249, likelihood: -45915.267794, elbo: -30843.431626\n",
      "Epoch[560/1000], kl: 7.080245, likelihood: -2926.005581, elbo: -2505.245011\n",
      "Epoch[561/1000], kl: 7.099245, likelihood: -3002.715093, elbo: -6852.220377\n",
      "Epoch[562/1000], kl: 7.117616, likelihood: -2465.017230, elbo: -2331.922388\n",
      "Epoch[563/1000], kl: 7.149885, likelihood: -4645.545266, elbo: -2452.813617\n",
      "Epoch[564/1000], kl: 7.167756, likelihood: 6.462232, elbo: -488.979432\n",
      "Epoch[565/1000], kl: 7.170604, likelihood: -2462.780435, elbo: -4005.643406\n",
      "Epoch[566/1000], kl: 7.172390, likelihood: -15218.410422, elbo: -8127.188002\n",
      "Epoch[567/1000], kl: 7.173365, likelihood: -8866.553527, elbo: -14913.628672\n",
      "Epoch[568/1000], kl: 7.160386, likelihood: -7879.791397, elbo: -5643.617238\n",
      "Epoch[569/1000], kl: 7.164349, likelihood: -2523.606468, elbo: -2794.753743\n",
      "Epoch[570/1000], kl: 7.225880, likelihood: -2447.902374, elbo: -2474.641487\n",
      "Epoch[571/1000], kl: 7.241606, likelihood: -2719.742331, elbo: -2463.256437\n",
      "Epoch[572/1000], kl: 7.303394, likelihood: -4762.865889, elbo: -3769.800112\n",
      "Epoch[573/1000], kl: 7.308161, likelihood: -2764.732362, elbo: -4236.532508\n",
      "Epoch[574/1000], kl: 7.310278, likelihood: -696.587399, elbo: -2486.673846\n",
      "Epoch[575/1000], kl: 7.311589, likelihood: -3335.254059, elbo: -66253.360732\n",
      "Epoch[576/1000], kl: 7.329338, likelihood: -5330.595163, elbo: -3844.726740\n",
      "Epoch[577/1000], kl: 7.329405, likelihood: -5850.096830, elbo: -6534.233319\n",
      "Epoch[578/1000], kl: 7.323454, likelihood: -10871.030401, elbo: -6719.534185\n",
      "Epoch[579/1000], kl: 7.318078, likelihood: -2568.414969, elbo: -2264.791533\n",
      "Epoch[580/1000], kl: 7.318713, likelihood: -2504.787757, elbo: -2466.792155\n",
      "Epoch[581/1000], kl: 7.319763, likelihood: -18690.008395, elbo: -13254.903663\n",
      "Epoch[582/1000], kl: 7.297972, likelihood: -12744.519261, elbo: -2560.026056\n",
      "Epoch[583/1000], kl: 7.307117, likelihood: -3659.447103, elbo: -3039.939039\n",
      "Epoch[584/1000], kl: 7.341340, likelihood: -3928.693945, elbo: -2653.440514\n",
      "Epoch[585/1000], kl: 7.342827, likelihood: -2154.660819, elbo: -2262.029289\n",
      "Epoch[586/1000], kl: 7.414691, likelihood: -11246.205690, elbo: -7830.134058\n",
      "Epoch[587/1000], kl: 7.422794, likelihood: -6391.862368, elbo: -5365.578338\n",
      "Epoch[588/1000], kl: 7.416429, likelihood: -3405.162828, elbo: -2443.070065\n",
      "Epoch[589/1000], kl: 7.421772, likelihood: -2281.754030, elbo: -3391.207707\n",
      "Epoch[590/1000], kl: 7.464883, likelihood: -20208.520807, elbo: -5014.623487\n",
      "Epoch[591/1000], kl: 7.507852, likelihood: -2670.353024, elbo: -2001.688574\n",
      "Epoch[592/1000], kl: 7.571720, likelihood: -2257.575170, elbo: -2138.144130\n",
      "Epoch[593/1000], kl: 7.579950, likelihood: -6532.870321, elbo: -10004.355002\n",
      "Epoch[594/1000], kl: 7.564745, likelihood: -2455.419210, elbo: -2532.067992\n",
      "Epoch[595/1000], kl: 7.563396, likelihood: -14072.557567, elbo: -2393.789191\n",
      "Epoch[596/1000], kl: 7.549317, likelihood: -2502.408304, elbo: -2584.200249\n",
      "Epoch[597/1000], kl: 7.549928, likelihood: -2470.846401, elbo: -3136.916368\n",
      "Epoch[598/1000], kl: 7.547470, likelihood: -2228.546458, elbo: -7549.297407\n",
      "Epoch[599/1000], kl: 7.565193, likelihood: -25420.715536, elbo: -30896.571348\n",
      "Epoch[600/1000], kl: 7.603588, likelihood: -2930.930200, elbo: -2916.232373\n",
      "Epoch[601/1000], kl: 7.611159, likelihood: -34561.072459, elbo: -2243.322902\n",
      "Epoch[602/1000], kl: 7.690985, likelihood: -2519.242847, elbo: -9445.900599\n",
      "Epoch[603/1000], kl: 7.709454, likelihood: -2595.701370, elbo: -14267.057079\n",
      "Epoch[604/1000], kl: 7.732349, likelihood: -10184.931772, elbo: -10674.790289\n",
      "Epoch[605/1000], kl: 7.724480, likelihood: -33603.386686, elbo: -44195.857744\n",
      "Epoch[606/1000], kl: 7.761771, likelihood: -2428.876581, elbo: -2123.430246\n",
      "Epoch[607/1000], kl: 7.808360, likelihood: -3212.976359, elbo: -6405.852659\n",
      "Epoch[608/1000], kl: 7.827330, likelihood: -2694.038771, elbo: -2625.665304\n",
      "Epoch[609/1000], kl: 7.906395, likelihood: -2251.680818, elbo: -2404.700153\n",
      "Epoch[610/1000], kl: 7.944747, likelihood: -2345.650582, elbo: -2556.409684\n",
      "Epoch[611/1000], kl: 7.993169, likelihood: -5925.070223, elbo: -2332.991525\n",
      "Epoch[612/1000], kl: 8.020658, likelihood: -2813.099260, elbo: -3193.942058\n",
      "Epoch[613/1000], kl: 8.052786, likelihood: -10642.479882, elbo: -10153.421572\n",
      "Epoch[614/1000], kl: 8.045169, likelihood: -3646.297121, elbo: -2326.386052\n",
      "Epoch[615/1000], kl: 8.051607, likelihood: -2749.063129, elbo: -7991.570976\n",
      "Epoch[616/1000], kl: 8.089662, likelihood: -3700.992183, elbo: -3753.467232\n",
      "Epoch[617/1000], kl: 8.092694, likelihood: -2827.961268, elbo: -6774.220815\n",
      "Epoch[618/1000], kl: 8.103630, likelihood: -3227.218304, elbo: -136536.341705\n",
      "Epoch[619/1000], kl: 8.167309, likelihood: -33211.571596, elbo: -2200.024704\n",
      "Epoch[620/1000], kl: 8.221622, likelihood: -2606.318746, elbo: -2470.146486\n",
      "Epoch[621/1000], kl: 8.242204, likelihood: -2438.816260, elbo: -2952.846685\n",
      "Epoch[622/1000], kl: 8.271811, likelihood: -3229.710244, elbo: -2554.896692\n",
      "Epoch[623/1000], kl: 8.278513, likelihood: -8957.056101, elbo: -3146.263235\n",
      "Epoch[624/1000], kl: 8.272777, likelihood: -8377.068554, elbo: -6061.530082\n",
      "Epoch[625/1000], kl: 8.321322, likelihood: -2289.776296, elbo: -2791.359870\n",
      "Epoch[626/1000], kl: 8.326052, likelihood: -3312.129250, elbo: -2450.012913\n",
      "Epoch[627/1000], kl: 8.330733, likelihood: -2286.627049, elbo: -6054.001173\n",
      "Epoch[628/1000], kl: 8.355226, likelihood: -2611.999856, elbo: -2613.330495\n",
      "Epoch[629/1000], kl: 8.358606, likelihood: -2343.793934, elbo: -5542.710158\n",
      "Epoch[630/1000], kl: 8.368065, likelihood: -24895.652045, elbo: -2396.734104\n",
      "Epoch[631/1000], kl: 8.418039, likelihood: -26215.365107, elbo: -28536.619428\n",
      "Epoch[632/1000], kl: 8.414689, likelihood: -2402.025143, elbo: -2016.039856\n",
      "Epoch[633/1000], kl: 8.480374, likelihood: -2283.208728, elbo: -2389.733908\n",
      "Epoch[634/1000], kl: 8.534753, likelihood: -3157.806762, elbo: -2661.354479\n",
      "Epoch[635/1000], kl: 8.546993, likelihood: -3174.940039, elbo: -31410.617984\n",
      "Epoch[636/1000], kl: 8.573685, likelihood: -7325.518559, elbo: -2375.723009\n",
      "Epoch[637/1000], kl: 8.596530, likelihood: -4401.445980, elbo: -10773.661942\n",
      "Epoch[638/1000], kl: 8.592194, likelihood: -5427.587186, elbo: -2324.844870\n",
      "Epoch[639/1000], kl: 8.581227, likelihood: -5825.172042, elbo: -4929.745743\n",
      "Epoch[640/1000], kl: 8.684706, likelihood: -2345.374653, elbo: -2696.684204\n",
      "Epoch[641/1000], kl: 8.694878, likelihood: -2584.634845, elbo: -2381.131099\n",
      "Epoch[642/1000], kl: 8.713412, likelihood: -2796.943852, elbo: -5856.234139\n",
      "Epoch[643/1000], kl: 8.711105, likelihood: -2423.560448, elbo: -26233.000344\n",
      "Epoch[644/1000], kl: 8.745870, likelihood: -2158.672229, elbo: -43131.847154\n",
      "Epoch[645/1000], kl: 8.786051, likelihood: -3408.317694, elbo: -2508.231428\n",
      "Epoch[646/1000], kl: 8.822455, likelihood: -2383.545354, elbo: -13130.279444\n",
      "Epoch[647/1000], kl: 8.872869, likelihood: -2502.443219, elbo: -2496.673854\n",
      "Epoch[648/1000], kl: 8.896625, likelihood: -11167.924509, elbo: -10499.911169\n",
      "Epoch[649/1000], kl: 8.900458, likelihood: -141.203718, elbo: 16.961337\n",
      "Epoch[650/1000], kl: 8.903627, likelihood: -2197.803890, elbo: -2125.767193\n",
      "Epoch[651/1000], kl: 8.930606, likelihood: -3423.962159, elbo: -1718.915613\n"
     ]
    },
    {
     "name": "stdout",
     "output_type": "stream",
     "text": [
      "Epoch[652/1000], kl: 8.978894, likelihood: -18659.534869, elbo: -2550.610135\n",
      "Epoch[653/1000], kl: 8.984364, likelihood: -2259.122599, elbo: -2289.525738\n",
      "Epoch[654/1000], kl: 8.984461, likelihood: -2742.631493, elbo: -6649.555084\n",
      "Epoch[655/1000], kl: 8.979130, likelihood: -2374.928576, elbo: -2724.501943\n",
      "Epoch[656/1000], kl: 9.054121, likelihood: -2426.247874, elbo: -5400.949123\n",
      "Epoch[657/1000], kl: 9.094143, likelihood: -2368.939287, elbo: -2398.766121\n",
      "Epoch[658/1000], kl: 9.115858, likelihood: -2444.253011, elbo: -3553.191009\n",
      "Epoch[659/1000], kl: 9.166918, likelihood: -6879.884303, elbo: -8272.306012\n",
      "Epoch[660/1000], kl: 9.175878, likelihood: -2484.774824, elbo: -2523.305797\n",
      "Epoch[661/1000], kl: 9.177884, likelihood: -2384.891376, elbo: -2446.238665\n",
      "Epoch[662/1000], kl: 9.214676, likelihood: -2485.935366, elbo: -2438.903060\n",
      "Epoch[663/1000], kl: 9.231044, likelihood: -2437.728519, elbo: -2388.833695\n",
      "Epoch[664/1000], kl: 9.250952, likelihood: -2306.982736, elbo: -2454.068559\n",
      "Epoch[665/1000], kl: 9.251402, likelihood: -2986.001230, elbo: -2387.474064\n",
      "Epoch[666/1000], kl: 9.270196, likelihood: -27399.577683, elbo: -2381.601053\n",
      "Epoch[667/1000], kl: 9.312133, likelihood: -3467.962213, elbo: -2498.946698\n",
      "Epoch[668/1000], kl: 9.320557, likelihood: -2617.487780, elbo: -2519.472516\n",
      "Epoch[669/1000], kl: 9.323657, likelihood: -10915.620336, elbo: -25089.169808\n",
      "Epoch[670/1000], kl: 9.349173, likelihood: -2592.873486, elbo: -2382.441409\n",
      "Epoch[671/1000], kl: 9.351698, likelihood: -2317.782455, elbo: -2400.100061\n",
      "Epoch[672/1000], kl: 9.366479, likelihood: -2243.859623, elbo: -2414.508204\n",
      "Epoch[673/1000], kl: 9.420189, likelihood: -2561.510564, elbo: -2583.667373\n",
      "Epoch[674/1000], kl: 9.432757, likelihood: -137884.345452, elbo: -2211.040198\n",
      "Epoch[675/1000], kl: 9.512617, likelihood: -20684.175157, elbo: -20837.357192\n",
      "Epoch[676/1000], kl: 9.532570, likelihood: -2288.124180, elbo: -2499.976604\n",
      "Epoch[677/1000], kl: 9.545566, likelihood: -6215.703545, elbo: -6044.558884\n",
      "Epoch[678/1000], kl: 9.544772, likelihood: -2122.970609, elbo: -12724.341415\n",
      "Epoch[679/1000], kl: 9.568236, likelihood: -2292.199846, elbo: -2342.144196\n",
      "Epoch[680/1000], kl: 9.608398, likelihood: -1718.400258, elbo: -3439.505309\n",
      "Epoch[681/1000], kl: 9.621114, likelihood: -64957.583303, elbo: -2961.174085\n",
      "Epoch[682/1000], kl: 9.654805, likelihood: -3263.070627, elbo: -267.279592\n",
      "Epoch[683/1000], kl: 9.659054, likelihood: -5061.646309, elbo: -5027.690281\n",
      "Epoch[684/1000], kl: 9.661721, likelihood: -2347.849815, elbo: -2124.552932\n",
      "Epoch[685/1000], kl: 9.682864, likelihood: -2525.667384, elbo: -2508.950993\n",
      "Epoch[686/1000], kl: 9.688376, likelihood: -3525.041531, elbo: -128063.322092\n",
      "Epoch[687/1000], kl: 9.717975, likelihood: -2353.276761, elbo: -2291.730112\n",
      "Epoch[688/1000], kl: 9.734407, likelihood: -2450.505165, elbo: -3921.984552\n",
      "Epoch[689/1000], kl: 9.746533, likelihood: -6908.803331, elbo: -2456.247279\n",
      "Epoch[690/1000], kl: 9.778822, likelihood: -12218.910742, elbo: -2236.732112\n",
      "Epoch[691/1000], kl: 9.833503, likelihood: -1223.690422, elbo: -2427.357604\n",
      "Epoch[692/1000], kl: 9.887178, likelihood: -1778.620533, elbo: -2480.462678\n",
      "Epoch[693/1000], kl: 9.889704, likelihood: -2379.567726, elbo: -3967.723666\n",
      "Epoch[694/1000], kl: 9.888108, likelihood: -2433.903081, elbo: -2700.176422\n",
      "Epoch[695/1000], kl: 9.915863, likelihood: -24102.615330, elbo: -2333.271282\n",
      "Epoch[696/1000], kl: 9.914536, likelihood: -9955.165073, elbo: -2970.948537\n",
      "Epoch[697/1000], kl: 9.903034, likelihood: -2359.652266, elbo: -7876.756880\n",
      "Epoch[698/1000], kl: 9.948594, likelihood: -17197.844736, elbo: -17454.182159\n",
      "Epoch[699/1000], kl: 9.940675, likelihood: -26963.552982, elbo: -2664.731587\n",
      "Epoch[700/1000], kl: 9.982122, likelihood: -2445.734824, elbo: -322.559320\n",
      "Epoch[701/1000], kl: 9.991950, likelihood: -2392.147470, elbo: -2538.316521\n",
      "Epoch[702/1000], kl: 10.047253, likelihood: -4196.681780, elbo: -3994.775660\n",
      "Epoch[703/1000], kl: 10.062798, likelihood: -2459.794845, elbo: -2455.888727\n",
      "Epoch[704/1000], kl: 10.067580, likelihood: -2562.709994, elbo: -86322.665853\n",
      "Epoch[705/1000], kl: 10.109910, likelihood: -4557.230535, elbo: -2435.982499\n",
      "Epoch[706/1000], kl: 10.112080, likelihood: -2498.922642, elbo: -4829.309345\n",
      "Epoch[707/1000], kl: 10.118389, likelihood: -2592.358535, elbo: -2281.242618\n",
      "Epoch[708/1000], kl: 10.140277, likelihood: -2765.854631, elbo: -4555.464629\n",
      "Epoch[709/1000], kl: 10.181129, likelihood: -2344.793092, elbo: -2328.346304\n",
      "Epoch[710/1000], kl: 10.227641, likelihood: -28354.264705, elbo: -2004.803638\n",
      "Epoch[711/1000], kl: 10.260800, likelihood: -5024.275545, elbo: -9426.503617\n",
      "Epoch[712/1000], kl: 10.378213, likelihood: -2313.385161, elbo: -3417.779380\n",
      "Epoch[713/1000], kl: 10.387049, likelihood: -2326.460686, elbo: -2761.382529\n",
      "Epoch[714/1000], kl: 10.388153, likelihood: -2465.515275, elbo: -2280.864146\n",
      "Epoch[715/1000], kl: 10.443045, likelihood: -17037.334803, elbo: -4676.871152\n",
      "Epoch[716/1000], kl: 10.470100, likelihood: -46231.530990, elbo: -2365.809586\n",
      "Epoch[717/1000], kl: 10.496262, likelihood: -17889.461162, elbo: -13337.437458\n",
      "Epoch[718/1000], kl: 10.548757, likelihood: -2469.783591, elbo: -2583.802463\n",
      "Epoch[719/1000], kl: 10.603369, likelihood: -2616.673449, elbo: -3000.241527\n",
      "Epoch[720/1000], kl: 10.621371, likelihood: -16260.433506, elbo: -3096.347986\n",
      "Epoch[721/1000], kl: 10.689456, likelihood: -2573.694126, elbo: -40755.605380\n",
      "Epoch[722/1000], kl: 10.739698, likelihood: -6904.932493, elbo: -9105.671447\n",
      "Epoch[723/1000], kl: 10.734127, likelihood: -714.392222, elbo: -7349.482360\n",
      "Epoch[724/1000], kl: 10.733920, likelihood: -4524.388817, elbo: -2100.581834\n",
      "Epoch[725/1000], kl: 10.810905, likelihood: -3907.512709, elbo: -2298.914376\n",
      "Epoch[726/1000], kl: 10.840944, likelihood: -12330.666075, elbo: -22806.610921\n",
      "Epoch[727/1000], kl: 10.884637, likelihood: -11411.443135, elbo: -15446.151888\n",
      "Epoch[728/1000], kl: 10.933687, likelihood: -54980.180550, elbo: -32880.523609\n",
      "Epoch[729/1000], kl: 11.018963, likelihood: -2500.440670, elbo: -2444.054086\n",
      "Epoch[730/1000], kl: 11.057794, likelihood: -19794.366041, elbo: -2453.823620\n",
      "Epoch[731/1000], kl: 11.087809, likelihood: -2268.974687, elbo: -19891.043655\n",
      "Epoch[732/1000], kl: 11.118999, likelihood: -6179.267858, elbo: -2387.562540\n",
      "Epoch[733/1000], kl: 11.121128, likelihood: -2317.128711, elbo: -2758.260279\n",
      "Epoch[734/1000], kl: 11.122962, likelihood: -2458.088371, elbo: -2329.206436\n",
      "Epoch[735/1000], kl: 11.172334, likelihood: -4659.413589, elbo: -2860.245642\n",
      "Epoch[736/1000], kl: 11.266310, likelihood: -2455.940157, elbo: -4440.663530\n",
      "Epoch[737/1000], kl: 11.326032, likelihood: -2633.440706, elbo: -7187.676402\n",
      "Epoch[738/1000], kl: 11.350200, likelihood: -20635.844504, elbo: -2097.565976\n",
      "Epoch[739/1000], kl: 11.355626, likelihood: -2380.669802, elbo: -2439.810633\n",
      "Epoch[740/1000], kl: 11.356623, likelihood: -4794.251100, elbo: -2401.314623\n",
      "Epoch[741/1000], kl: 11.410109, likelihood: -3023.376430, elbo: -80632.734480\n",
      "Epoch[742/1000], kl: 11.562202, likelihood: -2084.885755, elbo: -5969.327344\n",
      "Epoch[743/1000], kl: 11.588086, likelihood: -2670.278323, elbo: -2754.430674\n",
      "Epoch[744/1000], kl: 11.683205, likelihood: -2316.828531, elbo: -2305.803677\n",
      "Epoch[745/1000], kl: 11.749797, likelihood: -4940.787825, elbo: -6095.188999\n",
      "Epoch[746/1000], kl: 11.753229, likelihood: -2430.918165, elbo: -3242.492713\n",
      "Epoch[747/1000], kl: 11.753136, likelihood: -4346.191290, elbo: -2395.014141\n",
      "Epoch[748/1000], kl: 11.805786, likelihood: -17471.129734, elbo: -17960.650737\n",
      "Epoch[749/1000], kl: 11.800392, likelihood: -24681.159468, elbo: -2414.170996\n",
      "Epoch[750/1000], kl: 11.819744, likelihood: -2457.091429, elbo: -2481.516629\n",
      "Epoch[751/1000], kl: 11.822512, likelihood: -2495.385940, elbo: -2485.037048\n",
      "Epoch[752/1000], kl: 11.850392, likelihood: -3709.994869, elbo: -4053.928898\n",
      "Epoch[753/1000], kl: 11.857296, likelihood: -2391.006730, elbo: -2712.578996\n",
      "Epoch[754/1000], kl: 11.888103, likelihood: -6899.846283, elbo: -6145.271370\n",
      "Epoch[755/1000], kl: 11.888172, likelihood: -71815.368260, elbo: -7912.102901\n",
      "Epoch[756/1000], kl: 11.951751, likelihood: -2423.012755, elbo: -2405.647363\n",
      "Epoch[757/1000], kl: 11.954498, likelihood: -2545.107516, elbo: -4625.543127\n",
      "Epoch[758/1000], kl: 11.955495, likelihood: -2353.166803, elbo: -2443.660656\n"
     ]
    },
    {
     "name": "stdout",
     "output_type": "stream",
     "text": [
      "Epoch[759/1000], kl: 11.962901, likelihood: -2615.384262, elbo: -2629.250996\n",
      "Epoch[760/1000], kl: 11.983944, likelihood: -14415.197746, elbo: -2751.952302\n",
      "Epoch[761/1000], kl: 12.034158, likelihood: -2355.970891, elbo: -2751.984339\n",
      "Epoch[762/1000], kl: 12.052706, likelihood: -2469.089618, elbo: -2465.192818\n",
      "Epoch[763/1000], kl: 12.157840, likelihood: -4031.614851, elbo: -2867.296953\n",
      "Epoch[764/1000], kl: 12.275537, likelihood: -2345.334677, elbo: -2396.402984\n",
      "Epoch[765/1000], kl: 12.315288, likelihood: -2533.146544, elbo: -2553.909811\n",
      "Epoch[766/1000], kl: 12.320571, likelihood: -2474.352218, elbo: -2278.305149\n",
      "Epoch[767/1000], kl: 12.360866, likelihood: -16860.133322, elbo: -2366.562707\n",
      "Epoch[768/1000], kl: 12.370260, likelihood: -7281.409340, elbo: -4707.261409\n",
      "Epoch[769/1000], kl: 12.379653, likelihood: -2307.430994, elbo: -14073.950261\n",
      "Epoch[770/1000], kl: 12.376464, likelihood: -2547.124146, elbo: -2559.374345\n",
      "Epoch[771/1000], kl: 12.394751, likelihood: -294.454424, elbo: -2639.329277\n",
      "Epoch[772/1000], kl: 12.418635, likelihood: -13647.963233, elbo: -8713.901279\n",
      "Epoch[773/1000], kl: 12.428787, likelihood: -5375.024092, elbo: -2407.963518\n",
      "Epoch[774/1000], kl: 12.560319, likelihood: -4519.010721, elbo: -4909.764553\n",
      "Epoch[775/1000], kl: 12.592093, likelihood: -4242.734377, elbo: -2395.790538\n",
      "Epoch[776/1000], kl: 12.590099, likelihood: -31643.380038, elbo: -2873.312838\n",
      "Epoch[777/1000], kl: 12.610313, likelihood: -2848.627186, elbo: -3194.940062\n",
      "Epoch[778/1000], kl: 12.639041, likelihood: -2831.979690, elbo: -8923.341720\n",
      "Epoch[779/1000], kl: 12.639377, likelihood: -2407.694078, elbo: -2792.252351\n",
      "Epoch[780/1000], kl: 12.643032, likelihood: -6512.347065, elbo: -7757.881039\n",
      "Epoch[781/1000], kl: 12.642415, likelihood: -3381.122226, elbo: -2252.646991\n",
      "Epoch[782/1000], kl: 12.642607, likelihood: -2424.253147, elbo: -3337.867914\n",
      "Epoch[783/1000], kl: 12.653219, likelihood: -9605.596280, elbo: -43144.109860\n",
      "Epoch[784/1000], kl: 12.698446, likelihood: -2519.153885, elbo: -6692.469237\n",
      "Epoch[785/1000], kl: 12.718286, likelihood: -2372.278023, elbo: -2486.143123\n",
      "Epoch[786/1000], kl: 12.749269, likelihood: -8248.405329, elbo: -16332.882010\n",
      "Epoch[787/1000], kl: 12.776761, likelihood: -19971.722042, elbo: -2520.532060\n",
      "Epoch[788/1000], kl: 12.799047, likelihood: -2255.618826, elbo: -2351.888682\n",
      "Epoch[789/1000], kl: 12.812852, likelihood: -4953.744244, elbo: -2399.567777\n",
      "Epoch[790/1000], kl: 12.819578, likelihood: -15457.244068, elbo: -16657.333723\n",
      "Epoch[791/1000], kl: 12.835493, likelihood: -2448.019883, elbo: -4235.701927\n",
      "Epoch[792/1000], kl: 12.848452, likelihood: -2270.901507, elbo: -2367.361796\n",
      "Epoch[793/1000], kl: 12.882019, likelihood: -2386.217201, elbo: -2392.596497\n",
      "Epoch[794/1000], kl: 12.941163, likelihood: -4238.834492, elbo: -4673.917167\n",
      "Epoch[795/1000], kl: 12.958735, likelihood: -12590.834361, elbo: -4140.406672\n",
      "Epoch[796/1000], kl: 12.979360, likelihood: -8140.420586, elbo: -12241.697220\n",
      "Epoch[797/1000], kl: 13.056055, likelihood: -6143.339421, elbo: -3056.608452\n",
      "Epoch[798/1000], kl: 13.105339, likelihood: -3893.920431, elbo: -2489.278133\n",
      "Epoch[799/1000], kl: 13.112566, likelihood: -2595.880234, elbo: -2636.675602\n",
      "Epoch[800/1000], kl: 13.117151, likelihood: -3227.877536, elbo: -7755.756509\n",
      "Epoch[801/1000], kl: 13.102684, likelihood: -2417.608030, elbo: -16569.305314\n",
      "Epoch[802/1000], kl: 13.130958, likelihood: -4235.292662, elbo: -4237.154116\n",
      "Epoch[803/1000], kl: 13.134643, likelihood: -5929.273226, elbo: -29957.902057\n",
      "Epoch[804/1000], kl: 13.192344, likelihood: -13652.317878, elbo: -2435.506320\n",
      "Epoch[805/1000], kl: 13.236102, likelihood: -2319.632359, elbo: -2184.385857\n",
      "Epoch[806/1000], kl: 13.329129, likelihood: -2454.902336, elbo: -3632.161980\n",
      "Epoch[807/1000], kl: 13.342398, likelihood: -2514.259831, elbo: -3429.401958\n",
      "Epoch[808/1000], kl: 13.352334, likelihood: -2334.066916, elbo: -2308.348097\n",
      "Epoch[809/1000], kl: 13.387810, likelihood: -10905.610287, elbo: -4988.610703\n",
      "Epoch[810/1000], kl: 13.407063, likelihood: -3442.594108, elbo: -2582.148295\n",
      "Epoch[811/1000], kl: 13.448250, likelihood: -25217.815124, elbo: -25102.362379\n",
      "Epoch[812/1000], kl: 13.448540, likelihood: -10932.243935, elbo: -6842.294096\n",
      "Epoch[813/1000], kl: 13.444224, likelihood: -25609.739571, elbo: -2266.689189\n",
      "Epoch[814/1000], kl: 13.556094, likelihood: -6606.026806, elbo: -3277.744173\n",
      "Epoch[815/1000], kl: 13.570135, likelihood: -2327.186644, elbo: -2250.779305\n",
      "Epoch[816/1000], kl: 13.590104, likelihood: -2335.910578, elbo: -2416.904389\n",
      "Epoch[817/1000], kl: 13.592437, likelihood: -775.603204, elbo: -3969.965608\n",
      "Epoch[818/1000], kl: 13.600392, likelihood: -27361.893321, elbo: -4973.721683\n",
      "Epoch[819/1000], kl: 13.656307, likelihood: -2499.284767, elbo: -2404.756176\n",
      "Epoch[820/1000], kl: 13.721734, likelihood: -3949.581525, elbo: -2352.766519\n",
      "Epoch[821/1000], kl: 13.753553, likelihood: -2361.261960, elbo: -2139.879090\n",
      "Epoch[822/1000], kl: 13.844250, likelihood: -2521.717818, elbo: -2448.876701\n",
      "Epoch[823/1000], kl: 13.857876, likelihood: -2470.845180, elbo: -2467.968620\n",
      "Epoch[824/1000], kl: 13.874083, likelihood: -2468.379292, elbo: -4017.682768\n",
      "Epoch[825/1000], kl: 13.876019, likelihood: -4800.342755, elbo: -6120.603708\n",
      "Epoch[826/1000], kl: 13.948166, likelihood: -2440.753149, elbo: -6343.144313\n",
      "Epoch[827/1000], kl: 13.987089, likelihood: -2444.101354, elbo: -5898.604092\n",
      "Epoch[828/1000], kl: 14.125008, likelihood: -2404.691477, elbo: -2474.706895\n",
      "Epoch[829/1000], kl: 14.213525, likelihood: -5034.831939, elbo: -5777.446918\n",
      "Epoch[830/1000], kl: 14.224757, likelihood: -2495.409442, elbo: -3813.370108\n",
      "Epoch[831/1000], kl: 14.230914, likelihood: -2552.806408, elbo: -2420.707660\n",
      "Epoch[832/1000], kl: 14.234014, likelihood: -2306.155855, elbo: -2325.382130\n",
      "Epoch[833/1000], kl: 14.239917, likelihood: -2281.365395, elbo: -3834.403808\n",
      "Epoch[834/1000], kl: 14.243492, likelihood: -4288.243789, elbo: -2499.701789\n",
      "Epoch[835/1000], kl: 14.326492, likelihood: -2234.199514, elbo: -11063.336071\n",
      "Epoch[836/1000], kl: 14.380903, likelihood: -2445.179775, elbo: -2624.903264\n",
      "Epoch[837/1000], kl: 14.413120, likelihood: -2884.433655, elbo: -15110.581858\n",
      "Epoch[838/1000], kl: 14.478062, likelihood: -3974.438311, elbo: -4862.704842\n",
      "Epoch[839/1000], kl: 14.484304, likelihood: -2387.959380, elbo: -1422.776366\n",
      "Epoch[840/1000], kl: 14.611905, likelihood: -4261.843117, elbo: -2405.556602\n",
      "Epoch[841/1000], kl: 14.668975, likelihood: -14666.525795, elbo: -30370.907958\n",
      "Epoch[842/1000], kl: 14.729300, likelihood: -2637.394443, elbo: -2632.594575\n",
      "Epoch[843/1000], kl: 14.829738, likelihood: -3955.970246, elbo: -2376.768728\n",
      "Epoch[844/1000], kl: 14.865324, likelihood: -9061.410669, elbo: -9316.018384\n",
      "Epoch[845/1000], kl: 14.908512, likelihood: -2782.953796, elbo: -2468.707585\n",
      "Epoch[846/1000], kl: 14.928308, likelihood: -2471.231420, elbo: -5447.360294\n",
      "Epoch[847/1000], kl: 14.936016, likelihood: -2625.046381, elbo: -2420.127917\n",
      "Epoch[848/1000], kl: 14.949913, likelihood: -1894.940984, elbo: -2380.429268\n",
      "Epoch[849/1000], kl: 14.966227, likelihood: -12164.546791, elbo: -2505.210959\n",
      "Epoch[850/1000], kl: 14.986681, likelihood: -24410.845267, elbo: -20428.177235\n",
      "Epoch[851/1000], kl: 15.018264, likelihood: -2367.869300, elbo: -14539.481087\n",
      "Epoch[852/1000], kl: 15.041333, likelihood: -2696.796633, elbo: -4924.380732\n",
      "Epoch[853/1000], kl: 15.047053, likelihood: -2366.078275, elbo: -2573.215325\n",
      "Epoch[854/1000], kl: 15.157429, likelihood: -2468.444632, elbo: -2384.108560\n",
      "Epoch[855/1000], kl: 15.159148, likelihood: -3101.042537, elbo: -6432.358469\n",
      "Epoch[856/1000], kl: 15.267407, likelihood: -3430.609703, elbo: -2595.981588\n",
      "Epoch[857/1000], kl: 15.273946, likelihood: -2423.064182, elbo: -2675.230500\n",
      "Epoch[858/1000], kl: 15.304430, likelihood: -2442.148395, elbo: -6987.310022\n",
      "Epoch[859/1000], kl: 15.360029, likelihood: -7837.622657, elbo: -3429.608811\n",
      "Epoch[860/1000], kl: 15.375501, likelihood: -2300.222423, elbo: -3867.937854\n",
      "Epoch[861/1000], kl: 15.378860, likelihood: -2557.733331, elbo: -2527.102919\n",
      "Epoch[862/1000], kl: 15.391791, likelihood: -7244.297295, elbo: -9893.953247\n",
      "Epoch[863/1000], kl: 15.389469, likelihood: -2502.352224, elbo: -2398.885512\n",
      "Epoch[864/1000], kl: 15.389766, likelihood: -8766.174223, elbo: -5285.586159\n",
      "Epoch[865/1000], kl: 15.388370, likelihood: -2351.504773, elbo: -11822.803142\n"
     ]
    },
    {
     "name": "stdout",
     "output_type": "stream",
     "text": [
      "Epoch[866/1000], kl: 15.383193, likelihood: -6279.886443, elbo: -2330.556017\n",
      "Epoch[867/1000], kl: 15.395811, likelihood: -2238.080765, elbo: -3389.655046\n",
      "Epoch[868/1000], kl: 15.414937, likelihood: -2299.068022, elbo: -2452.668180\n",
      "Epoch[869/1000], kl: 15.434490, likelihood: -3066.331851, elbo: -2527.040002\n",
      "Epoch[870/1000], kl: 15.440088, likelihood: -2445.677496, elbo: -5344.539578\n",
      "Epoch[871/1000], kl: 15.479067, likelihood: -7235.786721, elbo: -2858.205245\n",
      "Epoch[872/1000], kl: 15.502942, likelihood: -2475.455577, elbo: -11430.394961\n",
      "Epoch[873/1000], kl: 15.500518, likelihood: -2291.378840, elbo: -2191.326958\n",
      "Epoch[874/1000], kl: 15.504099, likelihood: -2565.820349, elbo: -2561.266599\n",
      "Epoch[875/1000], kl: 15.512805, likelihood: -9073.075159, elbo: -9048.833337\n",
      "Epoch[876/1000], kl: 15.560430, likelihood: -2418.899766, elbo: -2430.983084\n",
      "Epoch[877/1000], kl: 15.616394, likelihood: -2843.384256, elbo: -2629.754128\n",
      "Epoch[878/1000], kl: 15.628321, likelihood: -8419.603522, elbo: -2291.273768\n",
      "Epoch[879/1000], kl: 15.652651, likelihood: -5470.071228, elbo: -11147.473031\n",
      "Epoch[880/1000], kl: 15.660454, likelihood: -2619.427944, elbo: -2411.622417\n",
      "Epoch[881/1000], kl: 15.706359, likelihood: -27198.844885, elbo: -2625.761524\n",
      "Epoch[882/1000], kl: 15.720373, likelihood: -3193.889005, elbo: -19957.322341\n",
      "Epoch[883/1000], kl: 15.811184, likelihood: -2426.368640, elbo: -2653.540548\n",
      "Epoch[884/1000], kl: 15.818464, likelihood: -2514.822727, elbo: -2587.664796\n",
      "Epoch[885/1000], kl: 15.918519, likelihood: -2392.814556, elbo: -2435.856314\n",
      "Epoch[886/1000], kl: 15.946492, likelihood: -1555.086365, elbo: -3003.897068\n",
      "Epoch[887/1000], kl: 15.988525, likelihood: -2720.063573, elbo: -2512.484404\n",
      "Epoch[888/1000], kl: 15.995758, likelihood: -2417.371544, elbo: -2569.648866\n",
      "Epoch[889/1000], kl: 15.994157, likelihood: -1644.626248, elbo: -2574.718024\n",
      "Epoch[890/1000], kl: 16.001088, likelihood: -2389.834466, elbo: -2333.258161\n",
      "Epoch[891/1000], kl: 16.005286, likelihood: -4137.480279, elbo: -6131.043979\n",
      "Epoch[892/1000], kl: 16.010785, likelihood: -3099.414946, elbo: -5295.555165\n",
      "Epoch[893/1000], kl: 16.012504, likelihood: -2376.482049, elbo: -1778.263785\n",
      "Epoch[894/1000], kl: 16.059212, likelihood: -21338.737071, elbo: -5753.386615\n",
      "Epoch[895/1000], kl: 16.121627, likelihood: -2416.704749, elbo: -2419.802561\n",
      "Epoch[896/1000], kl: 16.126440, likelihood: -2416.299951, elbo: -2474.357796\n",
      "Epoch[897/1000], kl: 16.148107, likelihood: -4236.939676, elbo: -2421.084765\n",
      "Epoch[898/1000], kl: 16.144820, likelihood: -2499.677764, elbo: -2520.454405\n",
      "Epoch[899/1000], kl: 16.151711, likelihood: -2370.320035, elbo: -2439.477953\n",
      "Epoch[900/1000], kl: 16.181808, likelihood: -3882.466037, elbo: -2432.223173\n",
      "Epoch[901/1000], kl: 16.299415, likelihood: -2364.623253, elbo: -2498.781688\n",
      "Epoch[902/1000], kl: 16.306577, likelihood: -8645.205964, elbo: -29104.514097\n",
      "Epoch[903/1000], kl: 16.396317, likelihood: -27243.306892, elbo: -4782.023459\n",
      "Epoch[904/1000], kl: 16.519094, likelihood: -49323.241440, elbo: -2332.331192\n",
      "Epoch[905/1000], kl: 16.621824, likelihood: -2307.574403, elbo: -13591.181313\n",
      "Epoch[906/1000], kl: 16.698119, likelihood: -2329.142676, elbo: -7086.542351\n",
      "Epoch[907/1000], kl: 16.709085, likelihood: -5669.736062, elbo: -11658.358655\n",
      "Epoch[908/1000], kl: 16.736487, likelihood: -2439.241328, elbo: -2920.562932\n",
      "Epoch[909/1000], kl: 16.749850, likelihood: -5574.066877, elbo: -2374.905399\n",
      "Epoch[910/1000], kl: 16.765092, likelihood: -9873.169834, elbo: -4101.599433\n",
      "Epoch[911/1000], kl: 16.769296, likelihood: -3037.837041, elbo: -2367.752672\n",
      "Epoch[912/1000], kl: 16.931115, likelihood: -2568.427978, elbo: -2456.722279\n",
      "Epoch[913/1000], kl: 16.951131, likelihood: -2406.554519, elbo: -18735.514371\n",
      "Epoch[914/1000], kl: 16.986944, likelihood: -2667.416088, elbo: -2423.388587\n",
      "Epoch[915/1000], kl: 16.994364, likelihood: -10054.255324, elbo: -11230.106370\n",
      "Epoch[916/1000], kl: 16.998378, likelihood: -3467.562455, elbo: -12157.705699\n",
      "Epoch[917/1000], kl: 17.116048, likelihood: -2514.306451, elbo: -2417.690002\n",
      "Epoch[918/1000], kl: 17.177353, likelihood: -3753.404317, elbo: -2413.941172\n",
      "Epoch[919/1000], kl: 17.180862, likelihood: -2459.136061, elbo: -2411.701387\n",
      "Epoch[920/1000], kl: 17.189165, likelihood: -5438.696199, elbo: -3430.849329\n",
      "Epoch[921/1000], kl: 17.278146, likelihood: -3213.165891, elbo: -2431.076890\n",
      "Epoch[922/1000], kl: 17.300804, likelihood: -2260.731814, elbo: -4928.127050\n",
      "Epoch[923/1000], kl: 17.304402, likelihood: -2507.755810, elbo: -4049.539994\n",
      "Epoch[924/1000], kl: 17.318617, likelihood: -6516.603483, elbo: -4160.790970\n",
      "Epoch[925/1000], kl: 17.424618, likelihood: -2512.358689, elbo: -2319.616588\n",
      "Epoch[926/1000], kl: 17.450199, likelihood: -2497.903170, elbo: -2661.171719\n",
      "Epoch[927/1000], kl: 17.498525, likelihood: -2364.940372, elbo: -5242.015143\n",
      "Epoch[928/1000], kl: 17.549186, likelihood: -5617.676717, elbo: -2333.543792\n",
      "Epoch[929/1000], kl: 17.612887, likelihood: -2478.587079, elbo: -6985.222038\n",
      "Epoch[930/1000], kl: 17.631067, likelihood: -20353.672859, elbo: -2441.764171\n",
      "Epoch[931/1000], kl: 17.660661, likelihood: -2808.296101, elbo: -3047.695684\n",
      "Epoch[932/1000], kl: 17.675857, likelihood: -2410.832522, elbo: -3623.358409\n",
      "Epoch[933/1000], kl: 17.710826, likelihood: -18429.412860, elbo: -3150.362215\n",
      "Epoch[934/1000], kl: 17.776993, likelihood: -2329.990149, elbo: -2473.282915\n",
      "Epoch[935/1000], kl: 17.780990, likelihood: -7516.079696, elbo: -2241.483203\n",
      "Epoch[936/1000], kl: 17.810045, likelihood: -3771.176691, elbo: -40512.070127\n",
      "Epoch[937/1000], kl: 17.943664, likelihood: -15307.042013, elbo: -13002.393239\n",
      "Epoch[938/1000], kl: 18.046192, likelihood: -57110.643609, elbo: -2522.009909\n",
      "Epoch[939/1000], kl: 18.091660, likelihood: -3575.924361, elbo: -2626.288540\n",
      "Epoch[940/1000], kl: 18.219278, likelihood: -2345.419841, elbo: -4018.876661\n",
      "Epoch[941/1000], kl: 18.241044, likelihood: -2444.607986, elbo: -4441.884976\n",
      "Epoch[942/1000], kl: 18.258592, likelihood: -29707.398467, elbo: -2295.120113\n",
      "Epoch[943/1000], kl: 18.376729, likelihood: -8467.911987, elbo: -4258.049997\n",
      "Epoch[944/1000], kl: 18.392748, likelihood: -8312.914594, elbo: -2418.107801\n",
      "Epoch[945/1000], kl: 18.403006, likelihood: -3818.970145, elbo: -6818.847717\n",
      "Epoch[946/1000], kl: 18.407498, likelihood: -21136.132739, elbo: -2400.054614\n",
      "Epoch[947/1000], kl: 18.410481, likelihood: -12760.678158, elbo: -15207.890014\n",
      "Epoch[948/1000], kl: 18.405640, likelihood: -2840.945820, elbo: -6035.277275\n",
      "Epoch[949/1000], kl: 18.416393, likelihood: -8810.610502, elbo: -2396.296168\n",
      "Epoch[950/1000], kl: 18.443202, likelihood: -2403.882459, elbo: -3775.533241\n",
      "Epoch[951/1000], kl: 18.591521, likelihood: -2571.147277, elbo: -4958.855126\n",
      "Epoch[952/1000], kl: 18.618860, likelihood: -2469.853515, elbo: -7815.289918\n",
      "Epoch[953/1000], kl: 18.650522, likelihood: -2488.456359, elbo: -2241.601932\n",
      "Epoch[954/1000], kl: 18.716186, likelihood: -3627.096299, elbo: -5169.443778\n",
      "Epoch[955/1000], kl: 18.751523, likelihood: -5427.855021, elbo: -7242.697463\n",
      "Epoch[956/1000], kl: 18.754470, likelihood: -2455.404940, elbo: -2437.137134\n",
      "Epoch[957/1000], kl: 18.764089, likelihood: -4546.613265, elbo: -2761.378748\n",
      "Epoch[958/1000], kl: 18.802301, likelihood: -2462.699029, elbo: -2477.500651\n",
      "Epoch[959/1000], kl: 18.841246, likelihood: -4886.752711, elbo: -2598.271537\n",
      "Epoch[960/1000], kl: 18.884115, likelihood: -2415.617718, elbo: -6048.022379\n",
      "Epoch[961/1000], kl: 18.935165, likelihood: -9300.538547, elbo: -2423.419076\n",
      "Epoch[962/1000], kl: 19.111137, likelihood: -2348.858000, elbo: -14062.197761\n",
      "Epoch[963/1000], kl: 19.136575, likelihood: -4611.290568, elbo: -2451.609843\n",
      "Epoch[964/1000], kl: 19.143378, likelihood: -25106.527251, elbo: -13886.543808\n",
      "Epoch[965/1000], kl: 19.302574, likelihood: -2333.503831, elbo: -2521.078407\n",
      "Epoch[966/1000], kl: 19.346162, likelihood: -2452.788248, elbo: -2480.836326\n",
      "Epoch[967/1000], kl: 19.353273, likelihood: -16141.632671, elbo: -2863.908374\n",
      "Epoch[968/1000], kl: 19.361090, likelihood: -19639.183202, elbo: -20292.932376\n",
      "Epoch[969/1000], kl: 19.364505, likelihood: -2326.066105, elbo: -2464.187932\n",
      "Epoch[970/1000], kl: 19.400668, likelihood: -2306.463769, elbo: -2410.872247\n",
      "Epoch[971/1000], kl: 19.411028, likelihood: -9064.804388, elbo: -7455.553506\n",
      "Epoch[972/1000], kl: 19.442910, likelihood: -2287.056230, elbo: -2484.658686\n",
      "Epoch[973/1000], kl: 19.612941, likelihood: -2494.908137, elbo: -2270.352699\n"
     ]
    },
    {
     "name": "stdout",
     "output_type": "stream",
     "text": [
      "Epoch[974/1000], kl: 19.650735, likelihood: -2298.920310, elbo: -10573.118115\n",
      "Epoch[975/1000], kl: 19.662697, likelihood: -2427.574277, elbo: -3808.443365\n",
      "Epoch[976/1000], kl: 19.670230, likelihood: -2415.788327, elbo: -2469.416918\n",
      "Epoch[977/1000], kl: 19.674100, likelihood: -2499.512119, elbo: -2372.243099\n",
      "Epoch[978/1000], kl: 19.681155, likelihood: -2379.580517, elbo: -2404.954144\n",
      "Epoch[979/1000], kl: 19.751014, likelihood: -25554.682490, elbo: -6747.114250\n",
      "Epoch[980/1000], kl: 19.858073, likelihood: -14097.555302, elbo: -2389.060982\n",
      "Epoch[981/1000], kl: 19.880425, likelihood: -2460.101065, elbo: -2956.337154\n",
      "Epoch[982/1000], kl: 19.888953, likelihood: -10170.602271, elbo: -3097.811839\n",
      "Epoch[983/1000], kl: 19.948355, likelihood: -4053.447399, elbo: -2554.588460\n",
      "Epoch[984/1000], kl: 19.967053, likelihood: -9890.111096, elbo: -4313.922205\n",
      "Epoch[985/1000], kl: 20.021667, likelihood: -2506.358936, elbo: -2461.482018\n",
      "Epoch[986/1000], kl: 20.086223, likelihood: -2374.325434, elbo: -15031.439355\n",
      "Epoch[987/1000], kl: 20.105228, likelihood: -10189.099609, elbo: -2502.443439\n",
      "Epoch[988/1000], kl: 20.274552, likelihood: -2484.177098, elbo: -2315.498872\n",
      "Epoch[989/1000], kl: 20.300193, likelihood: -3544.039529, elbo: -6282.791951\n",
      "Epoch[990/1000], kl: 20.377156, likelihood: -2415.422750, elbo: -2322.942015\n",
      "Epoch[991/1000], kl: 20.382871, likelihood: -3685.060970, elbo: -4565.672101\n",
      "Epoch[992/1000], kl: 20.390093, likelihood: -2377.917088, elbo: -2399.395896\n",
      "Epoch[993/1000], kl: 20.397749, likelihood: -5366.991817, elbo: -2362.781599\n",
      "Epoch[994/1000], kl: 20.440678, likelihood: -2932.428395, elbo: -3450.560739\n",
      "Epoch[995/1000], kl: 20.565565, likelihood: -14370.221860, elbo: -7101.101271\n",
      "Epoch[996/1000], kl: 20.655341, likelihood: -13009.599219, elbo: -3516.387852\n",
      "Epoch[997/1000], kl: 20.669685, likelihood: -2435.076853, elbo: -2476.039693\n",
      "Epoch[998/1000], kl: 20.672032, likelihood: -2327.978151, elbo: -2385.535413\n",
      "Epoch[999/1000], kl: 20.682049, likelihood: -8799.545653, elbo: -5509.036739\n",
      "Epoch[1000/1000], kl: 20.694754, likelihood: -2491.801181, elbo: -2351.820000\n"
     ]
    },
    {
     "data": {
      "text/plain": [
       "[<matplotlib.lines.Line2D at 0x14a8a6f60>]"
      ]
     },
     "execution_count": 25,
     "metadata": {},
     "output_type": "execute_result"
    },
    {
     "data": {
      "image/png": "[encoded data removed]",
      "text/plain": [
       "<Figure size 432x288 with 1 Axes>"
      ]
     },
     "metadata": {
      "needs_background": "light"
     },
     "output_type": "display_data"
    }
   ],
   "source": [
    "elbo = -networks.train(model, optimizer, torch.from_numpy(Z), torch.from_numpy(Y), n_epochs=1000, n_rep_opt=100, print_freq=1)\n",
    "plt.plot(-elbo)"
   ]
  },
  {
   "cell_type": "code",
   "execution_count": 298,
   "metadata": {
    "collapsed": true
   },
   "outputs": [
    {
     "ename": "AttributeError",
     "evalue": "'RffVarSelectBetaLayer' object has no attribute 's_loc'",
     "output_type": "error",
     "traceback": [
      "\u001b[0;31m---------------------------------------------------------------------------\u001b[0m",
      "\u001b[0;31mAttributeError\u001b[0m                            Traceback (most recent call last)",
      "\u001b[0;32m<ipython-input-298-00a810e85467>\u001b[0m in \u001b[0;36m<module>\u001b[0;34m\u001b[0m\n\u001b[1;32m      9\u001b[0m \u001b[0;34m\u001b[0m\u001b[0m\n\u001b[1;32m     10\u001b[0m \u001b[0;34m\u001b[0m\u001b[0m\n\u001b[0;32m---> 11\u001b[0;31m \u001b[0mloc\u001b[0m \u001b[0;34m=\u001b[0m \u001b[0mmodel\u001b[0m\u001b[0;34m.\u001b[0m\u001b[0mlayer_in\u001b[0m\u001b[0;34m.\u001b[0m\u001b[0ms_loc\u001b[0m\u001b[0;34m[\u001b[0m\u001b[0;36m0\u001b[0m\u001b[0;34m]\u001b[0m\u001b[0;34m.\u001b[0m\u001b[0mdetach\u001b[0m\u001b[0;34m(\u001b[0m\u001b[0;34m)\u001b[0m\u001b[0;34m.\u001b[0m\u001b[0mnumpy\u001b[0m\u001b[0;34m(\u001b[0m\u001b[0;34m)\u001b[0m\u001b[0;34m\u001b[0m\u001b[0;34m\u001b[0m\u001b[0m\n\u001b[0m\u001b[1;32m     12\u001b[0m \u001b[0mscale\u001b[0m \u001b[0;34m=\u001b[0m \u001b[0mmodel\u001b[0m\u001b[0;34m.\u001b[0m\u001b[0mlayer_in\u001b[0m\u001b[0;34m.\u001b[0m\u001b[0mtransform\u001b[0m\u001b[0;34m(\u001b[0m\u001b[0mmodel\u001b[0m\u001b[0;34m.\u001b[0m\u001b[0mlayer_in\u001b[0m\u001b[0;34m.\u001b[0m\u001b[0ms_scale_untrans\u001b[0m\u001b[0;34m[\u001b[0m\u001b[0;36m0\u001b[0m\u001b[0;34m]\u001b[0m\u001b[0;34m)\u001b[0m\u001b[0;34m.\u001b[0m\u001b[0mdetach\u001b[0m\u001b[0;34m(\u001b[0m\u001b[0;34m)\u001b[0m\u001b[0;34m.\u001b[0m\u001b[0mnumpy\u001b[0m\u001b[0;34m(\u001b[0m\u001b[0;34m)\u001b[0m\u001b[0;34m\u001b[0m\u001b[0;34m\u001b[0m\u001b[0m\n\u001b[1;32m     13\u001b[0m \u001b[0mplt\u001b[0m\u001b[0;34m.\u001b[0m\u001b[0mplot\u001b[0m\u001b[0;34m(\u001b[0m\u001b[0mx\u001b[0m\u001b[0;34m,\u001b[0m \u001b[0mlogitnormal_pdf\u001b[0m\u001b[0;34m(\u001b[0m\u001b[0mx\u001b[0m\u001b[0;34m,\u001b[0m\u001b[0mloc\u001b[0m\u001b[0;34m,\u001b[0m\u001b[0mscale\u001b[0m\u001b[0;34m**\u001b[0m\u001b[0;36m2\u001b[0m\u001b[0;34m)\u001b[0m\u001b[0;34m,\u001b[0m \u001b[0mcolor\u001b[0m\u001b[0;34m=\u001b[0m\u001b[0;34m'blue'\u001b[0m\u001b[0;34m,\u001b[0m\u001b[0mlabel\u001b[0m\u001b[0;34m=\u001b[0m\u001b[0;34m's0'\u001b[0m\u001b[0;34m)\u001b[0m\u001b[0;34m\u001b[0m\u001b[0;34m\u001b[0m\u001b[0m\n",
      "\u001b[0;32m//anaconda/lib/python3.7/site-packages/torch/nn/modules/module.py\u001b[0m in \u001b[0;36m__getattr__\u001b[0;34m(self, name)\u001b[0m\n\u001b[1;32m    592\u001b[0m                 \u001b[0;32mreturn\u001b[0m \u001b[0mmodules\u001b[0m\u001b[0;34m[\u001b[0m\u001b[0mname\u001b[0m\u001b[0;34m]\u001b[0m\u001b[0;34m\u001b[0m\u001b[0;34m\u001b[0m\u001b[0m\n\u001b[1;32m    593\u001b[0m         raise AttributeError(\"'{}' object has no attribute '{}'\".format(\n\u001b[0;32m--> 594\u001b[0;31m             type(self).__name__, name))\n\u001b[0m\u001b[1;32m    595\u001b[0m \u001b[0;34m\u001b[0m\u001b[0m\n\u001b[1;32m    596\u001b[0m     \u001b[0;32mdef\u001b[0m \u001b[0m__setattr__\u001b[0m\u001b[0;34m(\u001b[0m\u001b[0mself\u001b[0m\u001b[0;34m,\u001b[0m \u001b[0mname\u001b[0m\u001b[0;34m,\u001b[0m \u001b[0mvalue\u001b[0m\u001b[0;34m)\u001b[0m\u001b[0;34m:\u001b[0m\u001b[0;34m\u001b[0m\u001b[0;34m\u001b[0m\u001b[0m\n",
      "\u001b[0;31mAttributeError\u001b[0m: 'RffVarSelectBetaLayer' object has no attribute 's_loc'"
     ]
    }
   ],
   "source": [
    "# logitnormal\n",
    "eps = .0001\n",
    "x = np.linspace(0+eps,1-eps,100)\n",
    "\n",
    "logit = lambda x: np.log(x/(1-x))\n",
    "\n",
    "def logitnormal_pdf(x, mu=0, sig2=1):\n",
    "    return 1/np.sqrt(2*np.pi*sig2)/(x*(1-x))*np.exp(-(logit(x)-mu)**2/(2*sig2))\n",
    "\n",
    "\n",
    "loc = model.layer_in.s_loc[0].detach().numpy()\n",
    "scale = model.layer_in.transform(model.layer_in.s_scale_untrans[0]).detach().numpy()\n",
    "plt.plot(x, logitnormal_pdf(x,loc,scale**2), color='blue',label='s0')\n",
    "\n",
    "loc = model.layer_in.s_loc[1].detach().numpy()\n",
    "scale = model.layer_in.transform(model.layer_in.s_scale_untrans[1]).detach().numpy()\n",
    "plt.plot(x, logitnormal_pdf(x,loc,scale**2), color='red',label='s1')\n",
    "plt.legend()\n"
   ]
  },
  {
   "cell_type": "code",
   "execution_count": 307,
   "metadata": {},
   "outputs": [
    {
     "data": {
      "text/plain": [
       "<matplotlib.legend.Legend at 0x15630ab00>"
      ]
     },
     "execution_count": 307,
     "metadata": {},
     "output_type": "execute_result"
    },
    {
     "data": {
      "image/png": "[encoded data removed]",
      "text/plain": [
       "<Figure size 432x288 with 1 Axes>"
      ]
     },
     "metadata": {
      "needs_background": "light"
     },
     "output_type": "display_data"
    }
   ],
   "source": [
    "# beta\n",
    "eps = .0001\n",
    "x = np.linspace(0+eps,1-eps,100)\n",
    "import scipy\n",
    "\n",
    "a = model.layer_in.untransform(model.layer_in.s_a_trans[0]).detach().numpy()\n",
    "b = model.layer_in.untransform(model.layer_in.s_b_trans[0]).detach().numpy()\n",
    "plt.plot(x, scipy.stats.beta.pdf(x,a,b), color='blue',label='s0')\n",
    "\n",
    "a = model.layer_in.untransform(model.layer_in.s_a_trans[1]).detach().numpy()\n",
    "b = model.layer_in.untransform(model.layer_in.s_b_trans[1]).detach().numpy()\n",
    "plt.plot(x, scipy.stats.beta.pdf(x,a,b), color='red',label='s1')\n",
    "\n",
    "plt.legend()\n"
   ]
  },
  {
   "cell_type": "code",
   "execution_count": 300,
   "metadata": {},
   "outputs": [],
   "source": [
    "def sample_f_post(x_test, x_train=torch.from_numpy(Z), y_train=torch.from_numpy(Y)):\n",
    "    # inputs and outputs are numpy arrays\n",
    "    #return model(torch.from_numpy(x), weights_type_layer_in='sample_post', weights_type_layer_out='sample_post').detach().numpy()\n",
    "\n",
    "    # sample from variational dist then sample weights (conjugate)\n",
    "    #model.fixed_point_updates(torch.from_numpy(Z),torch.from_numpy(Y)) \n",
    "    \n",
    "    #return model(torch.from_numpy(x), weights_type_layer_in='stored', weights_type_layer_out='stored').detach().numpy()\n",
    "\n",
    "    with torch.no_grad():\n",
    "        return model.sample_posterior_predictive(x_test=torch.from_numpy(x_test), x_train=x_train, y_train=y_train).numpy().reshape(-1)\n"
   ]
  },
  {
   "cell_type": "code",
   "execution_count": 301,
   "metadata": {},
   "outputs": [
    {
     "data": {
      "image/png": "[encoded data removed]",
      "text/plain": [
       "<Figure size 576x288 with 2 Axes>"
      ]
     },
     "metadata": {
      "needs_background": "light"
     },
     "output_type": "display_data"
    }
   ],
   "source": [
    "fig, ax = util.plot_slices(sample_f_post, Z, Y, quantile=.5, n_samp=50, figsize=(4*2,4))\n"
   ]
  },
  {
   "cell_type": "code",
   "execution_count": null,
   "metadata": {},
   "outputs": [],
   "source": []
  },
  {
   "cell_type": "markdown",
   "metadata": {},
   "source": [
    "#### GPy for comparison"
   ]
  },
  {
   "cell_type": "code",
   "execution_count": 29,
   "metadata": {},
   "outputs": [],
   "source": [
    "import GPy\n",
    "kernel = GPy.kern.RBF(input_dim=2, variance=1., lengthscale=1.)"
   ]
  },
  {
   "cell_type": "code",
   "execution_count": 30,
   "metadata": {},
   "outputs": [
    {
     "data": {
      "text/plain": [
       "[<paramz.optimization.optimization.opt_lbfgsb at 0x1436cdda0>,\n",
       " <paramz.optimization.optimization.opt_lbfgsb at 0x1435cd1d0>,\n",
       " <paramz.optimization.optimization.opt_lbfgsb at 0x1434be470>,\n",
       " <paramz.optimization.optimization.opt_lbfgsb at 0x1434beeb8>,\n",
       " <paramz.optimization.optimization.opt_lbfgsb at 0x1434be550>,\n",
       " <paramz.optimization.optimization.opt_lbfgsb at 0x1434bee48>,\n",
       " <paramz.optimization.optimization.opt_lbfgsb at 0x1434becf8>,\n",
       " <paramz.optimization.optimization.opt_lbfgsb at 0x1434befd0>,\n",
       " <paramz.optimization.optimization.opt_lbfgsb at 0x1434bee10>,\n",
       " <paramz.optimization.optimization.opt_lbfgsb at 0x1434be6a0>]"
      ]
     },
     "execution_count": 30,
     "metadata": {},
     "output_type": "execute_result"
    }
   ],
   "source": [
    "m = GPy.models.GPRegression(Z,Y,kernel)\n",
    "\n",
    "m.Gaussian_noise.variance = sig2\n",
    "m.Gaussian_noise.fix()\n",
    "m.optimize_restarts(num_restarts = 10, verbose=False)"
   ]
  },
  {
   "cell_type": "code",
   "execution_count": 41,
   "metadata": {},
   "outputs": [
    {
     "data": {
      "image/png": "[encoded data removed]",
      "text/plain": [
       "<Figure size 432x288 with 1 Axes>"
      ]
     },
     "metadata": {
      "needs_background": "light"
     },
     "output_type": "display_data"
    }
   ],
   "source": [
    "slices = [0]\n",
    "figure = GPy.plotting.plotting_library().figure(3, 1)\n",
    "for i, y in zip(range(3), slices):\n",
    "    canvas = m.plot(figure=figure, fixed_inputs=[(1,y)], row=(i+1), plot_data=True)\n",
    "#GPy.plotting.show(canvas, filename='basic_gp_regression_notebook_slicing')"
   ]
  },
  {
   "cell_type": "code",
   "execution_count": 42,
   "metadata": {},
   "outputs": [
    {
     "data": {
      "image/png": "[encoded data removed]",
      "text/plain": [
       "<Figure size 432x288 with 1 Axes>"
      ]
     },
     "metadata": {
      "needs_background": "light"
     },
     "output_type": "display_data"
    }
   ],
   "source": [
    "slices = [0]\n",
    "figure = GPy.plotting.plotting_library().figure(3, 1)\n",
    "for i, y in zip(range(3), slices):\n",
    "    canvas = m.plot(figure=figure, fixed_inputs=[(0,y)], row=(i+1), plot_data=True)\n",
    "#GPy.plotting.show(canvas, filename='basic_gp_regression_notebook_slicing_vertical')"
   ]
  },
  {
   "cell_type": "code",
   "execution_count": null,
   "metadata": {},
   "outputs": [],
   "source": []
  }
 ],
 "metadata": {
  "kernelspec": {
   "display_name": "Python 3",
   "language": "python",
   "name": "python3"
  },
  "language_info": {
   "codemirror_mode": {
    "name": "ipython",
    "version": 3
   },
   "file_extension": ".py",
   "mimetype": "text/x-python",
   "name": "python",
   "nbconvert_exporter": "python",
   "pygments_lexer": "ipython3",
   "version": "3.7.3"
  }
 },
 "nbformat": 4,
 "nbformat_minor": 2
}
