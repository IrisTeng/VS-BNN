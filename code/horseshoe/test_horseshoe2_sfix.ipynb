{
 "cells": [
  {
   "cell_type": "code",
   "execution_count": 1,
   "metadata": {},
   "outputs": [],
   "source": [
    "import torch\n",
    "import torch.nn as nn\n",
    "import torch.nn.functional as F\n",
    "from torch.distributions.normal import Normal\n",
    "import numpy as np\n",
    "import matplotlib.pyplot as plt\n",
    "import importlib\n",
    "import seaborn as sns\n",
    "import sys\n",
    "\n",
    "import layers as layers\n",
    "import util as util\n",
    "import networks as networks\n",
    "\n",
    "torch.set_default_dtype(torch.float64)"
   ]
  },
  {
   "cell_type": "code",
   "execution_count": 2,
   "metadata": {},
   "outputs": [],
   "source": [
    "sys.path.insert(0, '../exp/')\n",
    "import util as util_data"
   ]
  },
  {
   "cell_type": "code",
   "execution_count": 3,
   "metadata": {},
   "outputs": [
    {
     "data": {
      "text/plain": [
       "<module 'networks' from '/Users/beaucoker/Documents/git/VS-BNN/code/horseshoe/networks.py'>"
      ]
     },
     "execution_count": 3,
     "metadata": {},
     "output_type": "execute_result"
    }
   ],
   "source": [
    "importlib.reload(layers)\n",
    "importlib.reload(util)\n",
    "importlib.reload(networks)"
   ]
  },
  {
   "cell_type": "markdown",
   "metadata": {},
   "source": [
    "### SIN dataset"
   ]
  },
  {
   "cell_type": "code",
   "execution_count": 4,
   "metadata": {},
   "outputs": [],
   "source": [
    "n_obs = 100\n",
    "dim_in = 2\n",
    "Z, X, Y, sig2 = util_data.load_data('sin', n_obs=n_obs, dim_in=dim_in, sig2=.01, seed=0)\n"
   ]
  },
  {
   "cell_type": "code",
   "execution_count": 5,
   "metadata": {},
   "outputs": [
    {
     "data": {
      "text/plain": [
       "<matplotlib.collections.PathCollection at 0x147f17ba8>"
      ]
     },
     "execution_count": 5,
     "metadata": {},
     "output_type": "execute_result"
    },
    {
     "data": {
      "image/png": "[encoded data removed]",
      "text/plain": [
       "<Figure size 432x288 with 1 Axes>"
      ]
     },
     "metadata": {
      "needs_background": "light"
     },
     "output_type": "display_data"
    }
   ],
   "source": [
    "plt.scatter(Z[:,0],Y)"
   ]
  },
  {
   "cell_type": "code",
   "execution_count": 6,
   "metadata": {},
   "outputs": [],
   "source": [
    "torch.manual_seed(2)\n",
    "#model = networks.RffHs(dim_in, 1, dim_hidden=50, sig2_inv=1/sig2, infer_nu=False, nu=.5)\n",
    "model = networks.RffHs(dim_in, 1, dim_hidden=50, sig2_inv=1/sig2, infer_nu=True)"
   ]
  },
  {
   "cell_type": "code",
   "execution_count": 7,
   "metadata": {},
   "outputs": [],
   "source": [
    "torch.manual_seed(2)\n",
    "optimizer = torch.optim.Adam(model.parameters(), lr=.001)\n",
    "model.reinit_parameters(torch.from_numpy(Z),torch.from_numpy(Y),n_reinit=10) "
   ]
  },
  {
   "cell_type": "code",
   "execution_count": 8,
   "metadata": {
    "scrolled": true
   },
   "outputs": [
    {
     "name": "stdout",
     "output_type": "stream",
     "text": [
      "layer_in.lognu_mu tensor([-0.0043])\n",
      "layer_in.lognu_logsig2 tensor([-9.0062])\n",
      "layer_in.logeta_mu tensor([0.0144, 0.0056])\n",
      "layer_in.logeta_logsig2 tensor([-8.9756, -8.9952])\n",
      "layer_in.s_mu tensor([1.0007, 1.0005])\n",
      "layer_in.s_logsig2 tensor([-9.0006, -9.0027])\n"
     ]
    }
   ],
   "source": [
    "for name, p in model.named_parameters():\n",
    "    print(name, p.detach())"
   ]
  },
  {
   "cell_type": "code",
   "execution_count": 9,
   "metadata": {
    "scrolled": true
   },
   "outputs": [
    {
     "name": "stdout",
     "output_type": "stream",
     "text": [
      "Epoch[1/1000], kl: 21.778713, likelihood: 13.962484, elbo: -67.181327\n",
      "Epoch[2/1000], kl: 21.791676, likelihood: 5.764077, elbo: -14.279675\n",
      "Epoch[3/1000], kl: 21.803962, likelihood: 13.507880, elbo: 5.050646\n",
      "Epoch[4/1000], kl: 21.819316, likelihood: -6.651180, elbo: -11.838286\n",
      "Epoch[5/1000], kl: 21.841486, likelihood: 59.396591, elbo: -16.564061\n",
      "Epoch[6/1000], kl: 21.858698, likelihood: 37.297998, elbo: 23.250190\n",
      "Epoch[7/1000], kl: 21.880575, likelihood: 63.263552, elbo: 62.133299\n",
      "Epoch[8/1000], kl: 21.900979, likelihood: 92.689531, elbo: 57.724936\n",
      "Epoch[9/1000], kl: 21.923361, likelihood: 81.137115, elbo: 42.130350\n",
      "Epoch[10/1000], kl: 21.954723, likelihood: 73.304302, elbo: 37.739964\n",
      "Epoch[11/1000], kl: 21.978897, likelihood: 88.760574, elbo: -17.021174\n",
      "Epoch[12/1000], kl: 22.008079, likelihood: 67.226345, elbo: 68.311241\n",
      "Epoch[13/1000], kl: 22.034399, likelihood: 104.450654, elbo: 79.362244\n",
      "Epoch[14/1000], kl: 22.066660, likelihood: 94.561827, elbo: 74.641920\n",
      "Epoch[15/1000], kl: 22.094199, likelihood: 106.798535, elbo: 91.883791\n",
      "Epoch[16/1000], kl: 22.122188, likelihood: 106.545094, elbo: 73.284299\n",
      "Epoch[17/1000], kl: 22.157049, likelihood: 105.500308, elbo: 86.460755\n",
      "Epoch[18/1000], kl: 22.190955, likelihood: 105.043358, elbo: 87.204505\n",
      "Epoch[19/1000], kl: 22.218882, likelihood: 116.108697, elbo: 81.104791\n",
      "Epoch[20/1000], kl: 22.244303, likelihood: 116.748752, elbo: 83.139210\n",
      "Epoch[21/1000], kl: 22.277141, likelihood: 83.012539, elbo: 54.215378\n",
      "Epoch[22/1000], kl: 22.306200, likelihood: 118.612925, elbo: 94.873203\n",
      "Epoch[23/1000], kl: 22.342481, likelihood: 112.873971, elbo: 96.464648\n",
      "Epoch[24/1000], kl: 22.378043, likelihood: 97.318078, elbo: 88.458407\n",
      "Epoch[25/1000], kl: 22.427070, likelihood: 94.295020, elbo: 89.008884\n",
      "Epoch[26/1000], kl: 22.467238, likelihood: 106.533312, elbo: 75.214280\n",
      "Epoch[27/1000], kl: 22.504992, likelihood: 120.019259, elbo: 92.672534\n",
      "Epoch[28/1000], kl: 22.544391, likelihood: 111.096750, elbo: 91.076126\n",
      "Epoch[29/1000], kl: 22.576367, likelihood: 120.115656, elbo: 98.859768\n",
      "Epoch[30/1000], kl: 22.619808, likelihood: 115.767766, elbo: 89.905856\n",
      "Epoch[31/1000], kl: 22.666885, likelihood: 111.551418, elbo: 93.304236\n",
      "Epoch[32/1000], kl: 22.722293, likelihood: 117.044012, elbo: 84.631063\n",
      "Epoch[33/1000], kl: 22.768908, likelihood: 107.818531, elbo: 85.034683\n",
      "Epoch[34/1000], kl: 22.811925, likelihood: 55.633911, elbo: 21.330417\n",
      "Epoch[35/1000], kl: 22.866164, likelihood: 125.351091, elbo: 97.851847\n",
      "Epoch[36/1000], kl: 22.901458, likelihood: 123.714520, elbo: 101.600611\n",
      "Epoch[37/1000], kl: 22.945013, likelihood: 118.106914, elbo: 73.217673\n",
      "Epoch[38/1000], kl: 22.987620, likelihood: 121.458169, elbo: 97.346644\n",
      "Epoch[39/1000], kl: 23.044688, likelihood: 121.197151, elbo: 101.712820\n",
      "Epoch[40/1000], kl: 23.085795, likelihood: 120.543363, elbo: 96.985598\n",
      "Epoch[41/1000], kl: 23.126176, likelihood: 111.548640, elbo: 99.044316\n",
      "Epoch[42/1000], kl: 23.166347, likelihood: 104.779859, elbo: 104.082754\n",
      "Epoch[43/1000], kl: 23.208717, likelihood: 75.157058, elbo: 91.618735\n",
      "Epoch[44/1000], kl: 23.255743, likelihood: 124.271913, elbo: 98.759885\n",
      "Epoch[45/1000], kl: 23.301278, likelihood: 126.421854, elbo: 96.695320\n",
      "Epoch[46/1000], kl: 23.336329, likelihood: 121.650913, elbo: 98.970798\n",
      "Epoch[47/1000], kl: 23.378679, likelihood: 127.862062, elbo: 100.473602\n",
      "Epoch[48/1000], kl: 23.424583, likelihood: 123.981125, elbo: 100.438886\n",
      "Epoch[49/1000], kl: 23.494180, likelihood: 119.739669, elbo: 100.263592\n",
      "Epoch[50/1000], kl: 23.538990, likelihood: 124.271664, elbo: 100.822940\n",
      "Epoch[51/1000], kl: 23.605522, likelihood: 117.418166, elbo: 89.258779\n",
      "Epoch[52/1000], kl: 23.664610, likelihood: 129.229772, elbo: 100.450303\n",
      "Epoch[53/1000], kl: 23.730370, likelihood: 125.543445, elbo: 96.494703\n",
      "Epoch[54/1000], kl: 23.796658, likelihood: 128.245160, elbo: 105.047366\n",
      "Epoch[55/1000], kl: 23.847637, likelihood: 130.386170, elbo: 102.139633\n",
      "Epoch[56/1000], kl: 23.909861, likelihood: 130.575704, elbo: 107.102928\n",
      "Epoch[57/1000], kl: 23.967444, likelihood: 120.741701, elbo: 104.898118\n",
      "Epoch[58/1000], kl: 24.041719, likelihood: 134.666011, elbo: 105.968582\n",
      "Epoch[59/1000], kl: 24.125527, likelihood: 130.655619, elbo: 94.957599\n",
      "Epoch[60/1000], kl: 24.192684, likelihood: 132.863356, elbo: 108.741659\n",
      "Epoch[61/1000], kl: 24.251276, likelihood: 128.873592, elbo: 106.607855\n",
      "Epoch[62/1000], kl: 24.278102, likelihood: 134.008057, elbo: 108.553505\n",
      "Epoch[63/1000], kl: 24.330358, likelihood: 124.812118, elbo: 103.975034\n",
      "Epoch[64/1000], kl: 24.375119, likelihood: 130.494762, elbo: 109.590419\n",
      "Epoch[65/1000], kl: 24.461095, likelihood: 131.303343, elbo: 107.535809\n",
      "Epoch[66/1000], kl: 24.537292, likelihood: 129.888736, elbo: 105.112685\n",
      "Epoch[67/1000], kl: 24.574070, likelihood: 133.218382, elbo: 109.003137\n",
      "Epoch[68/1000], kl: 24.615573, likelihood: 133.722498, elbo: 108.779209\n",
      "Epoch[69/1000], kl: 24.664783, likelihood: 133.789972, elbo: 106.807469\n",
      "Epoch[70/1000], kl: 24.730180, likelihood: 130.740563, elbo: 108.215065\n",
      "Epoch[71/1000], kl: 24.787871, likelihood: 134.774618, elbo: 108.118631\n",
      "Epoch[72/1000], kl: 24.824945, likelihood: 132.200142, elbo: 104.437097\n",
      "Epoch[73/1000], kl: 24.834917, likelihood: 121.703849, elbo: 107.938243\n",
      "Epoch[74/1000], kl: 24.890771, likelihood: 111.424998, elbo: 92.295419\n",
      "Epoch[75/1000], kl: 24.935483, likelihood: 121.725569, elbo: 104.780500\n",
      "Epoch[76/1000], kl: 24.968770, likelihood: 128.748127, elbo: 105.965067\n",
      "Epoch[77/1000], kl: 25.012263, likelihood: 131.756128, elbo: 105.404264\n",
      "Epoch[78/1000], kl: 25.048721, likelihood: 135.696741, elbo: 110.089742\n",
      "Epoch[79/1000], kl: 25.080139, likelihood: 122.177692, elbo: 99.918919\n",
      "Epoch[80/1000], kl: 25.097910, likelihood: 128.510030, elbo: 105.829091\n",
      "Epoch[81/1000], kl: 25.133627, likelihood: 133.193001, elbo: 100.205217\n",
      "Epoch[82/1000], kl: 25.148075, likelihood: 129.502477, elbo: 103.802544\n",
      "Epoch[83/1000], kl: 25.167781, likelihood: 124.409107, elbo: 105.807615\n",
      "Epoch[84/1000], kl: 25.193876, likelihood: 122.454820, elbo: 82.125110\n",
      "Epoch[85/1000], kl: 25.213649, likelihood: 132.318857, elbo: 105.426623\n",
      "Epoch[86/1000], kl: 25.222113, likelihood: 133.164326, elbo: 107.312358\n",
      "Epoch[87/1000], kl: 25.238903, likelihood: 132.251381, elbo: 108.442932\n",
      "Epoch[88/1000], kl: 25.245418, likelihood: 132.296547, elbo: 107.357149\n",
      "Epoch[89/1000], kl: 25.232144, likelihood: 132.588657, elbo: 102.208651\n",
      "Epoch[90/1000], kl: 25.242176, likelihood: 132.517823, elbo: 106.966709\n",
      "Epoch[91/1000], kl: 25.248579, likelihood: 128.511208, elbo: 107.004080\n",
      "Epoch[92/1000], kl: 25.256339, likelihood: 129.172188, elbo: 108.291475\n",
      "Epoch[93/1000], kl: 25.243974, likelihood: 129.276384, elbo: 104.166389\n",
      "Epoch[94/1000], kl: 25.232003, likelihood: 130.785855, elbo: 108.528432\n",
      "Epoch[95/1000], kl: 25.261190, likelihood: 130.999233, elbo: 90.056881\n",
      "Epoch[96/1000], kl: 25.261646, likelihood: 133.478083, elbo: 108.303003\n",
      "Epoch[97/1000], kl: 25.248020, likelihood: 131.734026, elbo: 106.069979\n",
      "Epoch[98/1000], kl: 25.246955, likelihood: 128.932907, elbo: 108.489459\n",
      "Epoch[99/1000], kl: 25.232990, likelihood: 134.781897, elbo: 109.178425\n",
      "Epoch[100/1000], kl: 25.249857, likelihood: 127.957136, elbo: 100.160818\n",
      "Epoch[101/1000], kl: 25.232951, likelihood: 132.172027, elbo: 107.251943\n",
      "Epoch[102/1000], kl: 25.210179, likelihood: 131.522843, elbo: 106.254907\n",
      "Epoch[103/1000], kl: 25.188088, likelihood: 131.900072, elbo: 106.668313\n",
      "Epoch[104/1000], kl: 25.147965, likelihood: 129.879855, elbo: 105.459747\n",
      "Epoch[105/1000], kl: 25.160035, likelihood: 131.802618, elbo: 109.061757\n",
      "Epoch[106/1000], kl: 25.138821, likelihood: 134.052052, elbo: 106.886837\n",
      "Epoch[107/1000], kl: 25.152549, likelihood: 130.062954, elbo: 108.472519\n",
      "Epoch[108/1000], kl: 25.139551, likelihood: 131.294942, elbo: 105.988074\n",
      "Epoch[109/1000], kl: 25.129626, likelihood: 133.856664, elbo: 108.445944\n",
      "Epoch[110/1000], kl: 25.083486, likelihood: 129.019549, elbo: 103.944282\n",
      "Epoch[111/1000], kl: 25.104985, likelihood: 131.048889, elbo: 100.160879\n",
      "Epoch[112/1000], kl: 25.067310, likelihood: 130.968346, elbo: 106.484165\n",
      "Epoch[113/1000], kl: 25.033006, likelihood: 133.276247, elbo: 107.718852\n",
      "Epoch[114/1000], kl: 25.023861, likelihood: 128.551927, elbo: 104.755626\n",
      "Epoch[115/1000], kl: 25.014061, likelihood: 129.773220, elbo: 104.761226\n"
     ]
    },
    {
     "name": "stdout",
     "output_type": "stream",
     "text": [
      "Epoch[116/1000], kl: 24.978240, likelihood: 129.443494, elbo: 103.321481\n",
      "Epoch[117/1000], kl: 24.975361, likelihood: 130.526336, elbo: 106.018531\n",
      "Epoch[118/1000], kl: 24.929231, likelihood: 132.586344, elbo: 107.671946\n",
      "Epoch[119/1000], kl: 24.867217, likelihood: 132.491754, elbo: 105.240131\n",
      "Epoch[120/1000], kl: 24.816128, likelihood: 127.702097, elbo: 103.428713\n",
      "Epoch[121/1000], kl: 24.771412, likelihood: 133.707510, elbo: 108.778909\n",
      "Epoch[122/1000], kl: 24.738164, likelihood: 133.596253, elbo: 111.957271\n",
      "Epoch[123/1000], kl: 24.688766, likelihood: 127.429061, elbo: 101.880389\n",
      "Epoch[124/1000], kl: 24.616786, likelihood: 123.776417, elbo: 90.273985\n",
      "Epoch[125/1000], kl: 24.587064, likelihood: 128.400686, elbo: 108.905203\n",
      "Epoch[126/1000], kl: 24.541559, likelihood: 132.329394, elbo: 106.652392\n",
      "Epoch[127/1000], kl: 24.494419, likelihood: 131.936937, elbo: 106.075300\n",
      "Epoch[128/1000], kl: 24.478672, likelihood: 128.533333, elbo: 106.010146\n",
      "Epoch[129/1000], kl: 24.406029, likelihood: 131.419722, elbo: 107.874854\n",
      "Epoch[130/1000], kl: 24.372880, likelihood: 133.177286, elbo: 108.698029\n",
      "Epoch[131/1000], kl: 24.314180, likelihood: 133.686185, elbo: 106.662028\n",
      "Epoch[132/1000], kl: 24.261514, likelihood: 133.981149, elbo: 109.595630\n",
      "Epoch[133/1000], kl: 24.227054, likelihood: 132.485522, elbo: 105.188479\n",
      "Epoch[134/1000], kl: 24.172480, likelihood: 130.945248, elbo: 106.636523\n",
      "Epoch[135/1000], kl: 24.116400, likelihood: 131.055094, elbo: 109.658417\n",
      "Epoch[136/1000], kl: 24.075566, likelihood: 130.580267, elbo: 108.976085\n",
      "Epoch[137/1000], kl: 24.022023, likelihood: 121.147896, elbo: 93.392855\n",
      "Epoch[138/1000], kl: 23.967935, likelihood: 133.290307, elbo: 111.021074\n",
      "Epoch[139/1000], kl: 23.909918, likelihood: 135.547666, elbo: 111.412656\n",
      "Epoch[140/1000], kl: 23.845598, likelihood: 133.040521, elbo: 111.277333\n",
      "Epoch[141/1000], kl: 23.794005, likelihood: 131.609075, elbo: 110.738905\n",
      "Epoch[142/1000], kl: 23.796543, likelihood: 129.268539, elbo: 105.299627\n",
      "Epoch[143/1000], kl: 23.754149, likelihood: 130.015061, elbo: 109.278483\n",
      "Epoch[144/1000], kl: 23.678420, likelihood: 125.255177, elbo: 103.155673\n",
      "Epoch[145/1000], kl: 23.627943, likelihood: 132.093161, elbo: 105.765010\n",
      "Epoch[146/1000], kl: 23.573028, likelihood: 134.445290, elbo: 110.952271\n",
      "Epoch[147/1000], kl: 23.508317, likelihood: 130.243949, elbo: 111.301540\n",
      "Epoch[148/1000], kl: 23.487493, likelihood: 133.287025, elbo: 109.892590\n",
      "Epoch[149/1000], kl: 23.428748, likelihood: 133.098528, elbo: 111.413825\n",
      "Epoch[150/1000], kl: 23.416863, likelihood: 131.486909, elbo: 108.200963\n",
      "Epoch[151/1000], kl: 23.438203, likelihood: 131.880488, elbo: 107.599728\n",
      "Epoch[152/1000], kl: 23.443721, likelihood: 124.152586, elbo: 100.171269\n",
      "Epoch[153/1000], kl: 23.422495, likelihood: 131.201522, elbo: 109.571016\n",
      "Epoch[154/1000], kl: 23.393239, likelihood: 128.127783, elbo: 107.313715\n",
      "Epoch[155/1000], kl: 23.347847, likelihood: 131.676057, elbo: 109.196420\n",
      "Epoch[156/1000], kl: 23.286160, likelihood: 133.484554, elbo: 107.847577\n",
      "Epoch[157/1000], kl: 23.242187, likelihood: 131.205126, elbo: 107.766082\n",
      "Epoch[158/1000], kl: 23.243050, likelihood: 128.430477, elbo: 104.677956\n",
      "Epoch[159/1000], kl: 23.205374, likelihood: 135.901290, elbo: 110.559176\n",
      "Epoch[160/1000], kl: 23.135428, likelihood: 126.186284, elbo: 99.400487\n",
      "Epoch[161/1000], kl: 23.088455, likelihood: 132.488639, elbo: 109.619374\n",
      "Epoch[162/1000], kl: 23.018738, likelihood: 132.433237, elbo: 109.651847\n",
      "Epoch[163/1000], kl: 22.931841, likelihood: 131.732500, elbo: 107.185463\n",
      "Epoch[164/1000], kl: 22.979033, likelihood: 131.268542, elbo: 111.420385\n",
      "Epoch[165/1000], kl: 23.018827, likelihood: 126.454260, elbo: 101.908723\n",
      "Epoch[166/1000], kl: 22.999315, likelihood: 130.266554, elbo: 105.177808\n",
      "Epoch[167/1000], kl: 22.929738, likelihood: 126.486183, elbo: 101.785884\n",
      "Epoch[168/1000], kl: 22.902898, likelihood: 129.956519, elbo: 101.869856\n",
      "Epoch[169/1000], kl: 22.892589, likelihood: 133.588488, elbo: 110.886270\n",
      "Epoch[170/1000], kl: 22.862221, likelihood: 133.656367, elbo: 112.023235\n",
      "Epoch[171/1000], kl: 22.893783, likelihood: 129.260428, elbo: 106.823075\n",
      "Epoch[172/1000], kl: 22.877021, likelihood: 131.949236, elbo: 109.639445\n",
      "Epoch[173/1000], kl: 22.851422, likelihood: 134.654718, elbo: 110.502305\n",
      "Epoch[174/1000], kl: 22.830435, likelihood: 118.718055, elbo: 103.808081\n",
      "Epoch[175/1000], kl: 22.778265, likelihood: 133.346626, elbo: 111.538980\n",
      "Epoch[176/1000], kl: 22.739650, likelihood: 130.495869, elbo: 109.953958\n",
      "Epoch[177/1000], kl: 22.701152, likelihood: 131.474093, elbo: 108.782221\n",
      "Epoch[178/1000], kl: 22.702307, likelihood: 132.473677, elbo: 108.949788\n",
      "Epoch[179/1000], kl: 22.680890, likelihood: 133.380400, elbo: 109.347945\n",
      "Epoch[180/1000], kl: 22.638339, likelihood: 133.276867, elbo: 110.288618\n",
      "Epoch[181/1000], kl: 22.591796, likelihood: 131.414988, elbo: 109.593586\n",
      "Epoch[182/1000], kl: 22.585581, likelihood: 130.727317, elbo: 108.488957\n",
      "Epoch[183/1000], kl: 22.603120, likelihood: 131.685565, elbo: 109.821630\n",
      "Epoch[184/1000], kl: 22.568450, likelihood: 131.572282, elbo: 107.000365\n",
      "Epoch[185/1000], kl: 22.577917, likelihood: 133.530954, elbo: 111.569988\n",
      "Epoch[186/1000], kl: 22.564395, likelihood: 130.991935, elbo: 111.319405\n",
      "Epoch[187/1000], kl: 22.500463, likelihood: 134.124347, elbo: 111.505363\n",
      "Epoch[188/1000], kl: 22.496850, likelihood: 131.063822, elbo: 111.054433\n",
      "Epoch[189/1000], kl: 22.481806, likelihood: 127.863282, elbo: 105.721584\n",
      "Epoch[190/1000], kl: 22.464154, likelihood: 130.247305, elbo: 106.151251\n",
      "Epoch[191/1000], kl: 22.459206, likelihood: 131.466116, elbo: 108.481767\n",
      "Epoch[192/1000], kl: 22.483477, likelihood: 135.266187, elbo: 110.236317\n",
      "Epoch[193/1000], kl: 22.465154, likelihood: 135.155031, elbo: 112.666096\n",
      "Epoch[194/1000], kl: 22.437954, likelihood: 131.094725, elbo: 109.753517\n",
      "Epoch[195/1000], kl: 22.432990, likelihood: 134.526073, elbo: 111.258039\n",
      "Epoch[196/1000], kl: 22.413571, likelihood: 132.229746, elbo: 109.144699\n",
      "Epoch[197/1000], kl: 22.400344, likelihood: 132.561808, elbo: 109.966037\n",
      "Epoch[198/1000], kl: 22.339330, likelihood: 119.579198, elbo: 99.748811\n",
      "Epoch[199/1000], kl: 22.366833, likelihood: 130.433816, elbo: 108.379973\n",
      "Epoch[200/1000], kl: 22.336719, likelihood: 124.467573, elbo: 103.606881\n",
      "Epoch[201/1000], kl: 22.316691, likelihood: 133.817021, elbo: 106.207036\n",
      "Epoch[202/1000], kl: 22.291646, likelihood: 130.259310, elbo: 110.029128\n",
      "Epoch[203/1000], kl: 22.262754, likelihood: 132.965648, elbo: 110.465291\n",
      "Epoch[204/1000], kl: 22.252368, likelihood: 123.623150, elbo: 104.219047\n",
      "Epoch[205/1000], kl: 22.245007, likelihood: 132.098893, elbo: 107.898171\n",
      "Epoch[206/1000], kl: 22.232434, likelihood: 134.287560, elbo: 112.265942\n",
      "Epoch[207/1000], kl: 22.205999, likelihood: 133.804397, elbo: 108.276643\n",
      "Epoch[208/1000], kl: 22.218198, likelihood: 132.795211, elbo: 106.955398\n",
      "Epoch[209/1000], kl: 22.180836, likelihood: 130.754253, elbo: 108.427773\n",
      "Epoch[210/1000], kl: 22.136286, likelihood: 132.472378, elbo: 111.853504\n",
      "Epoch[211/1000], kl: 22.128400, likelihood: 133.436690, elbo: 110.410963\n",
      "Epoch[212/1000], kl: 22.136151, likelihood: 131.829334, elbo: 107.757588\n",
      "Epoch[213/1000], kl: 22.100881, likelihood: 124.657810, elbo: 109.734621\n",
      "Epoch[214/1000], kl: 22.077166, likelihood: 134.818043, elbo: 111.906799\n",
      "Epoch[215/1000], kl: 22.082292, likelihood: 134.124200, elbo: 111.398781\n",
      "Epoch[216/1000], kl: 22.061964, likelihood: 133.269145, elbo: 113.783585\n",
      "Epoch[217/1000], kl: 22.063676, likelihood: 125.833470, elbo: 104.825262\n",
      "Epoch[218/1000], kl: 22.048819, likelihood: 135.111984, elbo: 112.279743\n",
      "Epoch[219/1000], kl: 22.073879, likelihood: 129.459566, elbo: 101.793746\n",
      "Epoch[220/1000], kl: 22.040380, likelihood: 133.468509, elbo: 111.242618\n",
      "Epoch[221/1000], kl: 22.003601, likelihood: 136.113513, elbo: 114.117113\n",
      "Epoch[222/1000], kl: 22.009944, likelihood: 135.677585, elbo: 113.408783\n",
      "Epoch[223/1000], kl: 22.018868, likelihood: 129.397039, elbo: 109.739986\n",
      "Epoch[224/1000], kl: 21.974331, likelihood: 134.889140, elbo: 109.791712\n",
      "Epoch[225/1000], kl: 22.027570, likelihood: 130.837758, elbo: 109.771789\n",
      "Epoch[226/1000], kl: 21.987555, likelihood: 133.676526, elbo: 111.510867\n",
      "Epoch[227/1000], kl: 21.966106, likelihood: 135.127061, elbo: 113.158052\n",
      "Epoch[228/1000], kl: 21.927100, likelihood: 129.812104, elbo: 104.820242\n"
     ]
    },
    {
     "name": "stdout",
     "output_type": "stream",
     "text": [
      "Epoch[229/1000], kl: 21.891408, likelihood: 132.229176, elbo: 110.832082\n",
      "Epoch[230/1000], kl: 21.849661, likelihood: 132.281572, elbo: 109.695637\n",
      "Epoch[231/1000], kl: 21.800777, likelihood: 135.953481, elbo: 114.058939\n",
      "Epoch[232/1000], kl: 21.782452, likelihood: 131.242248, elbo: 102.206353\n",
      "Epoch[233/1000], kl: 21.780911, likelihood: 134.799005, elbo: 113.413931\n",
      "Epoch[234/1000], kl: 21.741500, likelihood: 131.913957, elbo: 111.302208\n",
      "Epoch[235/1000], kl: 21.785445, likelihood: 131.042428, elbo: 103.743205\n",
      "Epoch[236/1000], kl: 21.764258, likelihood: 131.554920, elbo: 105.966540\n",
      "Epoch[237/1000], kl: 21.747189, likelihood: 132.044391, elbo: 109.020984\n",
      "Epoch[238/1000], kl: 21.699421, likelihood: 133.313509, elbo: 109.833361\n",
      "Epoch[239/1000], kl: 21.691371, likelihood: 134.938850, elbo: 113.758594\n",
      "Epoch[240/1000], kl: 21.648311, likelihood: 133.119872, elbo: 105.092613\n",
      "Epoch[241/1000], kl: 21.669948, likelihood: 133.218481, elbo: 112.446883\n",
      "Epoch[242/1000], kl: 21.637826, likelihood: 132.711610, elbo: 111.769113\n",
      "Epoch[243/1000], kl: 21.708360, likelihood: 129.457034, elbo: 100.718944\n",
      "Epoch[244/1000], kl: 21.723858, likelihood: 134.271752, elbo: 109.143336\n",
      "Epoch[245/1000], kl: 21.725741, likelihood: 132.158673, elbo: 112.421179\n",
      "Epoch[246/1000], kl: 21.712179, likelihood: 132.804541, elbo: 110.831767\n",
      "Epoch[247/1000], kl: 21.682930, likelihood: 130.835479, elbo: 109.222056\n",
      "Epoch[248/1000], kl: 21.683626, likelihood: 133.662364, elbo: 106.786258\n",
      "Epoch[249/1000], kl: 21.662384, likelihood: 127.141203, elbo: 109.864545\n",
      "Epoch[250/1000], kl: 21.627654, likelihood: 131.566542, elbo: 109.949253\n",
      "Epoch[251/1000], kl: 21.598575, likelihood: 134.292278, elbo: 105.214564\n",
      "Epoch[252/1000], kl: 21.570688, likelihood: 131.400797, elbo: 112.259402\n",
      "Epoch[253/1000], kl: 21.617392, likelihood: 129.063552, elbo: 108.838424\n",
      "Epoch[254/1000], kl: 21.606158, likelihood: 135.586982, elbo: 105.779290\n",
      "Epoch[255/1000], kl: 21.583250, likelihood: 133.868820, elbo: 112.069998\n",
      "Epoch[256/1000], kl: 21.544248, likelihood: 130.688160, elbo: 112.159382\n",
      "Epoch[257/1000], kl: 21.531078, likelihood: 133.856021, elbo: 111.921054\n",
      "Epoch[258/1000], kl: 21.516865, likelihood: 130.665234, elbo: 111.347968\n",
      "Epoch[259/1000], kl: 21.471281, likelihood: 133.614450, elbo: 111.975955\n",
      "Epoch[260/1000], kl: 21.496107, likelihood: 130.630762, elbo: 111.225443\n",
      "Epoch[261/1000], kl: 21.519506, likelihood: 127.154817, elbo: 106.046925\n",
      "Epoch[262/1000], kl: 21.494521, likelihood: 133.478338, elbo: 111.641974\n",
      "Epoch[263/1000], kl: 21.495692, likelihood: 129.746660, elbo: 111.039941\n",
      "Epoch[264/1000], kl: 21.473807, likelihood: 134.459638, elbo: 112.627684\n",
      "Epoch[265/1000], kl: 21.530687, likelihood: 130.968734, elbo: 110.492755\n",
      "Epoch[266/1000], kl: 21.494225, likelihood: 134.756760, elbo: 113.572229\n",
      "Epoch[267/1000], kl: 21.468016, likelihood: 131.860438, elbo: 111.619096\n",
      "Epoch[268/1000], kl: 21.467065, likelihood: 135.043806, elbo: 112.686354\n",
      "Epoch[269/1000], kl: 21.450593, likelihood: 132.552281, elbo: 103.556991\n",
      "Epoch[270/1000], kl: 21.439256, likelihood: 134.088307, elbo: 113.045331\n",
      "Epoch[271/1000], kl: 21.405690, likelihood: 132.820011, elbo: 111.525503\n",
      "Epoch[272/1000], kl: 21.434824, likelihood: 134.272929, elbo: 112.889348\n",
      "Epoch[273/1000], kl: 21.420064, likelihood: 135.397147, elbo: 112.888361\n",
      "Epoch[274/1000], kl: 21.425879, likelihood: 136.619754, elbo: 115.297388\n",
      "Epoch[275/1000], kl: 21.439576, likelihood: 132.621577, elbo: 111.216931\n",
      "Epoch[276/1000], kl: 21.423274, likelihood: 134.693565, elbo: 113.866128\n",
      "Epoch[277/1000], kl: 21.412248, likelihood: 128.505044, elbo: 108.634963\n",
      "Epoch[278/1000], kl: 21.407515, likelihood: 134.119108, elbo: 111.757477\n",
      "Epoch[279/1000], kl: 21.368293, likelihood: 132.234935, elbo: 110.292567\n",
      "Epoch[280/1000], kl: 21.342500, likelihood: 132.475034, elbo: 113.473760\n",
      "Epoch[281/1000], kl: 21.357360, likelihood: 130.565609, elbo: 109.054338\n",
      "Epoch[282/1000], kl: 21.324843, likelihood: 135.457762, elbo: 113.380862\n",
      "Epoch[283/1000], kl: 21.294519, likelihood: 125.750020, elbo: 101.373891\n",
      "Epoch[284/1000], kl: 21.256087, likelihood: 135.593832, elbo: 114.026271\n",
      "Epoch[285/1000], kl: 21.243124, likelihood: 129.598834, elbo: 108.013323\n",
      "Epoch[286/1000], kl: 21.225021, likelihood: 128.855164, elbo: 111.226900\n",
      "Epoch[287/1000], kl: 21.194874, likelihood: 123.029964, elbo: 104.267947\n",
      "Epoch[288/1000], kl: 21.182013, likelihood: 131.953566, elbo: 109.891751\n",
      "Epoch[289/1000], kl: 21.207446, likelihood: 134.505138, elbo: 112.894131\n",
      "Epoch[290/1000], kl: 21.198923, likelihood: 131.353033, elbo: 109.842639\n",
      "Epoch[291/1000], kl: 21.216821, likelihood: 134.609624, elbo: 113.382793\n",
      "Epoch[292/1000], kl: 21.188028, likelihood: 131.577458, elbo: 109.673850\n",
      "Epoch[293/1000], kl: 21.177155, likelihood: 135.071736, elbo: 112.459462\n",
      "Epoch[294/1000], kl: 21.156241, likelihood: 122.422133, elbo: 101.192129\n",
      "Epoch[295/1000], kl: 21.200117, likelihood: 131.663683, elbo: 111.293655\n",
      "Epoch[296/1000], kl: 21.186246, likelihood: 135.712632, elbo: 112.120392\n",
      "Epoch[297/1000], kl: 21.188327, likelihood: 126.640549, elbo: 109.972444\n",
      "Epoch[298/1000], kl: 21.159446, likelihood: 131.451086, elbo: 111.532065\n",
      "Epoch[299/1000], kl: 21.127145, likelihood: 132.874733, elbo: 111.572935\n",
      "Epoch[300/1000], kl: 21.131350, likelihood: 133.439361, elbo: 112.257268\n",
      "Epoch[301/1000], kl: 21.094470, likelihood: 133.712386, elbo: 108.741790\n",
      "Epoch[302/1000], kl: 21.085400, likelihood: 134.192820, elbo: 112.838064\n",
      "Epoch[303/1000], kl: 21.054681, likelihood: 134.700630, elbo: 114.310353\n",
      "Epoch[304/1000], kl: 21.031776, likelihood: 129.525689, elbo: 111.132343\n",
      "Epoch[305/1000], kl: 21.026645, likelihood: 133.903302, elbo: 112.093063\n",
      "Epoch[306/1000], kl: 20.985775, likelihood: 132.233075, elbo: 111.271082\n",
      "Epoch[307/1000], kl: 20.981081, likelihood: 135.345027, elbo: 113.533464\n",
      "Epoch[308/1000], kl: 20.939226, likelihood: 132.572662, elbo: 108.516115\n",
      "Epoch[309/1000], kl: 20.900160, likelihood: 134.776319, elbo: 110.892154\n",
      "Epoch[310/1000], kl: 20.855755, likelihood: 121.030044, elbo: 107.570674\n",
      "Epoch[311/1000], kl: 20.845118, likelihood: 133.551870, elbo: 111.361224\n",
      "Epoch[312/1000], kl: 20.815499, likelihood: 131.242319, elbo: 104.438732\n",
      "Epoch[313/1000], kl: 20.817487, likelihood: 136.606626, elbo: 114.965681\n",
      "Epoch[314/1000], kl: 20.823411, likelihood: 134.437901, elbo: 113.835783\n",
      "Epoch[315/1000], kl: 20.844161, likelihood: 129.037187, elbo: 87.229872\n",
      "Epoch[316/1000], kl: 20.868701, likelihood: 132.205483, elbo: 112.038562\n",
      "Epoch[317/1000], kl: 20.870668, likelihood: 132.722646, elbo: 110.723419\n",
      "Epoch[318/1000], kl: 20.849279, likelihood: 133.510265, elbo: 111.112442\n",
      "Epoch[319/1000], kl: 20.839862, likelihood: 128.991185, elbo: 109.646880\n",
      "Epoch[320/1000], kl: 20.840230, likelihood: 129.936644, elbo: 110.984470\n",
      "Epoch[321/1000], kl: 20.828992, likelihood: 134.288005, elbo: 112.553411\n",
      "Epoch[322/1000], kl: 20.835147, likelihood: 135.926852, elbo: 108.839405\n",
      "Epoch[323/1000], kl: 20.814026, likelihood: 126.960346, elbo: 104.033863\n",
      "Epoch[324/1000], kl: 20.782546, likelihood: 134.942383, elbo: 110.064950\n",
      "Epoch[325/1000], kl: 20.753213, likelihood: 131.705701, elbo: 106.097353\n",
      "Epoch[326/1000], kl: 20.735110, likelihood: 134.486658, elbo: 113.084054\n",
      "Epoch[327/1000], kl: 20.712495, likelihood: 133.484097, elbo: 112.656639\n",
      "Epoch[328/1000], kl: 20.727026, likelihood: 134.241601, elbo: 111.462977\n",
      "Epoch[329/1000], kl: 20.718566, likelihood: 133.771760, elbo: 114.318867\n",
      "Epoch[330/1000], kl: 20.723556, likelihood: 126.826921, elbo: 105.884466\n",
      "Epoch[331/1000], kl: 20.686935, likelihood: 122.559404, elbo: 102.098618\n",
      "Epoch[332/1000], kl: 20.679338, likelihood: 133.886681, elbo: 114.762672\n",
      "Epoch[333/1000], kl: 20.665901, likelihood: 134.641170, elbo: 109.859108\n",
      "Epoch[334/1000], kl: 20.656342, likelihood: 133.095206, elbo: 112.923831\n",
      "Epoch[335/1000], kl: 20.638660, likelihood: 131.792207, elbo: 111.069616\n",
      "Epoch[336/1000], kl: 20.652727, likelihood: 134.190604, elbo: 106.047735\n",
      "Epoch[337/1000], kl: 20.616137, likelihood: 128.347478, elbo: 110.651465\n",
      "Epoch[338/1000], kl: 20.618063, likelihood: 131.018473, elbo: 111.883860\n",
      "Epoch[339/1000], kl: 20.608742, likelihood: 134.648396, elbo: 114.264298\n",
      "Epoch[340/1000], kl: 20.581233, likelihood: 135.111086, elbo: 112.287499\n",
      "Epoch[341/1000], kl: 20.526621, likelihood: 132.487252, elbo: 112.063538\n"
     ]
    },
    {
     "name": "stdout",
     "output_type": "stream",
     "text": [
      "Epoch[342/1000], kl: 20.511207, likelihood: 128.439325, elbo: 109.529974\n",
      "Epoch[343/1000], kl: 20.487890, likelihood: 134.979293, elbo: 115.506903\n",
      "Epoch[344/1000], kl: 20.497244, likelihood: 130.661096, elbo: 113.637471\n",
      "Epoch[345/1000], kl: 20.440264, likelihood: 132.012070, elbo: 114.056340\n",
      "Epoch[346/1000], kl: 20.469508, likelihood: 120.220627, elbo: 106.200569\n",
      "Epoch[347/1000], kl: 20.528929, likelihood: 128.004584, elbo: 111.302309\n",
      "Epoch[348/1000], kl: 20.500818, likelihood: 127.671280, elbo: 96.298847\n",
      "Epoch[349/1000], kl: 20.501123, likelihood: 129.117557, elbo: 112.360123\n",
      "Epoch[350/1000], kl: 20.549376, likelihood: 134.279601, elbo: 113.277781\n",
      "Epoch[351/1000], kl: 20.514743, likelihood: 131.744817, elbo: 111.969643\n",
      "Epoch[352/1000], kl: 20.516055, likelihood: 133.458774, elbo: 111.994044\n",
      "Epoch[353/1000], kl: 20.523500, likelihood: 133.488510, elbo: 109.925469\n",
      "Epoch[354/1000], kl: 20.509075, likelihood: 122.484457, elbo: 93.010119\n",
      "Epoch[355/1000], kl: 20.492498, likelihood: 126.972677, elbo: 97.168663\n",
      "Epoch[356/1000], kl: 20.522893, likelihood: 134.137932, elbo: 113.676016\n",
      "Epoch[357/1000], kl: 20.487364, likelihood: 133.538120, elbo: 110.283789\n",
      "Epoch[358/1000], kl: 20.504474, likelihood: 133.240446, elbo: 115.553229\n",
      "Epoch[359/1000], kl: 20.488011, likelihood: 132.675746, elbo: 111.446441\n",
      "Epoch[360/1000], kl: 20.497952, likelihood: 130.772098, elbo: 115.671547\n",
      "Epoch[361/1000], kl: 20.498641, likelihood: 132.055735, elbo: 109.044806\n",
      "Epoch[362/1000], kl: 20.558034, likelihood: 123.576657, elbo: 108.774055\n",
      "Epoch[363/1000], kl: 20.548861, likelihood: 130.348788, elbo: 107.464360\n",
      "Epoch[364/1000], kl: 20.539544, likelihood: 135.277129, elbo: 110.102950\n",
      "Epoch[365/1000], kl: 20.513797, likelihood: 130.513393, elbo: 111.286161\n",
      "Epoch[366/1000], kl: 20.490707, likelihood: 133.547095, elbo: 100.918027\n",
      "Epoch[367/1000], kl: 20.460407, likelihood: 134.772592, elbo: 114.104428\n",
      "Epoch[368/1000], kl: 20.467381, likelihood: 131.517835, elbo: 113.689142\n",
      "Epoch[369/1000], kl: 20.445289, likelihood: 121.226535, elbo: 108.283969\n",
      "Epoch[370/1000], kl: 20.400928, likelihood: 132.686661, elbo: 92.688929\n",
      "Epoch[371/1000], kl: 20.416511, likelihood: 130.447445, elbo: 108.846450\n",
      "Epoch[372/1000], kl: 20.388666, likelihood: 128.632738, elbo: 109.549143\n",
      "Epoch[373/1000], kl: 20.407271, likelihood: 133.105830, elbo: 112.670416\n",
      "Epoch[374/1000], kl: 20.392873, likelihood: 130.185075, elbo: 112.037298\n",
      "Epoch[375/1000], kl: 20.481160, likelihood: 127.999607, elbo: 109.909860\n",
      "Epoch[376/1000], kl: 20.453471, likelihood: 134.357512, elbo: 112.185349\n",
      "Epoch[377/1000], kl: 20.434980, likelihood: 133.418462, elbo: 106.126638\n",
      "Epoch[378/1000], kl: 20.411453, likelihood: 133.420014, elbo: 101.109638\n",
      "Epoch[379/1000], kl: 20.391561, likelihood: 126.100413, elbo: 110.511618\n",
      "Epoch[380/1000], kl: 20.345598, likelihood: 133.547821, elbo: 111.823082\n",
      "Epoch[381/1000], kl: 20.350341, likelihood: 130.898797, elbo: 112.007902\n",
      "Epoch[382/1000], kl: 20.302890, likelihood: 130.936809, elbo: 109.628238\n",
      "Epoch[383/1000], kl: 20.263594, likelihood: 133.851066, elbo: 115.126013\n",
      "Epoch[384/1000], kl: 20.239444, likelihood: 127.938448, elbo: 114.827012\n",
      "Epoch[385/1000], kl: 20.223029, likelihood: 134.526126, elbo: 114.475234\n",
      "Epoch[386/1000], kl: 20.193141, likelihood: 125.980461, elbo: 102.852335\n",
      "Epoch[387/1000], kl: 20.156361, likelihood: 132.898546, elbo: 112.422979\n",
      "Epoch[388/1000], kl: 20.154815, likelihood: 134.862264, elbo: 113.570810\n",
      "Epoch[389/1000], kl: 20.195787, likelihood: 130.996897, elbo: 114.369625\n",
      "Epoch[390/1000], kl: 20.192248, likelihood: 133.601097, elbo: 113.602668\n",
      "Epoch[391/1000], kl: 20.181617, likelihood: 132.181975, elbo: 110.800186\n",
      "Epoch[392/1000], kl: 20.228788, likelihood: 130.182213, elbo: 110.784653\n",
      "Epoch[393/1000], kl: 20.220099, likelihood: 126.801802, elbo: 112.164398\n",
      "Epoch[394/1000], kl: 20.203523, likelihood: 131.445090, elbo: 112.189154\n",
      "Epoch[395/1000], kl: 20.207682, likelihood: 135.573769, elbo: 110.052338\n",
      "Epoch[396/1000], kl: 20.188231, likelihood: 132.383990, elbo: 111.074156\n",
      "Epoch[397/1000], kl: 20.156094, likelihood: 131.352415, elbo: 109.051391\n",
      "Epoch[398/1000], kl: 20.177556, likelihood: 132.490499, elbo: 115.199111\n",
      "Epoch[399/1000], kl: 20.187547, likelihood: 131.646681, elbo: 110.714375\n",
      "Epoch[400/1000], kl: 20.191548, likelihood: 130.493308, elbo: 115.649953\n",
      "Epoch[401/1000], kl: 20.159635, likelihood: 135.743231, elbo: 98.975344\n",
      "Epoch[402/1000], kl: 20.154313, likelihood: 127.598364, elbo: 115.070075\n",
      "Epoch[403/1000], kl: 20.140227, likelihood: 133.692791, elbo: 114.487813\n",
      "Epoch[404/1000], kl: 20.144282, likelihood: 132.635104, elbo: 112.854467\n",
      "Epoch[405/1000], kl: 20.111738, likelihood: 131.371944, elbo: 110.369961\n",
      "Epoch[406/1000], kl: 20.115003, likelihood: 128.539796, elbo: 111.987127\n",
      "Epoch[407/1000], kl: 20.094799, likelihood: 118.206301, elbo: 114.101543\n",
      "Epoch[408/1000], kl: 20.072960, likelihood: 134.782302, elbo: 107.915671\n",
      "Epoch[409/1000], kl: 20.128501, likelihood: 133.856249, elbo: 109.273707\n",
      "Epoch[410/1000], kl: 20.115935, likelihood: 131.365887, elbo: 112.324758\n",
      "Epoch[411/1000], kl: 20.096406, likelihood: 125.300618, elbo: 111.737611\n",
      "Epoch[412/1000], kl: 20.074552, likelihood: 132.454756, elbo: 112.986238\n",
      "Epoch[413/1000], kl: 20.070205, likelihood: 125.778052, elbo: 112.011882\n",
      "Epoch[414/1000], kl: 20.072015, likelihood: 131.108918, elbo: 110.080496\n",
      "Epoch[415/1000], kl: 20.030498, likelihood: 125.686311, elbo: 114.936659\n",
      "Epoch[416/1000], kl: 19.986023, likelihood: 133.859658, elbo: 109.125462\n",
      "Epoch[417/1000], kl: 19.956364, likelihood: 131.336275, elbo: 111.325120\n",
      "Epoch[418/1000], kl: 19.932417, likelihood: 136.189271, elbo: 116.978349\n",
      "Epoch[419/1000], kl: 19.916209, likelihood: 135.251104, elbo: 112.408541\n",
      "Epoch[420/1000], kl: 19.910100, likelihood: 117.903538, elbo: 109.577507\n",
      "Epoch[421/1000], kl: 19.884659, likelihood: 131.450657, elbo: 109.529280\n",
      "Epoch[422/1000], kl: 19.858481, likelihood: 131.320807, elbo: 112.575952\n",
      "Epoch[423/1000], kl: 19.874046, likelihood: 133.149024, elbo: 114.667235\n",
      "Epoch[424/1000], kl: 19.872626, likelihood: 126.484332, elbo: 110.885938\n",
      "Epoch[425/1000], kl: 19.853661, likelihood: 125.193698, elbo: 113.941242\n",
      "Epoch[426/1000], kl: 19.889702, likelihood: 132.838324, elbo: 110.912797\n",
      "Epoch[427/1000], kl: 19.884541, likelihood: 131.485126, elbo: 111.590385\n",
      "Epoch[428/1000], kl: 19.880306, likelihood: 131.766426, elbo: 111.482943\n",
      "Epoch[429/1000], kl: 19.863440, likelihood: 121.044751, elbo: 112.308524\n",
      "Epoch[430/1000], kl: 19.843796, likelihood: 129.525359, elbo: 111.027539\n",
      "Epoch[431/1000], kl: 19.833463, likelihood: 136.755313, elbo: 114.432195\n",
      "Epoch[432/1000], kl: 19.822696, likelihood: 133.554916, elbo: 113.392018\n",
      "Epoch[433/1000], kl: 19.852013, likelihood: 130.739930, elbo: 111.700613\n",
      "Epoch[434/1000], kl: 19.830398, likelihood: 132.959124, elbo: 114.441747\n",
      "Epoch[435/1000], kl: 19.922099, likelihood: 130.765939, elbo: 116.805491\n",
      "Epoch[436/1000], kl: 19.924176, likelihood: 127.061009, elbo: 99.426118\n",
      "Epoch[437/1000], kl: 19.896776, likelihood: 135.453279, elbo: 115.405006\n",
      "Epoch[438/1000], kl: 19.873696, likelihood: 134.168096, elbo: 112.108718\n",
      "Epoch[439/1000], kl: 19.857293, likelihood: 134.411806, elbo: 114.097800\n",
      "Epoch[440/1000], kl: 19.863179, likelihood: 122.773309, elbo: 110.479944\n",
      "Epoch[441/1000], kl: 19.845536, likelihood: 129.869684, elbo: 111.194543\n",
      "Epoch[442/1000], kl: 19.851336, likelihood: 133.777920, elbo: 112.892672\n",
      "Epoch[443/1000], kl: 19.841386, likelihood: 133.930012, elbo: 114.082982\n",
      "Epoch[444/1000], kl: 19.823939, likelihood: 130.449320, elbo: 111.815334\n",
      "Epoch[445/1000], kl: 19.798438, likelihood: 132.364732, elbo: 113.233571\n",
      "Epoch[446/1000], kl: 19.762050, likelihood: 129.240147, elbo: 110.367057\n",
      "Epoch[447/1000], kl: 19.793186, likelihood: 132.618872, elbo: 113.550234\n",
      "Epoch[448/1000], kl: 19.760286, likelihood: 124.177396, elbo: 110.194738\n",
      "Epoch[449/1000], kl: 19.781904, likelihood: 128.002884, elbo: 108.245845\n",
      "Epoch[450/1000], kl: 19.769907, likelihood: 120.130498, elbo: 110.899030\n",
      "Epoch[451/1000], kl: 19.787683, likelihood: 134.609212, elbo: 115.349595\n",
      "Epoch[452/1000], kl: 19.762037, likelihood: 120.801350, elbo: 104.359563\n",
      "Epoch[453/1000], kl: 19.823491, likelihood: 131.595725, elbo: 106.663170\n",
      "Epoch[454/1000], kl: 19.839286, likelihood: 133.002029, elbo: 113.287955\n"
     ]
    },
    {
     "name": "stdout",
     "output_type": "stream",
     "text": [
      "Epoch[455/1000], kl: 19.841002, likelihood: 132.016083, elbo: 112.269485\n",
      "Epoch[456/1000], kl: 19.821839, likelihood: 134.446155, elbo: 105.691584\n",
      "Epoch[457/1000], kl: 19.795166, likelihood: 129.350677, elbo: 112.814883\n",
      "Epoch[458/1000], kl: 19.795433, likelihood: 132.021075, elbo: 110.568019\n",
      "Epoch[459/1000], kl: 19.783160, likelihood: 137.000009, elbo: 117.116425\n",
      "Epoch[460/1000], kl: 19.750127, likelihood: 133.120187, elbo: 109.749694\n",
      "Epoch[461/1000], kl: 19.716295, likelihood: 128.648470, elbo: 89.690592\n",
      "Epoch[462/1000], kl: 19.693943, likelihood: 127.254128, elbo: 111.162554\n",
      "Epoch[463/1000], kl: 19.654621, likelihood: 130.181505, elbo: 112.894413\n",
      "Epoch[464/1000], kl: 19.641512, likelihood: 132.290503, elbo: 112.739345\n",
      "Epoch[465/1000], kl: 19.667444, likelihood: 133.217057, elbo: 114.046211\n",
      "Epoch[466/1000], kl: 19.658844, likelihood: 134.736783, elbo: 111.162654\n",
      "Epoch[467/1000], kl: 19.633509, likelihood: 132.716798, elbo: 115.380159\n",
      "Epoch[468/1000], kl: 19.667140, likelihood: 127.198565, elbo: 107.511879\n",
      "Epoch[469/1000], kl: 19.651564, likelihood: 133.300132, elbo: 111.905539\n",
      "Epoch[470/1000], kl: 19.645251, likelihood: 132.241199, elbo: 112.358227\n",
      "Epoch[471/1000], kl: 19.645013, likelihood: 128.908487, elbo: 113.116817\n",
      "Epoch[472/1000], kl: 19.642728, likelihood: 128.369031, elbo: 114.357115\n",
      "Epoch[473/1000], kl: 19.652511, likelihood: 136.675255, elbo: 106.541677\n",
      "Epoch[474/1000], kl: 19.645136, likelihood: 134.720947, elbo: 112.814374\n",
      "Epoch[475/1000], kl: 19.636686, likelihood: 129.522438, elbo: 104.943779\n",
      "Epoch[476/1000], kl: 19.607951, likelihood: 133.375286, elbo: 113.340055\n",
      "Epoch[477/1000], kl: 19.565471, likelihood: 135.354766, elbo: 115.185509\n",
      "Epoch[478/1000], kl: 19.520854, likelihood: 129.039648, elbo: 110.819264\n",
      "Epoch[479/1000], kl: 19.558696, likelihood: 133.142768, elbo: 113.559776\n",
      "Epoch[480/1000], kl: 19.548924, likelihood: 135.415438, elbo: 114.872392\n",
      "Epoch[481/1000], kl: 19.517188, likelihood: 131.172285, elbo: 112.673785\n",
      "Epoch[482/1000], kl: 19.506502, likelihood: 133.869426, elbo: 116.189653\n",
      "Epoch[483/1000], kl: 19.464368, likelihood: 134.875623, elbo: 108.376754\n",
      "Epoch[484/1000], kl: 19.418563, likelihood: 133.358148, elbo: 112.527800\n",
      "Epoch[485/1000], kl: 19.421001, likelihood: 133.134610, elbo: 109.961012\n",
      "Epoch[486/1000], kl: 19.407670, likelihood: 132.880322, elbo: 113.192300\n",
      "Epoch[487/1000], kl: 19.368437, likelihood: 129.638176, elbo: 117.077144\n",
      "Epoch[488/1000], kl: 19.352912, likelihood: 129.501477, elbo: 104.602623\n",
      "Epoch[489/1000], kl: 19.330433, likelihood: 131.796973, elbo: 113.560496\n",
      "Epoch[490/1000], kl: 19.344454, likelihood: 134.942211, elbo: 113.206691\n",
      "Epoch[491/1000], kl: 19.400690, likelihood: 128.838544, elbo: 116.550076\n",
      "Epoch[492/1000], kl: 19.377597, likelihood: 117.911065, elbo: 111.945181\n",
      "Epoch[493/1000], kl: 19.352338, likelihood: 133.308664, elbo: 107.660778\n",
      "Epoch[494/1000], kl: 19.341397, likelihood: 135.358211, elbo: 109.186587\n",
      "Epoch[495/1000], kl: 19.396914, likelihood: 126.082329, elbo: 94.679286\n",
      "Epoch[496/1000], kl: 19.383391, likelihood: 118.277913, elbo: 104.561411\n",
      "Epoch[497/1000], kl: 19.335485, likelihood: 124.088774, elbo: 114.341751\n",
      "Epoch[498/1000], kl: 19.314304, likelihood: 127.443354, elbo: 113.222920\n",
      "Epoch[499/1000], kl: 19.291298, likelihood: 125.050109, elbo: 110.551040\n",
      "Epoch[500/1000], kl: 19.296704, likelihood: 127.786909, elbo: 113.967167\n",
      "Epoch[501/1000], kl: 19.299712, likelihood: 132.946083, elbo: 114.902441\n",
      "Epoch[502/1000], kl: 19.294713, likelihood: 130.569562, elbo: 110.994254\n",
      "Epoch[503/1000], kl: 19.312058, likelihood: 130.252018, elbo: 107.742454\n",
      "Epoch[504/1000], kl: 19.310781, likelihood: 133.108694, elbo: 114.517606\n",
      "Epoch[505/1000], kl: 19.292582, likelihood: 134.509319, elbo: 99.846216\n",
      "Epoch[506/1000], kl: 19.371605, likelihood: 136.158810, elbo: 114.176635\n",
      "Epoch[507/1000], kl: 19.346097, likelihood: 130.309795, elbo: 111.852519\n",
      "Epoch[508/1000], kl: 19.355106, likelihood: 130.441406, elbo: 113.981750\n",
      "Epoch[509/1000], kl: 19.356169, likelihood: 117.272895, elbo: 101.790705\n",
      "Epoch[510/1000], kl: 19.328722, likelihood: 132.059763, elbo: 111.680142\n",
      "Epoch[511/1000], kl: 19.316606, likelihood: 128.029804, elbo: 107.350805\n",
      "Epoch[512/1000], kl: 19.336172, likelihood: 130.591018, elbo: 110.491866\n",
      "Epoch[513/1000], kl: 19.327076, likelihood: 132.447584, elbo: 111.401920\n",
      "Epoch[514/1000], kl: 19.312829, likelihood: 131.727533, elbo: 113.886866\n",
      "Epoch[515/1000], kl: 19.320829, likelihood: 135.038846, elbo: 112.214432\n",
      "Epoch[516/1000], kl: 19.298636, likelihood: 129.202457, elbo: 100.499564\n",
      "Epoch[517/1000], kl: 19.279981, likelihood: 126.058342, elbo: 100.269354\n",
      "Epoch[518/1000], kl: 19.259772, likelihood: 132.027291, elbo: 112.705551\n",
      "Epoch[519/1000], kl: 19.246834, likelihood: 130.677775, elbo: 109.566815\n",
      "Epoch[520/1000], kl: 19.244422, likelihood: 130.681441, elbo: 111.053777\n",
      "Epoch[521/1000], kl: 19.318476, likelihood: 131.990666, elbo: 109.495979\n",
      "Epoch[522/1000], kl: 19.300061, likelihood: 128.945845, elbo: 110.125701\n",
      "Epoch[523/1000], kl: 19.299489, likelihood: 133.478704, elbo: 115.305737\n",
      "Epoch[524/1000], kl: 19.268294, likelihood: 136.199281, elbo: 116.922524\n",
      "Epoch[525/1000], kl: 19.262813, likelihood: 112.617697, elbo: 110.611619\n",
      "Epoch[526/1000], kl: 19.220334, likelihood: 129.171942, elbo: 114.160551\n",
      "Epoch[527/1000], kl: 19.195650, likelihood: 134.673944, elbo: 115.409231\n",
      "Epoch[528/1000], kl: 19.158980, likelihood: 130.977710, elbo: 107.620189\n",
      "Epoch[529/1000], kl: 19.128594, likelihood: 130.050159, elbo: 107.819819\n",
      "Epoch[530/1000], kl: 19.102215, likelihood: 133.001610, elbo: 115.534609\n",
      "Epoch[531/1000], kl: 19.117830, likelihood: 133.333348, elbo: 108.859548\n",
      "Epoch[532/1000], kl: 19.096561, likelihood: 133.140299, elbo: 111.976994\n",
      "Epoch[533/1000], kl: 19.092928, likelihood: 130.846566, elbo: 106.364593\n",
      "Epoch[534/1000], kl: 19.069531, likelihood: 134.072899, elbo: 113.565880\n",
      "Epoch[535/1000], kl: 19.046522, likelihood: 132.338098, elbo: 104.872722\n",
      "Epoch[536/1000], kl: 19.092149, likelihood: 118.171514, elbo: 113.988412\n",
      "Epoch[537/1000], kl: 19.095131, likelihood: 134.256843, elbo: 114.890154\n",
      "Epoch[538/1000], kl: 19.099452, likelihood: 132.284375, elbo: 114.480214\n",
      "Epoch[539/1000], kl: 19.082056, likelihood: 129.033911, elbo: 112.442847\n",
      "Epoch[540/1000], kl: 19.083531, likelihood: 133.547245, elbo: 113.756225\n",
      "Epoch[541/1000], kl: 19.066732, likelihood: 132.199200, elbo: 113.487320\n",
      "Epoch[542/1000], kl: 19.031283, likelihood: 132.930967, elbo: 113.222863\n",
      "Epoch[543/1000], kl: 19.001827, likelihood: 127.484719, elbo: 110.719321\n",
      "Epoch[544/1000], kl: 18.973768, likelihood: 130.363753, elbo: 108.107093\n",
      "Epoch[545/1000], kl: 18.959144, likelihood: 129.996519, elbo: 107.448754\n",
      "Epoch[546/1000], kl: 18.945957, likelihood: 128.038761, elbo: 107.605860\n",
      "Epoch[547/1000], kl: 18.961216, likelihood: 128.792264, elbo: 112.971662\n",
      "Epoch[548/1000], kl: 18.979552, likelihood: 129.953536, elbo: 114.345657\n",
      "Epoch[549/1000], kl: 18.975394, likelihood: 126.856964, elbo: 102.342621\n",
      "Epoch[550/1000], kl: 18.944705, likelihood: 136.076290, elbo: 115.600216\n",
      "Epoch[551/1000], kl: 18.926616, likelihood: 119.897091, elbo: 109.652791\n",
      "Epoch[552/1000], kl: 18.950073, likelihood: 128.114478, elbo: 100.845931\n",
      "Epoch[553/1000], kl: 18.914341, likelihood: 135.474976, elbo: 116.745108\n",
      "Epoch[554/1000], kl: 18.930975, likelihood: 133.520231, elbo: 112.502947\n",
      "Epoch[555/1000], kl: 18.903218, likelihood: 129.410018, elbo: 114.482452\n",
      "Epoch[556/1000], kl: 18.892330, likelihood: 126.145115, elbo: 113.435550\n",
      "Epoch[557/1000], kl: 18.885657, likelihood: 126.993860, elbo: 111.490348\n",
      "Epoch[558/1000], kl: 18.888853, likelihood: 123.724737, elbo: 114.156602\n",
      "Epoch[559/1000], kl: 18.986143, likelihood: 134.656907, elbo: 115.456274\n",
      "Epoch[560/1000], kl: 18.953644, likelihood: 134.386357, elbo: 114.770246\n",
      "Epoch[561/1000], kl: 18.936160, likelihood: 134.917459, elbo: 117.491636\n",
      "Epoch[562/1000], kl: 18.913752, likelihood: 130.972051, elbo: 110.795248\n",
      "Epoch[563/1000], kl: 18.936934, likelihood: 133.649473, elbo: 116.183755\n",
      "Epoch[564/1000], kl: 18.910926, likelihood: 132.454354, elbo: 111.781185\n",
      "Epoch[565/1000], kl: 18.883889, likelihood: 135.410990, elbo: 116.631801\n",
      "Epoch[566/1000], kl: 18.866511, likelihood: 125.724521, elbo: 105.228061\n",
      "Epoch[567/1000], kl: 18.851675, likelihood: 126.882878, elbo: 114.710663\n"
     ]
    },
    {
     "name": "stdout",
     "output_type": "stream",
     "text": [
      "Epoch[568/1000], kl: 18.817945, likelihood: 134.242260, elbo: 115.306780\n",
      "Epoch[569/1000], kl: 18.908585, likelihood: 134.812002, elbo: 115.888381\n",
      "Epoch[570/1000], kl: 18.891495, likelihood: 134.401199, elbo: 110.421221\n",
      "Epoch[571/1000], kl: 18.858841, likelihood: 131.429937, elbo: 111.226882\n",
      "Epoch[572/1000], kl: 18.840344, likelihood: 128.894842, elbo: 110.715073\n",
      "Epoch[573/1000], kl: 18.853002, likelihood: 133.665578, elbo: 114.336386\n",
      "Epoch[574/1000], kl: 18.877627, likelihood: 124.749201, elbo: 108.780535\n",
      "Epoch[575/1000], kl: 18.843257, likelihood: 133.849618, elbo: 111.128143\n",
      "Epoch[576/1000], kl: 18.844581, likelihood: 130.122792, elbo: 108.942706\n",
      "Epoch[577/1000], kl: 18.816651, likelihood: 127.754654, elbo: 114.327562\n",
      "Epoch[578/1000], kl: 18.786084, likelihood: 131.790289, elbo: 112.327740\n",
      "Epoch[579/1000], kl: 18.800245, likelihood: 129.378445, elbo: 112.080253\n",
      "Epoch[580/1000], kl: 18.785547, likelihood: 124.307299, elbo: 117.020757\n",
      "Epoch[581/1000], kl: 18.778792, likelihood: 128.947030, elbo: 109.656346\n",
      "Epoch[582/1000], kl: 18.773469, likelihood: 130.033136, elbo: 116.232791\n",
      "Epoch[583/1000], kl: 18.808991, likelihood: 129.368472, elbo: 115.492533\n",
      "Epoch[584/1000], kl: 18.796588, likelihood: 135.210840, elbo: 114.663393\n",
      "Epoch[585/1000], kl: 18.771785, likelihood: 130.875812, elbo: 110.916763\n",
      "Epoch[586/1000], kl: 18.788811, likelihood: 128.830482, elbo: 113.053223\n",
      "Epoch[587/1000], kl: 18.774674, likelihood: 132.327661, elbo: 106.670041\n",
      "Epoch[588/1000], kl: 18.823418, likelihood: 135.371937, elbo: 114.061707\n",
      "Epoch[589/1000], kl: 18.797427, likelihood: 132.428466, elbo: 114.716455\n",
      "Epoch[590/1000], kl: 18.762354, likelihood: 132.847999, elbo: 113.590371\n",
      "Epoch[591/1000], kl: 18.747780, likelihood: 133.907442, elbo: 115.319249\n",
      "Epoch[592/1000], kl: 18.739354, likelihood: 125.814944, elbo: 106.154105\n",
      "Epoch[593/1000], kl: 18.731897, likelihood: 132.795216, elbo: 117.105744\n",
      "Epoch[594/1000], kl: 18.705116, likelihood: 133.589067, elbo: 110.772129\n",
      "Epoch[595/1000], kl: 18.666553, likelihood: 134.593748, elbo: 116.019281\n",
      "Epoch[596/1000], kl: 18.717297, likelihood: 131.099282, elbo: 111.212470\n",
      "Epoch[597/1000], kl: 18.801000, likelihood: 133.524793, elbo: 115.478716\n",
      "Epoch[598/1000], kl: 18.801747, likelihood: 135.632292, elbo: 115.904167\n",
      "Epoch[599/1000], kl: 18.806324, likelihood: 127.465116, elbo: 110.751939\n",
      "Epoch[600/1000], kl: 18.781012, likelihood: 133.783283, elbo: 112.343352\n",
      "Epoch[601/1000], kl: 18.774953, likelihood: 135.962868, elbo: 114.879223\n",
      "Epoch[602/1000], kl: 18.747314, likelihood: 131.671611, elbo: 115.073828\n",
      "Epoch[603/1000], kl: 18.825511, likelihood: 135.551068, elbo: 117.626539\n",
      "Epoch[604/1000], kl: 18.835406, likelihood: 134.832587, elbo: 112.665059\n",
      "Epoch[605/1000], kl: 18.818451, likelihood: 128.651762, elbo: 102.106789\n",
      "Epoch[606/1000], kl: 18.811552, likelihood: 127.127307, elbo: 108.561206\n",
      "Epoch[607/1000], kl: 18.834761, likelihood: 132.664234, elbo: 112.121033\n",
      "Epoch[608/1000], kl: 18.826663, likelihood: 135.857203, elbo: 116.487397\n",
      "Epoch[609/1000], kl: 18.794000, likelihood: 130.910865, elbo: 107.715702\n",
      "Epoch[610/1000], kl: 18.797375, likelihood: 134.613178, elbo: 115.713861\n",
      "Epoch[611/1000], kl: 18.799897, likelihood: 107.422316, elbo: 100.125644\n",
      "Epoch[612/1000], kl: 18.777977, likelihood: 135.645828, elbo: 115.726080\n",
      "Epoch[613/1000], kl: 18.753466, likelihood: 130.433331, elbo: 111.697781\n",
      "Epoch[614/1000], kl: 18.718597, likelihood: 131.899420, elbo: 113.615796\n",
      "Epoch[615/1000], kl: 18.678969, likelihood: 127.015540, elbo: 111.423615\n",
      "Epoch[616/1000], kl: 18.626052, likelihood: 134.049664, elbo: 116.216919\n",
      "Epoch[617/1000], kl: 18.591615, likelihood: 132.078997, elbo: 113.432821\n",
      "Epoch[618/1000], kl: 18.584593, likelihood: 130.618048, elbo: 111.514779\n",
      "Epoch[619/1000], kl: 18.638038, likelihood: 133.270294, elbo: 109.812517\n",
      "Epoch[620/1000], kl: 18.641165, likelihood: 126.556813, elbo: 116.527558\n",
      "Epoch[621/1000], kl: 18.659505, likelihood: 124.927350, elbo: 104.641895\n",
      "Epoch[622/1000], kl: 18.679947, likelihood: 123.514360, elbo: 111.536502\n",
      "Epoch[623/1000], kl: 18.677149, likelihood: 130.109811, elbo: 110.782821\n",
      "Epoch[624/1000], kl: 18.667285, likelihood: 131.473480, elbo: 115.160543\n",
      "Epoch[625/1000], kl: 18.719029, likelihood: 131.523253, elbo: 114.436630\n",
      "Epoch[626/1000], kl: 18.715689, likelihood: 134.727642, elbo: 116.088431\n",
      "Epoch[627/1000], kl: 18.714513, likelihood: 128.064029, elbo: 114.427460\n",
      "Epoch[628/1000], kl: 18.711088, likelihood: 130.146478, elbo: 114.998248\n",
      "Epoch[629/1000], kl: 18.684866, likelihood: 116.804590, elbo: 110.758974\n",
      "Epoch[630/1000], kl: 18.695437, likelihood: 129.925081, elbo: 109.254985\n",
      "Epoch[631/1000], kl: 18.767424, likelihood: 131.486223, elbo: 111.156574\n",
      "Epoch[632/1000], kl: 18.776008, likelihood: 127.816335, elbo: 96.718039\n",
      "Epoch[633/1000], kl: 18.759511, likelihood: 133.486377, elbo: 114.808907\n",
      "Epoch[634/1000], kl: 18.736828, likelihood: 132.844457, elbo: 116.389794\n",
      "Epoch[635/1000], kl: 18.734668, likelihood: 125.053173, elbo: 112.982153\n",
      "Epoch[636/1000], kl: 18.715343, likelihood: 126.720196, elbo: 103.856212\n",
      "Epoch[637/1000], kl: 18.707371, likelihood: 109.423226, elbo: 104.522999\n",
      "Epoch[638/1000], kl: 18.700820, likelihood: 124.974388, elbo: 114.246114\n",
      "Epoch[639/1000], kl: 18.695980, likelihood: 130.623932, elbo: 111.181240\n",
      "Epoch[640/1000], kl: 18.678110, likelihood: 127.861082, elbo: 103.620261\n",
      "Epoch[641/1000], kl: 18.678568, likelihood: 129.163078, elbo: 113.271602\n",
      "Epoch[642/1000], kl: 18.708683, likelihood: 129.157904, elbo: 110.795270\n",
      "Epoch[643/1000], kl: 18.812329, likelihood: 124.875482, elbo: 93.755238\n",
      "Epoch[644/1000], kl: 18.810786, likelihood: 123.337596, elbo: 94.084923\n",
      "Epoch[645/1000], kl: 18.780719, likelihood: 126.936244, elbo: 114.379221\n",
      "Epoch[646/1000], kl: 18.794910, likelihood: 135.034361, elbo: 114.935186\n",
      "Epoch[647/1000], kl: 18.791196, likelihood: 133.927916, elbo: 114.802248\n",
      "Epoch[648/1000], kl: 18.790938, likelihood: 134.548881, elbo: 94.331421\n",
      "Epoch[649/1000], kl: 18.782282, likelihood: 132.576866, elbo: 112.148080\n",
      "Epoch[650/1000], kl: 18.793066, likelihood: 134.164886, elbo: 115.199203\n",
      "Epoch[651/1000], kl: 18.800662, likelihood: 135.184210, elbo: 116.639307\n",
      "Epoch[652/1000], kl: 18.808565, likelihood: 124.162463, elbo: 109.398697\n",
      "Epoch[653/1000], kl: 18.816038, likelihood: 134.125792, elbo: 114.056229\n",
      "Epoch[654/1000], kl: 18.806125, likelihood: 132.257957, elbo: 99.158509\n",
      "Epoch[655/1000], kl: 18.783433, likelihood: 129.457318, elbo: 111.055718\n",
      "Epoch[656/1000], kl: 18.780678, likelihood: 131.881014, elbo: 112.098168\n",
      "Epoch[657/1000], kl: 18.783886, likelihood: 126.586392, elbo: 114.469538\n",
      "Epoch[658/1000], kl: 18.777353, likelihood: 130.079574, elbo: 105.350367\n",
      "Epoch[659/1000], kl: 18.773946, likelihood: 132.139284, elbo: 112.182814\n",
      "Epoch[660/1000], kl: 18.738807, likelihood: 132.219156, elbo: 113.240097\n",
      "Epoch[661/1000], kl: 18.751819, likelihood: 134.310878, elbo: 116.110762\n",
      "Epoch[662/1000], kl: 18.740052, likelihood: 133.804215, elbo: 111.260714\n",
      "Epoch[663/1000], kl: 18.750298, likelihood: 132.170886, elbo: 93.010458\n",
      "Epoch[664/1000], kl: 18.724131, likelihood: 123.501548, elbo: 96.348845\n",
      "Epoch[665/1000], kl: 18.734741, likelihood: 128.362488, elbo: 109.904830\n",
      "Epoch[666/1000], kl: 18.726159, likelihood: 135.194262, elbo: 115.977897\n",
      "Epoch[667/1000], kl: 18.735721, likelihood: 135.213608, elbo: 115.821138\n",
      "Epoch[668/1000], kl: 18.732469, likelihood: 126.711037, elbo: 107.252511\n",
      "Epoch[669/1000], kl: 18.711109, likelihood: 123.048627, elbo: 105.143307\n",
      "Epoch[670/1000], kl: 18.689421, likelihood: 133.266233, elbo: 117.573126\n",
      "Epoch[671/1000], kl: 18.685414, likelihood: 132.206594, elbo: 105.412621\n",
      "Epoch[672/1000], kl: 18.677218, likelihood: 109.755221, elbo: 106.391338\n",
      "Epoch[673/1000], kl: 18.665435, likelihood: 125.653426, elbo: 110.420798\n",
      "Epoch[674/1000], kl: 18.663361, likelihood: 135.244380, elbo: 117.457312\n",
      "Epoch[675/1000], kl: 18.641546, likelihood: 125.997432, elbo: 109.970886\n",
      "Epoch[676/1000], kl: 18.625823, likelihood: 126.983119, elbo: 113.552835\n",
      "Epoch[677/1000], kl: 18.624900, likelihood: 134.066008, elbo: 108.438105\n",
      "Epoch[678/1000], kl: 18.647054, likelihood: 128.835473, elbo: 101.061818\n",
      "Epoch[679/1000], kl: 18.705632, likelihood: 135.900563, elbo: 117.337336\n",
      "Epoch[680/1000], kl: 18.660985, likelihood: 127.447289, elbo: 114.240135\n"
     ]
    },
    {
     "name": "stdout",
     "output_type": "stream",
     "text": [
      "Epoch[681/1000], kl: 18.652668, likelihood: 131.117462, elbo: 103.158769\n",
      "Epoch[682/1000], kl: 18.660368, likelihood: 123.775353, elbo: 107.819443\n",
      "Epoch[683/1000], kl: 18.643391, likelihood: 131.753128, elbo: 112.661306\n",
      "Epoch[684/1000], kl: 18.634332, likelihood: 109.555914, elbo: 103.891269\n",
      "Epoch[685/1000], kl: 18.641149, likelihood: 132.672464, elbo: 113.121967\n",
      "Epoch[686/1000], kl: 18.653623, likelihood: 132.901198, elbo: 107.585239\n",
      "Epoch[687/1000], kl: 18.655974, likelihood: 129.773772, elbo: 115.064905\n",
      "Epoch[688/1000], kl: 18.638565, likelihood: 134.769163, elbo: 116.239717\n",
      "Epoch[689/1000], kl: 18.622354, likelihood: 125.915715, elbo: 102.044645\n",
      "Epoch[690/1000], kl: 18.586956, likelihood: 122.801391, elbo: 111.300647\n",
      "Epoch[691/1000], kl: 18.577261, likelihood: 131.443067, elbo: 116.066801\n",
      "Epoch[692/1000], kl: 18.547760, likelihood: 132.047011, elbo: 113.903760\n",
      "Epoch[693/1000], kl: 18.554091, likelihood: 134.260188, elbo: 115.758914\n",
      "Epoch[694/1000], kl: 18.508760, likelihood: 134.124776, elbo: 117.127362\n",
      "Epoch[695/1000], kl: 18.484015, likelihood: 135.333834, elbo: 112.989997\n",
      "Epoch[696/1000], kl: 18.506434, likelihood: 128.111695, elbo: 115.792414\n",
      "Epoch[697/1000], kl: 18.491276, likelihood: 127.129556, elbo: 112.651557\n",
      "Epoch[698/1000], kl: 18.484731, likelihood: 129.842842, elbo: 108.769759\n",
      "Epoch[699/1000], kl: 18.559022, likelihood: 134.315787, elbo: 114.725432\n",
      "Epoch[700/1000], kl: 18.551667, likelihood: 132.046132, elbo: 116.033670\n",
      "Epoch[701/1000], kl: 18.550257, likelihood: 132.428993, elbo: 114.793198\n",
      "Epoch[702/1000], kl: 18.554031, likelihood: 130.418907, elbo: 111.324299\n",
      "Epoch[703/1000], kl: 18.534420, likelihood: 133.915017, elbo: 106.827168\n",
      "Epoch[704/1000], kl: 18.512043, likelihood: 125.118325, elbo: 114.097215\n",
      "Epoch[705/1000], kl: 18.591949, likelihood: 132.512763, elbo: 113.172907\n",
      "Epoch[706/1000], kl: 18.584707, likelihood: 131.502940, elbo: 114.020949\n",
      "Epoch[707/1000], kl: 18.562006, likelihood: 127.172352, elbo: 112.718896\n",
      "Epoch[708/1000], kl: 18.554149, likelihood: 134.008849, elbo: 116.167651\n",
      "Epoch[709/1000], kl: 18.622638, likelihood: 129.954075, elbo: 109.551583\n",
      "Epoch[710/1000], kl: 18.643390, likelihood: 126.237001, elbo: 108.885076\n",
      "Epoch[711/1000], kl: 18.637355, likelihood: 130.685642, elbo: 113.545684\n",
      "Epoch[712/1000], kl: 18.658959, likelihood: 135.033786, elbo: 114.512518\n",
      "Epoch[713/1000], kl: 18.642957, likelihood: 119.881785, elbo: 108.669856\n",
      "Epoch[714/1000], kl: 18.651780, likelihood: 128.241256, elbo: 110.650046\n",
      "Epoch[715/1000], kl: 18.642796, likelihood: 125.346909, elbo: 111.598975\n",
      "Epoch[716/1000], kl: 18.603381, likelihood: 132.844562, elbo: 117.827060\n",
      "Epoch[717/1000], kl: 18.663674, likelihood: 131.534357, elbo: 113.660990\n",
      "Epoch[718/1000], kl: 18.658850, likelihood: 131.212852, elbo: 102.240302\n",
      "Epoch[719/1000], kl: 18.679664, likelihood: 134.197744, elbo: 115.819059\n",
      "Epoch[720/1000], kl: 18.674178, likelihood: 130.868647, elbo: 117.149492\n",
      "Epoch[721/1000], kl: 18.681386, likelihood: 132.515106, elbo: 108.272397\n",
      "Epoch[722/1000], kl: 18.675377, likelihood: 129.955145, elbo: 113.953862\n",
      "Epoch[723/1000], kl: 18.653642, likelihood: 129.441310, elbo: 110.645556\n",
      "Epoch[724/1000], kl: 18.624501, likelihood: 111.443121, elbo: 110.520311\n",
      "Epoch[725/1000], kl: 18.615798, likelihood: 106.539458, elbo: 103.640414\n",
      "Epoch[726/1000], kl: 18.592779, likelihood: 127.004569, elbo: 114.023612\n",
      "Epoch[727/1000], kl: 18.585907, likelihood: 133.188724, elbo: 112.299084\n",
      "Epoch[728/1000], kl: 18.614926, likelihood: 134.268323, elbo: 116.004418\n",
      "Epoch[729/1000], kl: 18.586993, likelihood: 128.131853, elbo: 98.222667\n",
      "Epoch[730/1000], kl: 18.555077, likelihood: 128.273597, elbo: 109.113633\n",
      "Epoch[731/1000], kl: 18.550019, likelihood: 133.759549, elbo: 115.347302\n",
      "Epoch[732/1000], kl: 18.539422, likelihood: 132.174843, elbo: 113.776754\n",
      "Epoch[733/1000], kl: 18.554804, likelihood: 129.532060, elbo: 112.931832\n",
      "Epoch[734/1000], kl: 18.551257, likelihood: 127.024225, elbo: 111.109937\n",
      "Epoch[735/1000], kl: 18.520993, likelihood: 125.877115, elbo: 111.903006\n",
      "Epoch[736/1000], kl: 18.512036, likelihood: 134.464226, elbo: 115.843747\n",
      "Epoch[737/1000], kl: 18.540550, likelihood: 128.327782, elbo: 107.751025\n",
      "Epoch[738/1000], kl: 18.547683, likelihood: 130.244379, elbo: 113.605489\n",
      "Epoch[739/1000], kl: 18.512181, likelihood: 134.196786, elbo: 114.347028\n",
      "Epoch[740/1000], kl: 18.484498, likelihood: 131.040027, elbo: 112.120351\n",
      "Epoch[741/1000], kl: 18.503914, likelihood: 129.331874, elbo: 111.512567\n",
      "Epoch[742/1000], kl: 18.487684, likelihood: 134.384286, elbo: 107.283206\n",
      "Epoch[743/1000], kl: 18.429095, likelihood: 133.415338, elbo: 116.537212\n",
      "Epoch[744/1000], kl: 18.376350, likelihood: 130.665274, elbo: 116.936100\n",
      "Epoch[745/1000], kl: 18.367303, likelihood: 131.062039, elbo: 114.700506\n",
      "Epoch[746/1000], kl: 18.325000, likelihood: 124.629521, elbo: 106.125321\n",
      "Epoch[747/1000], kl: 18.348580, likelihood: 127.508734, elbo: 106.632376\n",
      "Epoch[748/1000], kl: 18.353883, likelihood: 132.901172, elbo: 114.522368\n",
      "Epoch[749/1000], kl: 18.359576, likelihood: 127.567474, elbo: 113.306846\n",
      "Epoch[750/1000], kl: 18.368892, likelihood: 132.271743, elbo: 110.926575\n",
      "Epoch[751/1000], kl: 18.330953, likelihood: 133.191769, elbo: 114.048538\n",
      "Epoch[752/1000], kl: 18.294055, likelihood: 133.845445, elbo: 117.442811\n",
      "Epoch[753/1000], kl: 18.316816, likelihood: 134.470308, elbo: 116.968451\n",
      "Epoch[754/1000], kl: 18.297417, likelihood: 134.099044, elbo: 116.769826\n",
      "Epoch[755/1000], kl: 18.308695, likelihood: 132.828381, elbo: 116.131686\n",
      "Epoch[756/1000], kl: 18.271399, likelihood: 122.219625, elbo: 113.105951\n",
      "Epoch[757/1000], kl: 18.251315, likelihood: 127.111851, elbo: 111.568993\n",
      "Epoch[758/1000], kl: 18.359862, likelihood: 136.613566, elbo: 118.257363\n",
      "Epoch[759/1000], kl: 18.362634, likelihood: 134.343275, elbo: 114.080037\n",
      "Epoch[760/1000], kl: 18.361569, likelihood: 128.119742, elbo: 107.834104\n",
      "Epoch[761/1000], kl: 18.381405, likelihood: 130.427334, elbo: 112.542176\n",
      "Epoch[762/1000], kl: 18.373875, likelihood: 133.627910, elbo: 116.344885\n",
      "Epoch[763/1000], kl: 18.371728, likelihood: 135.344787, elbo: 115.719203\n",
      "Epoch[764/1000], kl: 18.359820, likelihood: 128.082236, elbo: 114.515302\n",
      "Epoch[765/1000], kl: 18.322285, likelihood: 129.087627, elbo: 113.901676\n",
      "Epoch[766/1000], kl: 18.335448, likelihood: 134.618564, elbo: 116.325770\n",
      "Epoch[767/1000], kl: 18.308034, likelihood: 118.954118, elbo: 108.899002\n",
      "Epoch[768/1000], kl: 18.283364, likelihood: 128.597224, elbo: 111.751140\n",
      "Epoch[769/1000], kl: 18.268129, likelihood: 120.914210, elbo: 99.105275\n",
      "Epoch[770/1000], kl: 18.298559, likelihood: 124.458153, elbo: 88.464193\n",
      "Epoch[771/1000], kl: 18.287044, likelihood: 132.842608, elbo: 112.570957\n",
      "Epoch[772/1000], kl: 18.372083, likelihood: 127.479038, elbo: 109.565361\n",
      "Epoch[773/1000], kl: 18.365206, likelihood: 131.745917, elbo: 113.685533\n",
      "Epoch[774/1000], kl: 18.400815, likelihood: 123.164919, elbo: 111.779365\n",
      "Epoch[775/1000], kl: 18.409092, likelihood: 135.504376, elbo: 107.575248\n",
      "Epoch[776/1000], kl: 18.376061, likelihood: 117.470336, elbo: 113.431633\n",
      "Epoch[777/1000], kl: 18.353245, likelihood: 114.321760, elbo: 105.601894\n",
      "Epoch[778/1000], kl: 18.329615, likelihood: 134.924399, elbo: 115.700989\n",
      "Epoch[779/1000], kl: 18.299285, likelihood: 131.788739, elbo: 114.400989\n",
      "Epoch[780/1000], kl: 18.313582, likelihood: 131.560171, elbo: 115.319392\n",
      "Epoch[781/1000], kl: 18.290791, likelihood: 104.385207, elbo: 96.531407\n",
      "Epoch[782/1000], kl: 18.302895, likelihood: 131.866636, elbo: 113.773128\n",
      "Epoch[783/1000], kl: 18.294978, likelihood: 131.159127, elbo: 109.322330\n",
      "Epoch[784/1000], kl: 18.257702, likelihood: 129.001490, elbo: 115.707084\n",
      "Epoch[785/1000], kl: 18.234483, likelihood: 126.840664, elbo: 111.433481\n",
      "Epoch[786/1000], kl: 18.333036, likelihood: 129.222666, elbo: 114.264277\n",
      "Epoch[787/1000], kl: 18.347166, likelihood: 130.838807, elbo: 113.069010\n",
      "Epoch[788/1000], kl: 18.332593, likelihood: 135.349001, elbo: 114.088191\n",
      "Epoch[789/1000], kl: 18.342735, likelihood: 134.379107, elbo: 116.918551\n",
      "Epoch[790/1000], kl: 18.316321, likelihood: 132.521901, elbo: 117.018112\n",
      "Epoch[791/1000], kl: 18.370725, likelihood: 134.944617, elbo: 113.192623\n",
      "Epoch[792/1000], kl: 18.371737, likelihood: 134.075402, elbo: 104.225393\n",
      "Epoch[793/1000], kl: 18.357112, likelihood: 133.915899, elbo: 113.999510\n"
     ]
    },
    {
     "name": "stdout",
     "output_type": "stream",
     "text": [
      "Epoch[794/1000], kl: 18.329797, likelihood: 131.773203, elbo: 94.533014\n",
      "Epoch[795/1000], kl: 18.301400, likelihood: 134.693243, elbo: 115.923272\n",
      "Epoch[796/1000], kl: 18.298393, likelihood: 133.782097, elbo: 115.024949\n",
      "Epoch[797/1000], kl: 18.302123, likelihood: 133.303383, elbo: 115.237029\n",
      "Epoch[798/1000], kl: 18.285028, likelihood: 135.992322, elbo: 118.523720\n",
      "Epoch[799/1000], kl: 18.266192, likelihood: 132.127393, elbo: 116.038192\n",
      "Epoch[800/1000], kl: 18.235312, likelihood: 127.375213, elbo: 109.939811\n",
      "Epoch[801/1000], kl: 18.212845, likelihood: 129.623139, elbo: 111.479013\n",
      "Epoch[802/1000], kl: 18.220850, likelihood: 129.599442, elbo: 111.331907\n",
      "Epoch[803/1000], kl: 18.211763, likelihood: 118.086785, elbo: 113.472166\n",
      "Epoch[804/1000], kl: 18.215650, likelihood: 132.466944, elbo: 113.874353\n",
      "Epoch[805/1000], kl: 18.194031, likelihood: 134.109974, elbo: 112.088246\n",
      "Epoch[806/1000], kl: 18.180145, likelihood: 121.758538, elbo: 114.146741\n",
      "Epoch[807/1000], kl: 18.163755, likelihood: 133.796545, elbo: 116.391813\n",
      "Epoch[808/1000], kl: 18.155688, likelihood: 135.807804, elbo: 116.939378\n",
      "Epoch[809/1000], kl: 18.157841, likelihood: 126.858312, elbo: 112.618146\n",
      "Epoch[810/1000], kl: 18.128914, likelihood: 134.711781, elbo: 115.253501\n",
      "Epoch[811/1000], kl: 18.196939, likelihood: 130.481538, elbo: 99.915378\n",
      "Epoch[812/1000], kl: 18.188329, likelihood: 132.978719, elbo: 114.653126\n",
      "Epoch[813/1000], kl: 18.198640, likelihood: 134.114743, elbo: 115.850994\n",
      "Epoch[814/1000], kl: 18.187491, likelihood: 128.999579, elbo: 109.578586\n",
      "Epoch[815/1000], kl: 18.180505, likelihood: 132.951859, elbo: 115.538995\n",
      "Epoch[816/1000], kl: 18.147928, likelihood: 133.520008, elbo: 109.863796\n",
      "Epoch[817/1000], kl: 18.132080, likelihood: 128.532163, elbo: 111.173419\n",
      "Epoch[818/1000], kl: 18.126121, likelihood: 129.686512, elbo: 117.772511\n",
      "Epoch[819/1000], kl: 18.123654, likelihood: 133.965718, elbo: 116.442336\n",
      "Epoch[820/1000], kl: 18.110555, likelihood: 133.875498, elbo: 113.962404\n",
      "Epoch[821/1000], kl: 18.107941, likelihood: 128.393360, elbo: 111.654120\n",
      "Epoch[822/1000], kl: 18.094724, likelihood: 128.009184, elbo: 117.102019\n",
      "Epoch[823/1000], kl: 18.150019, likelihood: 135.930619, elbo: 112.929723\n",
      "Epoch[824/1000], kl: 18.210145, likelihood: 134.594110, elbo: 115.754060\n",
      "Epoch[825/1000], kl: 18.224806, likelihood: 128.715573, elbo: 107.715021\n",
      "Epoch[826/1000], kl: 18.219797, likelihood: 135.272409, elbo: 107.124751\n",
      "Epoch[827/1000], kl: 18.210527, likelihood: 135.528910, elbo: 115.525634\n",
      "Epoch[828/1000], kl: 18.218880, likelihood: 128.257687, elbo: 113.595998\n",
      "Epoch[829/1000], kl: 18.206125, likelihood: 122.164634, elbo: 111.339302\n",
      "Epoch[830/1000], kl: 18.204513, likelihood: 128.754689, elbo: 113.277953\n",
      "Epoch[831/1000], kl: 18.180148, likelihood: 134.972155, elbo: 109.165509\n",
      "Epoch[832/1000], kl: 18.170433, likelihood: 133.763080, elbo: 116.859771\n",
      "Epoch[833/1000], kl: 18.152180, likelihood: 131.525203, elbo: 106.560520\n",
      "Epoch[834/1000], kl: 18.149155, likelihood: 134.107499, elbo: 115.100016\n",
      "Epoch[835/1000], kl: 18.149235, likelihood: 132.009655, elbo: 102.205674\n",
      "Epoch[836/1000], kl: 18.185216, likelihood: 130.445028, elbo: 113.201443\n",
      "Epoch[837/1000], kl: 18.161361, likelihood: 105.014385, elbo: 98.815038\n",
      "Epoch[838/1000], kl: 18.137814, likelihood: 130.479434, elbo: 112.997888\n",
      "Epoch[839/1000], kl: 18.120006, likelihood: 129.526368, elbo: 112.186834\n",
      "Epoch[840/1000], kl: 18.154198, likelihood: 133.122662, elbo: 112.921335\n",
      "Epoch[841/1000], kl: 18.117662, likelihood: 122.690087, elbo: 105.582810\n",
      "Epoch[842/1000], kl: 18.167400, likelihood: 135.070965, elbo: 113.571558\n",
      "Epoch[843/1000], kl: 18.172115, likelihood: 126.151220, elbo: 111.660333\n",
      "Epoch[844/1000], kl: 18.174407, likelihood: 132.732663, elbo: 113.613557\n",
      "Epoch[845/1000], kl: 18.165869, likelihood: 129.979662, elbo: 114.662472\n",
      "Epoch[846/1000], kl: 18.137892, likelihood: 131.469949, elbo: 114.334663\n",
      "Epoch[847/1000], kl: 18.170906, likelihood: 132.933128, elbo: 114.616749\n",
      "Epoch[848/1000], kl: 18.164143, likelihood: 129.780656, elbo: 112.516459\n",
      "Epoch[849/1000], kl: 18.158106, likelihood: 127.000028, elbo: 114.816575\n",
      "Epoch[850/1000], kl: 18.117078, likelihood: 123.438491, elbo: 98.739715\n",
      "Epoch[851/1000], kl: 18.140327, likelihood: 129.868710, elbo: 108.540091\n",
      "Epoch[852/1000], kl: 18.109851, likelihood: 134.286940, elbo: 116.513522\n",
      "Epoch[853/1000], kl: 18.098338, likelihood: 134.783122, elbo: 114.925575\n",
      "Epoch[854/1000], kl: 18.119839, likelihood: 134.991536, elbo: 117.120149\n",
      "Epoch[855/1000], kl: 18.120062, likelihood: 127.556959, elbo: 114.299101\n",
      "Epoch[856/1000], kl: 18.130405, likelihood: 130.994318, elbo: 108.347467\n",
      "Epoch[857/1000], kl: 18.130519, likelihood: 133.840752, elbo: 115.644827\n",
      "Epoch[858/1000], kl: 18.155878, likelihood: 132.006683, elbo: 113.894350\n",
      "Epoch[859/1000], kl: 18.196929, likelihood: 128.846880, elbo: 110.885987\n",
      "Epoch[860/1000], kl: 18.173625, likelihood: 135.241738, elbo: 102.301996\n",
      "Epoch[861/1000], kl: 18.189149, likelihood: 129.558114, elbo: 115.129443\n",
      "Epoch[862/1000], kl: 18.185719, likelihood: 131.890345, elbo: 113.371414\n",
      "Epoch[863/1000], kl: 18.200598, likelihood: 135.175769, elbo: 117.771018\n",
      "Epoch[864/1000], kl: 18.204231, likelihood: 135.556633, elbo: 112.884161\n",
      "Epoch[865/1000], kl: 18.242830, likelihood: 127.823799, elbo: 114.983905\n",
      "Epoch[866/1000], kl: 18.266611, likelihood: 130.136019, elbo: 115.306404\n",
      "Epoch[867/1000], kl: 18.259717, likelihood: 126.938526, elbo: 113.791290\n",
      "Epoch[868/1000], kl: 18.245226, likelihood: 134.828178, elbo: 104.450599\n",
      "Epoch[869/1000], kl: 18.264413, likelihood: 131.681357, elbo: 113.752215\n",
      "Epoch[870/1000], kl: 18.274992, likelihood: 135.284211, elbo: 116.765244\n",
      "Epoch[871/1000], kl: 18.272632, likelihood: 135.354348, elbo: 116.886721\n",
      "Epoch[872/1000], kl: 18.275228, likelihood: 113.258415, elbo: 111.608049\n",
      "Epoch[873/1000], kl: 18.262591, likelihood: 136.083114, elbo: 117.966143\n",
      "Epoch[874/1000], kl: 18.254406, likelihood: 127.813331, elbo: 114.941614\n",
      "Epoch[875/1000], kl: 18.219194, likelihood: 121.794262, elbo: 110.866610\n",
      "Epoch[876/1000], kl: 18.232024, likelihood: 130.340223, elbo: 113.742683\n",
      "Epoch[877/1000], kl: 18.229772, likelihood: 125.700264, elbo: 82.408482\n",
      "Epoch[878/1000], kl: 18.243030, likelihood: 134.761001, elbo: 114.188503\n",
      "Epoch[879/1000], kl: 18.247193, likelihood: 134.261170, elbo: 112.281648\n",
      "Epoch[880/1000], kl: 18.237477, likelihood: 135.735642, elbo: 117.496527\n",
      "Epoch[881/1000], kl: 18.250608, likelihood: 131.252261, elbo: 109.869206\n",
      "Epoch[882/1000], kl: 18.230481, likelihood: 127.437560, elbo: 110.189166\n",
      "Epoch[883/1000], kl: 18.238311, likelihood: 136.053471, elbo: 117.547444\n",
      "Epoch[884/1000], kl: 18.226568, likelihood: 133.893431, elbo: 110.874860\n",
      "Epoch[885/1000], kl: 18.259854, likelihood: 121.253302, elbo: 116.460442\n",
      "Epoch[886/1000], kl: 18.240561, likelihood: 135.384861, elbo: 116.942263\n",
      "Epoch[887/1000], kl: 18.243889, likelihood: 128.853576, elbo: 107.071233\n",
      "Epoch[888/1000], kl: 18.228670, likelihood: 135.094640, elbo: 116.224518\n",
      "Epoch[889/1000], kl: 18.219422, likelihood: 132.927919, elbo: 113.133164\n",
      "Epoch[890/1000], kl: 18.207742, likelihood: 132.881877, elbo: 115.897511\n",
      "Epoch[891/1000], kl: 18.194308, likelihood: 133.417824, elbo: 113.310669\n",
      "Epoch[892/1000], kl: 18.180762, likelihood: 134.432546, elbo: 111.319955\n",
      "Epoch[893/1000], kl: 18.168279, likelihood: 127.712146, elbo: 112.276416\n",
      "Epoch[894/1000], kl: 18.154548, likelihood: 133.707899, elbo: 114.649786\n",
      "Epoch[895/1000], kl: 18.176110, likelihood: 135.090317, elbo: 118.107737\n",
      "Epoch[896/1000], kl: 18.166737, likelihood: 131.288663, elbo: 114.575157\n",
      "Epoch[897/1000], kl: 18.153389, likelihood: 131.829036, elbo: 107.655976\n",
      "Epoch[898/1000], kl: 18.145605, likelihood: 129.073595, elbo: 113.715518\n",
      "Epoch[899/1000], kl: 18.166970, likelihood: 133.916744, elbo: 115.758363\n",
      "Epoch[900/1000], kl: 18.210931, likelihood: 136.822339, elbo: 118.933498\n",
      "Epoch[901/1000], kl: 18.191891, likelihood: 132.862444, elbo: 114.990992\n",
      "Epoch[902/1000], kl: 18.221471, likelihood: 135.004334, elbo: 104.785501\n",
      "Epoch[903/1000], kl: 18.218125, likelihood: 130.587411, elbo: 112.703980\n",
      "Epoch[904/1000], kl: 18.192582, likelihood: 127.992938, elbo: 99.978081\n",
      "Epoch[905/1000], kl: 18.188616, likelihood: 133.881071, elbo: 115.449655\n",
      "Epoch[906/1000], kl: 18.184292, likelihood: 129.470228, elbo: 116.596973\n"
     ]
    },
    {
     "name": "stdout",
     "output_type": "stream",
     "text": [
      "Epoch[907/1000], kl: 18.179021, likelihood: 135.113122, elbo: 116.189649\n",
      "Epoch[908/1000], kl: 18.165835, likelihood: 131.020203, elbo: 114.524274\n",
      "Epoch[909/1000], kl: 18.147941, likelihood: 134.832378, elbo: 116.121202\n",
      "Epoch[910/1000], kl: 18.137977, likelihood: 121.340510, elbo: 115.562780\n",
      "Epoch[911/1000], kl: 18.127638, likelihood: 133.030281, elbo: 111.072381\n",
      "Epoch[912/1000], kl: 18.122379, likelihood: 128.531657, elbo: 110.771385\n",
      "Epoch[913/1000], kl: 18.125762, likelihood: 135.214130, elbo: 116.974873\n",
      "Epoch[914/1000], kl: 18.163287, likelihood: 125.051796, elbo: 112.220351\n",
      "Epoch[915/1000], kl: 18.161762, likelihood: 127.357510, elbo: 113.397392\n",
      "Epoch[916/1000], kl: 18.160799, likelihood: 131.920203, elbo: 117.561242\n",
      "Epoch[917/1000], kl: 18.153582, likelihood: 132.748748, elbo: 115.566180\n",
      "Epoch[918/1000], kl: 18.153213, likelihood: 127.017306, elbo: 115.080744\n",
      "Epoch[919/1000], kl: 18.168378, likelihood: 129.054322, elbo: 113.803180\n",
      "Epoch[920/1000], kl: 18.167559, likelihood: 129.042812, elbo: 109.173557\n",
      "Epoch[921/1000], kl: 18.164899, likelihood: 134.305881, elbo: 113.078197\n",
      "Epoch[922/1000], kl: 18.153627, likelihood: 115.328968, elbo: 102.118178\n",
      "Epoch[923/1000], kl: 18.133300, likelihood: 134.384753, elbo: 117.849107\n",
      "Epoch[924/1000], kl: 18.118294, likelihood: 131.287271, elbo: 113.458279\n",
      "Epoch[925/1000], kl: 18.110592, likelihood: 130.609833, elbo: 114.681552\n",
      "Epoch[926/1000], kl: 18.133316, likelihood: 119.997215, elbo: 109.157223\n",
      "Epoch[927/1000], kl: 18.100383, likelihood: 134.433108, elbo: 113.139790\n",
      "Epoch[928/1000], kl: 18.080609, likelihood: 132.836661, elbo: 112.590625\n",
      "Epoch[929/1000], kl: 18.131457, likelihood: 120.776087, elbo: 114.040276\n",
      "Epoch[930/1000], kl: 18.120750, likelihood: 127.325742, elbo: 111.332473\n",
      "Epoch[931/1000], kl: 18.179364, likelihood: 134.207135, elbo: 115.964423\n",
      "Epoch[932/1000], kl: 18.166151, likelihood: 135.128166, elbo: 116.177259\n",
      "Epoch[933/1000], kl: 18.186417, likelihood: 135.413241, elbo: 117.374274\n",
      "Epoch[934/1000], kl: 18.191375, likelihood: 128.442375, elbo: 113.688075\n",
      "Epoch[935/1000], kl: 18.176484, likelihood: 127.053750, elbo: 111.147094\n",
      "Epoch[936/1000], kl: 18.133657, likelihood: 130.078791, elbo: 111.881912\n",
      "Epoch[937/1000], kl: 18.118082, likelihood: 132.904643, elbo: 114.591526\n",
      "Epoch[938/1000], kl: 18.122720, likelihood: 134.290238, elbo: 116.632496\n",
      "Epoch[939/1000], kl: 18.163602, likelihood: 133.786880, elbo: 110.292069\n",
      "Epoch[940/1000], kl: 18.184554, likelihood: 131.988504, elbo: 108.598990\n",
      "Epoch[941/1000], kl: 18.177761, likelihood: 135.586224, elbo: 113.834692\n",
      "Epoch[942/1000], kl: 18.181995, likelihood: 134.189076, elbo: 116.553876\n",
      "Epoch[943/1000], kl: 18.196712, likelihood: 130.066485, elbo: 103.639910\n",
      "Epoch[944/1000], kl: 18.219725, likelihood: 131.435257, elbo: 114.871115\n",
      "Epoch[945/1000], kl: 18.208307, likelihood: 123.192046, elbo: 110.080750\n",
      "Epoch[946/1000], kl: 18.182251, likelihood: 130.400257, elbo: 111.867521\n",
      "Epoch[947/1000], kl: 18.168006, likelihood: 129.034976, elbo: 113.001907\n",
      "Epoch[948/1000], kl: 18.152276, likelihood: 119.421687, elbo: 112.487142\n",
      "Epoch[949/1000], kl: 18.163406, likelihood: 134.188247, elbo: 117.029795\n",
      "Epoch[950/1000], kl: 18.149959, likelihood: 128.852327, elbo: 101.494962\n",
      "Epoch[951/1000], kl: 18.158422, likelihood: 132.547920, elbo: 113.391896\n",
      "Epoch[952/1000], kl: 18.132727, likelihood: 134.425317, elbo: 113.902063\n",
      "Epoch[953/1000], kl: 18.136223, likelihood: 135.770536, elbo: 114.978493\n",
      "Epoch[954/1000], kl: 18.164406, likelihood: 129.409068, elbo: 114.563697\n",
      "Epoch[955/1000], kl: 18.200793, likelihood: 126.046324, elbo: 114.970637\n",
      "Epoch[956/1000], kl: 18.183360, likelihood: 127.922887, elbo: 111.718789\n",
      "Epoch[957/1000], kl: 18.166951, likelihood: 129.291624, elbo: 113.832817\n",
      "Epoch[958/1000], kl: 18.179320, likelihood: 121.830676, elbo: 106.069247\n",
      "Epoch[959/1000], kl: 18.155061, likelihood: 127.018728, elbo: 112.449858\n",
      "Epoch[960/1000], kl: 18.143336, likelihood: 131.665864, elbo: 112.894911\n",
      "Epoch[961/1000], kl: 18.131682, likelihood: 126.820525, elbo: 116.134254\n",
      "Epoch[962/1000], kl: 18.160327, likelihood: 126.758560, elbo: 105.599127\n",
      "Epoch[963/1000], kl: 18.146627, likelihood: 131.435872, elbo: 113.188376\n",
      "Epoch[964/1000], kl: 18.176715, likelihood: 134.070062, elbo: 112.959011\n",
      "Epoch[965/1000], kl: 18.173252, likelihood: 132.520656, elbo: 110.476376\n",
      "Epoch[966/1000], kl: 18.134625, likelihood: 131.654477, elbo: 107.816438\n",
      "Epoch[967/1000], kl: 18.109545, likelihood: 117.048214, elbo: 109.567388\n",
      "Epoch[968/1000], kl: 18.107502, likelihood: 130.354677, elbo: 109.953569\n",
      "Epoch[969/1000], kl: 18.102092, likelihood: 126.296815, elbo: 109.392621\n",
      "Epoch[970/1000], kl: 18.078538, likelihood: 132.832404, elbo: 115.787918\n",
      "Epoch[971/1000], kl: 18.144837, likelihood: 130.423575, elbo: 113.366331\n",
      "Epoch[972/1000], kl: 18.155730, likelihood: 127.849850, elbo: 115.204831\n",
      "Epoch[973/1000], kl: 18.163015, likelihood: 133.213377, elbo: 114.948889\n",
      "Epoch[974/1000], kl: 18.170891, likelihood: 130.761405, elbo: 115.033662\n",
      "Epoch[975/1000], kl: 18.196345, likelihood: 125.787426, elbo: 108.885122\n",
      "Epoch[976/1000], kl: 18.188940, likelihood: 130.190063, elbo: 117.044255\n",
      "Epoch[977/1000], kl: 18.157607, likelihood: 133.063812, elbo: 114.671221\n",
      "Epoch[978/1000], kl: 18.143016, likelihood: 125.886261, elbo: 110.031051\n",
      "Epoch[979/1000], kl: 18.187147, likelihood: 134.547180, elbo: 116.401876\n",
      "Epoch[980/1000], kl: 18.173012, likelihood: 133.208713, elbo: 115.082785\n",
      "Epoch[981/1000], kl: 18.184894, likelihood: 126.132624, elbo: 106.141934\n",
      "Epoch[982/1000], kl: 18.209042, likelihood: 131.730054, elbo: 115.603383\n",
      "Epoch[983/1000], kl: 18.191632, likelihood: 134.031488, elbo: 112.166587\n",
      "Epoch[984/1000], kl: 18.201956, likelihood: 132.142703, elbo: 113.717621\n",
      "Epoch[985/1000], kl: 18.173707, likelihood: 133.905962, elbo: 116.771203\n",
      "Epoch[986/1000], kl: 18.196351, likelihood: 131.999192, elbo: 115.114976\n",
      "Epoch[987/1000], kl: 18.173225, likelihood: 133.860378, elbo: 92.949365\n",
      "Epoch[988/1000], kl: 18.160842, likelihood: 132.791983, elbo: 113.991657\n",
      "Epoch[989/1000], kl: 18.142739, likelihood: 124.997090, elbo: 113.771529\n",
      "Epoch[990/1000], kl: 18.140413, likelihood: 126.824650, elbo: 108.299005\n",
      "Epoch[991/1000], kl: 18.118008, likelihood: 105.762239, elbo: 108.609760\n",
      "Epoch[992/1000], kl: 18.098526, likelihood: 134.326363, elbo: 100.992996\n",
      "Epoch[993/1000], kl: 18.076633, likelihood: 127.275487, elbo: 109.259995\n",
      "Epoch[994/1000], kl: 18.113091, likelihood: 131.270189, elbo: 107.421938\n",
      "Epoch[995/1000], kl: 18.132723, likelihood: 133.337225, elbo: 110.922748\n",
      "Epoch[996/1000], kl: 18.116072, likelihood: 117.166218, elbo: 103.145732\n",
      "Epoch[997/1000], kl: 18.112001, likelihood: 128.377968, elbo: 110.790128\n",
      "Epoch[998/1000], kl: 18.105799, likelihood: 129.956077, elbo: 113.241283\n",
      "Epoch[999/1000], kl: 18.129849, likelihood: 126.268203, elbo: 113.354638\n",
      "Epoch[1000/1000], kl: 18.123536, likelihood: 132.209220, elbo: 116.596569\n"
     ]
    },
    {
     "data": {
      "text/plain": [
       "[<matplotlib.lines.Line2D at 0x14a01b710>]"
      ]
     },
     "execution_count": 9,
     "metadata": {},
     "output_type": "execute_result"
    },
    {
     "data": {
      "image/png": "[encoded data removed]",
      "text/plain": [
       "<Figure size 432x288 with 1 Axes>"
      ]
     },
     "metadata": {
      "needs_background": "light"
     },
     "output_type": "display_data"
    }
   ],
   "source": [
    "elbo = -networks.train(model, optimizer, torch.from_numpy(Z), torch.from_numpy(Y), n_epochs=1000, n_rep_opt=100, print_freq=1)\n",
    "plt.plot(-elbo)"
   ]
  },
  {
   "cell_type": "code",
   "execution_count": 10,
   "metadata": {},
   "outputs": [],
   "source": [
    "from math import sqrt\n",
    "\n",
    "def estimate_psi(X=None, n_samp=1000):\n",
    "    '''\n",
    "    Use automatic gradients\n",
    "\n",
    "    estimates mean and variance of variable importance psi\n",
    "    X:  inputs to evaluate gradient\n",
    "    n_samp:  number of MC samples\n",
    "    '''\n",
    "\n",
    "    X = torch.from_numpy(X)\n",
    "    X.requires_grad = True\n",
    "\n",
    "    psi_mean = torch.zeros(model.dim_in)\n",
    "    psi_var = torch.zeros(model.dim_in)\n",
    "\n",
    "    psi_samp = torch.zeros((n_samp, model.dim_in))\n",
    "    for i in range(n_samp):\n",
    "\n",
    "        f = model(X, weights_type_layer_in='sample_post', weights_type_layer_out='sample_post')\n",
    "        torch.sum(f).backward()\n",
    "        psi_samp[i,:] = torch.mean(X.grad**2,0)\n",
    "        X.grad.zero_()\n",
    "\n",
    "    psi_mean = torch.mean(psi_samp, 0)\n",
    "    psi_var = torch.var(psi_samp, 0)\n",
    "\n",
    "    return psi_mean.numpy(), psi_var.numpy()\n",
    "    \n",
    "def estimate_psi2(X=None, n_samp=1000):\n",
    "    '''\n",
    "    estimates mean and variance of variable importance psi\n",
    "    X:  inputs to evaluate gradient\n",
    "    n_samp:  number of MC samples\n",
    "    '''\n",
    "    with torch.no_grad():\n",
    "\n",
    "        #breakpoint()\n",
    "\n",
    "        dist_nu = torch.distributions.log_normal.LogNormal(loc=model.layer_in.lognu_mu, \n",
    "                                                           scale=model.layer_in.lognu_logsig2.exp().sqrt())\n",
    "\n",
    "        dist_eta = torch.distributions.log_normal.LogNormal(loc=model.layer_in.logeta_mu, \n",
    "                                                            scale=model.layer_in.logeta_logsig2.exp().sqrt())\n",
    "\n",
    "        dist_beta = torch.distributions.multivariate_normal.MultivariateNormal(loc=model.layer_out.mu, \n",
    "                                                                               covariance_matrix=model.layer_out.sig2)\n",
    "\n",
    "        psi_mean = torch.zeros(model.dim_in)\n",
    "        psi_var = torch.zeros(model.dim_in)\n",
    "        for l in range(model.dim_in):\n",
    "\n",
    "            # TO DO: replace loop for efficiency\n",
    "            grad_samp = torch.zeros((n_samp, X.shape[0]))\n",
    "            for i in range(n_samp):\n",
    "\n",
    "                samp_nu = dist_nu.sample()\n",
    "                samp_eta = dist_eta.sample()\n",
    "                samp_beta = dist_beta.sample()\n",
    "\n",
    "                nu_eta_w = samp_nu*samp_eta*model.layer_in.w\n",
    "\n",
    "                grad_samp[i,:] = (-sqrt(2/model.dim_out) \\\n",
    "                                 *torch.sin(F.linear(torch.from_numpy(X), nu_eta_w, model.layer_in.b)) \\\n",
    "                                 @ torch.diag(nu_eta_w[:,l]) \\\n",
    "                                 @ samp_beta.T).reshape(-1)\n",
    "\n",
    "            psi_samp = torch.mean(grad_samp**2,1)\n",
    "            psi_mean[l] = torch.mean(psi_samp)\n",
    "            psi_var[l] = torch.var(psi_samp)\n",
    "            \n",
    "            \n",
    "            \n",
    "    return psi_mean.numpy(), psi_var.numpy()\n"
   ]
  },
  {
   "cell_type": "code",
   "execution_count": 11,
   "metadata": {},
   "outputs": [],
   "source": [
    "psi_mean, psi_var = estimate_psi(X=Z, n_samp=100)"
   ]
  },
  {
   "cell_type": "code",
   "execution_count": 12,
   "metadata": {},
   "outputs": [],
   "source": [
    "psi_mean2, psi_var2 = estimate_psi2(X=Z, n_samp=100)"
   ]
  },
  {
   "cell_type": "code",
   "execution_count": 13,
   "metadata": {},
   "outputs": [
    {
     "data": {
      "text/plain": [
       "(array([4.63818124e-01, 7.44832143e-06]),\n",
       " array([2.77351240e-04, 7.00934601e-10]))"
      ]
     },
     "execution_count": 13,
     "metadata": {},
     "output_type": "execute_result"
    }
   ],
   "source": [
    "psi_mean, psi_var"
   ]
  },
  {
   "cell_type": "code",
   "execution_count": 14,
   "metadata": {},
   "outputs": [
    {
     "data": {
      "text/plain": [
       "(array([1.92323619e+01, 3.12404624e-04]),\n",
       " array([4.79662460e-01, 4.41308193e-07]))"
      ]
     },
     "execution_count": 14,
     "metadata": {},
     "output_type": "execute_result"
    }
   ],
   "source": [
    "psi_mean2, psi_var2"
   ]
  },
  {
   "cell_type": "code",
   "execution_count": 15,
   "metadata": {},
   "outputs": [
    {
     "data": {
      "text/plain": [
       "tensor([0.0057], grad_fn=<SqrtBackward>)"
      ]
     },
     "execution_count": 15,
     "metadata": {},
     "output_type": "execute_result"
    }
   ],
   "source": [
    "model.layer_in.lognu_logsig2.exp().sqrt()"
   ]
  },
  {
   "cell_type": "code",
   "execution_count": 16,
   "metadata": {},
   "outputs": [
    {
     "data": {
      "text/plain": [
       "tensor([0.0057, 0.7155], grad_fn=<SqrtBackward>)"
      ]
     },
     "execution_count": 16,
     "metadata": {},
     "output_type": "execute_result"
    }
   ],
   "source": [
    "model.layer_in.logeta_logsig2.exp().sqrt()"
   ]
  },
  {
   "cell_type": "code",
   "execution_count": 17,
   "metadata": {},
   "outputs": [],
   "source": [
    "def plot_slice(model, x, y, dim=0, x_plot=None, x_plot_slice=0.0, n_samp=500, ax=None):\n",
    "    with torch.no_grad():\n",
    "    \n",
    "        if ax is None:\n",
    "            fig, ax = plt.subplots()\n",
    "        dim_in = model.dim_in\n",
    "\n",
    "        if x_plot is None:\n",
    "            x_plot = torch.linspace(x.min(),x.max(),100)\n",
    "            \n",
    "        if type(x) is not np.ndarray:\n",
    "            x = x.numpy()\n",
    "            \n",
    "        if type(y) is not np.ndarray:\n",
    "            y = y.numpy()\n",
    "\n",
    "        xx = x_plot_slice*torch.ones(x_plot.shape[0], dim_in)\n",
    "        xx[:,dim] = x_plot.reshape(-1)\n",
    "\n",
    "        f_pred_plot = model(xx, weights_type_layer_in='mean_post', weights_type_layer_out='mean_post').numpy() # posterior mean\n",
    "\n",
    "        ax.scatter(x[:,dim], y) # training data\n",
    "        ax.plot(xx[:,dim], f_pred_plot) # posterior mean\n",
    "\n",
    "        # uncertainty\n",
    "        f_samp_plot = np.zeros((n_samp, x_plot.shape[0]))\n",
    "        for i in range(n_samp):\n",
    "            f_samp_plot[i,:] = model(xx, weights_type_layer_in='sample_post', weights_type_layer_out='sample_post').numpy().reshape(-1)\n",
    "\n",
    "        for q in [.025, .05, .1]:\n",
    "            ci = np.quantile(f_samp_plot, [q, 1-q], axis=0)\n",
    "            ax.fill_between(xx[:,0].reshape(-1), ci[0,:], ci[1,:], alpha=.1, color='blue')\n",
    "\n",
    "            \n",
    "def plot_slices(model, x, y, x_plot=None, x_plot_slice=0.0, n_samp=500, figsize=(4,4)):\n",
    "    fig, ax = plt.subplots(1,model.dim_in, figsize=figsize, sharey=True)\n",
    "    ax[0].set_ylabel('y')\n",
    "    fig.suptitle(\"Posterior predictive (1d slices)\")\n",
    "    for dim in range(model.dim_in):\n",
    "        plot_slice(model, x, y, dim, x_plot, x_plot_slice, n_samp, ax=ax[dim])\n",
    "        ax[dim].set_xlabel('x'+str(dim))\n",
    "    return fig, ax\n"
   ]
  },
  {
   "cell_type": "code",
   "execution_count": 18,
   "metadata": {},
   "outputs": [
    {
     "data": {
      "image/png": "[encoded data removed]",
      "text/plain": [
       "<Figure size 432x288 with 1 Axes>"
      ]
     },
     "metadata": {
      "needs_background": "light"
     },
     "output_type": "display_data"
    }
   ],
   "source": [
    "plot_slice(model, Z, Y, dim=0)"
   ]
  },
  {
   "cell_type": "code",
   "execution_count": 19,
   "metadata": {},
   "outputs": [
    {
     "data": {
      "image/png": "[encoded data removed]",
      "text/plain": [
       "<Figure size 720x288 with 2 Axes>"
      ]
     },
     "metadata": {
      "needs_background": "light"
     },
     "output_type": "display_data"
    }
   ],
   "source": [
    "fig, ax = plot_slices(model, Z, Y, x_plot=torch.linspace(-7,7,100).reshape(-1,1), figsize=(10,4))"
   ]
  },
  {
   "cell_type": "code",
   "execution_count": 20,
   "metadata": {},
   "outputs": [
    {
     "name": "stdout",
     "output_type": "stream",
     "text": [
      "layer_in.lognu_mu tensor([-0.4925])\n",
      "layer_in.lognu_logsig2 tensor([-10.3218])\n",
      "layer_in.logeta_mu tensor([-0.1170, -5.9951])\n",
      "layer_in.logeta_logsig2 tensor([-10.3179,  -0.6695])\n",
      "layer_in.s_mu tensor([1.1405, 0.7098])\n",
      "layer_in.s_logsig2 tensor([-10.0742,  -0.3605])\n"
     ]
    }
   ],
   "source": [
    "for name, p in model.named_parameters():\n",
    "    print(name, p.detach())"
   ]
  },
  {
   "cell_type": "code",
   "execution_count": 21,
   "metadata": {},
   "outputs": [
    {
     "data": {
      "text/plain": [
       "tensor([0.6111])"
      ]
     },
     "execution_count": 21,
     "metadata": {},
     "output_type": "execute_result"
    }
   ],
   "source": [
    "with torch.no_grad():\n",
    "    mu = model.layer_in.lognu_mu\n",
    "    sig2 = model.layer_in.lognu_logsig2.exp()\n",
    "\n",
    "    mean = torch.exp(mu + sig2/2)\n",
    "    var = (torch.exp(sig2)-1)*torch.exp(2*mu+sig2)\n",
    "mean"
   ]
  },
  {
   "cell_type": "code",
   "execution_count": 22,
   "metadata": {},
   "outputs": [
    {
     "data": {
      "text/plain": [
       "tensor([0.8896, 0.0032])"
      ]
     },
     "execution_count": 22,
     "metadata": {},
     "output_type": "execute_result"
    }
   ],
   "source": [
    "with torch.no_grad():\n",
    "    mu = model.layer_in.logeta_mu\n",
    "    sig2 = model.layer_in.logeta_logsig2.exp()\n",
    "\n",
    "    mean = torch.exp(mu + sig2/2)\n",
    "    var = (torch.exp(sig2)-1)*torch.exp(2*mu+sig2)\n",
    "mean"
   ]
  },
  {
   "cell_type": "code",
   "execution_count": 27,
   "metadata": {},
   "outputs": [
    {
     "data": {
      "text/plain": [
       "tensor([2.7228e-05, 1.8268e-05])"
      ]
     },
     "execution_count": 27,
     "metadata": {},
     "output_type": "execute_result"
    }
   ],
   "source": [
    "var"
   ]
  },
  {
   "cell_type": "code",
   "execution_count": 23,
   "metadata": {},
   "outputs": [
    {
     "data": {
      "text/plain": [
       "Text(0, 0.5, 'horseshoe parameter (for variable selection)')"
      ]
     },
     "execution_count": 23,
     "metadata": {},
     "output_type": "execute_result"
    },
    {
     "data": {
      "image/png": "[encoded data removed]",
      "text/plain": [
       "<Figure size 144x288 with 1 Axes>"
      ]
     },
     "metadata": {
      "needs_background": "light"
     },
     "output_type": "display_data"
    }
   ],
   "source": [
    "fig, ax = plt.subplots(figsize=(2,4))\n",
    "ax.errorbar(np.arange(model.dim_in), mean.detach(), yerr=var.detach(), fmt='o')\n",
    "ax.set_ylim(0,1.1*mean.max())\n",
    "ax.set_xticks(np.arange(model.dim_in))\n",
    "ax.set_xticklabels(['x'+str(z) for z in range(dim_in)])\n",
    "ax.set_ylabel('horseshoe parameter (for variable selection)')"
   ]
  },
  {
   "cell_type": "code",
   "execution_count": 24,
   "metadata": {},
   "outputs": [],
   "source": [
    "torch.distributions.kl_divergence?"
   ]
  },
  {
   "cell_type": "code",
   "execution_count": 27,
   "metadata": {},
   "outputs": [
    {
     "data": {
      "text/plain": [
       "tensor(0.2416)"
      ]
     },
     "execution_count": 27,
     "metadata": {},
     "output_type": "execute_result"
    }
   ],
   "source": [
    "from torch.distributions.beta import Beta\n",
    "\n",
    "d1 = Beta(torch.tensor(.5), torch.tensor(.5))\n",
    "d2 = Beta(torch.tensor(1.), torch.tensor(1.))\n",
    "\n",
    "torch.distributions.kl_divergence(d1,d2)"
   ]
  },
  {
   "cell_type": "code",
   "execution_count": 49,
   "metadata": {},
   "outputs": [],
   "source": [
    "a = nn.Parameter(torch.empty(1))\n",
    "a.data = torch.tensor(1.0)"
   ]
  },
  {
   "cell_type": "code",
   "execution_count": 52,
   "metadata": {},
   "outputs": [
    {
     "ename": "AttributeError",
     "evalue": "'NoneType' object has no attribute 'zero_'",
     "output_type": "error",
     "traceback": [
      "\u001b[0;31m---------------------------------------------------------------------------\u001b[0m",
      "\u001b[0;31mAttributeError\u001b[0m                            Traceback (most recent call last)",
      "\u001b[0;32m<ipython-input-52-47bfb153b9a1>\u001b[0m in \u001b[0;36m<module>\u001b[0;34m\u001b[0m\n\u001b[0;32m----> 1\u001b[0;31m \u001b[0ma\u001b[0m\u001b[0;34m.\u001b[0m\u001b[0mgrad\u001b[0m\u001b[0;34m.\u001b[0m\u001b[0mzero_\u001b[0m\u001b[0;34m(\u001b[0m\u001b[0;34m)\u001b[0m\u001b[0;34m\u001b[0m\u001b[0;34m\u001b[0m\u001b[0m\n\u001b[0m",
      "\u001b[0;31mAttributeError\u001b[0m: 'NoneType' object has no attribute 'zero_'"
     ]
    }
   ],
   "source": [
    "a.grad.zero_()"
   ]
  },
  {
   "cell_type": "code",
   "execution_count": 41,
   "metadata": {},
   "outputs": [
    {
     "data": {
      "text/plain": [
       "tensor(1., grad_fn=<SelectBackward>)"
      ]
     },
     "execution_count": 41,
     "metadata": {},
     "output_type": "execute_result"
    }
   ],
   "source": [
    "d1 = Beta(a, torch.tensor(.5))\n",
    "d1.concentration1"
   ]
  },
  {
   "cell_type": "code",
   "execution_count": 43,
   "metadata": {},
   "outputs": [],
   "source": [
    "a.data = torch.tensor(2.0)"
   ]
  },
  {
   "cell_type": "code",
   "execution_count": 44,
   "metadata": {},
   "outputs": [
    {
     "data": {
      "text/plain": [
       "tensor(1., grad_fn=<SelectBackward>)"
      ]
     },
     "execution_count": 44,
     "metadata": {},
     "output_type": "execute_result"
    }
   ],
   "source": [
    "d1.concentration1"
   ]
  },
  {
   "cell_type": "code",
   "execution_count": 46,
   "metadata": {},
   "outputs": [],
   "source": [
    "optimizer?"
   ]
  },
  {
   "cell_type": "markdown",
   "metadata": {},
   "source": [
    "#### GPy for comparison"
   ]
  },
  {
   "cell_type": "code",
   "execution_count": 29,
   "metadata": {},
   "outputs": [],
   "source": [
    "import GPy\n",
    "kernel = GPy.kern.RBF(input_dim=2, variance=1., lengthscale=1.)"
   ]
  },
  {
   "cell_type": "code",
   "execution_count": 30,
   "metadata": {},
   "outputs": [
    {
     "data": {
      "text/plain": [
       "[<paramz.optimization.optimization.opt_lbfgsb at 0x1436cdda0>,\n",
       " <paramz.optimization.optimization.opt_lbfgsb at 0x1435cd1d0>,\n",
       " <paramz.optimization.optimization.opt_lbfgsb at 0x1434be470>,\n",
       " <paramz.optimization.optimization.opt_lbfgsb at 0x1434beeb8>,\n",
       " <paramz.optimization.optimization.opt_lbfgsb at 0x1434be550>,\n",
       " <paramz.optimization.optimization.opt_lbfgsb at 0x1434bee48>,\n",
       " <paramz.optimization.optimization.opt_lbfgsb at 0x1434becf8>,\n",
       " <paramz.optimization.optimization.opt_lbfgsb at 0x1434befd0>,\n",
       " <paramz.optimization.optimization.opt_lbfgsb at 0x1434bee10>,\n",
       " <paramz.optimization.optimization.opt_lbfgsb at 0x1434be6a0>]"
      ]
     },
     "execution_count": 30,
     "metadata": {},
     "output_type": "execute_result"
    }
   ],
   "source": [
    "m = GPy.models.GPRegression(Z,Y,kernel)\n",
    "\n",
    "m.Gaussian_noise.variance = sig2\n",
    "m.Gaussian_noise.fix()\n",
    "m.optimize_restarts(num_restarts = 10, verbose=False)"
   ]
  },
  {
   "cell_type": "code",
   "execution_count": 41,
   "metadata": {},
   "outputs": [
    {
     "data": {
      "image/png": "[encoded data removed]",
      "text/plain": [
       "<Figure size 432x288 with 1 Axes>"
      ]
     },
     "metadata": {
      "needs_background": "light"
     },
     "output_type": "display_data"
    }
   ],
   "source": [
    "slices = [0]\n",
    "figure = GPy.plotting.plotting_library().figure(3, 1)\n",
    "for i, y in zip(range(3), slices):\n",
    "    canvas = m.plot(figure=figure, fixed_inputs=[(1,y)], row=(i+1), plot_data=True)\n",
    "#GPy.plotting.show(canvas, filename='basic_gp_regression_notebook_slicing')"
   ]
  },
  {
   "cell_type": "code",
   "execution_count": 42,
   "metadata": {},
   "outputs": [
    {
     "data": {
      "image/png": "[encoded data removed]",
      "text/plain": [
       "<Figure size 432x288 with 1 Axes>"
      ]
     },
     "metadata": {
      "needs_background": "light"
     },
     "output_type": "display_data"
    }
   ],
   "source": [
    "slices = [0]\n",
    "figure = GPy.plotting.plotting_library().figure(3, 1)\n",
    "for i, y in zip(range(3), slices):\n",
    "    canvas = m.plot(figure=figure, fixed_inputs=[(0,y)], row=(i+1), plot_data=True)\n",
    "#GPy.plotting.show(canvas, filename='basic_gp_regression_notebook_slicing_vertical')"
   ]
  },
  {
   "cell_type": "code",
   "execution_count": null,
   "metadata": {},
   "outputs": [],
   "source": []
  }
 ],
 "metadata": {
  "kernelspec": {
   "display_name": "Python 3",
   "language": "python",
   "name": "python3"
  },
  "language_info": {
   "codemirror_mode": {
    "name": "ipython",
    "version": 3
   },
   "file_extension": ".py",
   "mimetype": "text/x-python",
   "name": "python",
   "nbconvert_exporter": "python",
   "pygments_lexer": "ipython3",
   "version": "3.7.3"
  }
 },
 "nbformat": 4,
 "nbformat_minor": 2
}
