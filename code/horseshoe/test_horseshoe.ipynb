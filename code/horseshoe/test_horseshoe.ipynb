{
 "cells": [
  {
   "cell_type": "code",
   "execution_count": 1,
   "metadata": {},
   "outputs": [],
   "source": [
    "import torch\n",
    "import torch.nn as nn\n",
    "import torch.nn.functional as F\n",
    "from torch.distributions.normal import Normal\n",
    "import numpy as np\n",
    "import matplotlib.pyplot as plt\n",
    "import importlib\n",
    "import seaborn as sns\n",
    "\n",
    "import layers as layers\n",
    "import util as util\n",
    "import networks as networks"
   ]
  },
  {
   "cell_type": "code",
   "execution_count": 2,
   "metadata": {},
   "outputs": [
    {
     "data": {
      "text/plain": [
       "<module 'networks' from '/Users/beaucoker/Documents/git/VS-BNN/code/horseshoe/networks.py'>"
      ]
     },
     "execution_count": 2,
     "metadata": {},
     "output_type": "execute_result"
    }
   ],
   "source": [
    "importlib.reload(layers)\n",
    "importlib.reload(util)\n",
    "importlib.reload(networks)"
   ]
  },
  {
   "cell_type": "code",
   "execution_count": 3,
   "metadata": {},
   "outputs": [],
   "source": [
    "def plot_results(x, y, x_plot, model, n_samp=500):\n",
    "    plt.scatter(x.numpy(), y.numpy())\n",
    "    f_pred_plot = model(x_plot, sample_input_layer=False, weights_type='mean').detach()\n",
    "    plt.plot(x_plot.numpy(), f_pred_plot.numpy())\n",
    "    \n",
    "    f_samp_plot = torch.zeros(n_samp, x_plot.shape[0])\n",
    "    for i in range(n_samp):\n",
    "        f_samp_plot[i,:] = model(x_plot, sample_input_layer=True, weights_type='sample').detach().reshape(-1)\n",
    "\n",
    "    for q in [.025, .05, .1]:\n",
    "        ci = np.quantile(f_samp_plot.numpy(), [q, 1-q], axis=0)\n",
    "        plt.fill_between(x_plot.reshape(-1).numpy(), ci[0,:], ci[1,:], alpha=.1, color='blue')"
   ]
  },
  {
   "cell_type": "code",
   "execution_count": 4,
   "metadata": {},
   "outputs": [],
   "source": [
    "def plot_results_2d(x, y, x_plot, model, n_samp=500):\n",
    "    plt.scatter(x[:,0].numpy(), y.numpy())\n",
    "    f_pred_plot = model(x_plot, sample_input_layer=False, weights_type='mean').detach()\n",
    "    plt.plot(x_plot[:,0].numpy(), f_pred_plot.numpy())\n",
    "    \n",
    "    f_samp_plot = torch.zeros(n_samp, x_plot.shape[0])\n",
    "    for i in range(n_samp):\n",
    "        f_samp_plot[i,:] = model(x_plot, sample_input_layer=True, weights_type='sample').detach().reshape(-1)\n",
    "\n",
    "    for q in [.025, .05, .1]:\n",
    "        ci = np.quantile(f_samp_plot.numpy(), [q, 1-q], axis=0)\n",
    "        plt.fill_between(x_plot[:,0].reshape(-1).numpy(), ci[0,:], ci[1,:], alpha=.1, color='blue')"
   ]
  },
  {
   "cell_type": "markdown",
   "metadata": {},
   "source": [
    "## Basic testing"
   ]
  },
  {
   "cell_type": "markdown",
   "metadata": {},
   "source": [
    "#### Layer"
   ]
  },
  {
   "cell_type": "code",
   "execution_count": 5,
   "metadata": {},
   "outputs": [],
   "source": [
    "x = torch.empty((5,1)).normal_(0,1)\n",
    "y = torch.randn(5,1)"
   ]
  },
  {
   "cell_type": "markdown",
   "metadata": {},
   "source": [
    "rff layer"
   ]
  },
  {
   "cell_type": "code",
   "execution_count": 6,
   "metadata": {},
   "outputs": [],
   "source": [
    "l = layers.RffHsLayer(1,6)"
   ]
  },
  {
   "cell_type": "code",
   "execution_count": 7,
   "metadata": {},
   "outputs": [
    {
     "data": {
      "text/plain": [
       "tensor([[ 0.4319,  0.5514,  0.1227,  0.5538,  0.3404, -0.3607],\n",
       "        [ 0.4073,  0.5573,  0.1200,  0.5553,  0.3545, -0.3663],\n",
       "        [ 0.4340,  0.5508,  0.1230,  0.5537,  0.3391, -0.3602],\n",
       "        [ 0.4275,  0.5525,  0.1222,  0.5541,  0.3430, -0.3617],\n",
       "        [ 0.4099,  0.5567,  0.1203,  0.5551,  0.3531, -0.3657]],\n",
       "       grad_fn=<MulBackward0>)"
      ]
     },
     "execution_count": 7,
     "metadata": {},
     "output_type": "execute_result"
    }
   ],
   "source": [
    "l.forward(x, sample=True)"
   ]
  },
  {
   "cell_type": "code",
   "execution_count": 8,
   "metadata": {},
   "outputs": [
    {
     "data": {
      "text/plain": [
       "tensor(-20.3013, grad_fn=<AddBackward0>)"
      ]
     },
     "execution_count": 8,
     "metadata": {},
     "output_type": "execute_result"
    }
   ],
   "source": [
    "l.entropy()"
   ]
  },
  {
   "cell_type": "code",
   "execution_count": 9,
   "metadata": {},
   "outputs": [
    {
     "data": {
      "text/plain": [
       "tensor(32.7447, grad_fn=<AddBackward0>)"
      ]
     },
     "execution_count": 9,
     "metadata": {},
     "output_type": "execute_result"
    }
   ],
   "source": [
    "l.cross_entropy()"
   ]
  },
  {
   "cell_type": "code",
   "execution_count": 10,
   "metadata": {},
   "outputs": [
    {
     "data": {
      "text/plain": [
       "tensor(53.0460, grad_fn=<SubBackward0>)"
      ]
     },
     "execution_count": 10,
     "metadata": {},
     "output_type": "execute_result"
    }
   ],
   "source": [
    "l.kl_divergence()"
   ]
  },
  {
   "cell_type": "code",
   "execution_count": 11,
   "metadata": {},
   "outputs": [],
   "source": [
    "l.fixed_point_updates()"
   ]
  },
  {
   "cell_type": "markdown",
   "metadata": {},
   "source": [
    "Linear layer"
   ]
  },
  {
   "cell_type": "code",
   "execution_count": 12,
   "metadata": {},
   "outputs": [],
   "source": [
    "\n",
    "h = torch.randn(5,3)\n",
    "l = layers.LinearLayer(3)"
   ]
  },
  {
   "cell_type": "code",
   "execution_count": 13,
   "metadata": {},
   "outputs": [],
   "source": [
    "l.fixed_point_updates(h,y)"
   ]
  },
  {
   "cell_type": "code",
   "execution_count": 14,
   "metadata": {},
   "outputs": [
    {
     "ename": "UnboundLocalError",
     "evalue": "local variable 'w' referenced before assignment",
     "output_type": "error",
     "traceback": [
      "\u001b[0;31m---------------------------------------------------------------------------\u001b[0m",
      "\u001b[0;31mUnboundLocalError\u001b[0m                         Traceback (most recent call last)",
      "\u001b[0;32m<ipython-input-14-8e0cd26f6c46>\u001b[0m in \u001b[0;36m<module>\u001b[0;34m\u001b[0m\n\u001b[0;32m----> 1\u001b[0;31m \u001b[0ml\u001b[0m\u001b[0;34m.\u001b[0m\u001b[0mforward\u001b[0m\u001b[0;34m(\u001b[0m\u001b[0mh\u001b[0m\u001b[0;34m,\u001b[0m \u001b[0;32mTrue\u001b[0m\u001b[0;34m)\u001b[0m\u001b[0;34m\u001b[0m\u001b[0;34m\u001b[0m\u001b[0m\n\u001b[0m",
      "\u001b[0;32m~/Documents/git/VS-BNN/code/horseshoe/layers.py\u001b[0m in \u001b[0;36mforward\u001b[0;34m(self, x, weights_type)\u001b[0m\n\u001b[1;32m     67\u001b[0m             \u001b[0mw\u001b[0m \u001b[0;34m=\u001b[0m \u001b[0mself\u001b[0m\u001b[0;34m.\u001b[0m\u001b[0mw\u001b[0m\u001b[0;34m\u001b[0m\u001b[0;34m\u001b[0m\u001b[0m\n\u001b[1;32m     68\u001b[0m \u001b[0;34m\u001b[0m\u001b[0m\n\u001b[0;32m---> 69\u001b[0;31m         \u001b[0;32mreturn\u001b[0m \u001b[0mF\u001b[0m\u001b[0;34m.\u001b[0m\u001b[0mlinear\u001b[0m\u001b[0;34m(\u001b[0m\u001b[0mx\u001b[0m\u001b[0;34m,\u001b[0m \u001b[0mw\u001b[0m\u001b[0;34m)\u001b[0m\u001b[0;34m\u001b[0m\u001b[0;34m\u001b[0m\u001b[0m\n\u001b[0m\u001b[1;32m     70\u001b[0m \u001b[0;34m\u001b[0m\u001b[0m\n\u001b[1;32m     71\u001b[0m \u001b[0;34m\u001b[0m\u001b[0m\n",
      "\u001b[0;31mUnboundLocalError\u001b[0m: local variable 'w' referenced before assignment"
     ]
    }
   ],
   "source": [
    "l.forward(h, True)"
   ]
  },
  {
   "cell_type": "code",
   "execution_count": null,
   "metadata": {},
   "outputs": [],
   "source": [
    "l.init_parameters()"
   ]
  },
  {
   "cell_type": "code",
   "execution_count": null,
   "metadata": {},
   "outputs": [],
   "source": []
  },
  {
   "cell_type": "markdown",
   "metadata": {},
   "source": [
    "## Infer prior"
   ]
  },
  {
   "cell_type": "code",
   "execution_count": 190,
   "metadata": {},
   "outputs": [
    {
     "data": {
      "text/plain": [
       "<module 'networks' from '/Users/beaucoker/Documents/git/VS-BNN/code/horseshoe/networks.py'>"
      ]
     },
     "execution_count": 190,
     "metadata": {},
     "output_type": "execute_result"
    }
   ],
   "source": [
    "importlib.reload(layers)\n",
    "importlib.reload(util)\n",
    "importlib.reload(networks)"
   ]
  },
  {
   "cell_type": "markdown",
   "metadata": {},
   "source": [
    "Dataset is sample from the prior"
   ]
  },
  {
   "cell_type": "code",
   "execution_count": 191,
   "metadata": {},
   "outputs": [],
   "source": [
    "model = networks.RffHs(1, 1, dim_hidden=50, sig2_inv=1/.1)"
   ]
  },
  {
   "cell_type": "code",
   "execution_count": 197,
   "metadata": {},
   "outputs": [
    {
     "data": {
      "text/plain": [
       "<matplotlib.collections.PathCollection at 0x12b088278>"
      ]
     },
     "execution_count": 197,
     "metadata": {},
     "output_type": "execute_result"
    },
    {
     "data": {
      "image/png": "[encoded data removed]",
      "text/plain": [
       "<Figure size 432x288 with 1 Axes>"
      ]
     },
     "metadata": {
      "needs_background": "light"
     },
     "output_type": "display_data"
    }
   ],
   "source": [
    "n_obs = 10\n",
    "sig2 = .001\n",
    "\n",
    "torch.manual_seed(1)\n",
    "model.init_parameters()\n",
    "x = torch.linspace(-1,1, n_obs).reshape(-1,1)\n",
    "y = model.forward(x, sample=False).detach() + sig2*torch.randn(n_obs).reshape(-1,1)\n",
    "plt.scatter(x.numpy(), y.numpy())"
   ]
  },
  {
   "cell_type": "code",
   "execution_count": 178,
   "metadata": {},
   "outputs": [
    {
     "name": "stdout",
     "output_type": "stream",
     "text": [
      "Epoch[250/1000], kl: 1052.906616, likelihood: 2.262321, elbo: -1050.595215\n",
      "Epoch[500/1000], kl: 1044.439209, likelihood: 0.835122, elbo: -1042.244873\n",
      "Epoch[750/1000], kl: 1036.899292, likelihood: 1.461719, elbo: -1036.358887\n",
      "Epoch[1000/1000], kl: 1030.976562, likelihood: 0.789685, elbo: -1030.020142\n"
     ]
    },
    {
     "data": {
      "text/plain": [
       "[<matplotlib.lines.Line2D at 0x12a9d5ef0>]"
      ]
     },
     "execution_count": 178,
     "metadata": {},
     "output_type": "execute_result"
    },
    {
     "data": {
      "image/png": "[encoded data removed]",
      "text/plain": [
       "<Figure size 432x288 with 1 Axes>"
      ]
     },
     "metadata": {
      "needs_background": "light"
     },
     "output_type": "display_data"
    }
   ],
   "source": [
    "optimizer = torch.optim.Adam(model.parameters(), lr=.001)\n",
    "#model.reinit_parameters(x,y,n_reinit=10) # comment out to start at truth\n",
    "elbo = -networks.train(model, optimizer, x, y, n_epochs=1000, print_freq=250)\n",
    "plt.plot(elbo)"
   ]
  },
  {
   "cell_type": "code",
   "execution_count": 198,
   "metadata": {},
   "outputs": [
    {
     "data": {
      "text/plain": [
       "tensor([0.2478], grad_fn=<ExpBackward>)"
      ]
     },
     "execution_count": 198,
     "metadata": {},
     "output_type": "execute_result"
    }
   ],
   "source": [
    "torch.exp(model.layer_in.lognu_mu + model.layer_in.lognu_logsig2.exp()/2)"
   ]
  },
  {
   "cell_type": "code",
   "execution_count": 199,
   "metadata": {},
   "outputs": [
    {
     "data": {
      "text/plain": [
       "tensor([0.1375], grad_fn=<ExpBackward>)"
      ]
     },
     "execution_count": 199,
     "metadata": {},
     "output_type": "execute_result"
    }
   ],
   "source": [
    "torch.exp(model.layer_in.logeta_mu + model.layer_in.logeta_logsig2.exp()/2)"
   ]
  },
  {
   "cell_type": "code",
   "execution_count": 180,
   "metadata": {},
   "outputs": [
    {
     "data": {
      "image/png": "[encoded data removed]",
      "text/plain": [
       "<Figure size 432x288 with 1 Axes>"
      ]
     },
     "metadata": {
      "needs_background": "light"
     },
     "output_type": "display_data"
    }
   ],
   "source": [
    "x_plot = torch.linspace(-1,1,100).reshape(-1,1)\n",
    "plot_results(x,y,x_plot, model)"
   ]
  },
  {
   "cell_type": "code",
   "execution_count": 133,
   "metadata": {},
   "outputs": [
    {
     "name": "stdout",
     "output_type": "stream",
     "text": [
      "layer_in.lognu_mu\n",
      "layer_in.lognu_logsig2\n",
      "layer_in.logeta_mu\n",
      "layer_in.logeta_logsig2\n"
     ]
    }
   ],
   "source": [
    "for name, p in model.named_parameters():\n",
    "    print(name)"
   ]
  },
  {
   "cell_type": "markdown",
   "metadata": {},
   "source": [
    "## Very simple"
   ]
  },
  {
   "cell_type": "code",
   "execution_count": 170,
   "metadata": {},
   "outputs": [
    {
     "data": {
      "text/plain": [
       "<module 'networks' from '/Users/beaucoker/Documents/git/VS-BNN/code/horseshoe/networks.py'>"
      ]
     },
     "execution_count": 170,
     "metadata": {},
     "output_type": "execute_result"
    }
   ],
   "source": [
    "importlib.reload(layers)\n",
    "importlib.reload(util)\n",
    "importlib.reload(networks)"
   ]
  },
  {
   "cell_type": "code",
   "execution_count": 171,
   "metadata": {},
   "outputs": [
    {
     "data": {
      "text/plain": [
       "<matplotlib.collections.PathCollection at 0x12d31bb38>"
      ]
     },
     "execution_count": 171,
     "metadata": {},
     "output_type": "execute_result"
    },
    {
     "data": {
      "image/png": "[encoded data removed]",
      "text/plain": [
       "<Figure size 432x288 with 1 Axes>"
      ]
     },
     "metadata": {
      "needs_background": "light"
     },
     "output_type": "display_data"
    }
   ],
   "source": [
    "n_obs = 10\n",
    "sig2 = .1\n",
    "x = torch.linspace(-1,1,n_obs).reshape(-1,1)\n",
    "y = x + sig2*torch.randn(n_obs).reshape(-1,1)\n",
    "plt.scatter(x.numpy(), y.numpy()) "
   ]
  },
  {
   "cell_type": "code",
   "execution_count": 172,
   "metadata": {},
   "outputs": [],
   "source": [
    "torch.manual_seed(2)\n",
    "model = networks.RffHs(1, 1, dim_hidden=50, sig2_inv=1/sig2)"
   ]
  },
  {
   "cell_type": "code",
   "execution_count": 173,
   "metadata": {},
   "outputs": [
    {
     "name": "stdout",
     "output_type": "stream",
     "text": [
      "before: 53.12535095214844\n",
      "temp:  0.0\n",
      "after: 49.41743087768555\n",
      "Epoch[1/20], kl: 9.870914, likelihood: 0.905743, elbo: -8.969007\n",
      "before: 8.969561576843262\n",
      "temp:  0.1\n",
      "after: 8.88606071472168\n",
      "Epoch[2/20], kl: 9.813745, likelihood: -1.406684, elbo: -11.193604\n",
      "before: 11.190902709960938\n",
      "temp:  0.2\n",
      "after: 11.076574325561523\n",
      "Epoch[3/20], kl: 9.693310, likelihood: -4.289975, elbo: -13.893942\n",
      "before: 13.523109436035156\n",
      "temp:  0.3\n",
      "after: 9.888239860534668\n",
      "Epoch[4/20], kl: 9.587626, likelihood: -0.517507, elbo: -10.289548\n",
      "before: 10.180636405944824\n",
      "temp:  0.4\n",
      "after: 9.839422225952148\n",
      "Epoch[5/20], kl: 9.473281, likelihood: 1.318923, elbo: -8.191963\n",
      "before: 8.208085060119629\n",
      "temp:  0.5\n",
      "after: 7.974469184875488\n",
      "Epoch[6/20], kl: 9.351330, likelihood: -0.869817, elbo: -10.190041\n",
      "before: 10.234725952148438\n",
      "temp:  0.6\n",
      "after: 9.745489120483398\n",
      "Epoch[7/20], kl: 9.226768, likelihood: -3.648032, elbo: -12.937802\n",
      "before: 12.962788581848145\n",
      "temp:  0.7\n",
      "after: 12.813364028930664\n",
      "Epoch[8/20], kl: 9.110188, likelihood: -0.991002, elbo: -10.202485\n",
      "before: 10.170659065246582\n",
      "temp:  0.8\n",
      "after: 9.909881591796875\n",
      "Epoch[9/20], kl: 8.993772, likelihood: 0.516442, elbo: -8.514904\n",
      "before: 8.574566841125488\n",
      "temp:  0.9\n",
      "after: 7.143982410430908\n",
      "Epoch[10/20], kl: 8.893478, likelihood: -0.389102, elbo: -9.649454\n",
      "before: 9.371540069580078\n",
      "temp:  1\n",
      "after: 9.17525577545166\n",
      "Epoch[11/20], kl: 8.780655, likelihood: -0.821216, elbo: -9.597268\n",
      "before: 9.609685897827148\n",
      "temp:  1\n",
      "after: 9.490875244140625\n",
      "Epoch[12/20], kl: 8.676559, likelihood: 0.935631, elbo: -7.754314\n",
      "before: 7.739559173583984\n",
      "temp:  1\n",
      "after: 7.688526630401611\n",
      "Epoch[13/20], kl: 8.577310, likelihood: -2.633185, elbo: -10.935376\n",
      "before: 11.204422950744629\n",
      "temp:  1\n",
      "after: 10.14559268951416\n",
      "Epoch[14/20], kl: 8.467592, likelihood: -0.752855, elbo: -9.215817\n",
      "before: 8.800581932067871\n",
      "temp:  1\n",
      "after: 8.04959487915039\n",
      "Epoch[15/20], kl: 8.375171, likelihood: 1.343818, elbo: -6.994237\n",
      "before: 7.895839214324951\n",
      "temp:  1\n",
      "after: 6.5035014152526855\n",
      "Epoch[16/20], kl: 8.269225, likelihood: 1.082950, elbo: -7.377709\n",
      "before: 7.180617332458496\n",
      "temp:  1\n",
      "after: 6.855913162231445\n",
      "Epoch[17/20], kl: 8.165972, likelihood: -0.167904, elbo: -9.013445\n",
      "before: 8.419046401977539\n",
      "temp:  1\n",
      "after: 8.111990928649902\n",
      "Epoch[18/20], kl: 8.068831, likelihood: 1.550363, elbo: -6.601218\n",
      "before: 6.515164375305176\n",
      "temp:  1\n",
      "after: 6.412643909454346\n",
      "Epoch[19/20], kl: 7.967602, likelihood: -1.402382, elbo: -10.143888\n",
      "before: 10.22087287902832\n",
      "temp:  1\n",
      "after: 8.729658126831055\n",
      "Epoch[20/20], kl: 7.867055, likelihood: 0.476555, elbo: -7.378306\n"
     ]
    },
    {
     "data": {
      "text/plain": [
       "[<matplotlib.lines.Line2D at 0x12c662048>]"
      ]
     },
     "execution_count": 173,
     "metadata": {},
     "output_type": "execute_result"
    },
    {
     "data": {
      "image/png": "[encoded data removed]",
      "text/plain": [
       "<Figure size 432x288 with 1 Axes>"
      ]
     },
     "metadata": {
      "needs_background": "light"
     },
     "output_type": "display_data"
    }
   ],
   "source": [
    "torch.manual_seed(2)\n",
    "optimizer = torch.optim.Adam(model.parameters(), lr=.0001)\n",
    "model.reinit_parameters(x,y,n_reinit=10) \n",
    "elbo = -networks.train(model, optimizer, x, y, n_epochs=20, n_rep_opt=1000, print_freq=1)\n",
    "plt.plot(-elbo)"
   ]
  },
  {
   "cell_type": "code",
   "execution_count": 174,
   "metadata": {},
   "outputs": [
    {
     "data": {
      "image/png": "[encoded data removed]",
      "text/plain": [
       "<Figure size 432x288 with 1 Axes>"
      ]
     },
     "metadata": {
      "needs_background": "light"
     },
     "output_type": "display_data"
    }
   ],
   "source": [
    "x_plot = torch.linspace(-1,1,100).reshape(-1,1)\n",
    "plot_results(x,y,x_plot, model)"
   ]
  },
  {
   "cell_type": "code",
   "execution_count": 156,
   "metadata": {},
   "outputs": [
    {
     "data": {
      "text/plain": [
       "tensor(-1.0373, grad_fn=<AddBackward0>)"
      ]
     },
     "execution_count": 156,
     "metadata": {},
     "output_type": "execute_result"
    }
   ],
   "source": [
    "model.loss(x, y, x_linear=None, temperature=1)"
   ]
  },
  {
   "cell_type": "code",
   "execution_count": 175,
   "metadata": {},
   "outputs": [
    {
     "name": "stdout",
     "output_type": "stream",
     "text": [
      "layer_in.lognu_mu -0.3546416163444519\n",
      "layer_in.lognu_logsig2 -7.0078606605529785\n",
      "layer_in.logeta_mu 0.264578640460968\n",
      "layer_in.logeta_logsig2 -7.000840663909912\n"
     ]
    }
   ],
   "source": [
    "for name, p in model.named_parameters():\n",
    "    print(name, p.detach().item())"
   ]
  },
  {
   "cell_type": "code",
   "execution_count": 158,
   "metadata": {},
   "outputs": [
    {
     "data": {
      "text/plain": [
       "tensor([2.4350])"
      ]
     },
     "execution_count": 158,
     "metadata": {},
     "output_type": "execute_result"
    }
   ],
   "source": [
    "model.layer_in.vtheta_b"
   ]
  },
  {
   "cell_type": "code",
   "execution_count": 159,
   "metadata": {},
   "outputs": [
    {
     "data": {
      "text/plain": [
       "tensor([1.7287])"
      ]
     },
     "execution_count": 159,
     "metadata": {},
     "output_type": "execute_result"
    }
   ],
   "source": [
    "model.layer_in.psi_b"
   ]
  },
  {
   "cell_type": "markdown",
   "metadata": {},
   "source": [
    "## Checking KL"
   ]
  },
  {
   "cell_type": "code",
   "execution_count": 128,
   "metadata": {},
   "outputs": [
    {
     "data": {
      "text/plain": [
       "<module 'networks' from '/Users/beaucoker/Documents/git/VS-BNN/code/horseshoe/networks.py'>"
      ]
     },
     "execution_count": 128,
     "metadata": {},
     "output_type": "execute_result"
    }
   ],
   "source": [
    "importlib.reload(layers)\n",
    "importlib.reload(util)\n",
    "importlib.reload(networks)"
   ]
  },
  {
   "cell_type": "code",
   "execution_count": 129,
   "metadata": {},
   "outputs": [],
   "source": [
    "torch.manual_seed(2)\n",
    "model = networks.RffHs(1, 1, dim_hidden=50, sig2_inv=1/sig2)"
   ]
  },
  {
   "cell_type": "markdown",
   "metadata": {},
   "source": [
    "entropy: lognormal"
   ]
  },
  {
   "cell_type": "code",
   "execution_count": 130,
   "metadata": {},
   "outputs": [
    {
     "data": {
      "text/plain": [
       "tensor(-2.5203, grad_fn=<AddBackward0>)"
      ]
     },
     "execution_count": 130,
     "metadata": {},
     "output_type": "execute_result"
    }
   ],
   "source": [
    "# My code\n",
    "self = model.layer_in\n",
    "util.lognormal_entropy(self.lognu_logsig2.exp().sqrt().log(), self.lognu_mu, 1)\n"
   ]
  },
  {
   "cell_type": "code",
   "execution_count": 131,
   "metadata": {},
   "outputs": [
    {
     "data": {
      "text/plain": [
       "tensor([-2.5203], grad_fn=<AddBackward0>)"
      ]
     },
     "execution_count": 131,
     "metadata": {},
     "output_type": "execute_result"
    }
   ],
   "source": [
    "# Torch \n",
    "m = torch.distributions.log_normal.LogNormal(self.lognu_mu, \\\n",
    "                                             self.lognu_logsig2.exp().sqrt())\n",
    "m.entropy()"
   ]
  },
  {
   "cell_type": "markdown",
   "metadata": {},
   "source": [
    "entropy: invgamma"
   ]
  },
  {
   "cell_type": "code",
   "execution_count": 132,
   "metadata": {},
   "outputs": [
    {
     "data": {
      "text/plain": [
       "tensor(2.6055, grad_fn=<SumBackward0>)"
      ]
     },
     "execution_count": 132,
     "metadata": {},
     "output_type": "execute_result"
    }
   ],
   "source": [
    "# My code\n",
    "util.entropy_invgamma(self.vtheta_a, self.vtheta_b)\n"
   ]
  },
  {
   "cell_type": "code",
   "execution_count": 133,
   "metadata": {},
   "outputs": [
    {
     "data": {
      "text/plain": [
       "array(2.60545596)"
      ]
     },
     "execution_count": 133,
     "metadata": {},
     "output_type": "execute_result"
    }
   ],
   "source": [
    "# Scipy\n",
    "from scipy.stats import invgamma\n",
    "ig = invgamma(a=self.vtheta_a.item(), scale=self.vtheta_b.item())\n",
    "ig.entropy()"
   ]
  },
  {
   "cell_type": "code",
   "execution_count": null,
   "metadata": {},
   "outputs": [],
   "source": []
  },
  {
   "cell_type": "markdown",
   "metadata": {},
   "source": [
    "## Very simple 2D"
   ]
  },
  {
   "cell_type": "code",
   "execution_count": 203,
   "metadata": {},
   "outputs": [
    {
     "data": {
      "text/plain": [
       "<module 'networks' from '/Users/beaucoker/Documents/git/VS-BNN/code/horseshoe/networks.py'>"
      ]
     },
     "execution_count": 203,
     "metadata": {},
     "output_type": "execute_result"
    }
   ],
   "source": [
    "importlib.reload(layers)\n",
    "importlib.reload(util)\n",
    "importlib.reload(networks)"
   ]
  },
  {
   "cell_type": "code",
   "execution_count": 204,
   "metadata": {},
   "outputs": [
    {
     "data": {
      "text/plain": [
       "<matplotlib.collections.PathCollection at 0x12d770898>"
      ]
     },
     "execution_count": 204,
     "metadata": {},
     "output_type": "execute_result"
    },
    {
     "data": {
      "image/png": "[encoded data removed]",
      "text/plain": [
       "<Figure size 432x288 with 1 Axes>"
      ]
     },
     "metadata": {
      "needs_background": "light"
     },
     "output_type": "display_data"
    }
   ],
   "source": [
    "n_obs = 100\n",
    "sig2 = .01\n",
    "x1 = torch.linspace(-1,1,n_obs).reshape(-1,1)\n",
    "y = x1 + sig2*torch.randn(n_obs).reshape(-1,1)\n",
    "\n",
    "x2 = torch.randn(n_obs).reshape(-1,1)\n",
    "x = torch.cat([x1,x2],dim=1)\n",
    "plt.scatter(x1.numpy(), y.numpy()) "
   ]
  },
  {
   "cell_type": "code",
   "execution_count": 205,
   "metadata": {},
   "outputs": [],
   "source": [
    "torch.manual_seed(2)\n",
    "model = networks.RffHs(2, 1, dim_hidden=50, sig2_inv=1/sig2)"
   ]
  },
  {
   "cell_type": "code",
   "execution_count": 206,
   "metadata": {},
   "outputs": [
    {
     "name": "stdout",
     "output_type": "stream",
     "text": [
      "before: 14453.8662109375\n",
      "temp:  0.0\n",
      "after: 14454.630859375\n",
      "Using np.random.multivariate_normal\n",
      "Epoch[1/1], kl: 19.028212, likelihood: -330231.625000, elbo: -328937.406250\n"
     ]
    },
    {
     "data": {
      "text/plain": [
       "[<matplotlib.lines.Line2D at 0x12dab7908>]"
      ]
     },
     "execution_count": 206,
     "metadata": {},
     "output_type": "execute_result"
    },
    {
     "data": {
      "image/png": "[encoded data removed]",
      "text/plain": [
       "<Figure size 432x288 with 1 Axes>"
      ]
     },
     "metadata": {
      "needs_background": "light"
     },
     "output_type": "display_data"
    }
   ],
   "source": [
    "torch.manual_seed(2)\n",
    "optimizer = torch.optim.Adam(model.parameters(), lr=.0001)\n",
    "model.reinit_parameters(x,y,n_reinit=10) \n",
    "elbo = -networks.train(model, optimizer, x, y, n_epochs=1, n_rep_opt=100, print_freq=1)\n",
    "plt.plot(-elbo)"
   ]
  },
  {
   "cell_type": "code",
   "execution_count": 207,
   "metadata": {},
   "outputs": [
    {
     "name": "stdout",
     "output_type": "stream",
     "text": [
      "Using np.random.multivariate_normal\n",
      "Using np.random.multivariate_normal\n",
      "Using np.random.multivariate_normal\n",
      "Using np.random.multivariate_normal\n",
      "Using np.random.multivariate_normal\n",
      "Using np.random.multivariate_normal\n",
      "Using np.random.multivariate_normal\n",
      "Using np.random.multivariate_normal\n",
      "Using np.random.multivariate_normal\n",
      "Using np.random.multivariate_normal\n",
      "Using np.random.multivariate_normal\n",
      "Using np.random.multivariate_normal\n",
      "Using np.random.multivariate_normal\n",
      "Using np.random.multivariate_normal\n",
      "Using np.random.multivariate_normal\n",
      "Using np.random.multivariate_normal\n",
      "Using np.random.multivariate_normal\n",
      "Using np.random.multivariate_normal\n",
      "Using np.random.multivariate_normal\n",
      "Using np.random.multivariate_normal\n",
      "Using np.random.multivariate_normal\n",
      "Using np.random.multivariate_normal\n",
      "Using np.random.multivariate_normal\n",
      "Using np.random.multivariate_normal\n",
      "Using np.random.multivariate_normal\n",
      "Using np.random.multivariate_normal\n",
      "Using np.random.multivariate_normal\n",
      "Using np.random.multivariate_normal\n",
      "Using np.random.multivariate_normal\n",
      "Using np.random.multivariate_normal\n",
      "Using np.random.multivariate_normal\n",
      "Using np.random.multivariate_normal\n",
      "Using np.random.multivariate_normal\n",
      "Using np.random.multivariate_normal\n",
      "Using np.random.multivariate_normal\n",
      "Using np.random.multivariate_normal\n",
      "Using np.random.multivariate_normal\n",
      "Using np.random.multivariate_normal\n",
      "Using np.random.multivariate_normal\n",
      "Using np.random.multivariate_normal\n",
      "Using np.random.multivariate_normal\n",
      "Using np.random.multivariate_normal\n",
      "Using np.random.multivariate_normal\n",
      "Using np.random.multivariate_normal\n",
      "Using np.random.multivariate_normal\n",
      "Using np.random.multivariate_normal\n",
      "Using np.random.multivariate_normal\n",
      "Using np.random.multivariate_normal\n",
      "Using np.random.multivariate_normal\n",
      "Using np.random.multivariate_normal\n",
      "Using np.random.multivariate_normal\n",
      "Using np.random.multivariate_normal\n",
      "Using np.random.multivariate_normal\n",
      "Using np.random.multivariate_normal\n",
      "Using np.random.multivariate_normal\n",
      "Using np.random.multivariate_normal\n",
      "Using np.random.multivariate_normal\n",
      "Using np.random.multivariate_normal\n",
      "Using np.random.multivariate_normal\n",
      "Using np.random.multivariate_normal\n",
      "Using np.random.multivariate_normal\n",
      "Using np.random.multivariate_normal\n",
      "Using np.random.multivariate_normal\n",
      "Using np.random.multivariate_normal\n",
      "Using np.random.multivariate_normal\n",
      "Using np.random.multivariate_normal\n",
      "Using np.random.multivariate_normal\n",
      "Using np.random.multivariate_normal\n",
      "Using np.random.multivariate_normal\n",
      "Using np.random.multivariate_normal\n",
      "Using np.random.multivariate_normal\n",
      "Using np.random.multivariate_normal\n",
      "Using np.random.multivariate_normal\n",
      "Using np.random.multivariate_normal\n",
      "Using np.random.multivariate_normal\n",
      "Using np.random.multivariate_normal\n",
      "Using np.random.multivariate_normal\n",
      "Using np.random.multivariate_normal\n",
      "Using np.random.multivariate_normal\n",
      "Using np.random.multivariate_normal\n",
      "Using np.random.multivariate_normal\n",
      "Using np.random.multivariate_normal\n",
      "Using np.random.multivariate_normal\n",
      "Using np.random.multivariate_normal\n",
      "Using np.random.multivariate_normal\n",
      "Using np.random.multivariate_normal\n",
      "Using np.random.multivariate_normal\n",
      "Using np.random.multivariate_normal\n",
      "Using np.random.multivariate_normal\n",
      "Using np.random.multivariate_normal\n",
      "Using np.random.multivariate_normal\n",
      "Using np.random.multivariate_normal\n",
      "Using np.random.multivariate_normal\n",
      "Using np.random.multivariate_normal\n",
      "Using np.random.multivariate_normal\n",
      "Using np.random.multivariate_normal\n",
      "Using np.random.multivariate_normal\n",
      "Using np.random.multivariate_normal\n",
      "Using np.random.multivariate_normal\n",
      "Using np.random.multivariate_normal\n",
      "Using np.random.multivariate_normal\n",
      "Using np.random.multivariate_normal\n",
      "Using np.random.multivariate_normal\n",
      "Using np.random.multivariate_normal\n",
      "Using np.random.multivariate_normal\n",
      "Using np.random.multivariate_normal\n",
      "Using np.random.multivariate_normal\n",
      "Using np.random.multivariate_normal\n",
      "Using np.random.multivariate_normal\n",
      "Using np.random.multivariate_normal\n",
      "Using np.random.multivariate_normal\n",
      "Using np.random.multivariate_normal\n",
      "Using np.random.multivariate_normal\n",
      "Using np.random.multivariate_normal\n",
      "Using np.random.multivariate_normal\n",
      "Using np.random.multivariate_normal\n",
      "Using np.random.multivariate_normal\n",
      "Using np.random.multivariate_normal\n",
      "Using np.random.multivariate_normal\n",
      "Using np.random.multivariate_normal\n",
      "Using np.random.multivariate_normal\n",
      "Using np.random.multivariate_normal\n",
      "Using np.random.multivariate_normal\n",
      "Using np.random.multivariate_normal\n",
      "Using np.random.multivariate_normal\n",
      "Using np.random.multivariate_normal\n",
      "Using np.random.multivariate_normal\n",
      "Using np.random.multivariate_normal\n",
      "Using np.random.multivariate_normal\n",
      "Using np.random.multivariate_normal\n",
      "Using np.random.multivariate_normal\n",
      "Using np.random.multivariate_normal\n",
      "Using np.random.multivariate_normal\n",
      "Using np.random.multivariate_normal\n",
      "Using np.random.multivariate_normal\n",
      "Using np.random.multivariate_normal\n",
      "Using np.random.multivariate_normal\n",
      "Using np.random.multivariate_normal\n",
      "Using np.random.multivariate_normal\n",
      "Using np.random.multivariate_normal\n",
      "Using np.random.multivariate_normal\n",
      "Using np.random.multivariate_normal\n",
      "Using np.random.multivariate_normal\n",
      "Using np.random.multivariate_normal\n",
      "Using np.random.multivariate_normal\n",
      "Using np.random.multivariate_normal\n",
      "Using np.random.multivariate_normal\n",
      "Using np.random.multivariate_normal\n",
      "Using np.random.multivariate_normal\n",
      "Using np.random.multivariate_normal\n",
      "Using np.random.multivariate_normal\n",
      "Using np.random.multivariate_normal\n",
      "Using np.random.multivariate_normal\n",
      "Using np.random.multivariate_normal\n",
      "Using np.random.multivariate_normal\n",
      "Using np.random.multivariate_normal\n",
      "Using np.random.multivariate_normal\n",
      "Using np.random.multivariate_normal\n",
      "Using np.random.multivariate_normal\n",
      "Using np.random.multivariate_normal\n",
      "Using np.random.multivariate_normal\n",
      "Using np.random.multivariate_normal\n",
      "Using np.random.multivariate_normal\n",
      "Using np.random.multivariate_normal\n",
      "Using np.random.multivariate_normal\n",
      "Using np.random.multivariate_normal\n",
      "Using np.random.multivariate_normal\n",
      "Using np.random.multivariate_normal\n",
      "Using np.random.multivariate_normal\n",
      "Using np.random.multivariate_normal\n",
      "Using np.random.multivariate_normal\n",
      "Using np.random.multivariate_normal\n",
      "Using np.random.multivariate_normal\n",
      "Using np.random.multivariate_normal\n",
      "Using np.random.multivariate_normal\n",
      "Using np.random.multivariate_normal\n",
      "Using np.random.multivariate_normal\n",
      "Using np.random.multivariate_normal\n",
      "Using np.random.multivariate_normal\n",
      "Using np.random.multivariate_normal\n",
      "Using np.random.multivariate_normal\n",
      "Using np.random.multivariate_normal\n",
      "Using np.random.multivariate_normal\n",
      "Using np.random.multivariate_normal\n",
      "Using np.random.multivariate_normal\n",
      "Using np.random.multivariate_normal\n",
      "Using np.random.multivariate_normal\n",
      "Using np.random.multivariate_normal\n",
      "Using np.random.multivariate_normal\n",
      "Using np.random.multivariate_normal\n",
      "Using np.random.multivariate_normal\n",
      "Using np.random.multivariate_normal\n",
      "Using np.random.multivariate_normal\n",
      "Using np.random.multivariate_normal\n",
      "Using np.random.multivariate_normal\n",
      "Using np.random.multivariate_normal\n",
      "Using np.random.multivariate_normal\n",
      "Using np.random.multivariate_normal\n",
      "Using np.random.multivariate_normal\n",
      "Using np.random.multivariate_normal\n",
      "Using np.random.multivariate_normal\n",
      "Using np.random.multivariate_normal\n",
      "Using np.random.multivariate_normal\n",
      "Using np.random.multivariate_normal\n",
      "Using np.random.multivariate_normal\n",
      "Using np.random.multivariate_normal\n",
      "Using np.random.multivariate_normal\n",
      "Using np.random.multivariate_normal\n",
      "Using np.random.multivariate_normal\n",
      "Using np.random.multivariate_normal\n",
      "Using np.random.multivariate_normal\n",
      "Using np.random.multivariate_normal\n",
      "Using np.random.multivariate_normal\n",
      "Using np.random.multivariate_normal\n",
      "Using np.random.multivariate_normal\n",
      "Using np.random.multivariate_normal\n",
      "Using np.random.multivariate_normal\n",
      "Using np.random.multivariate_normal\n",
      "Using np.random.multivariate_normal\n",
      "Using np.random.multivariate_normal\n",
      "Using np.random.multivariate_normal\n",
      "Using np.random.multivariate_normal\n",
      "Using np.random.multivariate_normal\n",
      "Using np.random.multivariate_normal\n",
      "Using np.random.multivariate_normal\n",
      "Using np.random.multivariate_normal\n",
      "Using np.random.multivariate_normal\n",
      "Using np.random.multivariate_normal\n",
      "Using np.random.multivariate_normal\n",
      "Using np.random.multivariate_normal\n",
      "Using np.random.multivariate_normal\n",
      "Using np.random.multivariate_normal\n",
      "Using np.random.multivariate_normal\n",
      "Using np.random.multivariate_normal\n",
      "Using np.random.multivariate_normal\n",
      "Using np.random.multivariate_normal\n",
      "Using np.random.multivariate_normal\n",
      "Using np.random.multivariate_normal\n"
     ]
    },
    {
     "name": "stdout",
     "output_type": "stream",
     "text": [
      "Using np.random.multivariate_normal\n",
      "Using np.random.multivariate_normal\n",
      "Using np.random.multivariate_normal\n",
      "Using np.random.multivariate_normal\n",
      "Using np.random.multivariate_normal\n",
      "Using np.random.multivariate_normal\n",
      "Using np.random.multivariate_normal\n",
      "Using np.random.multivariate_normal\n",
      "Using np.random.multivariate_normal\n",
      "Using np.random.multivariate_normal\n",
      "Using np.random.multivariate_normal\n",
      "Using np.random.multivariate_normal\n",
      "Using np.random.multivariate_normal\n",
      "Using np.random.multivariate_normal\n",
      "Using np.random.multivariate_normal\n",
      "Using np.random.multivariate_normal\n",
      "Using np.random.multivariate_normal\n",
      "Using np.random.multivariate_normal\n",
      "Using np.random.multivariate_normal\n",
      "Using np.random.multivariate_normal\n",
      "Using np.random.multivariate_normal\n",
      "Using np.random.multivariate_normal\n",
      "Using np.random.multivariate_normal\n",
      "Using np.random.multivariate_normal\n",
      "Using np.random.multivariate_normal\n",
      "Using np.random.multivariate_normal\n",
      "Using np.random.multivariate_normal\n",
      "Using np.random.multivariate_normal\n",
      "Using np.random.multivariate_normal\n",
      "Using np.random.multivariate_normal\n",
      "Using np.random.multivariate_normal\n",
      "Using np.random.multivariate_normal\n",
      "Using np.random.multivariate_normal\n",
      "Using np.random.multivariate_normal\n",
      "Using np.random.multivariate_normal\n",
      "Using np.random.multivariate_normal\n",
      "Using np.random.multivariate_normal\n",
      "Using np.random.multivariate_normal\n",
      "Using np.random.multivariate_normal\n",
      "Using np.random.multivariate_normal\n",
      "Using np.random.multivariate_normal\n",
      "Using np.random.multivariate_normal\n",
      "Using np.random.multivariate_normal\n",
      "Using np.random.multivariate_normal\n",
      "Using np.random.multivariate_normal\n",
      "Using np.random.multivariate_normal\n",
      "Using np.random.multivariate_normal\n",
      "Using np.random.multivariate_normal\n",
      "Using np.random.multivariate_normal\n",
      "Using np.random.multivariate_normal\n",
      "Using np.random.multivariate_normal\n",
      "Using np.random.multivariate_normal\n",
      "Using np.random.multivariate_normal\n",
      "Using np.random.multivariate_normal\n",
      "Using np.random.multivariate_normal\n",
      "Using np.random.multivariate_normal\n",
      "Using np.random.multivariate_normal\n",
      "Using np.random.multivariate_normal\n",
      "Using np.random.multivariate_normal\n",
      "Using np.random.multivariate_normal\n",
      "Using np.random.multivariate_normal\n",
      "Using np.random.multivariate_normal\n",
      "Using np.random.multivariate_normal\n",
      "Using np.random.multivariate_normal\n",
      "Using np.random.multivariate_normal\n",
      "Using np.random.multivariate_normal\n",
      "Using np.random.multivariate_normal\n",
      "Using np.random.multivariate_normal\n",
      "Using np.random.multivariate_normal\n",
      "Using np.random.multivariate_normal\n",
      "Using np.random.multivariate_normal\n",
      "Using np.random.multivariate_normal\n",
      "Using np.random.multivariate_normal\n",
      "Using np.random.multivariate_normal\n",
      "Using np.random.multivariate_normal\n",
      "Using np.random.multivariate_normal\n",
      "Using np.random.multivariate_normal\n",
      "Using np.random.multivariate_normal\n",
      "Using np.random.multivariate_normal\n",
      "Using np.random.multivariate_normal\n",
      "Using np.random.multivariate_normal\n",
      "Using np.random.multivariate_normal\n",
      "Using np.random.multivariate_normal\n",
      "Using np.random.multivariate_normal\n",
      "Using np.random.multivariate_normal\n",
      "Using np.random.multivariate_normal\n",
      "Using np.random.multivariate_normal\n",
      "Using np.random.multivariate_normal\n",
      "Using np.random.multivariate_normal\n",
      "Using np.random.multivariate_normal\n",
      "Using np.random.multivariate_normal\n",
      "Using np.random.multivariate_normal\n",
      "Using np.random.multivariate_normal\n",
      "Using np.random.multivariate_normal\n",
      "Using np.random.multivariate_normal\n",
      "Using np.random.multivariate_normal\n",
      "Using np.random.multivariate_normal\n",
      "Using np.random.multivariate_normal\n",
      "Using np.random.multivariate_normal\n",
      "Using np.random.multivariate_normal\n",
      "Using np.random.multivariate_normal\n",
      "Using np.random.multivariate_normal\n",
      "Using np.random.multivariate_normal\n",
      "Using np.random.multivariate_normal\n",
      "Using np.random.multivariate_normal\n",
      "Using np.random.multivariate_normal\n",
      "Using np.random.multivariate_normal\n",
      "Using np.random.multivariate_normal\n",
      "Using np.random.multivariate_normal\n",
      "Using np.random.multivariate_normal\n",
      "Using np.random.multivariate_normal\n",
      "Using np.random.multivariate_normal\n",
      "Using np.random.multivariate_normal\n",
      "Using np.random.multivariate_normal\n",
      "Using np.random.multivariate_normal\n",
      "Using np.random.multivariate_normal\n",
      "Using np.random.multivariate_normal\n",
      "Using np.random.multivariate_normal\n",
      "Using np.random.multivariate_normal\n",
      "Using np.random.multivariate_normal\n",
      "Using np.random.multivariate_normal\n",
      "Using np.random.multivariate_normal\n",
      "Using np.random.multivariate_normal\n",
      "Using np.random.multivariate_normal\n",
      "Using np.random.multivariate_normal\n",
      "Using np.random.multivariate_normal\n",
      "Using np.random.multivariate_normal\n",
      "Using np.random.multivariate_normal\n",
      "Using np.random.multivariate_normal\n",
      "Using np.random.multivariate_normal\n",
      "Using np.random.multivariate_normal\n",
      "Using np.random.multivariate_normal\n",
      "Using np.random.multivariate_normal\n",
      "Using np.random.multivariate_normal\n",
      "Using np.random.multivariate_normal\n",
      "Using np.random.multivariate_normal\n",
      "Using np.random.multivariate_normal\n",
      "Using np.random.multivariate_normal\n",
      "Using np.random.multivariate_normal\n",
      "Using np.random.multivariate_normal\n",
      "Using np.random.multivariate_normal\n",
      "Using np.random.multivariate_normal\n",
      "Using np.random.multivariate_normal\n",
      "Using np.random.multivariate_normal\n",
      "Using np.random.multivariate_normal\n",
      "Using np.random.multivariate_normal\n",
      "Using np.random.multivariate_normal\n",
      "Using np.random.multivariate_normal\n",
      "Using np.random.multivariate_normal\n",
      "Using np.random.multivariate_normal\n",
      "Using np.random.multivariate_normal\n",
      "Using np.random.multivariate_normal\n",
      "Using np.random.multivariate_normal\n",
      "Using np.random.multivariate_normal\n",
      "Using np.random.multivariate_normal\n",
      "Using np.random.multivariate_normal\n",
      "Using np.random.multivariate_normal\n",
      "Using np.random.multivariate_normal\n",
      "Using np.random.multivariate_normal\n",
      "Using np.random.multivariate_normal\n",
      "Using np.random.multivariate_normal\n",
      "Using np.random.multivariate_normal\n",
      "Using np.random.multivariate_normal\n",
      "Using np.random.multivariate_normal\n",
      "Using np.random.multivariate_normal\n",
      "Using np.random.multivariate_normal\n",
      "Using np.random.multivariate_normal\n",
      "Using np.random.multivariate_normal\n",
      "Using np.random.multivariate_normal\n",
      "Using np.random.multivariate_normal\n",
      "Using np.random.multivariate_normal\n",
      "Using np.random.multivariate_normal\n",
      "Using np.random.multivariate_normal\n",
      "Using np.random.multivariate_normal\n",
      "Using np.random.multivariate_normal\n",
      "Using np.random.multivariate_normal\n",
      "Using np.random.multivariate_normal\n",
      "Using np.random.multivariate_normal\n",
      "Using np.random.multivariate_normal\n",
      "Using np.random.multivariate_normal\n",
      "Using np.random.multivariate_normal\n",
      "Using np.random.multivariate_normal\n",
      "Using np.random.multivariate_normal\n",
      "Using np.random.multivariate_normal\n",
      "Using np.random.multivariate_normal\n",
      "Using np.random.multivariate_normal\n",
      "Using np.random.multivariate_normal\n",
      "Using np.random.multivariate_normal\n",
      "Using np.random.multivariate_normal\n",
      "Using np.random.multivariate_normal\n",
      "Using np.random.multivariate_normal\n",
      "Using np.random.multivariate_normal\n",
      "Using np.random.multivariate_normal\n",
      "Using np.random.multivariate_normal\n",
      "Using np.random.multivariate_normal\n",
      "Using np.random.multivariate_normal\n",
      "Using np.random.multivariate_normal\n",
      "Using np.random.multivariate_normal\n",
      "Using np.random.multivariate_normal\n",
      "Using np.random.multivariate_normal\n",
      "Using np.random.multivariate_normal\n",
      "Using np.random.multivariate_normal\n",
      "Using np.random.multivariate_normal\n",
      "Using np.random.multivariate_normal\n",
      "Using np.random.multivariate_normal\n",
      "Using np.random.multivariate_normal\n",
      "Using np.random.multivariate_normal\n",
      "Using np.random.multivariate_normal\n",
      "Using np.random.multivariate_normal\n",
      "Using np.random.multivariate_normal\n",
      "Using np.random.multivariate_normal\n",
      "Using np.random.multivariate_normal\n",
      "Using np.random.multivariate_normal\n",
      "Using np.random.multivariate_normal\n",
      "Using np.random.multivariate_normal\n",
      "Using np.random.multivariate_normal\n",
      "Using np.random.multivariate_normal\n",
      "Using np.random.multivariate_normal\n",
      "Using np.random.multivariate_normal\n",
      "Using np.random.multivariate_normal\n",
      "Using np.random.multivariate_normal\n",
      "Using np.random.multivariate_normal\n",
      "Using np.random.multivariate_normal\n",
      "Using np.random.multivariate_normal\n",
      "Using np.random.multivariate_normal\n",
      "Using np.random.multivariate_normal\n",
      "Using np.random.multivariate_normal\n",
      "Using np.random.multivariate_normal\n",
      "Using np.random.multivariate_normal\n",
      "Using np.random.multivariate_normal\n",
      "Using np.random.multivariate_normal\n",
      "Using np.random.multivariate_normal\n",
      "Using np.random.multivariate_normal\n",
      "Using np.random.multivariate_normal\n",
      "Using np.random.multivariate_normal\n",
      "Using np.random.multivariate_normal\n",
      "Using np.random.multivariate_normal\n"
     ]
    },
    {
     "name": "stdout",
     "output_type": "stream",
     "text": [
      "Using np.random.multivariate_normal\n",
      "Using np.random.multivariate_normal\n",
      "Using np.random.multivariate_normal\n",
      "Using np.random.multivariate_normal\n",
      "Using np.random.multivariate_normal\n",
      "Using np.random.multivariate_normal\n",
      "Using np.random.multivariate_normal\n",
      "Using np.random.multivariate_normal\n",
      "Using np.random.multivariate_normal\n",
      "Using np.random.multivariate_normal\n",
      "Using np.random.multivariate_normal\n",
      "Using np.random.multivariate_normal\n",
      "Using np.random.multivariate_normal\n",
      "Using np.random.multivariate_normal\n",
      "Using np.random.multivariate_normal\n",
      "Using np.random.multivariate_normal\n",
      "Using np.random.multivariate_normal\n",
      "Using np.random.multivariate_normal\n",
      "Using np.random.multivariate_normal\n",
      "Using np.random.multivariate_normal\n",
      "Using np.random.multivariate_normal\n",
      "Using np.random.multivariate_normal\n",
      "Using np.random.multivariate_normal\n",
      "Using np.random.multivariate_normal\n",
      "Using np.random.multivariate_normal\n"
     ]
    },
    {
     "data": {
      "image/png": "[encoded data removed]",
      "text/plain": [
       "<Figure size 432x288 with 1 Axes>"
      ]
     },
     "metadata": {
      "needs_background": "light"
     },
     "output_type": "display_data"
    }
   ],
   "source": [
    "x_plot = torch.linspace(-1,1,100).reshape(-1,1)\n",
    "x_plot = torch.cat([x_plot, torch.zeros(x_plot.shape[0]).reshape(-1,1)],dim=1)\n",
    "plot_results_2d(x,y,x_plot, model)"
   ]
  },
  {
   "cell_type": "markdown",
   "metadata": {},
   "source": [
    "## Simple model"
   ]
  },
  {
   "cell_type": "code",
   "execution_count": 35,
   "metadata": {},
   "outputs": [
    {
     "data": {
      "text/plain": [
       "[<matplotlib.lines.Line2D at 0x106125588>]"
      ]
     },
     "execution_count": 35,
     "metadata": {},
     "output_type": "execute_result"
    },
    {
     "data": {
      "image/png": "[encoded data removed]",
      "text/plain": [
       "<Figure size 432x288 with 1 Axes>"
      ]
     },
     "metadata": {
      "needs_background": "light"
     },
     "output_type": "display_data"
    }
   ],
   "source": [
    "# Toy data\n",
    "x_true = torch.tensor(np.linspace(-5,5,100).reshape(-1,1), dtype=torch.float)\n",
    "x, x_val, y, y_val, y_scale, y_true = util.gen_toy_data(num_train=200, x_true=x_true)\n",
    "\n",
    "plt.scatter(x.numpy(), y.numpy())\n",
    "plt.plot(x_true.numpy(), y_true.numpy())"
   ]
  },
  {
   "cell_type": "code",
   "execution_count": 36,
   "metadata": {},
   "outputs": [
    {
     "data": {
      "text/plain": [
       "<module 'networks' from '/Users/beaucoker/Documents/git/VS-BNN/code/horseshoe/networks.py'>"
      ]
     },
     "execution_count": 36,
     "metadata": {},
     "output_type": "execute_result"
    }
   ],
   "source": [
    "importlib.reload(layers)\n",
    "importlib.reload(util)\n",
    "importlib.reload(networks)"
   ]
  },
  {
   "cell_type": "code",
   "execution_count": 16,
   "metadata": {},
   "outputs": [],
   "source": [
    "model = networks.RffHs(x.shape[1],y.shape[1], dim_hidden=300, sig2_inv=1/.1)\n",
    "optimizer = torch.optim.Adam(model.parameters(), lr=.001)"
   ]
  },
  {
   "cell_type": "code",
   "execution_count": 17,
   "metadata": {},
   "outputs": [],
   "source": [
    "model.reinit_parameters(x,y,n_reinit=10)"
   ]
  },
  {
   "cell_type": "code",
   "execution_count": 18,
   "metadata": {},
   "outputs": [],
   "source": [
    "elbo = -networks.train(model, optimizer, x, y, n_epochs=1, print_freq=1000)\n"
   ]
  },
  {
   "cell_type": "code",
   "execution_count": 19,
   "metadata": {},
   "outputs": [],
   "source": [
    "#plt.plot(elbo.numpy())"
   ]
  },
  {
   "cell_type": "code",
   "execution_count": 20,
   "metadata": {},
   "outputs": [
    {
     "name": "stderr",
     "output_type": "stream",
     "text": [
      "//anaconda/lib/python3.7/site-packages/seaborn/timeseries.py:183: UserWarning: The `tsplot` function is deprecated and will be removed in a future release. Please update your code to use the new `lineplot` function.\n",
      "  warnings.warn(msg, UserWarning)\n"
     ]
    },
    {
     "data": {
      "image/png": "[encoded data removed]",
      "text/plain": [
       "<Figure size 432x288 with 1 Axes>"
      ]
     },
     "metadata": {
      "needs_background": "light"
     },
     "output_type": "display_data"
    }
   ],
   "source": [
    "def plot_varbnn(bnn, n_samp, x_true):\n",
    "    #bnn = networks.RffHs(x.shape[1],y.shape[1], dim_hidden=100, sig2_inv=1/.1)\n",
    "    y_samps=np.array([bnn(x_true, sample=True).view(-1).detach().numpy() for _ in range(n_samp)])\n",
    "    sns.tsplot(y_samps, time=x_true.numpy(),ci='sd',color='red')\n",
    "    plt.scatter(x.numpy(),y.numpy(), color='k', alpha=.5)\n",
    "    plt.plot(x_true.numpy(),y_true.numpy(), color='k')\n",
    "    plt.legend(['Truth','BNN'])\n",
    "\n",
    "    plt.xlabel('x')\n",
    "    plt.ylabel('y')  \n",
    "    \n",
    "    \n",
    "plot_varbnn(model, 100, x_true)\n",
    "\n"
   ]
  },
  {
   "cell_type": "code",
   "execution_count": 21,
   "metadata": {},
   "outputs": [
    {
     "data": {
      "text/plain": [
       "[<matplotlib.lines.Line2D at 0x124b49908>]"
      ]
     },
     "execution_count": 21,
     "metadata": {},
     "output_type": "execute_result"
    },
    {
     "data": {
      "image/png": "[encoded data removed]",
      "text/plain": [
       "<Figure size 432x288 with 1 Axes>"
      ]
     },
     "metadata": {
      "needs_background": "light"
     },
     "output_type": "display_data"
    }
   ],
   "source": [
    "plt.scatter(x.numpy(), y.numpy())\n",
    "plt.plot(x_true.numpy(), y_true.numpy())\n",
    "plt.plot(x_true.numpy(), model.forward(x_true, sample=False).detach().numpy())"
   ]
  },
  {
   "cell_type": "code",
   "execution_count": null,
   "metadata": {},
   "outputs": [],
   "source": []
  },
  {
   "cell_type": "code",
   "execution_count": null,
   "metadata": {},
   "outputs": [],
   "source": []
  },
  {
   "cell_type": "code",
   "execution_count": 241,
   "metadata": {},
   "outputs": [
    {
     "name": "stdout",
     "output_type": "stream",
     "text": [
      "layer_in.lognu_mu tensor([-3.2843])\n",
      "layer_in.lognu_logsig2 tensor([-9.0196])\n",
      "layer_in.logeta_mu tensor([-2.8806, -2.5622, -1.1230, -5.2147, -1.6749, -2.4959, -2.1409, -2.0977,\n",
      "        -2.4344, -2.2622, -1.1728, -2.4860, -7.2789, -3.3983, -3.0443, -2.1481,\n",
      "        -4.5675, -0.8988,  0.6402, -1.9453,  0.3479, -2.4036, -1.5921, -1.3321,\n",
      "        -4.0842, -2.9167, -3.0227, -3.8060, -2.3711, -2.1440, -1.5033, -0.7538,\n",
      "        -2.4705, -1.3816, -2.8476, -3.0089, -1.7845, -1.3732, -2.9796, -0.9387,\n",
      "        -2.5895, -2.0773, -1.3593, -5.6289, -0.6216, -1.5813, -3.1768, -1.8976,\n",
      "        -1.5697, -0.6090,  0.1575, -1.2094, -3.3152, -3.7155, -2.5268, -2.1353,\n",
      "        -2.8509, -2.0690, -1.5794, -1.7594, -2.5039, -1.4314, -3.5786, -1.6298,\n",
      "        -2.2987, -2.3906, -1.7098, -2.7475, -3.7468, -1.1912, -2.9848, -2.1111,\n",
      "        -1.6484, -2.1595, -2.6261, -4.0142, -0.6266, -3.5723, -3.9156, -0.3017,\n",
      "        -7.4117, -1.3329, -1.8659, -3.9640,  2.1289, -2.6164, -2.1809, -0.7022,\n",
      "        -2.9029,  1.1924, -4.6992, -2.1395, -2.0645, -1.5182, -2.3830,  0.0508,\n",
      "        -1.4552,  0.3742, -3.2298, -1.2043])\n",
      "layer_in.logeta_logsig2 tensor([-8.9998, -8.9948, -9.0042, -8.9832, -8.9862, -8.9940, -9.0062, -8.9977,\n",
      "        -8.9860, -9.0104, -9.0132, -8.9976, -8.9985, -9.0050, -8.9819, -9.0016,\n",
      "        -9.0042, -9.0078, -9.0041, -8.9965, -9.0035, -8.9951, -9.0102, -8.9966,\n",
      "        -9.0048, -9.0132, -9.0060, -8.9950, -9.0163, -8.9896, -9.0046, -9.0027,\n",
      "        -9.0021, -8.9992, -9.0041, -9.0016, -8.9875, -9.0050, -9.0187, -9.0100,\n",
      "        -9.0095, -8.9952, -9.0096, -9.0058, -8.9985, -8.9852, -9.0015, -9.0024,\n",
      "        -9.0053, -8.9950, -9.0279, -9.0032, -9.0064, -8.9995, -9.0155, -8.9959,\n",
      "        -9.0019, -9.0015, -8.9979, -8.9805, -9.0071, -8.9892, -8.9841, -9.0102,\n",
      "        -9.0068, -8.9951, -8.9834, -9.0150, -9.0026, -8.9993, -8.9967, -8.9907,\n",
      "        -9.0096, -8.9880, -8.9924, -8.9994, -8.9878, -9.0065, -9.0093, -8.9934,\n",
      "        -9.0004, -9.0178, -8.9917, -8.9962, -9.0007, -8.9887, -9.0015, -9.0008,\n",
      "        -8.9980, -8.9937, -9.0043, -9.0157, -9.0210, -9.0157, -8.9918, -8.9925,\n",
      "        -9.0026, -8.9902, -8.9990, -9.0058])\n"
     ]
    }
   ],
   "source": [
    "for name, param in model.named_parameters():\n",
    "    print(name, param.data)"
   ]
  },
  {
   "cell_type": "code",
   "execution_count": null,
   "metadata": {},
   "outputs": [],
   "source": []
  }
 ],
 "metadata": {
  "kernelspec": {
   "display_name": "Python 3",
   "language": "python",
   "name": "python3"
  },
  "language_info": {
   "codemirror_mode": {
    "name": "ipython",
    "version": 3
   },
   "file_extension": ".py",
   "mimetype": "text/x-python",
   "name": "python",
   "nbconvert_exporter": "python",
   "pygments_lexer": "ipython3",
   "version": "3.7.3"
  }
 },
 "nbformat": 4,
 "nbformat_minor": 2
}
